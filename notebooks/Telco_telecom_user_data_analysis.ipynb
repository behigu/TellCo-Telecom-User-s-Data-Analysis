{
  "nbformat": 4,
  "nbformat_minor": 0,
  "metadata": {
    "colab": {
      "name": "Telco telecom user data analysis.ipynb",
      "provenance": [],
      "mount_file_id": "https://github.com/behigu/TellCo-Telecom-User-s-Data-Analysis/blob/main/notebooks/Telco_telecom_user_data_analysis.ipynb",
      "authorship_tag": "ABX9TyNRCvGROaMD9fr+zmWG0Eph",
      "include_colab_link": true
    },
    "kernelspec": {
      "name": "python3",
      "display_name": "Python 3"
    },
    "language_info": {
      "name": "python"
    }
  },
  "cells": [
    {
      "cell_type": "markdown",
      "metadata": {
        "id": "view-in-github",
        "colab_type": "text"
      },
      "source": [
        "<a href=\"https://colab.research.google.com/github/behigu/TellCo-Telecom-User-s-Data-Analysis/blob/main/notebooks/Telco_telecom_user_data_analysis.ipynb\" target=\"_parent\"><img src=\"https://colab.research.google.com/assets/colab-badge.svg\" alt=\"Open In Colab\"/></a>"
      ]
    },
    {
      "cell_type": "code",
      "metadata": {
        "id": "SSyg3gXDqVtS"
      },
      "source": [
        "import pandas as pd\n",
        "import numpy as np"
      ],
      "execution_count": 1,
      "outputs": []
    },
    {
      "cell_type": "markdown",
      "metadata": {
        "id": "Vg2MkE0Y6VNE"
      },
      "source": [
        "The data used in this analysis can be found in **this link**\n",
        "https://github.com/behigu/TellCo-Telecom-User-s-Data-Analysis/blob/main/data/Week1_challenge_data_source.rar"
      ]
    },
    {
      "cell_type": "code",
      "metadata": {
        "id": "2lunCwCb3G7Z"
      },
      "source": [
        "pd.set_option('max_column', None)\n",
        "df= pd.read_csv('drive/MyDrive/ColabNotebooks/Week1_challenge_data_source.csv')"
      ],
      "execution_count": 2,
      "outputs": []
    },
    {
      "cell_type": "code",
      "metadata": {
        "colab": {
          "base_uri": "https://localhost:8080/",
          "height": 417
        },
        "id": "pG5C-Dl04EGr",
        "outputId": "6a12349b-6ef2-43cd-861a-9ad2424b4514"
      },
      "source": [
        "df.head(3)"
      ],
      "execution_count": 3,
      "outputs": [
        {
          "output_type": "execute_result",
          "data": {
            "text/html": [
              "<div>\n",
              "<style scoped>\n",
              "    .dataframe tbody tr th:only-of-type {\n",
              "        vertical-align: middle;\n",
              "    }\n",
              "\n",
              "    .dataframe tbody tr th {\n",
              "        vertical-align: top;\n",
              "    }\n",
              "\n",
              "    .dataframe thead th {\n",
              "        text-align: right;\n",
              "    }\n",
              "</style>\n",
              "<table border=\"1\" class=\"dataframe\">\n",
              "  <thead>\n",
              "    <tr style=\"text-align: right;\">\n",
              "      <th></th>\n",
              "      <th>Bearer Id</th>\n",
              "      <th>Start</th>\n",
              "      <th>Start ms</th>\n",
              "      <th>End</th>\n",
              "      <th>End ms</th>\n",
              "      <th>Dur. (ms)</th>\n",
              "      <th>IMSI</th>\n",
              "      <th>MSISDN/Number</th>\n",
              "      <th>IMEI</th>\n",
              "      <th>Last Location Name</th>\n",
              "      <th>Avg RTT DL (ms)</th>\n",
              "      <th>Avg RTT UL (ms)</th>\n",
              "      <th>Avg Bearer TP DL (kbps)</th>\n",
              "      <th>Avg Bearer TP UL (kbps)</th>\n",
              "      <th>TCP DL Retrans. Vol (Bytes)</th>\n",
              "      <th>TCP UL Retrans. Vol (Bytes)</th>\n",
              "      <th>DL TP &lt; 50 Kbps (%)</th>\n",
              "      <th>50 Kbps &lt; DL TP &lt; 250 Kbps (%)</th>\n",
              "      <th>250 Kbps &lt; DL TP &lt; 1 Mbps (%)</th>\n",
              "      <th>DL TP &gt; 1 Mbps (%)</th>\n",
              "      <th>UL TP &lt; 10 Kbps (%)</th>\n",
              "      <th>10 Kbps &lt; UL TP &lt; 50 Kbps (%)</th>\n",
              "      <th>50 Kbps &lt; UL TP &lt; 300 Kbps (%)</th>\n",
              "      <th>UL TP &gt; 300 Kbps (%)</th>\n",
              "      <th>HTTP DL (Bytes)</th>\n",
              "      <th>HTTP UL (Bytes)</th>\n",
              "      <th>Activity Duration DL (ms)</th>\n",
              "      <th>Activity Duration UL (ms)</th>\n",
              "      <th>Dur. (ms).1</th>\n",
              "      <th>Handset Manufacturer</th>\n",
              "      <th>Handset Type</th>\n",
              "      <th>Nb of sec with 125000B &lt; Vol DL</th>\n",
              "      <th>Nb of sec with 1250B &lt; Vol UL &lt; 6250B</th>\n",
              "      <th>Nb of sec with 31250B &lt; Vol DL &lt; 125000B</th>\n",
              "      <th>Nb of sec with 37500B &lt; Vol UL</th>\n",
              "      <th>Nb of sec with 6250B &lt; Vol DL &lt; 31250B</th>\n",
              "      <th>Nb of sec with 6250B &lt; Vol UL &lt; 37500B</th>\n",
              "      <th>Nb of sec with Vol DL &lt; 6250B</th>\n",
              "      <th>Nb of sec with Vol UL &lt; 1250B</th>\n",
              "      <th>Social Media DL (Bytes)</th>\n",
              "      <th>Social Media UL (Bytes)</th>\n",
              "      <th>Google DL (Bytes)</th>\n",
              "      <th>Google UL (Bytes)</th>\n",
              "      <th>Email DL (Bytes)</th>\n",
              "      <th>Email UL (Bytes)</th>\n",
              "      <th>Youtube DL (Bytes)</th>\n",
              "      <th>Youtube UL (Bytes)</th>\n",
              "      <th>Netflix DL (Bytes)</th>\n",
              "      <th>Netflix UL (Bytes)</th>\n",
              "      <th>Gaming DL (Bytes)</th>\n",
              "      <th>Gaming UL (Bytes)</th>\n",
              "      <th>Other DL (Bytes)</th>\n",
              "      <th>Other UL (Bytes)</th>\n",
              "      <th>Total UL (Bytes)</th>\n",
              "      <th>Total DL (Bytes)</th>\n",
              "    </tr>\n",
              "  </thead>\n",
              "  <tbody>\n",
              "    <tr>\n",
              "      <th>0</th>\n",
              "      <td>1.311450e+19</td>\n",
              "      <td>4/4/2019 12:01</td>\n",
              "      <td>770.0</td>\n",
              "      <td>4/25/2019 14:35</td>\n",
              "      <td>662.0</td>\n",
              "      <td>1823652.0</td>\n",
              "      <td>2.082010e+14</td>\n",
              "      <td>3.366496e+10</td>\n",
              "      <td>3.552120e+13</td>\n",
              "      <td>9.16457E+15</td>\n",
              "      <td>42.0</td>\n",
              "      <td>5.0</td>\n",
              "      <td>23.0</td>\n",
              "      <td>44.0</td>\n",
              "      <td>NaN</td>\n",
              "      <td>NaN</td>\n",
              "      <td>100.0</td>\n",
              "      <td>0.0</td>\n",
              "      <td>0.0</td>\n",
              "      <td>0.0</td>\n",
              "      <td>100.0</td>\n",
              "      <td>0.0</td>\n",
              "      <td>0.0</td>\n",
              "      <td>0.0</td>\n",
              "      <td>NaN</td>\n",
              "      <td>NaN</td>\n",
              "      <td>37624.0</td>\n",
              "      <td>38787.0</td>\n",
              "      <td>1.823653e+09</td>\n",
              "      <td>Samsung</td>\n",
              "      <td>Samsung Galaxy A5 Sm-A520F</td>\n",
              "      <td>NaN</td>\n",
              "      <td>NaN</td>\n",
              "      <td>NaN</td>\n",
              "      <td>NaN</td>\n",
              "      <td>NaN</td>\n",
              "      <td>NaN</td>\n",
              "      <td>213.0</td>\n",
              "      <td>214.0</td>\n",
              "      <td>1545765.0</td>\n",
              "      <td>24420.0</td>\n",
              "      <td>1634479.0</td>\n",
              "      <td>1271433.0</td>\n",
              "      <td>3563542.0</td>\n",
              "      <td>137762.0</td>\n",
              "      <td>15854611.0</td>\n",
              "      <td>2501332.0</td>\n",
              "      <td>8198936.0</td>\n",
              "      <td>9656251.0</td>\n",
              "      <td>278082303.0</td>\n",
              "      <td>14344150.0</td>\n",
              "      <td>171744450.0</td>\n",
              "      <td>8814393.0</td>\n",
              "      <td>36749741.0</td>\n",
              "      <td>308879636.0</td>\n",
              "    </tr>\n",
              "    <tr>\n",
              "      <th>1</th>\n",
              "      <td>1.311450e+19</td>\n",
              "      <td>4/9/2019 13:04</td>\n",
              "      <td>235.0</td>\n",
              "      <td>4/25/2019 8:15</td>\n",
              "      <td>606.0</td>\n",
              "      <td>1365104.0</td>\n",
              "      <td>2.082020e+14</td>\n",
              "      <td>3.368185e+10</td>\n",
              "      <td>3.579400e+13</td>\n",
              "      <td>L77566A</td>\n",
              "      <td>65.0</td>\n",
              "      <td>5.0</td>\n",
              "      <td>16.0</td>\n",
              "      <td>26.0</td>\n",
              "      <td>NaN</td>\n",
              "      <td>NaN</td>\n",
              "      <td>100.0</td>\n",
              "      <td>0.0</td>\n",
              "      <td>0.0</td>\n",
              "      <td>0.0</td>\n",
              "      <td>100.0</td>\n",
              "      <td>0.0</td>\n",
              "      <td>0.0</td>\n",
              "      <td>0.0</td>\n",
              "      <td>NaN</td>\n",
              "      <td>NaN</td>\n",
              "      <td>168.0</td>\n",
              "      <td>3560.0</td>\n",
              "      <td>1.365104e+09</td>\n",
              "      <td>Samsung</td>\n",
              "      <td>Samsung Galaxy J5 (Sm-J530)</td>\n",
              "      <td>NaN</td>\n",
              "      <td>NaN</td>\n",
              "      <td>NaN</td>\n",
              "      <td>NaN</td>\n",
              "      <td>NaN</td>\n",
              "      <td>NaN</td>\n",
              "      <td>971.0</td>\n",
              "      <td>1022.0</td>\n",
              "      <td>1926113.0</td>\n",
              "      <td>7165.0</td>\n",
              "      <td>3493924.0</td>\n",
              "      <td>920172.0</td>\n",
              "      <td>629046.0</td>\n",
              "      <td>308339.0</td>\n",
              "      <td>20247395.0</td>\n",
              "      <td>19111729.0</td>\n",
              "      <td>18338413.0</td>\n",
              "      <td>17227132.0</td>\n",
              "      <td>608750074.0</td>\n",
              "      <td>1170709.0</td>\n",
              "      <td>526904238.0</td>\n",
              "      <td>15055145.0</td>\n",
              "      <td>53800391.0</td>\n",
              "      <td>653384965.0</td>\n",
              "    </tr>\n",
              "    <tr>\n",
              "      <th>2</th>\n",
              "      <td>1.311450e+19</td>\n",
              "      <td>4/9/2019 17:42</td>\n",
              "      <td>1.0</td>\n",
              "      <td>4/25/2019 11:58</td>\n",
              "      <td>652.0</td>\n",
              "      <td>1361762.0</td>\n",
              "      <td>2.082000e+14</td>\n",
              "      <td>3.376063e+10</td>\n",
              "      <td>3.528150e+13</td>\n",
              "      <td>D42335A</td>\n",
              "      <td>NaN</td>\n",
              "      <td>NaN</td>\n",
              "      <td>6.0</td>\n",
              "      <td>9.0</td>\n",
              "      <td>NaN</td>\n",
              "      <td>NaN</td>\n",
              "      <td>100.0</td>\n",
              "      <td>0.0</td>\n",
              "      <td>0.0</td>\n",
              "      <td>0.0</td>\n",
              "      <td>100.0</td>\n",
              "      <td>0.0</td>\n",
              "      <td>0.0</td>\n",
              "      <td>0.0</td>\n",
              "      <td>NaN</td>\n",
              "      <td>NaN</td>\n",
              "      <td>0.0</td>\n",
              "      <td>0.0</td>\n",
              "      <td>1.361763e+09</td>\n",
              "      <td>Samsung</td>\n",
              "      <td>Samsung Galaxy A8 (2018)</td>\n",
              "      <td>NaN</td>\n",
              "      <td>NaN</td>\n",
              "      <td>NaN</td>\n",
              "      <td>NaN</td>\n",
              "      <td>NaN</td>\n",
              "      <td>NaN</td>\n",
              "      <td>751.0</td>\n",
              "      <td>695.0</td>\n",
              "      <td>1684053.0</td>\n",
              "      <td>42224.0</td>\n",
              "      <td>8535055.0</td>\n",
              "      <td>1694064.0</td>\n",
              "      <td>2690151.0</td>\n",
              "      <td>672973.0</td>\n",
              "      <td>19725661.0</td>\n",
              "      <td>14699576.0</td>\n",
              "      <td>17587794.0</td>\n",
              "      <td>6163408.0</td>\n",
              "      <td>229584621.0</td>\n",
              "      <td>395630.0</td>\n",
              "      <td>410692588.0</td>\n",
              "      <td>4215763.0</td>\n",
              "      <td>27883638.0</td>\n",
              "      <td>279807335.0</td>\n",
              "    </tr>\n",
              "  </tbody>\n",
              "</table>\n",
              "</div>"
            ],
            "text/plain": [
              "      Bearer Id           Start  Start ms              End  End ms  Dur. (ms)  \\\n",
              "0  1.311450e+19  4/4/2019 12:01     770.0  4/25/2019 14:35   662.0  1823652.0   \n",
              "1  1.311450e+19  4/9/2019 13:04     235.0   4/25/2019 8:15   606.0  1365104.0   \n",
              "2  1.311450e+19  4/9/2019 17:42       1.0  4/25/2019 11:58   652.0  1361762.0   \n",
              "\n",
              "           IMSI  MSISDN/Number          IMEI Last Location Name  \\\n",
              "0  2.082010e+14   3.366496e+10  3.552120e+13        9.16457E+15   \n",
              "1  2.082020e+14   3.368185e+10  3.579400e+13            L77566A   \n",
              "2  2.082000e+14   3.376063e+10  3.528150e+13            D42335A   \n",
              "\n",
              "   Avg RTT DL (ms)  Avg RTT UL (ms)  Avg Bearer TP DL (kbps)  \\\n",
              "0             42.0              5.0                     23.0   \n",
              "1             65.0              5.0                     16.0   \n",
              "2              NaN              NaN                      6.0   \n",
              "\n",
              "   Avg Bearer TP UL (kbps)  TCP DL Retrans. Vol (Bytes)  \\\n",
              "0                     44.0                          NaN   \n",
              "1                     26.0                          NaN   \n",
              "2                      9.0                          NaN   \n",
              "\n",
              "   TCP UL Retrans. Vol (Bytes)  DL TP < 50 Kbps (%)  \\\n",
              "0                          NaN                100.0   \n",
              "1                          NaN                100.0   \n",
              "2                          NaN                100.0   \n",
              "\n",
              "   50 Kbps < DL TP < 250 Kbps (%)  250 Kbps < DL TP < 1 Mbps (%)  \\\n",
              "0                             0.0                            0.0   \n",
              "1                             0.0                            0.0   \n",
              "2                             0.0                            0.0   \n",
              "\n",
              "   DL TP > 1 Mbps (%)  UL TP < 10 Kbps (%)  10 Kbps < UL TP < 50 Kbps (%)  \\\n",
              "0                 0.0                100.0                            0.0   \n",
              "1                 0.0                100.0                            0.0   \n",
              "2                 0.0                100.0                            0.0   \n",
              "\n",
              "   50 Kbps < UL TP < 300 Kbps (%)  UL TP > 300 Kbps (%)  HTTP DL (Bytes)  \\\n",
              "0                             0.0                   0.0              NaN   \n",
              "1                             0.0                   0.0              NaN   \n",
              "2                             0.0                   0.0              NaN   \n",
              "\n",
              "   HTTP UL (Bytes)  Activity Duration DL (ms)  Activity Duration UL (ms)  \\\n",
              "0              NaN                    37624.0                    38787.0   \n",
              "1              NaN                      168.0                     3560.0   \n",
              "2              NaN                        0.0                        0.0   \n",
              "\n",
              "    Dur. (ms).1 Handset Manufacturer                 Handset Type  \\\n",
              "0  1.823653e+09              Samsung   Samsung Galaxy A5 Sm-A520F   \n",
              "1  1.365104e+09              Samsung  Samsung Galaxy J5 (Sm-J530)   \n",
              "2  1.361763e+09              Samsung     Samsung Galaxy A8 (2018)   \n",
              "\n",
              "   Nb of sec with 125000B < Vol DL  Nb of sec with 1250B < Vol UL < 6250B  \\\n",
              "0                              NaN                                    NaN   \n",
              "1                              NaN                                    NaN   \n",
              "2                              NaN                                    NaN   \n",
              "\n",
              "   Nb of sec with 31250B < Vol DL < 125000B  Nb of sec with 37500B < Vol UL  \\\n",
              "0                                       NaN                             NaN   \n",
              "1                                       NaN                             NaN   \n",
              "2                                       NaN                             NaN   \n",
              "\n",
              "   Nb of sec with 6250B < Vol DL < 31250B  \\\n",
              "0                                     NaN   \n",
              "1                                     NaN   \n",
              "2                                     NaN   \n",
              "\n",
              "   Nb of sec with 6250B < Vol UL < 37500B  Nb of sec with Vol DL < 6250B  \\\n",
              "0                                     NaN                          213.0   \n",
              "1                                     NaN                          971.0   \n",
              "2                                     NaN                          751.0   \n",
              "\n",
              "   Nb of sec with Vol UL < 1250B  Social Media DL (Bytes)  \\\n",
              "0                          214.0                1545765.0   \n",
              "1                         1022.0                1926113.0   \n",
              "2                          695.0                1684053.0   \n",
              "\n",
              "   Social Media UL (Bytes)  Google DL (Bytes)  Google UL (Bytes)  \\\n",
              "0                  24420.0          1634479.0          1271433.0   \n",
              "1                   7165.0          3493924.0           920172.0   \n",
              "2                  42224.0          8535055.0          1694064.0   \n",
              "\n",
              "   Email DL (Bytes)  Email UL (Bytes)  Youtube DL (Bytes)  Youtube UL (Bytes)  \\\n",
              "0         3563542.0          137762.0          15854611.0           2501332.0   \n",
              "1          629046.0          308339.0          20247395.0          19111729.0   \n",
              "2         2690151.0          672973.0          19725661.0          14699576.0   \n",
              "\n",
              "   Netflix DL (Bytes)  Netflix UL (Bytes)  Gaming DL (Bytes)  \\\n",
              "0           8198936.0           9656251.0        278082303.0   \n",
              "1          18338413.0          17227132.0        608750074.0   \n",
              "2          17587794.0           6163408.0        229584621.0   \n",
              "\n",
              "   Gaming UL (Bytes)  Other DL (Bytes)  Other UL (Bytes)  Total UL (Bytes)  \\\n",
              "0         14344150.0       171744450.0         8814393.0        36749741.0   \n",
              "1          1170709.0       526904238.0        15055145.0        53800391.0   \n",
              "2           395630.0       410692588.0         4215763.0        27883638.0   \n",
              "\n",
              "   Total DL (Bytes)  \n",
              "0       308879636.0  \n",
              "1       653384965.0  \n",
              "2       279807335.0  "
            ]
          },
          "metadata": {
            "tags": []
          },
          "execution_count": 3
        }
      ]
    },
    {
      "cell_type": "code",
      "metadata": {
        "id": "ppe6dVjY49TJ",
        "colab": {
          "base_uri": "https://localhost:8080/"
        },
        "outputId": "724898ea-9c1e-4f42-c64e-c9624aee860d"
      },
      "source": [
        "df.shape"
      ],
      "execution_count": 4,
      "outputs": [
        {
          "output_type": "execute_result",
          "data": {
            "text/plain": [
              "(150001, 55)"
            ]
          },
          "metadata": {
            "tags": []
          },
          "execution_count": 4
        }
      ]
    },
    {
      "cell_type": "markdown",
      "metadata": {
        "id": "D5Sq9SK_5V37"
      },
      "source": [
        "## we have 150,001.00 records of users data  in a 55 column"
      ]
    },
    {
      "cell_type": "code",
      "metadata": {
        "colab": {
          "base_uri": "https://localhost:8080/"
        },
        "id": "xjH8XaRn5BMs",
        "outputId": "784b3e5f-82ee-441e-caa3-ed882e91ea17"
      },
      "source": [
        "for col in df.columns:\n",
        "    print(col)\n",
        "\n",
        "#print(df.columns)\n",
        "# other way of listing the columns"
      ],
      "execution_count": 58,
      "outputs": [
        {
          "output_type": "stream",
          "text": [
            "Bearer Id\n",
            "Start\n",
            "Start ms\n",
            "End\n",
            "End ms\n",
            "Dur. (ms)\n",
            "IMSI\n",
            "MSISDN/Number\n",
            "IMEI\n",
            "Last Location Name\n",
            "Avg RTT DL (ms)\n",
            "Avg RTT UL (ms)\n",
            "Avg Bearer TP DL (kbps)\n",
            "Avg Bearer TP UL (kbps)\n",
            "TCP DL Retrans. Vol (Bytes)\n",
            "TCP UL Retrans. Vol (Bytes)\n",
            "DL TP < 50 Kbps (%)\n",
            "50 Kbps < DL TP < 250 Kbps (%)\n",
            "250 Kbps < DL TP < 1 Mbps (%)\n",
            "DL TP > 1 Mbps (%)\n",
            "UL TP < 10 Kbps (%)\n",
            "10 Kbps < UL TP < 50 Kbps (%)\n",
            "50 Kbps < UL TP < 300 Kbps (%)\n",
            "UL TP > 300 Kbps (%)\n",
            "HTTP DL (Bytes)\n",
            "HTTP UL (Bytes)\n",
            "Activity Duration DL (ms)\n",
            "Activity Duration UL (ms)\n",
            "Dur. (ms).1\n",
            "Handset Manufacturer\n",
            "Handset Type\n",
            "Nb of sec with 125000B < Vol DL\n",
            "Nb of sec with 1250B < Vol UL < 6250B\n",
            "Nb of sec with 31250B < Vol DL < 125000B\n",
            "Nb of sec with 37500B < Vol UL\n",
            "Nb of sec with 6250B < Vol DL < 31250B\n",
            "Nb of sec with 6250B < Vol UL < 37500B\n",
            "Nb of sec with Vol DL < 6250B\n",
            "Nb of sec with Vol UL < 1250B\n",
            "Social Media DL (Bytes)\n",
            "Social Media UL (Bytes)\n",
            "Google DL (Bytes)\n",
            "Google UL (Bytes)\n",
            "Email DL (Bytes)\n",
            "Email UL (Bytes)\n",
            "Youtube DL (Bytes)\n",
            "Youtube UL (Bytes)\n",
            "Netflix DL (Bytes)\n",
            "Netflix UL (Bytes)\n",
            "Gaming DL (Bytes)\n",
            "Gaming UL (Bytes)\n",
            "Other DL (Bytes)\n",
            "Other UL (Bytes)\n",
            "Total UL (Bytes)\n",
            "Total DL (Bytes)\n"
          ],
          "name": "stdout"
        }
      ]
    },
    {
      "cell_type": "code",
      "metadata": {
        "colab": {
          "base_uri": "https://localhost:8080/"
        },
        "id": "Z_5nKiwk7MEE",
        "outputId": "f1e05da2-1ea5-4b9c-a217-15cb584f8715"
      },
      "source": [
        "df.isna().sum()\n",
        "#number of records that has no value"
      ],
      "execution_count": 7,
      "outputs": [
        {
          "output_type": "execute_result",
          "data": {
            "text/plain": [
              "Bearer Id                                      991\n",
              "Start                                            1\n",
              "Start ms                                         1\n",
              "End                                              1\n",
              "End ms                                           1\n",
              "Dur. (ms)                                        1\n",
              "IMSI                                           570\n",
              "MSISDN/Number                                 1066\n",
              "IMEI                                           572\n",
              "Last Location Name                            1153\n",
              "Avg RTT DL (ms)                              27829\n",
              "Avg RTT UL (ms)                              27812\n",
              "Avg Bearer TP DL (kbps)                          1\n",
              "Avg Bearer TP UL (kbps)                          1\n",
              "TCP DL Retrans. Vol (Bytes)                  88146\n",
              "TCP UL Retrans. Vol (Bytes)                  96649\n",
              "DL TP < 50 Kbps (%)                            754\n",
              "50 Kbps < DL TP < 250 Kbps (%)                 754\n",
              "250 Kbps < DL TP < 1 Mbps (%)                  754\n",
              "DL TP > 1 Mbps (%)                             754\n",
              "UL TP < 10 Kbps (%)                            792\n",
              "10 Kbps < UL TP < 50 Kbps (%)                  792\n",
              "50 Kbps < UL TP < 300 Kbps (%)                 792\n",
              "UL TP > 300 Kbps (%)                           792\n",
              "HTTP DL (Bytes)                              81474\n",
              "HTTP UL (Bytes)                              81810\n",
              "Activity Duration DL (ms)                        1\n",
              "Activity Duration UL (ms)                        1\n",
              "Dur. (ms).1                                      1\n",
              "Handset Manufacturer                           572\n",
              "Handset Type                                   572\n",
              "Nb of sec with 125000B < Vol DL              97538\n",
              "Nb of sec with 1250B < Vol UL < 6250B        92894\n",
              "Nb of sec with 31250B < Vol DL < 125000B     93586\n",
              "Nb of sec with 37500B < Vol UL              130254\n",
              "Nb of sec with 6250B < Vol DL < 31250B       88317\n",
              "Nb of sec with 6250B < Vol UL < 37500B      111843\n",
              "Nb of sec with Vol DL < 6250B                  755\n",
              "Nb of sec with Vol UL < 1250B                  793\n",
              "Social Media DL (Bytes)                          0\n",
              "Social Media UL (Bytes)                          0\n",
              "Google DL (Bytes)                                0\n",
              "Google UL (Bytes)                                0\n",
              "Email DL (Bytes)                                 0\n",
              "Email UL (Bytes)                                 0\n",
              "Youtube DL (Bytes)                               0\n",
              "Youtube UL (Bytes)                               0\n",
              "Netflix DL (Bytes)                               0\n",
              "Netflix UL (Bytes)                               0\n",
              "Gaming DL (Bytes)                                0\n",
              "Gaming UL (Bytes)                                0\n",
              "Other DL (Bytes)                                 0\n",
              "Other UL (Bytes)                                 0\n",
              "Total UL (Bytes)                                 1\n",
              "Total DL (Bytes)                                 1\n",
              "dtype: int64"
            ]
          },
          "metadata": {
            "tags": []
          },
          "execution_count": 7
        }
      ]
    },
    {
      "cell_type": "code",
      "metadata": {
        "colab": {
          "base_uri": "https://localhost:8080/"
        },
        "id": "I3VbWUFoFLej",
        "outputId": "77f6513c-a8d9-4654-957e-76fa64132c16"
      },
      "source": [
        "    # Calculate total number of cells in dataframe\n",
        "totalCells = np.product(df.shape)\n",
        "\n",
        "    # Count number of missing values per column\n",
        "missingCount = df.isnull().sum()\n",
        "\n",
        "    # Calculate total number of missing values\n",
        "totalMissing = missingCount.sum()\n",
        "\n",
        "    # Calculate percentage of missing values\n",
        "print(\"The Telco Telecom dataset contains\", round(((totalMissing/totalCells) * 100), 2), \"%\", \"missing values.\")"
      ],
      "execution_count": 8,
      "outputs": [
        {
          "output_type": "stream",
          "text": [
            "The Telco Telecom dataset contains 12.5 % missing values.\n"
          ],
          "name": "stdout"
        }
      ]
    },
    {
      "cell_type": "code",
      "metadata": {
        "colab": {
          "base_uri": "https://localhost:8080/"
        },
        "id": "jX5JwqXhGFUN",
        "outputId": "c128b756-6a25-4667-c39d-28585d4e54bc"
      },
      "source": [
        "percent_missing = df.isnull().sum() * 100 / len(df)\n",
        "missing_value_df = pd.DataFrame({'percent_missing': percent_missing})\n",
        "print(missing_value_df)"
      ],
      "execution_count": 9,
      "outputs": [
        {
          "output_type": "stream",
          "text": [
            "                                          percent_missing\n",
            "Bearer Id                                        0.660662\n",
            "Start                                            0.000667\n",
            "Start ms                                         0.000667\n",
            "End                                              0.000667\n",
            "End ms                                           0.000667\n",
            "Dur. (ms)                                        0.000667\n",
            "IMSI                                             0.379997\n",
            "MSISDN/Number                                    0.710662\n",
            "IMEI                                             0.381331\n",
            "Last Location Name                               0.768662\n",
            "Avg RTT DL (ms)                                 18.552543\n",
            "Avg RTT UL (ms)                                 18.541210\n",
            "Avg Bearer TP DL (kbps)                          0.000667\n",
            "Avg Bearer TP UL (kbps)                          0.000667\n",
            "TCP DL Retrans. Vol (Bytes)                     58.763608\n",
            "TCP UL Retrans. Vol (Bytes)                     64.432237\n",
            "DL TP < 50 Kbps (%)                              0.502663\n",
            "50 Kbps < DL TP < 250 Kbps (%)                   0.502663\n",
            "250 Kbps < DL TP < 1 Mbps (%)                    0.502663\n",
            "DL TP > 1 Mbps (%)                               0.502663\n",
            "UL TP < 10 Kbps (%)                              0.527996\n",
            "10 Kbps < UL TP < 50 Kbps (%)                    0.527996\n",
            "50 Kbps < UL TP < 300 Kbps (%)                   0.527996\n",
            "UL TP > 300 Kbps (%)                             0.527996\n",
            "HTTP DL (Bytes)                                 54.315638\n",
            "HTTP UL (Bytes)                                 54.539636\n",
            "Activity Duration DL (ms)                        0.000667\n",
            "Activity Duration UL (ms)                        0.000667\n",
            "Dur. (ms).1                                      0.000667\n",
            "Handset Manufacturer                             0.381331\n",
            "Handset Type                                     0.381331\n",
            "Nb of sec with 125000B < Vol DL                 65.024900\n",
            "Nb of sec with 1250B < Vol UL < 6250B           61.928920\n",
            "Nb of sec with 31250B < Vol DL < 125000B        62.390251\n",
            "Nb of sec with 37500B < Vol UL                  86.835421\n",
            "Nb of sec with 6250B < Vol DL < 31250B          58.877607\n",
            "Nb of sec with 6250B < Vol UL < 37500B          74.561503\n",
            "Nb of sec with Vol DL < 6250B                    0.503330\n",
            "Nb of sec with Vol UL < 1250B                    0.528663\n",
            "Social Media DL (Bytes)                          0.000000\n",
            "Social Media UL (Bytes)                          0.000000\n",
            "Google DL (Bytes)                                0.000000\n",
            "Google UL (Bytes)                                0.000000\n",
            "Email DL (Bytes)                                 0.000000\n",
            "Email UL (Bytes)                                 0.000000\n",
            "Youtube DL (Bytes)                               0.000000\n",
            "Youtube UL (Bytes)                               0.000000\n",
            "Netflix DL (Bytes)                               0.000000\n",
            "Netflix UL (Bytes)                               0.000000\n",
            "Gaming DL (Bytes)                                0.000000\n",
            "Gaming UL (Bytes)                                0.000000\n",
            "Other DL (Bytes)                                 0.000000\n",
            "Other UL (Bytes)                                 0.000000\n",
            "Total UL (Bytes)                                 0.000667\n",
            "Total DL (Bytes)                                 0.000667\n"
          ],
          "name": "stdout"
        }
      ]
    },
    {
      "cell_type": "code",
      "metadata": {
        "colab": {
          "base_uri": "https://localhost:8080/"
        },
        "id": "DvkJBlmpLJbM",
        "outputId": "aa0dcae9-9a96-4a58-a91e-cf94548e4ca2"
      },
      "source": [
        "# drop columns with more than 50% missing values\n",
        "df_clean = df.drop(['TCP DL Retrans. Vol (Bytes)', 'TCP UL Retrans. Vol (Bytes)', 'HTTP DL (Bytes)', 'HTTP UL (Bytes)', 'Nb of sec with 125000B < Vol DL','Nb of sec with 1250B < Vol UL < 6250B','Nb of sec with 31250B < Vol DL < 125000B', 'Nb of sec with 37500B < Vol UL', 'Nb of sec with 6250B < Vol DL < 31250B', 'Nb of sec with 6250B < Vol UL < 37500B'], axis=1)\n",
        "df_clean.shape"
      ],
      "execution_count": 10,
      "outputs": [
        {
          "output_type": "execute_result",
          "data": {
            "text/plain": [
              "(150001, 45)"
            ]
          },
          "metadata": {
            "tags": []
          },
          "execution_count": 10
        }
      ]
    },
    {
      "cell_type": "markdown",
      "metadata": {
        "id": "wXOAK6DF_kPD"
      },
      "source": [
        "## Recheck percent of missingvalues now"
      ]
    },
    {
      "cell_type": "code",
      "metadata": {
        "id": "mB1MQ0Efto1o",
        "colab": {
          "base_uri": "https://localhost:8080/"
        },
        "outputId": "ba0bdf0b-a4bf-4976-ee2b-32ea7046cb16"
      },
      "source": [
        "\n",
        "percent_missing = df_clean.isnull().sum() * 100 / len(df_clean)\n",
        "missing_value_df = pd.DataFrame({'percent_missing': percent_missing})\n",
        "print(missing_value_df)"
      ],
      "execution_count": 11,
      "outputs": [
        {
          "output_type": "stream",
          "text": [
            "                                percent_missing\n",
            "Bearer Id                              0.660662\n",
            "Start                                  0.000667\n",
            "Start ms                               0.000667\n",
            "End                                    0.000667\n",
            "End ms                                 0.000667\n",
            "Dur. (ms)                              0.000667\n",
            "IMSI                                   0.379997\n",
            "MSISDN/Number                          0.710662\n",
            "IMEI                                   0.381331\n",
            "Last Location Name                     0.768662\n",
            "Avg RTT DL (ms)                       18.552543\n",
            "Avg RTT UL (ms)                       18.541210\n",
            "Avg Bearer TP DL (kbps)                0.000667\n",
            "Avg Bearer TP UL (kbps)                0.000667\n",
            "DL TP < 50 Kbps (%)                    0.502663\n",
            "50 Kbps < DL TP < 250 Kbps (%)         0.502663\n",
            "250 Kbps < DL TP < 1 Mbps (%)          0.502663\n",
            "DL TP > 1 Mbps (%)                     0.502663\n",
            "UL TP < 10 Kbps (%)                    0.527996\n",
            "10 Kbps < UL TP < 50 Kbps (%)          0.527996\n",
            "50 Kbps < UL TP < 300 Kbps (%)         0.527996\n",
            "UL TP > 300 Kbps (%)                   0.527996\n",
            "Activity Duration DL (ms)              0.000667\n",
            "Activity Duration UL (ms)              0.000667\n",
            "Dur. (ms).1                            0.000667\n",
            "Handset Manufacturer                   0.381331\n",
            "Handset Type                           0.381331\n",
            "Nb of sec with Vol DL < 6250B          0.503330\n",
            "Nb of sec with Vol UL < 1250B          0.528663\n",
            "Social Media DL (Bytes)                0.000000\n",
            "Social Media UL (Bytes)                0.000000\n",
            "Google DL (Bytes)                      0.000000\n",
            "Google UL (Bytes)                      0.000000\n",
            "Email DL (Bytes)                       0.000000\n",
            "Email UL (Bytes)                       0.000000\n",
            "Youtube DL (Bytes)                     0.000000\n",
            "Youtube UL (Bytes)                     0.000000\n",
            "Netflix DL (Bytes)                     0.000000\n",
            "Netflix UL (Bytes)                     0.000000\n",
            "Gaming DL (Bytes)                      0.000000\n",
            "Gaming UL (Bytes)                      0.000000\n",
            "Other DL (Bytes)                       0.000000\n",
            "Other UL (Bytes)                       0.000000\n",
            "Total UL (Bytes)                       0.000667\n",
            "Total DL (Bytes)                       0.000667\n"
          ],
          "name": "stdout"
        }
      ]
    },
    {
      "cell_type": "markdown",
      "metadata": {
        "id": "7FymXxw7_0xg"
      },
      "source": [
        "## Replace-nan-values-of-bearer-id-,-imei-with-forward-value-of-columns"
      ]
    },
    {
      "cell_type": "code",
      "metadata": {
        "id": "W41VW2fmxqkP"
      },
      "source": [
        "df_clean['Bearer Id'] = df_clean['Bearer Id'].fillna(method='ffill')\n",
        "df_clean['IMEI'] = df_clean['IMEI'].fillna(method='ffill')"
      ],
      "execution_count": 12,
      "outputs": []
    },
    {
      "cell_type": "code",
      "metadata": {
        "id": "D5ZbmW-GziW5"
      },
      "source": [
        "#replace all NAN values of location with unknown\n",
        "df_clean['Last Location Name'].fillna('Unknow', inplace=True)"
      ],
      "execution_count": 13,
      "outputs": []
    },
    {
      "cell_type": "code",
      "metadata": {
        "id": "DMfMwxiXPVIm"
      },
      "source": [
        "# replace the remaning nan values with the mode of that column\n",
        "for column in df_clean.columns:\n",
        "    df_clean[column].fillna(df_clean[column].mode()[0], inplace=True)"
      ],
      "execution_count": 14,
      "outputs": []
    },
    {
      "cell_type": "markdown",
      "metadata": {
        "id": "XVhzcitbATOa"
      },
      "source": [
        "## checking if there is any column with nan value"
      ]
    },
    {
      "cell_type": "code",
      "metadata": {
        "id": "NZJakh2QrZEn",
        "colab": {
          "base_uri": "https://localhost:8080/"
        },
        "outputId": "c64292cd-214f-4886-8d75-191aab90d902"
      },
      "source": [
        "percent_missing = df_clean.isnull().sum() * 100 / len(df_clean)\n",
        "missing_value_df = pd.DataFrame({'percent_missing': percent_missing})\n",
        "print(missing_value_df)"
      ],
      "execution_count": 15,
      "outputs": [
        {
          "output_type": "stream",
          "text": [
            "                                percent_missing\n",
            "Bearer Id                                   0.0\n",
            "Start                                       0.0\n",
            "Start ms                                    0.0\n",
            "End                                         0.0\n",
            "End ms                                      0.0\n",
            "Dur. (ms)                                   0.0\n",
            "IMSI                                        0.0\n",
            "MSISDN/Number                               0.0\n",
            "IMEI                                        0.0\n",
            "Last Location Name                          0.0\n",
            "Avg RTT DL (ms)                             0.0\n",
            "Avg RTT UL (ms)                             0.0\n",
            "Avg Bearer TP DL (kbps)                     0.0\n",
            "Avg Bearer TP UL (kbps)                     0.0\n",
            "DL TP < 50 Kbps (%)                         0.0\n",
            "50 Kbps < DL TP < 250 Kbps (%)              0.0\n",
            "250 Kbps < DL TP < 1 Mbps (%)               0.0\n",
            "DL TP > 1 Mbps (%)                          0.0\n",
            "UL TP < 10 Kbps (%)                         0.0\n",
            "10 Kbps < UL TP < 50 Kbps (%)               0.0\n",
            "50 Kbps < UL TP < 300 Kbps (%)              0.0\n",
            "UL TP > 300 Kbps (%)                        0.0\n",
            "Activity Duration DL (ms)                   0.0\n",
            "Activity Duration UL (ms)                   0.0\n",
            "Dur. (ms).1                                 0.0\n",
            "Handset Manufacturer                        0.0\n",
            "Handset Type                                0.0\n",
            "Nb of sec with Vol DL < 6250B               0.0\n",
            "Nb of sec with Vol UL < 1250B               0.0\n",
            "Social Media DL (Bytes)                     0.0\n",
            "Social Media UL (Bytes)                     0.0\n",
            "Google DL (Bytes)                           0.0\n",
            "Google UL (Bytes)                           0.0\n",
            "Email DL (Bytes)                            0.0\n",
            "Email UL (Bytes)                            0.0\n",
            "Youtube DL (Bytes)                          0.0\n",
            "Youtube UL (Bytes)                          0.0\n",
            "Netflix DL (Bytes)                          0.0\n",
            "Netflix UL (Bytes)                          0.0\n",
            "Gaming DL (Bytes)                           0.0\n",
            "Gaming UL (Bytes)                           0.0\n",
            "Other DL (Bytes)                            0.0\n",
            "Other UL (Bytes)                            0.0\n",
            "Total UL (Bytes)                            0.0\n",
            "Total DL (Bytes)                            0.0\n"
          ],
          "name": "stdout"
        }
      ]
    },
    {
      "cell_type": "code",
      "metadata": {
        "colab": {
          "base_uri": "https://localhost:8080/",
          "height": 481
        },
        "id": "HjjUcdYXOTSh",
        "outputId": "57c276f7-d61b-40b9-ed82-0b4188770a3b"
      },
      "source": [
        "#df_clean.dtypes\n",
        "df_clean.groupby('MSISDN/Number').agg({'Social Media DL (Bytes)': ['min', 'max'], 'Social Media UL (Bytes)': 'sum'})"
      ],
      "execution_count": 16,
      "outputs": [
        {
          "output_type": "execute_result",
          "data": {
            "text/html": [
              "<div>\n",
              "<style scoped>\n",
              "    .dataframe tbody tr th:only-of-type {\n",
              "        vertical-align: middle;\n",
              "    }\n",
              "\n",
              "    .dataframe tbody tr th {\n",
              "        vertical-align: top;\n",
              "    }\n",
              "\n",
              "    .dataframe thead tr th {\n",
              "        text-align: left;\n",
              "    }\n",
              "\n",
              "    .dataframe thead tr:last-of-type th {\n",
              "        text-align: right;\n",
              "    }\n",
              "</style>\n",
              "<table border=\"1\" class=\"dataframe\">\n",
              "  <thead>\n",
              "    <tr>\n",
              "      <th></th>\n",
              "      <th colspan=\"2\" halign=\"left\">Social Media DL (Bytes)</th>\n",
              "      <th>Social Media UL (Bytes)</th>\n",
              "    </tr>\n",
              "    <tr>\n",
              "      <th></th>\n",
              "      <th>min</th>\n",
              "      <th>max</th>\n",
              "      <th>sum</th>\n",
              "    </tr>\n",
              "    <tr>\n",
              "      <th>MSISDN/Number</th>\n",
              "      <th></th>\n",
              "      <th></th>\n",
              "      <th></th>\n",
              "    </tr>\n",
              "  </thead>\n",
              "  <tbody>\n",
              "    <tr>\n",
              "      <th>3.360100e+10</th>\n",
              "      <td>2206504.0</td>\n",
              "      <td>2206504.0</td>\n",
              "      <td>25631.0</td>\n",
              "    </tr>\n",
              "    <tr>\n",
              "      <th>3.360100e+10</th>\n",
              "      <td>2598548.0</td>\n",
              "      <td>2598548.0</td>\n",
              "      <td>62017.0</td>\n",
              "    </tr>\n",
              "    <tr>\n",
              "      <th>3.360100e+10</th>\n",
              "      <td>3148004.0</td>\n",
              "      <td>3148004.0</td>\n",
              "      <td>47619.0</td>\n",
              "    </tr>\n",
              "    <tr>\n",
              "      <th>3.360101e+10</th>\n",
              "      <td>251469.0</td>\n",
              "      <td>251469.0</td>\n",
              "      <td>28825.0</td>\n",
              "    </tr>\n",
              "    <tr>\n",
              "      <th>3.360101e+10</th>\n",
              "      <td>1359904.0</td>\n",
              "      <td>1501326.0</td>\n",
              "      <td>51312.0</td>\n",
              "    </tr>\n",
              "    <tr>\n",
              "      <th>...</th>\n",
              "      <td>...</td>\n",
              "      <td>...</td>\n",
              "      <td>...</td>\n",
              "    </tr>\n",
              "    <tr>\n",
              "      <th>3.379000e+10</th>\n",
              "      <td>234320.0</td>\n",
              "      <td>234320.0</td>\n",
              "      <td>65863.0</td>\n",
              "    </tr>\n",
              "    <tr>\n",
              "      <th>3.379000e+10</th>\n",
              "      <td>442214.0</td>\n",
              "      <td>442214.0</td>\n",
              "      <td>56355.0</td>\n",
              "    </tr>\n",
              "    <tr>\n",
              "      <th>3.197020e+12</th>\n",
              "      <td>668596.0</td>\n",
              "      <td>668596.0</td>\n",
              "      <td>46628.0</td>\n",
              "    </tr>\n",
              "    <tr>\n",
              "      <th>3.370000e+14</th>\n",
              "      <td>496337.0</td>\n",
              "      <td>496337.0</td>\n",
              "      <td>25229.0</td>\n",
              "    </tr>\n",
              "    <tr>\n",
              "      <th>8.823970e+14</th>\n",
              "      <td>1500145.0</td>\n",
              "      <td>1500145.0</td>\n",
              "      <td>45943.0</td>\n",
              "    </tr>\n",
              "  </tbody>\n",
              "</table>\n",
              "<p>106856 rows × 3 columns</p>\n",
              "</div>"
            ],
            "text/plain": [
              "              Social Media DL (Bytes)            Social Media UL (Bytes)\n",
              "                                  min        max                     sum\n",
              "MSISDN/Number                                                           \n",
              "3.360100e+10                2206504.0  2206504.0                 25631.0\n",
              "3.360100e+10                2598548.0  2598548.0                 62017.0\n",
              "3.360100e+10                3148004.0  3148004.0                 47619.0\n",
              "3.360101e+10                 251469.0   251469.0                 28825.0\n",
              "3.360101e+10                1359904.0  1501326.0                 51312.0\n",
              "...                               ...        ...                     ...\n",
              "3.379000e+10                 234320.0   234320.0                 65863.0\n",
              "3.379000e+10                 442214.0   442214.0                 56355.0\n",
              "3.197020e+12                 668596.0   668596.0                 46628.0\n",
              "3.370000e+14                 496337.0   496337.0                 25229.0\n",
              "8.823970e+14                1500145.0  1500145.0                 45943.0\n",
              "\n",
              "[106856 rows x 3 columns]"
            ]
          },
          "metadata": {
            "tags": []
          },
          "execution_count": 16
        }
      ]
    },
    {
      "cell_type": "code",
      "metadata": {
        "id": "XIMeeA6xXhs5"
      },
      "source": [
        "#Change the datatype from object to date\n",
        "df_clean['Start'] = pd.to_datetime(df_clean['Start'], errors='coerce')\n",
        "df_clean['End'] = pd.to_datetime(df_clean['End'], errors='coerce')\n"
      ],
      "execution_count": 59,
      "outputs": []
    },
    {
      "cell_type": "code",
      "metadata": {
        "colab": {
          "base_uri": "https://localhost:8080/"
        },
        "id": "UWavoUFbX3Wx",
        "outputId": "d7e380a5-9667-4a4a-895b-c1b4ac7260fd"
      },
      "source": [
        "df_clean.dtypes"
      ],
      "execution_count": 18,
      "outputs": [
        {
          "output_type": "execute_result",
          "data": {
            "text/plain": [
              "Bearer Id                                float64\n",
              "Start                             datetime64[ns]\n",
              "Start ms                                 float64\n",
              "End                               datetime64[ns]\n",
              "End ms                                   float64\n",
              "Dur. (ms)                                float64\n",
              "IMSI                                     float64\n",
              "MSISDN/Number                            float64\n",
              "IMEI                                     float64\n",
              "Last Location Name                        object\n",
              "Avg RTT DL (ms)                          float64\n",
              "Avg RTT UL (ms)                          float64\n",
              "Avg Bearer TP DL (kbps)                  float64\n",
              "Avg Bearer TP UL (kbps)                  float64\n",
              "DL TP < 50 Kbps (%)                      float64\n",
              "50 Kbps < DL TP < 250 Kbps (%)           float64\n",
              "250 Kbps < DL TP < 1 Mbps (%)            float64\n",
              "DL TP > 1 Mbps (%)                       float64\n",
              "UL TP < 10 Kbps (%)                      float64\n",
              "10 Kbps < UL TP < 50 Kbps (%)            float64\n",
              "50 Kbps < UL TP < 300 Kbps (%)           float64\n",
              "UL TP > 300 Kbps (%)                     float64\n",
              "Activity Duration DL (ms)                float64\n",
              "Activity Duration UL (ms)                float64\n",
              "Dur. (ms).1                              float64\n",
              "Handset Manufacturer                      object\n",
              "Handset Type                              object\n",
              "Nb of sec with Vol DL < 6250B            float64\n",
              "Nb of sec with Vol UL < 1250B            float64\n",
              "Social Media DL (Bytes)                  float64\n",
              "Social Media UL (Bytes)                  float64\n",
              "Google DL (Bytes)                        float64\n",
              "Google UL (Bytes)                        float64\n",
              "Email DL (Bytes)                         float64\n",
              "Email UL (Bytes)                         float64\n",
              "Youtube DL (Bytes)                       float64\n",
              "Youtube UL (Bytes)                       float64\n",
              "Netflix DL (Bytes)                       float64\n",
              "Netflix UL (Bytes)                       float64\n",
              "Gaming DL (Bytes)                        float64\n",
              "Gaming UL (Bytes)                        float64\n",
              "Other DL (Bytes)                         float64\n",
              "Other UL (Bytes)                         float64\n",
              "Total UL (Bytes)                         float64\n",
              "Total DL (Bytes)                         float64\n",
              "dtype: object"
            ]
          },
          "metadata": {
            "tags": []
          },
          "execution_count": 18
        }
      ]
    },
    {
      "cell_type": "code",
      "metadata": {
        "colab": {
          "base_uri": "https://localhost:8080/",
          "height": 530
        },
        "id": "ZKHLMyySYDRE",
        "outputId": "50fe08af-8c9d-4451-eb0d-0a1a7cf53d60"
      },
      "source": [
        "#See the top 5 records\n",
        "df_clean.head(5)\n"
      ],
      "execution_count": 60,
      "outputs": [
        {
          "output_type": "execute_result",
          "data": {
            "text/html": [
              "<div>\n",
              "<style scoped>\n",
              "    .dataframe tbody tr th:only-of-type {\n",
              "        vertical-align: middle;\n",
              "    }\n",
              "\n",
              "    .dataframe tbody tr th {\n",
              "        vertical-align: top;\n",
              "    }\n",
              "\n",
              "    .dataframe thead th {\n",
              "        text-align: right;\n",
              "    }\n",
              "</style>\n",
              "<table border=\"1\" class=\"dataframe\">\n",
              "  <thead>\n",
              "    <tr style=\"text-align: right;\">\n",
              "      <th></th>\n",
              "      <th>Bearer Id</th>\n",
              "      <th>Start</th>\n",
              "      <th>Start ms</th>\n",
              "      <th>End</th>\n",
              "      <th>End ms</th>\n",
              "      <th>Dur. (ms)</th>\n",
              "      <th>IMSI</th>\n",
              "      <th>MSISDN/Number</th>\n",
              "      <th>IMEI</th>\n",
              "      <th>Last Location Name</th>\n",
              "      <th>Avg RTT DL (ms)</th>\n",
              "      <th>Avg RTT UL (ms)</th>\n",
              "      <th>Avg Bearer TP DL (kbps)</th>\n",
              "      <th>Avg Bearer TP UL (kbps)</th>\n",
              "      <th>DL TP &lt; 50 Kbps (%)</th>\n",
              "      <th>50 Kbps &lt; DL TP &lt; 250 Kbps (%)</th>\n",
              "      <th>250 Kbps &lt; DL TP &lt; 1 Mbps (%)</th>\n",
              "      <th>DL TP &gt; 1 Mbps (%)</th>\n",
              "      <th>UL TP &lt; 10 Kbps (%)</th>\n",
              "      <th>10 Kbps &lt; UL TP &lt; 50 Kbps (%)</th>\n",
              "      <th>50 Kbps &lt; UL TP &lt; 300 Kbps (%)</th>\n",
              "      <th>UL TP &gt; 300 Kbps (%)</th>\n",
              "      <th>Activity Duration DL (ms)</th>\n",
              "      <th>Activity Duration UL (ms)</th>\n",
              "      <th>Dur. (ms).1</th>\n",
              "      <th>Handset Manufacturer</th>\n",
              "      <th>Handset Type</th>\n",
              "      <th>Nb of sec with Vol DL &lt; 6250B</th>\n",
              "      <th>Nb of sec with Vol UL &lt; 1250B</th>\n",
              "      <th>Social Media DL (Bytes)</th>\n",
              "      <th>Social Media UL (Bytes)</th>\n",
              "      <th>Google DL (Bytes)</th>\n",
              "      <th>Google UL (Bytes)</th>\n",
              "      <th>Email DL (Bytes)</th>\n",
              "      <th>Email UL (Bytes)</th>\n",
              "      <th>Youtube DL (Bytes)</th>\n",
              "      <th>Youtube UL (Bytes)</th>\n",
              "      <th>Netflix DL (Bytes)</th>\n",
              "      <th>Netflix UL (Bytes)</th>\n",
              "      <th>Gaming DL (Bytes)</th>\n",
              "      <th>Gaming UL (Bytes)</th>\n",
              "      <th>Other DL (Bytes)</th>\n",
              "      <th>Other UL (Bytes)</th>\n",
              "      <th>Total UL (Bytes)</th>\n",
              "      <th>Total DL (Bytes)</th>\n",
              "      <th>Youtube_total_data_volume</th>\n",
              "      <th>Google_total_data_volume</th>\n",
              "      <th>Email_total_data_volume</th>\n",
              "      <th>Netflix_total_data_volume</th>\n",
              "      <th>Gaming_total_data_volume</th>\n",
              "      <th>Other_total_data_volume</th>\n",
              "      <th>SocialMedia_total_data_volume</th>\n",
              "      <th>All_total_data_volume</th>\n",
              "    </tr>\n",
              "  </thead>\n",
              "  <tbody>\n",
              "    <tr>\n",
              "      <th>0</th>\n",
              "      <td>1.311450e+19</td>\n",
              "      <td>2019-04-04 12:01:00</td>\n",
              "      <td>770.0</td>\n",
              "      <td>2019-04-25 14:35:00</td>\n",
              "      <td>662.0</td>\n",
              "      <td>1823652.0</td>\n",
              "      <td>2.082010e+14</td>\n",
              "      <td>3.366496e+10</td>\n",
              "      <td>3.552120e+13</td>\n",
              "      <td>9.16457E+15</td>\n",
              "      <td>42.0</td>\n",
              "      <td>5.0</td>\n",
              "      <td>23.0</td>\n",
              "      <td>44.0</td>\n",
              "      <td>100.0</td>\n",
              "      <td>0.0</td>\n",
              "      <td>0.0</td>\n",
              "      <td>0.0</td>\n",
              "      <td>100.0</td>\n",
              "      <td>0.0</td>\n",
              "      <td>0.0</td>\n",
              "      <td>0.0</td>\n",
              "      <td>37624.0</td>\n",
              "      <td>38787.0</td>\n",
              "      <td>1.823653e+09</td>\n",
              "      <td>Samsung</td>\n",
              "      <td>Samsung Galaxy A5 Sm-A520F</td>\n",
              "      <td>213.0</td>\n",
              "      <td>214.0</td>\n",
              "      <td>1545765.0</td>\n",
              "      <td>24420.0</td>\n",
              "      <td>1634479.0</td>\n",
              "      <td>1271433.0</td>\n",
              "      <td>3563542.0</td>\n",
              "      <td>137762.0</td>\n",
              "      <td>15854611.0</td>\n",
              "      <td>2501332.0</td>\n",
              "      <td>8198936.0</td>\n",
              "      <td>9656251.0</td>\n",
              "      <td>278082303.0</td>\n",
              "      <td>14344150.0</td>\n",
              "      <td>171744450.0</td>\n",
              "      <td>8814393.0</td>\n",
              "      <td>36749741.0</td>\n",
              "      <td>308879636.0</td>\n",
              "      <td>18355943.0</td>\n",
              "      <td>2905912.0</td>\n",
              "      <td>3701304.0</td>\n",
              "      <td>17855187.0</td>\n",
              "      <td>292426453.0</td>\n",
              "      <td>180558843.0</td>\n",
              "      <td>1570185.0</td>\n",
              "      <td>345629377.0</td>\n",
              "    </tr>\n",
              "    <tr>\n",
              "      <th>1</th>\n",
              "      <td>1.311450e+19</td>\n",
              "      <td>2019-04-09 13:04:00</td>\n",
              "      <td>235.0</td>\n",
              "      <td>2019-04-25 08:15:00</td>\n",
              "      <td>606.0</td>\n",
              "      <td>1365104.0</td>\n",
              "      <td>2.082020e+14</td>\n",
              "      <td>3.368185e+10</td>\n",
              "      <td>3.579400e+13</td>\n",
              "      <td>L77566A</td>\n",
              "      <td>65.0</td>\n",
              "      <td>5.0</td>\n",
              "      <td>16.0</td>\n",
              "      <td>26.0</td>\n",
              "      <td>100.0</td>\n",
              "      <td>0.0</td>\n",
              "      <td>0.0</td>\n",
              "      <td>0.0</td>\n",
              "      <td>100.0</td>\n",
              "      <td>0.0</td>\n",
              "      <td>0.0</td>\n",
              "      <td>0.0</td>\n",
              "      <td>168.0</td>\n",
              "      <td>3560.0</td>\n",
              "      <td>1.365104e+09</td>\n",
              "      <td>Samsung</td>\n",
              "      <td>Samsung Galaxy J5 (Sm-J530)</td>\n",
              "      <td>971.0</td>\n",
              "      <td>1022.0</td>\n",
              "      <td>1926113.0</td>\n",
              "      <td>7165.0</td>\n",
              "      <td>3493924.0</td>\n",
              "      <td>920172.0</td>\n",
              "      <td>629046.0</td>\n",
              "      <td>308339.0</td>\n",
              "      <td>20247395.0</td>\n",
              "      <td>19111729.0</td>\n",
              "      <td>18338413.0</td>\n",
              "      <td>17227132.0</td>\n",
              "      <td>608750074.0</td>\n",
              "      <td>1170709.0</td>\n",
              "      <td>526904238.0</td>\n",
              "      <td>15055145.0</td>\n",
              "      <td>53800391.0</td>\n",
              "      <td>653384965.0</td>\n",
              "      <td>39359124.0</td>\n",
              "      <td>4414096.0</td>\n",
              "      <td>937385.0</td>\n",
              "      <td>35565545.0</td>\n",
              "      <td>609920783.0</td>\n",
              "      <td>541959383.0</td>\n",
              "      <td>1933278.0</td>\n",
              "      <td>707185356.0</td>\n",
              "    </tr>\n",
              "    <tr>\n",
              "      <th>2</th>\n",
              "      <td>1.311450e+19</td>\n",
              "      <td>2019-04-09 17:42:00</td>\n",
              "      <td>1.0</td>\n",
              "      <td>2019-04-25 11:58:00</td>\n",
              "      <td>652.0</td>\n",
              "      <td>1361762.0</td>\n",
              "      <td>2.082000e+14</td>\n",
              "      <td>3.376063e+10</td>\n",
              "      <td>3.528150e+13</td>\n",
              "      <td>D42335A</td>\n",
              "      <td>28.0</td>\n",
              "      <td>5.0</td>\n",
              "      <td>6.0</td>\n",
              "      <td>9.0</td>\n",
              "      <td>100.0</td>\n",
              "      <td>0.0</td>\n",
              "      <td>0.0</td>\n",
              "      <td>0.0</td>\n",
              "      <td>100.0</td>\n",
              "      <td>0.0</td>\n",
              "      <td>0.0</td>\n",
              "      <td>0.0</td>\n",
              "      <td>0.0</td>\n",
              "      <td>0.0</td>\n",
              "      <td>1.361763e+09</td>\n",
              "      <td>Samsung</td>\n",
              "      <td>Samsung Galaxy A8 (2018)</td>\n",
              "      <td>751.0</td>\n",
              "      <td>695.0</td>\n",
              "      <td>1684053.0</td>\n",
              "      <td>42224.0</td>\n",
              "      <td>8535055.0</td>\n",
              "      <td>1694064.0</td>\n",
              "      <td>2690151.0</td>\n",
              "      <td>672973.0</td>\n",
              "      <td>19725661.0</td>\n",
              "      <td>14699576.0</td>\n",
              "      <td>17587794.0</td>\n",
              "      <td>6163408.0</td>\n",
              "      <td>229584621.0</td>\n",
              "      <td>395630.0</td>\n",
              "      <td>410692588.0</td>\n",
              "      <td>4215763.0</td>\n",
              "      <td>27883638.0</td>\n",
              "      <td>279807335.0</td>\n",
              "      <td>34425237.0</td>\n",
              "      <td>10229119.0</td>\n",
              "      <td>3363124.0</td>\n",
              "      <td>23751202.0</td>\n",
              "      <td>229980251.0</td>\n",
              "      <td>414908351.0</td>\n",
              "      <td>1726277.0</td>\n",
              "      <td>307690973.0</td>\n",
              "    </tr>\n",
              "    <tr>\n",
              "      <th>3</th>\n",
              "      <td>1.311450e+19</td>\n",
              "      <td>2019-04-10 00:31:00</td>\n",
              "      <td>486.0</td>\n",
              "      <td>2019-04-25 07:36:00</td>\n",
              "      <td>171.0</td>\n",
              "      <td>1321509.0</td>\n",
              "      <td>2.082010e+14</td>\n",
              "      <td>3.375034e+10</td>\n",
              "      <td>3.535660e+13</td>\n",
              "      <td>T21824A</td>\n",
              "      <td>28.0</td>\n",
              "      <td>5.0</td>\n",
              "      <td>44.0</td>\n",
              "      <td>44.0</td>\n",
              "      <td>100.0</td>\n",
              "      <td>0.0</td>\n",
              "      <td>0.0</td>\n",
              "      <td>0.0</td>\n",
              "      <td>100.0</td>\n",
              "      <td>0.0</td>\n",
              "      <td>0.0</td>\n",
              "      <td>0.0</td>\n",
              "      <td>3330.0</td>\n",
              "      <td>37882.0</td>\n",
              "      <td>1.321510e+09</td>\n",
              "      <td>undefined</td>\n",
              "      <td>undefined</td>\n",
              "      <td>17.0</td>\n",
              "      <td>207.0</td>\n",
              "      <td>644121.0</td>\n",
              "      <td>13372.0</td>\n",
              "      <td>9023734.0</td>\n",
              "      <td>2788027.0</td>\n",
              "      <td>1439754.0</td>\n",
              "      <td>631229.0</td>\n",
              "      <td>21388122.0</td>\n",
              "      <td>15146643.0</td>\n",
              "      <td>13994646.0</td>\n",
              "      <td>1097942.0</td>\n",
              "      <td>799538153.0</td>\n",
              "      <td>10849722.0</td>\n",
              "      <td>749039933.0</td>\n",
              "      <td>12797283.0</td>\n",
              "      <td>43324218.0</td>\n",
              "      <td>846028530.0</td>\n",
              "      <td>36534765.0</td>\n",
              "      <td>11811761.0</td>\n",
              "      <td>2070983.0</td>\n",
              "      <td>15092588.0</td>\n",
              "      <td>810387875.0</td>\n",
              "      <td>761837216.0</td>\n",
              "      <td>657493.0</td>\n",
              "      <td>889352748.0</td>\n",
              "    </tr>\n",
              "    <tr>\n",
              "      <th>4</th>\n",
              "      <td>1.311450e+19</td>\n",
              "      <td>2019-04-12 20:10:00</td>\n",
              "      <td>565.0</td>\n",
              "      <td>2019-04-25 10:40:00</td>\n",
              "      <td>954.0</td>\n",
              "      <td>1089009.0</td>\n",
              "      <td>2.082010e+14</td>\n",
              "      <td>3.369980e+10</td>\n",
              "      <td>3.540700e+13</td>\n",
              "      <td>D88865A</td>\n",
              "      <td>28.0</td>\n",
              "      <td>5.0</td>\n",
              "      <td>6.0</td>\n",
              "      <td>9.0</td>\n",
              "      <td>100.0</td>\n",
              "      <td>0.0</td>\n",
              "      <td>0.0</td>\n",
              "      <td>0.0</td>\n",
              "      <td>100.0</td>\n",
              "      <td>0.0</td>\n",
              "      <td>0.0</td>\n",
              "      <td>0.0</td>\n",
              "      <td>0.0</td>\n",
              "      <td>0.0</td>\n",
              "      <td>1.089009e+09</td>\n",
              "      <td>Samsung</td>\n",
              "      <td>Samsung Sm-G390F</td>\n",
              "      <td>607.0</td>\n",
              "      <td>604.0</td>\n",
              "      <td>862600.0</td>\n",
              "      <td>50188.0</td>\n",
              "      <td>6248284.0</td>\n",
              "      <td>1500559.0</td>\n",
              "      <td>1936496.0</td>\n",
              "      <td>173853.0</td>\n",
              "      <td>15259380.0</td>\n",
              "      <td>18962873.0</td>\n",
              "      <td>17124581.0</td>\n",
              "      <td>415218.0</td>\n",
              "      <td>527707248.0</td>\n",
              "      <td>3529801.0</td>\n",
              "      <td>550709500.0</td>\n",
              "      <td>13910322.0</td>\n",
              "      <td>38542814.0</td>\n",
              "      <td>569138589.0</td>\n",
              "      <td>34222253.0</td>\n",
              "      <td>7748843.0</td>\n",
              "      <td>2110349.0</td>\n",
              "      <td>17539799.0</td>\n",
              "      <td>531237049.0</td>\n",
              "      <td>564619822.0</td>\n",
              "      <td>912788.0</td>\n",
              "      <td>607681403.0</td>\n",
              "    </tr>\n",
              "  </tbody>\n",
              "</table>\n",
              "</div>"
            ],
            "text/plain": [
              "      Bearer Id               Start  Start ms                 End  End ms  \\\n",
              "0  1.311450e+19 2019-04-04 12:01:00     770.0 2019-04-25 14:35:00   662.0   \n",
              "1  1.311450e+19 2019-04-09 13:04:00     235.0 2019-04-25 08:15:00   606.0   \n",
              "2  1.311450e+19 2019-04-09 17:42:00       1.0 2019-04-25 11:58:00   652.0   \n",
              "3  1.311450e+19 2019-04-10 00:31:00     486.0 2019-04-25 07:36:00   171.0   \n",
              "4  1.311450e+19 2019-04-12 20:10:00     565.0 2019-04-25 10:40:00   954.0   \n",
              "\n",
              "   Dur. (ms)          IMSI  MSISDN/Number          IMEI Last Location Name  \\\n",
              "0  1823652.0  2.082010e+14   3.366496e+10  3.552120e+13        9.16457E+15   \n",
              "1  1365104.0  2.082020e+14   3.368185e+10  3.579400e+13            L77566A   \n",
              "2  1361762.0  2.082000e+14   3.376063e+10  3.528150e+13            D42335A   \n",
              "3  1321509.0  2.082010e+14   3.375034e+10  3.535660e+13            T21824A   \n",
              "4  1089009.0  2.082010e+14   3.369980e+10  3.540700e+13            D88865A   \n",
              "\n",
              "   Avg RTT DL (ms)  Avg RTT UL (ms)  Avg Bearer TP DL (kbps)  \\\n",
              "0             42.0              5.0                     23.0   \n",
              "1             65.0              5.0                     16.0   \n",
              "2             28.0              5.0                      6.0   \n",
              "3             28.0              5.0                     44.0   \n",
              "4             28.0              5.0                      6.0   \n",
              "\n",
              "   Avg Bearer TP UL (kbps)  DL TP < 50 Kbps (%)  \\\n",
              "0                     44.0                100.0   \n",
              "1                     26.0                100.0   \n",
              "2                      9.0                100.0   \n",
              "3                     44.0                100.0   \n",
              "4                      9.0                100.0   \n",
              "\n",
              "   50 Kbps < DL TP < 250 Kbps (%)  250 Kbps < DL TP < 1 Mbps (%)  \\\n",
              "0                             0.0                            0.0   \n",
              "1                             0.0                            0.0   \n",
              "2                             0.0                            0.0   \n",
              "3                             0.0                            0.0   \n",
              "4                             0.0                            0.0   \n",
              "\n",
              "   DL TP > 1 Mbps (%)  UL TP < 10 Kbps (%)  10 Kbps < UL TP < 50 Kbps (%)  \\\n",
              "0                 0.0                100.0                            0.0   \n",
              "1                 0.0                100.0                            0.0   \n",
              "2                 0.0                100.0                            0.0   \n",
              "3                 0.0                100.0                            0.0   \n",
              "4                 0.0                100.0                            0.0   \n",
              "\n",
              "   50 Kbps < UL TP < 300 Kbps (%)  UL TP > 300 Kbps (%)  \\\n",
              "0                             0.0                   0.0   \n",
              "1                             0.0                   0.0   \n",
              "2                             0.0                   0.0   \n",
              "3                             0.0                   0.0   \n",
              "4                             0.0                   0.0   \n",
              "\n",
              "   Activity Duration DL (ms)  Activity Duration UL (ms)   Dur. (ms).1  \\\n",
              "0                    37624.0                    38787.0  1.823653e+09   \n",
              "1                      168.0                     3560.0  1.365104e+09   \n",
              "2                        0.0                        0.0  1.361763e+09   \n",
              "3                     3330.0                    37882.0  1.321510e+09   \n",
              "4                        0.0                        0.0  1.089009e+09   \n",
              "\n",
              "  Handset Manufacturer                 Handset Type  \\\n",
              "0              Samsung   Samsung Galaxy A5 Sm-A520F   \n",
              "1              Samsung  Samsung Galaxy J5 (Sm-J530)   \n",
              "2              Samsung     Samsung Galaxy A8 (2018)   \n",
              "3            undefined                    undefined   \n",
              "4              Samsung             Samsung Sm-G390F   \n",
              "\n",
              "   Nb of sec with Vol DL < 6250B  Nb of sec with Vol UL < 1250B  \\\n",
              "0                          213.0                          214.0   \n",
              "1                          971.0                         1022.0   \n",
              "2                          751.0                          695.0   \n",
              "3                           17.0                          207.0   \n",
              "4                          607.0                          604.0   \n",
              "\n",
              "   Social Media DL (Bytes)  Social Media UL (Bytes)  Google DL (Bytes)  \\\n",
              "0                1545765.0                  24420.0          1634479.0   \n",
              "1                1926113.0                   7165.0          3493924.0   \n",
              "2                1684053.0                  42224.0          8535055.0   \n",
              "3                 644121.0                  13372.0          9023734.0   \n",
              "4                 862600.0                  50188.0          6248284.0   \n",
              "\n",
              "   Google UL (Bytes)  Email DL (Bytes)  Email UL (Bytes)  Youtube DL (Bytes)  \\\n",
              "0          1271433.0         3563542.0          137762.0          15854611.0   \n",
              "1           920172.0          629046.0          308339.0          20247395.0   \n",
              "2          1694064.0         2690151.0          672973.0          19725661.0   \n",
              "3          2788027.0         1439754.0          631229.0          21388122.0   \n",
              "4          1500559.0         1936496.0          173853.0          15259380.0   \n",
              "\n",
              "   Youtube UL (Bytes)  Netflix DL (Bytes)  Netflix UL (Bytes)  \\\n",
              "0           2501332.0           8198936.0           9656251.0   \n",
              "1          19111729.0          18338413.0          17227132.0   \n",
              "2          14699576.0          17587794.0           6163408.0   \n",
              "3          15146643.0          13994646.0           1097942.0   \n",
              "4          18962873.0          17124581.0            415218.0   \n",
              "\n",
              "   Gaming DL (Bytes)  Gaming UL (Bytes)  Other DL (Bytes)  Other UL (Bytes)  \\\n",
              "0        278082303.0         14344150.0       171744450.0         8814393.0   \n",
              "1        608750074.0          1170709.0       526904238.0        15055145.0   \n",
              "2        229584621.0           395630.0       410692588.0         4215763.0   \n",
              "3        799538153.0         10849722.0       749039933.0        12797283.0   \n",
              "4        527707248.0          3529801.0       550709500.0        13910322.0   \n",
              "\n",
              "   Total UL (Bytes)  Total DL (Bytes)  Youtube_total_data_volume  \\\n",
              "0        36749741.0       308879636.0                 18355943.0   \n",
              "1        53800391.0       653384965.0                 39359124.0   \n",
              "2        27883638.0       279807335.0                 34425237.0   \n",
              "3        43324218.0       846028530.0                 36534765.0   \n",
              "4        38542814.0       569138589.0                 34222253.0   \n",
              "\n",
              "   Google_total_data_volume  Email_total_data_volume  \\\n",
              "0                 2905912.0                3701304.0   \n",
              "1                 4414096.0                 937385.0   \n",
              "2                10229119.0                3363124.0   \n",
              "3                11811761.0                2070983.0   \n",
              "4                 7748843.0                2110349.0   \n",
              "\n",
              "   Netflix_total_data_volume  Gaming_total_data_volume  \\\n",
              "0                 17855187.0               292426453.0   \n",
              "1                 35565545.0               609920783.0   \n",
              "2                 23751202.0               229980251.0   \n",
              "3                 15092588.0               810387875.0   \n",
              "4                 17539799.0               531237049.0   \n",
              "\n",
              "   Other_total_data_volume  SocialMedia_total_data_volume  \\\n",
              "0              180558843.0                      1570185.0   \n",
              "1              541959383.0                      1933278.0   \n",
              "2              414908351.0                      1726277.0   \n",
              "3              761837216.0                       657493.0   \n",
              "4              564619822.0                       912788.0   \n",
              "\n",
              "   All_total_data_volume  \n",
              "0            345629377.0  \n",
              "1            707185356.0  \n",
              "2            307690973.0  \n",
              "3            889352748.0  \n",
              "4            607681403.0  "
            ]
          },
          "metadata": {
            "tags": []
          },
          "execution_count": 60
        }
      ]
    },
    {
      "cell_type": "markdown",
      "metadata": {
        "id": "MJZgQVvYD6HR"
      },
      "source": [
        "\n",
        "df_clean.tail(10)\n",
        "see the last 10 records of the data: it looks like this data was collected in a month bold text italicized text"
      ]
    },
    {
      "cell_type": "code",
      "metadata": {
        "colab": {
          "base_uri": "https://localhost:8080/"
        },
        "id": "z3wjLmmP0xnU",
        "outputId": "890f1c69-fb1a-4e54-cc6b-57e1a25e402e"
      },
      "source": [
        "df_clean[\"Handset Type\"].value_counts().head(10)"
      ],
      "execution_count": 21,
      "outputs": [
        {
          "output_type": "execute_result",
          "data": {
            "text/plain": [
              "Huawei B528S-23A                20324\n",
              "Apple iPhone 6S (A1688)          9419\n",
              "Apple iPhone 6 (A1586)           9023\n",
              "undefined                        8987\n",
              "Apple iPhone 7 (A1778)           6326\n",
              "Apple iPhone Se (A1723)          5187\n",
              "Apple iPhone 8 (A1905)           4993\n",
              "Apple iPhone Xr (A2105)          4568\n",
              "Samsung Galaxy S8 (Sm-G950F)     4520\n",
              "Apple iPhone X (A1901)           3813\n",
              "Name: Handset Type, dtype: int64"
            ]
          },
          "metadata": {
            "tags": []
          },
          "execution_count": 21
        }
      ]
    },
    {
      "cell_type": "code",
      "metadata": {
        "colab": {
          "base_uri": "https://localhost:8080/"
        },
        "id": "Q667ZoAk0_Fb",
        "outputId": "484ce1d6-fcdf-4024-ddae-d720d49e982d"
      },
      "source": [
        "df_clean[\"Handset Manufacturer\"].value_counts().head(3)"
      ],
      "execution_count": 22,
      "outputs": [
        {
          "output_type": "execute_result",
          "data": {
            "text/plain": [
              "Apple      60137\n",
              "Samsung    40839\n",
              "Huawei     34423\n",
              "Name: Handset Manufacturer, dtype: int64"
            ]
          },
          "metadata": {
            "tags": []
          },
          "execution_count": 22
        }
      ]
    },
    {
      "cell_type": "code",
      "metadata": {
        "id": "bEmIzfhF0_Lc"
      },
      "source": [
        ""
      ],
      "execution_count": 22,
      "outputs": []
    },
    {
      "cell_type": "code",
      "metadata": {
        "colab": {
          "base_uri": "https://localhost:8080/"
        },
        "id": "kSlaex_42Slb",
        "outputId": "45d451f3-7e02-496b-f2fb-e7a122694c51"
      },
      "source": [
        "apple_handsets = df_clean[df_clean[\"Handset Manufacturer\"] == \"Apple\"]\n",
        "apple_handsets[\"Handset Type\"].value_counts().head(5)"
      ],
      "execution_count": 23,
      "outputs": [
        {
          "output_type": "execute_result",
          "data": {
            "text/plain": [
              "Apple iPhone 6S (A1688)    9419\n",
              "Apple iPhone 6 (A1586)     9023\n",
              "Apple iPhone 7 (A1778)     6326\n",
              "Apple iPhone Se (A1723)    5187\n",
              "Apple iPhone 8 (A1905)     4993\n",
              "Name: Handset Type, dtype: int64"
            ]
          },
          "metadata": {
            "tags": []
          },
          "execution_count": 23
        }
      ]
    },
    {
      "cell_type": "code",
      "metadata": {
        "colab": {
          "base_uri": "https://localhost:8080/"
        },
        "id": "W2iLyEuX2gL0",
        "outputId": "1c59722a-d7ba-49ac-8b46-4c71e38d2460"
      },
      "source": [
        "Samsung_handsets = df_clean[df_clean[\"Handset Manufacturer\"] == \"Samsung\"]\n",
        "Samsung_handsets[\"Handset Type\"].value_counts().head(5)"
      ],
      "execution_count": 24,
      "outputs": [
        {
          "output_type": "execute_result",
          "data": {
            "text/plain": [
              "Samsung Galaxy S8 (Sm-G950F)    4520\n",
              "Samsung Galaxy A5 Sm-A520F      3724\n",
              "Samsung Galaxy J5 (Sm-J530)     3696\n",
              "Samsung Galaxy J3 (Sm-J330)     3484\n",
              "Samsung Galaxy S7 (Sm-G930X)    3199\n",
              "Name: Handset Type, dtype: int64"
            ]
          },
          "metadata": {
            "tags": []
          },
          "execution_count": 24
        }
      ]
    },
    {
      "cell_type": "code",
      "metadata": {
        "colab": {
          "base_uri": "https://localhost:8080/"
        },
        "id": "c2ktxPMt2gNi",
        "outputId": "6a393c50-32a2-40c6-b171-d6ffa30e8ddb"
      },
      "source": [
        "huawei_handsets = df_clean[df_clean[\"Handset Manufacturer\"] == \"Huawei\"]\n",
        "huawei_handsets[\"Handset Type\"].value_counts().head(5)"
      ],
      "execution_count": 25,
      "outputs": [
        {
          "output_type": "execute_result",
          "data": {
            "text/plain": [
              "Huawei B528S-23A                  19752\n",
              "Huawei E5180                       2079\n",
              "Huawei P20 Lite Huawei Nova 3E     2021\n",
              "Huawei P20                         1480\n",
              "Huawei Y6 2018                      997\n",
              "Name: Handset Type, dtype: int64"
            ]
          },
          "metadata": {
            "tags": []
          },
          "execution_count": 25
        }
      ]
    },
    {
      "cell_type": "markdown",
      "metadata": {
        "id": "YY3x_AEB3KYT"
      },
      "source": [
        "** Apple, Samsung and Huawei.** are the top handset manufectures for this service provider"
      ]
    },
    {
      "cell_type": "code",
      "metadata": {
        "colab": {
          "base_uri": "https://localhost:8080/",
          "height": 450
        },
        "id": "Z-K8Aa802gR9",
        "outputId": "e793bf3a-f490-42c9-ba69-e68da2231aa0"
      },
      "source": [
        "\n",
        "data_usage = df_clean[[\"MSISDN/Number\",\"Dur. (ms).1\", \"Total DL (Bytes)\", \"Total UL (Bytes)\"]]\n",
        "data_usage.groupby([\"MSISDN/Number\"]).agg('sum')"
      ],
      "execution_count": 26,
      "outputs": [
        {
          "output_type": "execute_result",
          "data": {
            "text/html": [
              "<div>\n",
              "<style scoped>\n",
              "    .dataframe tbody tr th:only-of-type {\n",
              "        vertical-align: middle;\n",
              "    }\n",
              "\n",
              "    .dataframe tbody tr th {\n",
              "        vertical-align: top;\n",
              "    }\n",
              "\n",
              "    .dataframe thead th {\n",
              "        text-align: right;\n",
              "    }\n",
              "</style>\n",
              "<table border=\"1\" class=\"dataframe\">\n",
              "  <thead>\n",
              "    <tr style=\"text-align: right;\">\n",
              "      <th></th>\n",
              "      <th>Dur. (ms).1</th>\n",
              "      <th>Total DL (Bytes)</th>\n",
              "      <th>Total UL (Bytes)</th>\n",
              "    </tr>\n",
              "    <tr>\n",
              "      <th>MSISDN/Number</th>\n",
              "      <th></th>\n",
              "      <th></th>\n",
              "      <th></th>\n",
              "    </tr>\n",
              "  </thead>\n",
              "  <tbody>\n",
              "    <tr>\n",
              "      <th>3.360100e+10</th>\n",
              "      <td>116720140.0</td>\n",
              "      <td>8.426375e+08</td>\n",
              "      <td>36053108.0</td>\n",
              "    </tr>\n",
              "    <tr>\n",
              "      <th>3.360100e+10</th>\n",
              "      <td>181230963.0</td>\n",
              "      <td>1.207552e+08</td>\n",
              "      <td>36104459.0</td>\n",
              "    </tr>\n",
              "    <tr>\n",
              "      <th>3.360100e+10</th>\n",
              "      <td>134969374.0</td>\n",
              "      <td>5.566597e+08</td>\n",
              "      <td>39306820.0</td>\n",
              "    </tr>\n",
              "    <tr>\n",
              "      <th>3.360101e+10</th>\n",
              "      <td>49878024.0</td>\n",
              "      <td>4.019932e+08</td>\n",
              "      <td>20327526.0</td>\n",
              "    </tr>\n",
              "    <tr>\n",
              "      <th>3.360101e+10</th>\n",
              "      <td>37104453.0</td>\n",
              "      <td>1.363130e+09</td>\n",
              "      <td>94280527.0</td>\n",
              "    </tr>\n",
              "    <tr>\n",
              "      <th>...</th>\n",
              "      <td>...</td>\n",
              "      <td>...</td>\n",
              "      <td>...</td>\n",
              "    </tr>\n",
              "    <tr>\n",
              "      <th>3.379000e+10</th>\n",
              "      <td>8810688.0</td>\n",
              "      <td>6.879252e+08</td>\n",
              "      <td>26716429.0</td>\n",
              "    </tr>\n",
              "    <tr>\n",
              "      <th>3.379000e+10</th>\n",
              "      <td>140988659.0</td>\n",
              "      <td>4.445751e+08</td>\n",
              "      <td>35732243.0</td>\n",
              "    </tr>\n",
              "    <tr>\n",
              "      <th>3.197020e+12</th>\n",
              "      <td>877385325.0</td>\n",
              "      <td>1.948281e+08</td>\n",
              "      <td>37295915.0</td>\n",
              "    </tr>\n",
              "    <tr>\n",
              "      <th>3.370000e+14</th>\n",
              "      <td>253030201.0</td>\n",
              "      <td>5.396350e+08</td>\n",
              "      <td>56652839.0</td>\n",
              "    </tr>\n",
              "    <tr>\n",
              "      <th>8.823970e+14</th>\n",
              "      <td>869844200.0</td>\n",
              "      <td>7.869760e+07</td>\n",
              "      <td>60456049.0</td>\n",
              "    </tr>\n",
              "  </tbody>\n",
              "</table>\n",
              "<p>106856 rows × 3 columns</p>\n",
              "</div>"
            ],
            "text/plain": [
              "               Dur. (ms).1  Total DL (Bytes)  Total UL (Bytes)\n",
              "MSISDN/Number                                                 \n",
              "3.360100e+10   116720140.0      8.426375e+08        36053108.0\n",
              "3.360100e+10   181230963.0      1.207552e+08        36104459.0\n",
              "3.360100e+10   134969374.0      5.566597e+08        39306820.0\n",
              "3.360101e+10    49878024.0      4.019932e+08        20327526.0\n",
              "3.360101e+10    37104453.0      1.363130e+09        94280527.0\n",
              "...                    ...               ...               ...\n",
              "3.379000e+10     8810688.0      6.879252e+08        26716429.0\n",
              "3.379000e+10   140988659.0      4.445751e+08        35732243.0\n",
              "3.197020e+12   877385325.0      1.948281e+08        37295915.0\n",
              "3.370000e+14   253030201.0      5.396350e+08        56652839.0\n",
              "8.823970e+14   869844200.0      7.869760e+07        60456049.0\n",
              "\n",
              "[106856 rows x 3 columns]"
            ]
          },
          "metadata": {
            "tags": []
          },
          "execution_count": 26
        }
      ]
    },
    {
      "cell_type": "code",
      "metadata": {
        "id": "o6FZrE-l2gmd"
      },
      "source": [
        ""
      ],
      "execution_count": 26,
      "outputs": []
    },
    {
      "cell_type": "code",
      "metadata": {
        "colab": {
          "base_uri": "https://localhost:8080/",
          "height": 390
        },
        "id": "uqjAolSUjTqA",
        "outputId": "0764f857-e0a9-4336-8997-fbcce9ab511e"
      },
      "source": [
        "# task 1.1 A\n",
        "df_clean.groupby('MSISDN/Number').agg({'Bearer Id': 'count'}).head(10)"
      ],
      "execution_count": 27,
      "outputs": [
        {
          "output_type": "execute_result",
          "data": {
            "text/html": [
              "<div>\n",
              "<style scoped>\n",
              "    .dataframe tbody tr th:only-of-type {\n",
              "        vertical-align: middle;\n",
              "    }\n",
              "\n",
              "    .dataframe tbody tr th {\n",
              "        vertical-align: top;\n",
              "    }\n",
              "\n",
              "    .dataframe thead th {\n",
              "        text-align: right;\n",
              "    }\n",
              "</style>\n",
              "<table border=\"1\" class=\"dataframe\">\n",
              "  <thead>\n",
              "    <tr style=\"text-align: right;\">\n",
              "      <th></th>\n",
              "      <th>Bearer Id</th>\n",
              "    </tr>\n",
              "    <tr>\n",
              "      <th>MSISDN/Number</th>\n",
              "      <th></th>\n",
              "    </tr>\n",
              "  </thead>\n",
              "  <tbody>\n",
              "    <tr>\n",
              "      <th>3.360100e+10</th>\n",
              "      <td>1</td>\n",
              "    </tr>\n",
              "    <tr>\n",
              "      <th>3.360100e+10</th>\n",
              "      <td>1</td>\n",
              "    </tr>\n",
              "    <tr>\n",
              "      <th>3.360100e+10</th>\n",
              "      <td>1</td>\n",
              "    </tr>\n",
              "    <tr>\n",
              "      <th>3.360101e+10</th>\n",
              "      <td>1</td>\n",
              "    </tr>\n",
              "    <tr>\n",
              "      <th>3.360101e+10</th>\n",
              "      <td>2</td>\n",
              "    </tr>\n",
              "    <tr>\n",
              "      <th>3.360101e+10</th>\n",
              "      <td>2</td>\n",
              "    </tr>\n",
              "    <tr>\n",
              "      <th>3.360101e+10</th>\n",
              "      <td>2</td>\n",
              "    </tr>\n",
              "    <tr>\n",
              "      <th>3.360101e+10</th>\n",
              "      <td>1</td>\n",
              "    </tr>\n",
              "    <tr>\n",
              "      <th>3.360101e+10</th>\n",
              "      <td>2</td>\n",
              "    </tr>\n",
              "    <tr>\n",
              "      <th>3.360102e+10</th>\n",
              "      <td>1</td>\n",
              "    </tr>\n",
              "  </tbody>\n",
              "</table>\n",
              "</div>"
            ],
            "text/plain": [
              "               Bearer Id\n",
              "MSISDN/Number           \n",
              "3.360100e+10           1\n",
              "3.360100e+10           1\n",
              "3.360100e+10           1\n",
              "3.360101e+10           1\n",
              "3.360101e+10           2\n",
              "3.360101e+10           2\n",
              "3.360101e+10           2\n",
              "3.360101e+10           1\n",
              "3.360101e+10           2\n",
              "3.360102e+10           1"
            ]
          },
          "metadata": {
            "tags": []
          },
          "execution_count": 27
        }
      ]
    },
    {
      "cell_type": "code",
      "metadata": {
        "colab": {
          "base_uri": "https://localhost:8080/",
          "height": 481
        },
        "id": "4xURR6xmn4IW",
        "outputId": "25b7943d-3f5f-4a79-885c-3b0df53f382c"
      },
      "source": [
        "df_clean.groupby('MSISDN/Number').agg({'Google DL (Bytes)': ['min', 'max'], 'Google UL (Bytes)': ['min', 'max'], 'Social Media UL (Bytes)': 'sum'})"
      ],
      "execution_count": 28,
      "outputs": [
        {
          "output_type": "execute_result",
          "data": {
            "text/html": [
              "<div>\n",
              "<style scoped>\n",
              "    .dataframe tbody tr th:only-of-type {\n",
              "        vertical-align: middle;\n",
              "    }\n",
              "\n",
              "    .dataframe tbody tr th {\n",
              "        vertical-align: top;\n",
              "    }\n",
              "\n",
              "    .dataframe thead tr th {\n",
              "        text-align: left;\n",
              "    }\n",
              "\n",
              "    .dataframe thead tr:last-of-type th {\n",
              "        text-align: right;\n",
              "    }\n",
              "</style>\n",
              "<table border=\"1\" class=\"dataframe\">\n",
              "  <thead>\n",
              "    <tr>\n",
              "      <th></th>\n",
              "      <th colspan=\"2\" halign=\"left\">Google DL (Bytes)</th>\n",
              "      <th colspan=\"2\" halign=\"left\">Google UL (Bytes)</th>\n",
              "      <th>Social Media UL (Bytes)</th>\n",
              "    </tr>\n",
              "    <tr>\n",
              "      <th></th>\n",
              "      <th>min</th>\n",
              "      <th>max</th>\n",
              "      <th>min</th>\n",
              "      <th>max</th>\n",
              "      <th>sum</th>\n",
              "    </tr>\n",
              "    <tr>\n",
              "      <th>MSISDN/Number</th>\n",
              "      <th></th>\n",
              "      <th></th>\n",
              "      <th></th>\n",
              "      <th></th>\n",
              "      <th></th>\n",
              "    </tr>\n",
              "  </thead>\n",
              "  <tbody>\n",
              "    <tr>\n",
              "      <th>3.360100e+10</th>\n",
              "      <td>3337123.0</td>\n",
              "      <td>3337123.0</td>\n",
              "      <td>1051882.0</td>\n",
              "      <td>1051882.0</td>\n",
              "      <td>25631.0</td>\n",
              "    </tr>\n",
              "    <tr>\n",
              "      <th>3.360100e+10</th>\n",
              "      <td>4197697.0</td>\n",
              "      <td>4197697.0</td>\n",
              "      <td>1137166.0</td>\n",
              "      <td>1137166.0</td>\n",
              "      <td>62017.0</td>\n",
              "    </tr>\n",
              "    <tr>\n",
              "      <th>3.360100e+10</th>\n",
              "      <td>3343483.0</td>\n",
              "      <td>3343483.0</td>\n",
              "      <td>99643.0</td>\n",
              "      <td>99643.0</td>\n",
              "      <td>47619.0</td>\n",
              "    </tr>\n",
              "    <tr>\n",
              "      <th>3.360101e+10</th>\n",
              "      <td>5937765.0</td>\n",
              "      <td>5937765.0</td>\n",
              "      <td>3740728.0</td>\n",
              "      <td>3740728.0</td>\n",
              "      <td>28825.0</td>\n",
              "    </tr>\n",
              "    <tr>\n",
              "      <th>3.360101e+10</th>\n",
              "      <td>6309062.0</td>\n",
              "      <td>7419606.0</td>\n",
              "      <td>2019919.0</td>\n",
              "      <td>2751029.0</td>\n",
              "      <td>51312.0</td>\n",
              "    </tr>\n",
              "    <tr>\n",
              "      <th>...</th>\n",
              "      <td>...</td>\n",
              "      <td>...</td>\n",
              "      <td>...</td>\n",
              "      <td>...</td>\n",
              "      <td>...</td>\n",
              "    </tr>\n",
              "    <tr>\n",
              "      <th>3.379000e+10</th>\n",
              "      <td>6834178.0</td>\n",
              "      <td>6834178.0</td>\n",
              "      <td>697091.0</td>\n",
              "      <td>697091.0</td>\n",
              "      <td>65863.0</td>\n",
              "    </tr>\n",
              "    <tr>\n",
              "      <th>3.379000e+10</th>\n",
              "      <td>1472406.0</td>\n",
              "      <td>1472406.0</td>\n",
              "      <td>3957299.0</td>\n",
              "      <td>3957299.0</td>\n",
              "      <td>56355.0</td>\n",
              "    </tr>\n",
              "    <tr>\n",
              "      <th>3.197020e+12</th>\n",
              "      <td>8572779.0</td>\n",
              "      <td>8572779.0</td>\n",
              "      <td>1865881.0</td>\n",
              "      <td>1865881.0</td>\n",
              "      <td>46628.0</td>\n",
              "    </tr>\n",
              "    <tr>\n",
              "      <th>3.370000e+14</th>\n",
              "      <td>8215537.0</td>\n",
              "      <td>8215537.0</td>\n",
              "      <td>1615080.0</td>\n",
              "      <td>1615080.0</td>\n",
              "      <td>25229.0</td>\n",
              "    </tr>\n",
              "    <tr>\n",
              "      <th>8.823970e+14</th>\n",
              "      <td>5985089.0</td>\n",
              "      <td>5985089.0</td>\n",
              "      <td>3233558.0</td>\n",
              "      <td>3233558.0</td>\n",
              "      <td>45943.0</td>\n",
              "    </tr>\n",
              "  </tbody>\n",
              "</table>\n",
              "<p>106856 rows × 5 columns</p>\n",
              "</div>"
            ],
            "text/plain": [
              "              Google DL (Bytes)            Google UL (Bytes)             \\\n",
              "                            min        max               min        max   \n",
              "MSISDN/Number                                                             \n",
              "3.360100e+10          3337123.0  3337123.0         1051882.0  1051882.0   \n",
              "3.360100e+10          4197697.0  4197697.0         1137166.0  1137166.0   \n",
              "3.360100e+10          3343483.0  3343483.0           99643.0    99643.0   \n",
              "3.360101e+10          5937765.0  5937765.0         3740728.0  3740728.0   \n",
              "3.360101e+10          6309062.0  7419606.0         2019919.0  2751029.0   \n",
              "...                         ...        ...               ...        ...   \n",
              "3.379000e+10          6834178.0  6834178.0          697091.0   697091.0   \n",
              "3.379000e+10          1472406.0  1472406.0         3957299.0  3957299.0   \n",
              "3.197020e+12          8572779.0  8572779.0         1865881.0  1865881.0   \n",
              "3.370000e+14          8215537.0  8215537.0         1615080.0  1615080.0   \n",
              "8.823970e+14          5985089.0  5985089.0         3233558.0  3233558.0   \n",
              "\n",
              "              Social Media UL (Bytes)  \n",
              "                                  sum  \n",
              "MSISDN/Number                          \n",
              "3.360100e+10                  25631.0  \n",
              "3.360100e+10                  62017.0  \n",
              "3.360100e+10                  47619.0  \n",
              "3.360101e+10                  28825.0  \n",
              "3.360101e+10                  51312.0  \n",
              "...                               ...  \n",
              "3.379000e+10                  65863.0  \n",
              "3.379000e+10                  56355.0  \n",
              "3.197020e+12                  46628.0  \n",
              "3.370000e+14                  25229.0  \n",
              "8.823970e+14                  45943.0  \n",
              "\n",
              "[106856 rows x 5 columns]"
            ]
          },
          "metadata": {
            "tags": []
          },
          "execution_count": 28
        }
      ]
    },
    {
      "cell_type": "code",
      "metadata": {
        "colab": {
          "base_uri": "https://localhost:8080/",
          "height": 390
        },
        "id": "vl2mq5CPotFF",
        "outputId": "50ceb910-47f9-49c8-89fd-51d770be241a"
      },
      "source": [
        "#Session duration\n",
        "df_clean.groupby('MSISDN/Number').agg({'Dur. (ms)': 'sum'}).head(10)"
      ],
      "execution_count": 29,
      "outputs": [
        {
          "output_type": "execute_result",
          "data": {
            "text/html": [
              "<div>\n",
              "<style scoped>\n",
              "    .dataframe tbody tr th:only-of-type {\n",
              "        vertical-align: middle;\n",
              "    }\n",
              "\n",
              "    .dataframe tbody tr th {\n",
              "        vertical-align: top;\n",
              "    }\n",
              "\n",
              "    .dataframe thead th {\n",
              "        text-align: right;\n",
              "    }\n",
              "</style>\n",
              "<table border=\"1\" class=\"dataframe\">\n",
              "  <thead>\n",
              "    <tr style=\"text-align: right;\">\n",
              "      <th></th>\n",
              "      <th>Dur. (ms)</th>\n",
              "    </tr>\n",
              "    <tr>\n",
              "      <th>MSISDN/Number</th>\n",
              "      <th></th>\n",
              "    </tr>\n",
              "  </thead>\n",
              "  <tbody>\n",
              "    <tr>\n",
              "      <th>3.360100e+10</th>\n",
              "      <td>116720.0</td>\n",
              "    </tr>\n",
              "    <tr>\n",
              "      <th>3.360100e+10</th>\n",
              "      <td>181230.0</td>\n",
              "    </tr>\n",
              "    <tr>\n",
              "      <th>3.360100e+10</th>\n",
              "      <td>134969.0</td>\n",
              "    </tr>\n",
              "    <tr>\n",
              "      <th>3.360101e+10</th>\n",
              "      <td>49878.0</td>\n",
              "    </tr>\n",
              "    <tr>\n",
              "      <th>3.360101e+10</th>\n",
              "      <td>37104.0</td>\n",
              "    </tr>\n",
              "    <tr>\n",
              "      <th>3.360101e+10</th>\n",
              "      <td>253983.0</td>\n",
              "    </tr>\n",
              "    <tr>\n",
              "      <th>3.360101e+10</th>\n",
              "      <td>128360.0</td>\n",
              "    </tr>\n",
              "    <tr>\n",
              "      <th>3.360101e+10</th>\n",
              "      <td>86399.0</td>\n",
              "    </tr>\n",
              "    <tr>\n",
              "      <th>3.360101e+10</th>\n",
              "      <td>495702.0</td>\n",
              "    </tr>\n",
              "    <tr>\n",
              "      <th>3.360102e+10</th>\n",
              "      <td>124854.0</td>\n",
              "    </tr>\n",
              "  </tbody>\n",
              "</table>\n",
              "</div>"
            ],
            "text/plain": [
              "               Dur. (ms)\n",
              "MSISDN/Number           \n",
              "3.360100e+10    116720.0\n",
              "3.360100e+10    181230.0\n",
              "3.360100e+10    134969.0\n",
              "3.360101e+10     49878.0\n",
              "3.360101e+10     37104.0\n",
              "3.360101e+10    253983.0\n",
              "3.360101e+10    128360.0\n",
              "3.360101e+10     86399.0\n",
              "3.360101e+10    495702.0\n",
              "3.360102e+10    124854.0"
            ]
          },
          "metadata": {
            "tags": []
          },
          "execution_count": 29
        }
      ]
    },
    {
      "cell_type": "code",
      "metadata": {
        "colab": {
          "base_uri": "https://localhost:8080/",
          "height": 390
        },
        "id": "D6X6TlGrqBSk",
        "outputId": "a8970fa6-d9ae-40c2-8611-12b4fe7d072b"
      },
      "source": [
        "#the total download (DL) and upload (UL) data\n",
        "df_clean.groupby('MSISDN/Number').agg({'Total UL (Bytes)': 'sum','Total DL (Bytes)': 'sum' }).head(10)"
      ],
      "execution_count": 30,
      "outputs": [
        {
          "output_type": "execute_result",
          "data": {
            "text/html": [
              "<div>\n",
              "<style scoped>\n",
              "    .dataframe tbody tr th:only-of-type {\n",
              "        vertical-align: middle;\n",
              "    }\n",
              "\n",
              "    .dataframe tbody tr th {\n",
              "        vertical-align: top;\n",
              "    }\n",
              "\n",
              "    .dataframe thead th {\n",
              "        text-align: right;\n",
              "    }\n",
              "</style>\n",
              "<table border=\"1\" class=\"dataframe\">\n",
              "  <thead>\n",
              "    <tr style=\"text-align: right;\">\n",
              "      <th></th>\n",
              "      <th>Total UL (Bytes)</th>\n",
              "      <th>Total DL (Bytes)</th>\n",
              "    </tr>\n",
              "    <tr>\n",
              "      <th>MSISDN/Number</th>\n",
              "      <th></th>\n",
              "      <th></th>\n",
              "    </tr>\n",
              "  </thead>\n",
              "  <tbody>\n",
              "    <tr>\n",
              "      <th>3.360100e+10</th>\n",
              "      <td>36053108.0</td>\n",
              "      <td>8.426375e+08</td>\n",
              "    </tr>\n",
              "    <tr>\n",
              "      <th>3.360100e+10</th>\n",
              "      <td>36104459.0</td>\n",
              "      <td>1.207552e+08</td>\n",
              "    </tr>\n",
              "    <tr>\n",
              "      <th>3.360100e+10</th>\n",
              "      <td>39306820.0</td>\n",
              "      <td>5.566597e+08</td>\n",
              "    </tr>\n",
              "    <tr>\n",
              "      <th>3.360101e+10</th>\n",
              "      <td>20327526.0</td>\n",
              "      <td>4.019932e+08</td>\n",
              "    </tr>\n",
              "    <tr>\n",
              "      <th>3.360101e+10</th>\n",
              "      <td>94280527.0</td>\n",
              "      <td>1.363130e+09</td>\n",
              "    </tr>\n",
              "    <tr>\n",
              "      <th>3.360101e+10</th>\n",
              "      <td>60009249.0</td>\n",
              "      <td>5.552080e+08</td>\n",
              "    </tr>\n",
              "    <tr>\n",
              "      <th>3.360101e+10</th>\n",
              "      <td>101681858.0</td>\n",
              "      <td>5.530412e+08</td>\n",
              "    </tr>\n",
              "    <tr>\n",
              "      <th>3.360101e+10</th>\n",
              "      <td>38575279.0</td>\n",
              "      <td>2.940851e+08</td>\n",
              "    </tr>\n",
              "    <tr>\n",
              "      <th>3.360101e+10</th>\n",
              "      <td>93572016.0</td>\n",
              "      <td>8.965602e+08</td>\n",
              "    </tr>\n",
              "    <tr>\n",
              "      <th>3.360102e+10</th>\n",
              "      <td>47091008.0</td>\n",
              "      <td>6.853728e+08</td>\n",
              "    </tr>\n",
              "  </tbody>\n",
              "</table>\n",
              "</div>"
            ],
            "text/plain": [
              "               Total UL (Bytes)  Total DL (Bytes)\n",
              "MSISDN/Number                                    \n",
              "3.360100e+10         36053108.0      8.426375e+08\n",
              "3.360100e+10         36104459.0      1.207552e+08\n",
              "3.360100e+10         39306820.0      5.566597e+08\n",
              "3.360101e+10         20327526.0      4.019932e+08\n",
              "3.360101e+10         94280527.0      1.363130e+09\n",
              "3.360101e+10         60009249.0      5.552080e+08\n",
              "3.360101e+10        101681858.0      5.530412e+08\n",
              "3.360101e+10         38575279.0      2.940851e+08\n",
              "3.360101e+10         93572016.0      8.965602e+08\n",
              "3.360102e+10         47091008.0      6.853728e+08"
            ]
          },
          "metadata": {
            "tags": []
          },
          "execution_count": 30
        }
      ]
    },
    {
      "cell_type": "code",
      "metadata": {
        "id": "cF_9KxIktiZS"
      },
      "source": [
        "#the total data volume (in Bytes) during this session for each application\n",
        "df_clean['Youtube_total_data_volume'] = df_clean['Youtube DL (Bytes)'] + df_clean['Youtube UL (Bytes)']\n",
        "df_clean['Google_total_data_volume'] = df_clean['Google DL (Bytes)'] + df_clean['Google UL (Bytes)']\n",
        "df_clean['Email_total_data_volume'] = df_clean['Email DL (Bytes)'] + df_clean['Email UL (Bytes)']\n",
        "\n",
        "df_clean['Netflix_total_data_volume'] = df_clean['Netflix DL (Bytes)'] + df_clean['Netflix UL (Bytes)']\n",
        "df_clean['Gaming_total_data_volume'] = df_clean['Gaming DL (Bytes)'] + df_clean['Gaming UL (Bytes)']\n",
        "df_clean['Other_total_data_volume'] = df_clean['Other DL (Bytes)'] + df_clean['Other UL (Bytes)']\n",
        "df_clean['SocialMedia_total_data_volume'] = df_clean['Social Media DL (Bytes)'] + df_clean['Social Media UL (Bytes)']\n",
        "\n",
        "df_clean['All_total_data_volume'] = df_clean['Total DL (Bytes)'] + df_clean['Total UL (Bytes)']\n"
      ],
      "execution_count": 31,
      "outputs": []
    },
    {
      "cell_type": "code",
      "metadata": {
        "colab": {
          "base_uri": "https://localhost:8080/",
          "height": 410
        },
        "id": "f29nw9ZtwAk7",
        "outputId": "5880c1ca-60f6-4707-f5b3-6b99e50c43c4"
      },
      "source": [
        "#the total data volume (in Bytes) during this session for each application\n",
        "df_clean.groupby('MSISDN/Number').agg({'Youtube_total_data_volume': 'sum','Google_total_data_volume': 'sum','Email_total_data_volume': 'sum','Netflix_total_data_volume': 'sum','Gaming_total_data_volume': 'sum','Other_total_data_volume': 'sum','SocialMedia_total_data_volume': 'sum','All_total_data_volume':'sum' }).head(10)"
      ],
      "execution_count": 32,
      "outputs": [
        {
          "output_type": "execute_result",
          "data": {
            "text/html": [
              "<div>\n",
              "<style scoped>\n",
              "    .dataframe tbody tr th:only-of-type {\n",
              "        vertical-align: middle;\n",
              "    }\n",
              "\n",
              "    .dataframe tbody tr th {\n",
              "        vertical-align: top;\n",
              "    }\n",
              "\n",
              "    .dataframe thead th {\n",
              "        text-align: right;\n",
              "    }\n",
              "</style>\n",
              "<table border=\"1\" class=\"dataframe\">\n",
              "  <thead>\n",
              "    <tr style=\"text-align: right;\">\n",
              "      <th></th>\n",
              "      <th>Youtube_total_data_volume</th>\n",
              "      <th>Google_total_data_volume</th>\n",
              "      <th>Email_total_data_volume</th>\n",
              "      <th>Netflix_total_data_volume</th>\n",
              "      <th>Gaming_total_data_volume</th>\n",
              "      <th>Other_total_data_volume</th>\n",
              "      <th>SocialMedia_total_data_volume</th>\n",
              "      <th>All_total_data_volume</th>\n",
              "    </tr>\n",
              "    <tr>\n",
              "      <th>MSISDN/Number</th>\n",
              "      <th></th>\n",
              "      <th></th>\n",
              "      <th></th>\n",
              "      <th></th>\n",
              "      <th></th>\n",
              "      <th></th>\n",
              "      <th></th>\n",
              "      <th></th>\n",
              "    </tr>\n",
              "  </thead>\n",
              "  <tbody>\n",
              "    <tr>\n",
              "      <th>3.360100e+10</th>\n",
              "      <td>21624548.0</td>\n",
              "      <td>4389005.0</td>\n",
              "      <td>1331362.0</td>\n",
              "      <td>27180981.0</td>\n",
              "      <td>8.124587e+08</td>\n",
              "      <td>3.865709e+08</td>\n",
              "      <td>2232135.0</td>\n",
              "      <td>8.786906e+08</td>\n",
              "    </tr>\n",
              "    <tr>\n",
              "      <th>3.360100e+10</th>\n",
              "      <td>12432223.0</td>\n",
              "      <td>5334863.0</td>\n",
              "      <td>3307781.0</td>\n",
              "      <td>11221763.0</td>\n",
              "      <td>1.197501e+08</td>\n",
              "      <td>2.817101e+08</td>\n",
              "      <td>2660565.0</td>\n",
              "      <td>1.568596e+08</td>\n",
              "    </tr>\n",
              "    <tr>\n",
              "      <th>3.360100e+10</th>\n",
              "      <td>21333570.0</td>\n",
              "      <td>3443126.0</td>\n",
              "      <td>3205380.0</td>\n",
              "      <td>19353900.0</td>\n",
              "      <td>5.388277e+08</td>\n",
              "      <td>5.016937e+08</td>\n",
              "      <td>3195623.0</td>\n",
              "      <td>5.959665e+08</td>\n",
              "    </tr>\n",
              "    <tr>\n",
              "      <th>3.360101e+10</th>\n",
              "      <td>6977321.0</td>\n",
              "      <td>9678493.0</td>\n",
              "      <td>2284670.0</td>\n",
              "      <td>1942092.0</td>\n",
              "      <td>3.911261e+08</td>\n",
              "      <td>3.527970e+07</td>\n",
              "      <td>280294.0</td>\n",
              "      <td>4.223207e+08</td>\n",
              "    </tr>\n",
              "    <tr>\n",
              "      <th>3.360101e+10</th>\n",
              "      <td>41533002.0</td>\n",
              "      <td>18499616.0</td>\n",
              "      <td>3305469.0</td>\n",
              "      <td>49201724.0</td>\n",
              "      <td>1.314798e+09</td>\n",
              "      <td>8.048045e+08</td>\n",
              "      <td>2912542.0</td>\n",
              "      <td>1.457411e+09</td>\n",
              "    </tr>\n",
              "    <tr>\n",
              "      <th>3.360101e+10</th>\n",
              "      <td>34347122.0</td>\n",
              "      <td>15263134.0</td>\n",
              "      <td>7848596.0</td>\n",
              "      <td>30315501.0</td>\n",
              "      <td>5.116358e+08</td>\n",
              "      <td>4.923728e+08</td>\n",
              "      <td>3792912.0</td>\n",
              "      <td>6.152172e+08</td>\n",
              "    </tr>\n",
              "    <tr>\n",
              "      <th>3.360101e+10</th>\n",
              "      <td>26431335.0</td>\n",
              "      <td>10196403.0</td>\n",
              "      <td>1358959.0</td>\n",
              "      <td>45812397.0</td>\n",
              "      <td>5.484611e+08</td>\n",
              "      <td>2.248887e+08</td>\n",
              "      <td>2769627.0</td>\n",
              "      <td>6.547231e+08</td>\n",
              "    </tr>\n",
              "    <tr>\n",
              "      <th>3.360101e+10</th>\n",
              "      <td>18892740.0</td>\n",
              "      <td>12023614.0</td>\n",
              "      <td>2215563.0</td>\n",
              "      <td>15292840.0</td>\n",
              "      <td>2.823644e+08</td>\n",
              "      <td>1.782015e+08</td>\n",
              "      <td>1782692.0</td>\n",
              "      <td>3.326604e+08</td>\n",
              "    </tr>\n",
              "    <tr>\n",
              "      <th>3.360101e+10</th>\n",
              "      <td>63443802.0</td>\n",
              "      <td>14134211.0</td>\n",
              "      <td>4599825.0</td>\n",
              "      <td>54216117.0</td>\n",
              "      <td>8.330880e+08</td>\n",
              "      <td>1.041883e+09</td>\n",
              "      <td>5288685.0</td>\n",
              "      <td>9.901322e+08</td>\n",
              "    </tr>\n",
              "    <tr>\n",
              "      <th>3.360102e+10</th>\n",
              "      <td>28569712.0</td>\n",
              "      <td>12935169.0</td>\n",
              "      <td>2783280.0</td>\n",
              "      <td>35525071.0</td>\n",
              "      <td>6.470957e+08</td>\n",
              "      <td>1.383392e+08</td>\n",
              "      <td>956775.0</td>\n",
              "      <td>7.324638e+08</td>\n",
              "    </tr>\n",
              "  </tbody>\n",
              "</table>\n",
              "</div>"
            ],
            "text/plain": [
              "               Youtube_total_data_volume  Google_total_data_volume  \\\n",
              "MSISDN/Number                                                        \n",
              "3.360100e+10                  21624548.0                 4389005.0   \n",
              "3.360100e+10                  12432223.0                 5334863.0   \n",
              "3.360100e+10                  21333570.0                 3443126.0   \n",
              "3.360101e+10                   6977321.0                 9678493.0   \n",
              "3.360101e+10                  41533002.0                18499616.0   \n",
              "3.360101e+10                  34347122.0                15263134.0   \n",
              "3.360101e+10                  26431335.0                10196403.0   \n",
              "3.360101e+10                  18892740.0                12023614.0   \n",
              "3.360101e+10                  63443802.0                14134211.0   \n",
              "3.360102e+10                  28569712.0                12935169.0   \n",
              "\n",
              "               Email_total_data_volume  Netflix_total_data_volume  \\\n",
              "MSISDN/Number                                                       \n",
              "3.360100e+10                 1331362.0                 27180981.0   \n",
              "3.360100e+10                 3307781.0                 11221763.0   \n",
              "3.360100e+10                 3205380.0                 19353900.0   \n",
              "3.360101e+10                 2284670.0                  1942092.0   \n",
              "3.360101e+10                 3305469.0                 49201724.0   \n",
              "3.360101e+10                 7848596.0                 30315501.0   \n",
              "3.360101e+10                 1358959.0                 45812397.0   \n",
              "3.360101e+10                 2215563.0                 15292840.0   \n",
              "3.360101e+10                 4599825.0                 54216117.0   \n",
              "3.360102e+10                 2783280.0                 35525071.0   \n",
              "\n",
              "               Gaming_total_data_volume  Other_total_data_volume  \\\n",
              "MSISDN/Number                                                      \n",
              "3.360100e+10               8.124587e+08             3.865709e+08   \n",
              "3.360100e+10               1.197501e+08             2.817101e+08   \n",
              "3.360100e+10               5.388277e+08             5.016937e+08   \n",
              "3.360101e+10               3.911261e+08             3.527970e+07   \n",
              "3.360101e+10               1.314798e+09             8.048045e+08   \n",
              "3.360101e+10               5.116358e+08             4.923728e+08   \n",
              "3.360101e+10               5.484611e+08             2.248887e+08   \n",
              "3.360101e+10               2.823644e+08             1.782015e+08   \n",
              "3.360101e+10               8.330880e+08             1.041883e+09   \n",
              "3.360102e+10               6.470957e+08             1.383392e+08   \n",
              "\n",
              "               SocialMedia_total_data_volume  All_total_data_volume  \n",
              "MSISDN/Number                                                        \n",
              "3.360100e+10                       2232135.0           8.786906e+08  \n",
              "3.360100e+10                       2660565.0           1.568596e+08  \n",
              "3.360100e+10                       3195623.0           5.959665e+08  \n",
              "3.360101e+10                        280294.0           4.223207e+08  \n",
              "3.360101e+10                       2912542.0           1.457411e+09  \n",
              "3.360101e+10                       3792912.0           6.152172e+08  \n",
              "3.360101e+10                       2769627.0           6.547231e+08  \n",
              "3.360101e+10                       1782692.0           3.326604e+08  \n",
              "3.360101e+10                       5288685.0           9.901322e+08  \n",
              "3.360102e+10                        956775.0           7.324638e+08  "
            ]
          },
          "metadata": {
            "tags": []
          },
          "execution_count": 32
        }
      ]
    },
    {
      "cell_type": "code",
      "metadata": {
        "colab": {
          "base_uri": "https://localhost:8080/",
          "height": 334
        },
        "id": "_tqQyx9H5lT2",
        "outputId": "a4213dcb-338d-466d-e586-17160b950b1c"
      },
      "source": [
        "df_clean[[\"Dur. (ms).1\", \"Total DL (Bytes)\",\"Total UL (Bytes)\", \"SocialMedia_total_data_volume\", \"Google_total_data_volume\", \"Email_total_data_volume\", \"Youtube_total_data_volume\", \"Netflix_total_data_volume\", \"Gaming_total_data_volume\", \"Total DL (Bytes)\", \"Total UL (Bytes)\"]].describe()"
      ],
      "execution_count": 33,
      "outputs": [
        {
          "output_type": "execute_result",
          "data": {
            "text/html": [
              "<div>\n",
              "<style scoped>\n",
              "    .dataframe tbody tr th:only-of-type {\n",
              "        vertical-align: middle;\n",
              "    }\n",
              "\n",
              "    .dataframe tbody tr th {\n",
              "        vertical-align: top;\n",
              "    }\n",
              "\n",
              "    .dataframe thead th {\n",
              "        text-align: right;\n",
              "    }\n",
              "</style>\n",
              "<table border=\"1\" class=\"dataframe\">\n",
              "  <thead>\n",
              "    <tr style=\"text-align: right;\">\n",
              "      <th></th>\n",
              "      <th>Dur. (ms).1</th>\n",
              "      <th>Total DL (Bytes)</th>\n",
              "      <th>Total UL (Bytes)</th>\n",
              "      <th>SocialMedia_total_data_volume</th>\n",
              "      <th>Google_total_data_volume</th>\n",
              "      <th>Email_total_data_volume</th>\n",
              "      <th>Youtube_total_data_volume</th>\n",
              "      <th>Netflix_total_data_volume</th>\n",
              "      <th>Gaming_total_data_volume</th>\n",
              "      <th>Total DL (Bytes)</th>\n",
              "      <th>Total UL (Bytes)</th>\n",
              "    </tr>\n",
              "  </thead>\n",
              "  <tbody>\n",
              "    <tr>\n",
              "      <th>count</th>\n",
              "      <td>1.500010e+05</td>\n",
              "      <td>1.500010e+05</td>\n",
              "      <td>1.500010e+05</td>\n",
              "      <td>1.500010e+05</td>\n",
              "      <td>1.500010e+05</td>\n",
              "      <td>1.500010e+05</td>\n",
              "      <td>1.500010e+05</td>\n",
              "      <td>1.500010e+05</td>\n",
              "      <td>1.500010e+05</td>\n",
              "      <td>1.500010e+05</td>\n",
              "      <td>1.500010e+05</td>\n",
              "    </tr>\n",
              "    <tr>\n",
              "      <th>mean</th>\n",
              "      <td>1.046090e+08</td>\n",
              "      <td>4.546409e+08</td>\n",
              "      <td>4.112106e+07</td>\n",
              "      <td>1.828250e+06</td>\n",
              "      <td>7.807295e+06</td>\n",
              "      <td>2.259102e+06</td>\n",
              "      <td>2.264348e+07</td>\n",
              "      <td>2.262861e+07</td>\n",
              "      <td>4.303331e+08</td>\n",
              "      <td>4.546409e+08</td>\n",
              "      <td>4.112106e+07</td>\n",
              "    </tr>\n",
              "    <tr>\n",
              "      <th>std</th>\n",
              "      <td>8.103736e+07</td>\n",
              "      <td>2.441440e+08</td>\n",
              "      <td>1.127649e+07</td>\n",
              "      <td>1.035646e+06</td>\n",
              "      <td>3.516420e+06</td>\n",
              "      <td>1.071109e+06</td>\n",
              "      <td>9.246800e+06</td>\n",
              "      <td>9.260820e+06</td>\n",
              "      <td>2.440199e+08</td>\n",
              "      <td>2.441440e+08</td>\n",
              "      <td>1.127649e+07</td>\n",
              "    </tr>\n",
              "    <tr>\n",
              "      <th>min</th>\n",
              "      <td>7.142988e+06</td>\n",
              "      <td>7.114041e+06</td>\n",
              "      <td>2.866892e+06</td>\n",
              "      <td>1.563000e+03</td>\n",
              "      <td>4.033000e+04</td>\n",
              "      <td>8.359000e+03</td>\n",
              "      <td>7.890300e+04</td>\n",
              "      <td>9.843200e+04</td>\n",
              "      <td>3.063580e+05</td>\n",
              "      <td>7.114041e+06</td>\n",
              "      <td>2.866892e+06</td>\n",
              "    </tr>\n",
              "    <tr>\n",
              "      <th>25%</th>\n",
              "      <td>5.744206e+07</td>\n",
              "      <td>2.431057e+08</td>\n",
              "      <td>3.322196e+07</td>\n",
              "      <td>9.322180e+05</td>\n",
              "      <td>4.943599e+06</td>\n",
              "      <td>1.359344e+06</td>\n",
              "      <td>1.599846e+07</td>\n",
              "      <td>1.597946e+07</td>\n",
              "      <td>2.187279e+08</td>\n",
              "      <td>2.431057e+08</td>\n",
              "      <td>3.322196e+07</td>\n",
              "    </tr>\n",
              "    <tr>\n",
              "      <th>50%</th>\n",
              "      <td>8.639998e+07</td>\n",
              "      <td>4.558409e+08</td>\n",
              "      <td>4.114324e+07</td>\n",
              "      <td>1.826471e+06</td>\n",
              "      <td>7.812835e+06</td>\n",
              "      <td>2.263567e+06</td>\n",
              "      <td>2.266177e+07</td>\n",
              "      <td>2.263554e+07</td>\n",
              "      <td>4.316150e+08</td>\n",
              "      <td>4.558409e+08</td>\n",
              "      <td>4.114324e+07</td>\n",
              "    </tr>\n",
              "    <tr>\n",
              "      <th>75%</th>\n",
              "      <td>1.324307e+08</td>\n",
              "      <td>6.657051e+08</td>\n",
              "      <td>4.903424e+07</td>\n",
              "      <td>2.727487e+06</td>\n",
              "      <td>1.068280e+07</td>\n",
              "      <td>3.159818e+06</td>\n",
              "      <td>2.929260e+07</td>\n",
              "      <td>2.929044e+07</td>\n",
              "      <td>6.414159e+08</td>\n",
              "      <td>6.657051e+08</td>\n",
              "      <td>4.903424e+07</td>\n",
              "    </tr>\n",
              "    <tr>\n",
              "      <th>max</th>\n",
              "      <td>1.859336e+09</td>\n",
              "      <td>9.029696e+08</td>\n",
              "      <td>7.833131e+07</td>\n",
              "      <td>3.650861e+06</td>\n",
              "      <td>1.552878e+07</td>\n",
              "      <td>4.518036e+06</td>\n",
              "      <td>4.519008e+07</td>\n",
              "      <td>4.519815e+07</td>\n",
              "      <td>8.592028e+08</td>\n",
              "      <td>9.029696e+08</td>\n",
              "      <td>7.833131e+07</td>\n",
              "    </tr>\n",
              "  </tbody>\n",
              "</table>\n",
              "</div>"
            ],
            "text/plain": [
              "        Dur. (ms).1  Total DL (Bytes)  Total UL (Bytes)  \\\n",
              "count  1.500010e+05      1.500010e+05      1.500010e+05   \n",
              "mean   1.046090e+08      4.546409e+08      4.112106e+07   \n",
              "std    8.103736e+07      2.441440e+08      1.127649e+07   \n",
              "min    7.142988e+06      7.114041e+06      2.866892e+06   \n",
              "25%    5.744206e+07      2.431057e+08      3.322196e+07   \n",
              "50%    8.639998e+07      4.558409e+08      4.114324e+07   \n",
              "75%    1.324307e+08      6.657051e+08      4.903424e+07   \n",
              "max    1.859336e+09      9.029696e+08      7.833131e+07   \n",
              "\n",
              "       SocialMedia_total_data_volume  Google_total_data_volume  \\\n",
              "count                   1.500010e+05              1.500010e+05   \n",
              "mean                    1.828250e+06              7.807295e+06   \n",
              "std                     1.035646e+06              3.516420e+06   \n",
              "min                     1.563000e+03              4.033000e+04   \n",
              "25%                     9.322180e+05              4.943599e+06   \n",
              "50%                     1.826471e+06              7.812835e+06   \n",
              "75%                     2.727487e+06              1.068280e+07   \n",
              "max                     3.650861e+06              1.552878e+07   \n",
              "\n",
              "       Email_total_data_volume  Youtube_total_data_volume  \\\n",
              "count             1.500010e+05               1.500010e+05   \n",
              "mean              2.259102e+06               2.264348e+07   \n",
              "std               1.071109e+06               9.246800e+06   \n",
              "min               8.359000e+03               7.890300e+04   \n",
              "25%               1.359344e+06               1.599846e+07   \n",
              "50%               2.263567e+06               2.266177e+07   \n",
              "75%               3.159818e+06               2.929260e+07   \n",
              "max               4.518036e+06               4.519008e+07   \n",
              "\n",
              "       Netflix_total_data_volume  Gaming_total_data_volume  Total DL (Bytes)  \\\n",
              "count               1.500010e+05              1.500010e+05      1.500010e+05   \n",
              "mean                2.262861e+07              4.303331e+08      4.546409e+08   \n",
              "std                 9.260820e+06              2.440199e+08      2.441440e+08   \n",
              "min                 9.843200e+04              3.063580e+05      7.114041e+06   \n",
              "25%                 1.597946e+07              2.187279e+08      2.431057e+08   \n",
              "50%                 2.263554e+07              4.316150e+08      4.558409e+08   \n",
              "75%                 2.929044e+07              6.414159e+08      6.657051e+08   \n",
              "max                 4.519815e+07              8.592028e+08      9.029696e+08   \n",
              "\n",
              "       Total UL (Bytes)  \n",
              "count      1.500010e+05  \n",
              "mean       4.112106e+07  \n",
              "std        1.127649e+07  \n",
              "min        2.866892e+06  \n",
              "25%        3.322196e+07  \n",
              "50%        4.114324e+07  \n",
              "75%        4.903424e+07  \n",
              "max        7.833131e+07  "
            ]
          },
          "metadata": {
            "tags": []
          },
          "execution_count": 33
        }
      ]
    },
    {
      "cell_type": "code",
      "metadata": {
        "id": "R8Du5Gjl-_Oy"
      },
      "source": [
        "#df_clean.skew\n",
        "#it shows the skewnes of each data .. but since we have 45 column I see no significance of showing it here"
      ],
      "execution_count": 34,
      "outputs": []
    },
    {
      "cell_type": "code",
      "metadata": {
        "id": "3F2Cry1H6cF8"
      },
      "source": [
        "from sklearn.preprocessing import Normalizer, MinMaxScaler\n",
        "import seaborn as sns\n",
        "import matplotlib.pyplot as plt"
      ],
      "execution_count": 35,
      "outputs": []
    },
    {
      "cell_type": "code",
      "metadata": {
        "colab": {
          "base_uri": "https://localhost:8080/",
          "height": 293
        },
        "id": "rrz2Bx4i6cV9",
        "outputId": "f0ceed94-a9a2-47b4-8a5f-4276fe4678a8"
      },
      "source": [
        "df_clean.boxplot(column=['Dur. (ms).1', \"Total DL (Bytes)\",\"Total UL (Bytes)\"])"
      ],
      "execution_count": 36,
      "outputs": [
        {
          "output_type": "execute_result",
          "data": {
            "text/plain": [
              "<matplotlib.axes._subplots.AxesSubplot at 0x7fb18a56e490>"
            ]
          },
          "metadata": {
            "tags": []
          },
          "execution_count": 36
        },
        {
          "output_type": "display_data",
          "data": {
            "image/png": "[encoded data removed]",
            "text/plain": [
              "<Figure size 432x288 with 1 Axes>"
            ]
          },
          "metadata": {
            "tags": [],
            "needs_background": "light"
          }
        }
      ]
    },
    {
      "cell_type": "code",
      "metadata": {
        "id": "qt0nfkjT5vH0",
        "colab": {
          "base_uri": "https://localhost:8080/",
          "height": 311
        },
        "outputId": "b52c1ac4-d3c3-48cf-eeca-3785a9dfaad0"
      },
      "source": [
        "df_clean[\"Dur. (ms).1\"].hist(bins = 150)\n",
        "plt.title(\"Duration Histogram\")"
      ],
      "execution_count": 104,
      "outputs": [
        {
          "output_type": "execute_result",
          "data": {
            "text/plain": [
              "Text(0.5, 1.0, 'Duration Histogram')"
            ]
          },
          "metadata": {
            "tags": []
          },
          "execution_count": 104
        },
        {
          "output_type": "display_data",
          "data": {
            "image/png": "[encoded data removed]",
            "text/plain": [
              "<Figure size 432x288 with 1 Axes>"
            ]
          },
          "metadata": {
            "tags": [],
            "needs_background": "light"
          }
        }
      ]
    },
    {
      "cell_type": "code",
      "metadata": {
        "colab": {
          "base_uri": "https://localhost:8080/",
          "height": 311
        },
        "id": "mZJwLVRa6rJC",
        "outputId": "7ed1f6cd-68e8-4cd7-b2c0-33ca6f14df2c"
      },
      "source": [
        "df_clean[\"Total DL (Bytes)\"].hist(bins = 500)\n",
        "plt.title(\"Total Download Histogram\")"
      ],
      "execution_count": 100,
      "outputs": [
        {
          "output_type": "execute_result",
          "data": {
            "text/plain": [
              "Text(0.5, 1.0, 'Total Download Histogram')"
            ]
          },
          "metadata": {
            "tags": []
          },
          "execution_count": 100
        },
        {
          "output_type": "display_data",
          "data": {
            "image/png": "[encoded data removed]",
            "text/plain": [
              "<Figure size 432x288 with 1 Axes>"
            ]
          },
          "metadata": {
            "tags": [],
            "needs_background": "light"
          }
        }
      ]
    },
    {
      "cell_type": "code",
      "metadata": {
        "colab": {
          "base_uri": "https://localhost:8080/",
          "height": 311
        },
        "id": "PgUakCj46rK7",
        "outputId": "74e4d9dd-c685-454c-f2c1-bb1206126cd7"
      },
      "source": [
        "df_clean[\"Total UL (Bytes)\"].hist(bins = 50)\n",
        "plt.title(\"Total Upload Histogram\")"
      ],
      "execution_count": 39,
      "outputs": [
        {
          "output_type": "execute_result",
          "data": {
            "text/plain": [
              "Text(0.5, 1.0, 'Total Upload Histogram')"
            ]
          },
          "metadata": {
            "tags": []
          },
          "execution_count": 39
        },
        {
          "output_type": "display_data",
          "data": {
            "image/png": "[encoded data removed]",
            "text/plain": [
              "<Figure size 432x288 with 1 Axes>"
            ]
          },
          "metadata": {
            "tags": [],
            "needs_background": "light"
          }
        }
      ]
    },
    {
      "cell_type": "code",
      "metadata": {
        "colab": {
          "base_uri": "https://localhost:8080/",
          "height": 311
        },
        "id": "ynEWlJV-7IU8",
        "outputId": "13281fea-9fbe-4f75-9ff0-81ec7c220814"
      },
      "source": [
        "df_clean[\"SocialMedia_total_data_volume\"].hist(bins = 500)\n",
        "plt.title(\"Total Social Media Data Histogram\")"
      ],
      "execution_count": 99,
      "outputs": [
        {
          "output_type": "execute_result",
          "data": {
            "text/plain": [
              "Text(0.5, 1.0, 'Total Social Media Data Histogram')"
            ]
          },
          "metadata": {
            "tags": []
          },
          "execution_count": 99
        },
        {
          "output_type": "display_data",
          "data": {
            "image/png": "[encoded data removed]",
            "text/plain": [
              "<Figure size 432x288 with 1 Axes>"
            ]
          },
          "metadata": {
            "tags": [],
            "needs_background": "light"
          }
        }
      ]
    },
    {
      "cell_type": "code",
      "metadata": {
        "colab": {
          "base_uri": "https://localhost:8080/",
          "height": 311
        },
        "id": "Hn_g6ZqK7Vzl",
        "outputId": "f37815cb-1ba7-42d9-8b66-0a210e630ca7"
      },
      "source": [
        "df_clean[\"Google_total_data_volume\"].hist(bins = 50)\n",
        "plt.title(\"Total Google Data Histogram\")"
      ],
      "execution_count": 41,
      "outputs": [
        {
          "output_type": "execute_result",
          "data": {
            "text/plain": [
              "Text(0.5, 1.0, 'Total Google Data Histogram')"
            ]
          },
          "metadata": {
            "tags": []
          },
          "execution_count": 41
        },
        {
          "output_type": "display_data",
          "data": {
            "image/png": "[encoded data removed]",
            "text/plain": [
              "<Figure size 432x288 with 1 Axes>"
            ]
          },
          "metadata": {
            "tags": [],
            "needs_background": "light"
          }
        }
      ]
    },
    {
      "cell_type": "code",
      "metadata": {
        "colab": {
          "base_uri": "https://localhost:8080/",
          "height": 311
        },
        "id": "M5Pof6DR7V1G",
        "outputId": "4ce0ef03-5529-4e0c-c187-3454f894b4da"
      },
      "source": [
        "df_clean[\"Email_total_data_volume\"].hist(bins = 60)\n",
        "plt.title(\"Total Email Data Histogram\")"
      ],
      "execution_count": 98,
      "outputs": [
        {
          "output_type": "execute_result",
          "data": {
            "text/plain": [
              "Text(0.5, 1.0, 'Total Email Data Histogram')"
            ]
          },
          "metadata": {
            "tags": []
          },
          "execution_count": 98
        },
        {
          "output_type": "display_data",
          "data": {
            "image/png": "[encoded data removed]",
            "text/plain": [
              "<Figure size 432x288 with 1 Axes>"
            ]
          },
          "metadata": {
            "tags": [],
            "needs_background": "light"
          }
        }
      ]
    },
    {
      "cell_type": "code",
      "metadata": {
        "colab": {
          "base_uri": "https://localhost:8080/",
          "height": 311
        },
        "id": "OVhyPI857Ipm",
        "outputId": "9c6c61b4-c9e6-4762-b44c-ab52f4787bb7"
      },
      "source": [
        "df_clean[\"Youtube_total_data_volume\"].hist(bins = 50)\n",
        "plt.title(\"Total Youtube Data Histogram\")"
      ],
      "execution_count": 43,
      "outputs": [
        {
          "output_type": "execute_result",
          "data": {
            "text/plain": [
              "Text(0.5, 1.0, 'Total Youtube Data Histogram')"
            ]
          },
          "metadata": {
            "tags": []
          },
          "execution_count": 43
        },
        {
          "output_type": "display_data",
          "data": {
            "image/png": "[encoded data removed]",
            "text/plain": [
              "<Figure size 432x288 with 1 Axes>"
            ]
          },
          "metadata": {
            "tags": [],
            "needs_background": "light"
          }
        }
      ]
    },
    {
      "cell_type": "code",
      "metadata": {
        "colab": {
          "base_uri": "https://localhost:8080/",
          "height": 311
        },
        "id": "NPrCIEp2715Q",
        "outputId": "f57c1292-2095-4df1-ad8e-b03deda4b704"
      },
      "source": [
        "df_clean[\"Netflix_total_data_volume\"].hist(bins = 50)\n",
        "plt.title(\"Total Netflix Data Histogram\")"
      ],
      "execution_count": 44,
      "outputs": [
        {
          "output_type": "execute_result",
          "data": {
            "text/plain": [
              "Text(0.5, 1.0, 'Total Netflix Data Histogram')"
            ]
          },
          "metadata": {
            "tags": []
          },
          "execution_count": 44
        },
        {
          "output_type": "display_data",
          "data": {
            "image/png": "[encoded data removed]",
            "text/plain": [
              "<Figure size 432x288 with 1 Axes>"
            ]
          },
          "metadata": {
            "tags": [],
            "needs_background": "light"
          }
        }
      ]
    },
    {
      "cell_type": "code",
      "metadata": {
        "colab": {
          "base_uri": "https://localhost:8080/",
          "height": 311
        },
        "id": "AmcAvILP717v",
        "outputId": "a7dda691-70af-44b7-f424-9251e99051ef"
      },
      "source": [
        "df_clean[\"Gaming_total_data_volume\"].hist(bins = 50)\n",
        "plt.title(\"Total Gaming Data Histogram\")"
      ],
      "execution_count": 45,
      "outputs": [
        {
          "output_type": "execute_result",
          "data": {
            "text/plain": [
              "Text(0.5, 1.0, 'Total Gaming Data Histogram')"
            ]
          },
          "metadata": {
            "tags": []
          },
          "execution_count": 45
        },
        {
          "output_type": "display_data",
          "data": {
            "image/png": "[encoded data removed]",
            "text/plain": [
              "<Figure size 432x288 with 1 Axes>"
            ]
          },
          "metadata": {
            "tags": [],
            "needs_background": "light"
          }
        }
      ]
    },
    {
      "cell_type": "code",
      "metadata": {
        "colab": {
          "base_uri": "https://localhost:8080/",
          "height": 298
        },
        "id": "RqkxYCob6rpP",
        "outputId": "6a1b7e81-432c-4e36-fc6e-b7a0a4e15824"
      },
      "source": [
        "total_usage = df_clean[[\"Google_total_data_volume\", \"Gaming_total_data_volume\", \"Youtube_total_data_volume\", \"Netflix_total_data_volume\", \"Email_total_data_volume\", \"SocialMedia_total_data_volume\", \"Other_total_data_volume\"]]\n",
        "ind = np.arange(7)\n",
        "width =0.8\n",
        "\n",
        "plt.xticks(ind , (\"Google\",\"Gaming\", \"Youtube\", \"Netflix\", \"Email\",  \"Social\", \"Other\"))\n",
        "plt.bar(ind, total_usage.sum(), width, label = \"Total Usage\")\n",
        "plt.title(\"App Data usage\")"
      ],
      "execution_count": 108,
      "outputs": [
        {
          "output_type": "execute_result",
          "data": {
            "text/plain": [
              "Text(0.5, 1.0, 'App Data usage')"
            ]
          },
          "metadata": {
            "tags": []
          },
          "execution_count": 108
        },
        {
          "output_type": "display_data",
          "data": {
            "image/png": "[encoded data removed]",
            "text/plain": [
              "<Figure size 432x288 with 1 Axes>"
            ]
          },
          "metadata": {
            "tags": [],
            "needs_background": "light"
          }
        }
      ]
    },
    {
      "cell_type": "code",
      "metadata": {
        "colab": {
          "base_uri": "https://localhost:8080/",
          "height": 289
        },
        "id": "3UShloLvCC3w",
        "outputId": "702e2ed1-ac38-42d9-82bc-5548445b339a"
      },
      "source": [
        "plt.scatter(df_clean['MSISDN/Number'].head(15000),df_clean['Google_total_data_volume'].head(15000),c='r')\n",
        "plt.scatter(df_clean['MSISDN/Number'].head(15000), df_clean['Youtube_total_data_volume'].head(15000),s=4, marker='X', c = 'g')\n",
        "plt.show()\n"
      ],
      "execution_count": 47,
      "outputs": [
        {
          "output_type": "display_data",
          "data": {
            "image/png": "[encoded data removed]",
            "text/plain": [
              "<Figure size 432x288 with 1 Axes>"
            ]
          },
          "metadata": {
            "tags": [],
            "needs_background": "light"
          }
        }
      ]
    },
    {
      "cell_type": "code",
      "metadata": {
        "id": "9dVdEuTJM2XZ",
        "colab": {
          "base_uri": "https://localhost:8080/"
        },
        "outputId": "e79a8820-2616-4f51-d9b5-07a24ff159fe"
      },
      "source": [
        "#group users into top 5 deciles \n",
        "users = df_clean.groupby([\"MSISDN/Number\"]).agg({'Bearer Id':'count', 'Dur. (ms).1':'sum', 'Total UL (Bytes)':'sum', 'Total DL (Bytes)':'sum'}).sort_values(by=\"Dur. (ms).1\", ascending = False)\n",
        "first_decile = users.iloc[0:10,:]\n",
        "second_decile = users.iloc[10:20,:]\n",
        "third_decile = users.iloc[20:30,:]\n",
        "fourth_decile = users.iloc[30:40,:]\n",
        "fifth_decile = users.iloc[40:50,:]\n",
        "\n",
        "#print total data of each decile group\n",
        "print(\"Total data of the first decile is: \",first_decile[\"Total DL (Bytes)\"].sum() + first_decile[\"Total UL (Bytes)\"].sum())\n",
        "print(\"Total data of the second decile is: \",second_decile[\"Total DL (Bytes)\"].sum() + second_decile[\"Total UL (Bytes)\"].sum())\n",
        "print(\"Total data of the third decile is: \",third_decile[\"Total DL (Bytes)\"].sum() + third_decile[\"Total UL (Bytes)\"].sum())\n",
        "print(\"Total data of the fourth decile is: \",fourth_decile[\"Total DL (Bytes)\"].sum() + fourth_decile[\"Total UL (Bytes)\"].sum())\n",
        "print(\"Total data of the fifth decile is: \",fifth_decile[\"Total DL (Bytes)\"].sum() + fifth_decile[\"Total UL (Bytes)\"].sum())"
      ],
      "execution_count": 48,
      "outputs": [
        {
          "output_type": "stream",
          "text": [
            "Total data of the first decile is:  595183808493.0\n",
            "Total data of the second decile is:  49147663767.0\n",
            "Total data of the third decile is:  44907065117.0\n",
            "Total data of the fourth decile is:  31702135331.0\n",
            "Total data of the fifth decile is:  42662577862.0\n"
          ],
          "name": "stdout"
        }
      ]
    },
    {
      "cell_type": "code",
      "metadata": {
        "id": "vSn-RwAkLI5N",
        "colab": {
          "base_uri": "https://localhost:8080/",
          "height": 534
        },
        "outputId": "d5780b9c-8f34-4707-d823-7840b602f97a"
      },
      "source": [
        "def plot_hist(df:pd.DataFrame, column:str, color:str)->None:\n",
        "    # plt.figure(figsize=(15, 10))\n",
        "    # fig, ax = plt.subplots(1, figsize=(12, 7))\n",
        "    sns.displot(data=df, x=column, color=color, kde=True, height=7, aspect=2)\n",
        "    plt.title(f'Distribution of {column}', size=20, fontweight='bold')\n",
        "    plt.show()\n",
        "plot_hist(df_clean, \"All_total_data_volume\", \"teal\")"
      ],
      "execution_count": 49,
      "outputs": [
        {
          "output_type": "display_data",
          "data": {
            "image/png": "[encoded data removed]",
            "text/plain": [
              "<Figure size 1008x504 with 1 Axes>"
            ]
          },
          "metadata": {
            "tags": [],
            "needs_background": "light"
          }
        }
      ]
    },
    {
      "cell_type": "code",
      "metadata": {
        "id": "PHEwvDknMvKR",
        "colab": {
          "base_uri": "https://localhost:8080/",
          "height": 479
        },
        "outputId": "a9e9af04-a930-4dfe-db91-1f5c8d564f6e"
      },
      "source": [
        "def plot_box(df:pd.DataFrame, x_col:str, title:str) -> None:\n",
        "    plt.figure(figsize=(12, 7))\n",
        "    sns.boxplot(data = df, x=x_col)\n",
        "    plt.title(title, size=20)\n",
        "    plt.xticks(rotation=75, fontsize=14)\n",
        "    plt.show()\n",
        "plot_box(df_clean, \"All_total_data_volume\", \"Netflix DL (Bytes)\")"
      ],
      "execution_count": 50,
      "outputs": [
        {
          "output_type": "display_data",
          "data": {
            "image/png": "[encoded data removed]",
            "text/plain": [
              "<Figure size 864x504 with 1 Axes>"
            ]
          },
          "metadata": {
            "tags": [],
            "needs_background": "light"
          }
        }
      ]
    },
    {
      "cell_type": "code",
      "metadata": {
        "colab": {
          "base_uri": "https://localhost:8080/",
          "height": 307
        },
        "id": "XAMQPAaZ0esw",
        "outputId": "44eb930b-8446-40c6-a14e-6ae843b3f759"
      },
      "source": [
        "sns.stripplot(x=df_clean['Handset Manufacturer'],y=df_clean['Other_total_data_volume'], size=5,)\n"
      ],
      "execution_count": 51,
      "outputs": [
        {
          "output_type": "execute_result",
          "data": {
            "text/plain": [
              "<matplotlib.axes._subplots.AxesSubplot at 0x7fb17ebe44d0>"
            ]
          },
          "metadata": {
            "tags": []
          },
          "execution_count": 51
        },
        {
          "output_type": "display_data",
          "data": {
            "image/png": "[encoded data removed]",
            "text/plain": [
              "<Figure size 432x288 with 1 Axes>"
            ]
          },
          "metadata": {
            "tags": [],
            "needs_background": "light"
          }
        }
      ]
    },
    {
      "cell_type": "code",
      "metadata": {
        "colab": {
          "base_uri": "https://localhost:8080/",
          "height": 463
        },
        "id": "2R88HQGqAby9",
        "outputId": "0ca0fdbd-035f-4ebc-b578-ecffb1ebe193"
      },
      "source": [
        "def plot_count(df:pd.DataFrame, column:str) -> None:\n",
        "    plt.figure(figsize=(12, 7))\n",
        "    sns.countplot(data=df, x=column)\n",
        "    plt.title(f'Distribution of {column}', size=20, fontweight='bold')\n",
        "    plt.show()\n",
        "plot_count(df_clean, \"Handset Manufacturer\")"
      ],
      "execution_count": 52,
      "outputs": [
        {
          "output_type": "display_data",
          "data": {
            "image/png": "[encoded data removed]",
            "text/plain": [
              "<Figure size 864x504 with 1 Axes>"
            ]
          },
          "metadata": {
            "tags": [],
            "needs_background": "light"
          }
        }
      ]
    },
    {
      "cell_type": "code",
      "metadata": {
        "id": "HlNllXfFIOQ8"
      },
      "source": [
        "def plot_bar(df:pd.DataFrame, x_col:str, y_col:str, title:str, xlabel:str, ylabel:str)->None:\n",
        "    plt.figure(figsize=(12, 7))\n",
        "    sns.barplot(data = df, x=x_col, y=y_col)\n",
        "    plt.title(title, size=20)\n",
        "    plt.xticks(rotation=75, fontsize=14)\n",
        "    plt.yticks( fontsize=14)\n",
        "    plt.xlabel(xlabel, fontsize=16)\n",
        "    plt.ylabel(ylabel, fontsize=16)\n",
        "    plt.show()\n",
        "\n",
        "def plot_heatmap(df:pd.DataFrame, title:str, cbar=False)->None:\n",
        "    plt.figure(figsize=(12, 7))\n",
        "    sns.heatmap(df, annot=True, cmap='viridis', vmin=0, vmax=1, fmt='.2f', linewidths=.7, cbar=cbar )\n",
        "    plt.title(title, size=18, fontweight='bold')\n",
        "    plt.show()\n",
        "\n",
        "def plot_box(df:pd.DataFrame, x_col:str, title:str) -> None:\n",
        "    plt.figure(figsize=(12, 7))\n",
        "    sns.boxplot(data = df, x=x_col)\n",
        "    plt.title(title, size=20)\n",
        "    plt.xticks(rotation=75, fontsize=14)\n",
        "    plt.show()\n",
        "\n",
        "def plot_box_multi(df:pd.DataFrame, x_col:str, y_col:str, title:str) -> None:\n",
        "    plt.figure(figsize=(12, 7))\n",
        "    sns.boxplot(data = df, x=x_col, y=y_col)\n",
        "    plt.title(title, size=20)\n",
        "    plt.xticks(rotation=75, fontsize=14)\n",
        "    plt.yticks( fontsize=14)\n",
        "    plt.show()\n",
        "\n",
        "def plot_scatter(df: pd.DataFrame, x_col: str, y_col: str, title: str, hue: str, style: str) -> None:\n",
        "    plt.figure(figsize=(12, 7))\n",
        "    sns.scatterplot(data = df, x=x_col, y=y_col, hue=hue, style=style)\n",
        "    plt.title(title, size=20)\n",
        "    plt.xticks(fontsize=14)\n",
        "    plt.yticks( fontsize=14)\n",
        "    plt.show()\n"
      ],
      "execution_count": 53,
      "outputs": []
    },
    {
      "cell_type": "code",
      "metadata": {
        "colab": {
          "base_uri": "https://localhost:8080/",
          "height": 534
        },
        "id": "3SoFXUSOIlHq",
        "outputId": "78f4c664-56a8-4a57-dcc7-aa324f532044"
      },
      "source": [
        "plot_hist(df_clean, \"Gaming_total_data_volume\", \"teal\")"
      ],
      "execution_count": 54,
      "outputs": [
        {
          "output_type": "display_data",
          "data": {
            "image/png": "[encoded data removed]",
            "text/plain": [
              "<Figure size 1008x504 with 1 Axes>"
            ]
          },
          "metadata": {
            "tags": [],
            "needs_background": "light"
          }
        }
      ]
    },
    {
      "cell_type": "markdown",
      "metadata": {
        "id": "cx59zbvpQBZs"
      },
      "source": [
        "#Aggregate **the sessions frequency**, the duration of the session and the sessions total traffic (download and upload (bytes)) per customer id (MSISDN) and report the top 10 customers per engagement metric \n"
      ]
    },
    {
      "cell_type": "code",
      "metadata": {
        "id": "PVBsMECuJ3Hc",
        "colab": {
          "base_uri": "https://localhost:8080/",
          "height": 390
        },
        "outputId": "9d099586-5bef-4477-8391-1c2fb371a1f7"
      },
      "source": [
        "df_clean.groupby('MSISDN/Number').agg({'Bearer Id':'sum','Dur. (ms)': 'sum', 'All_total_data_volume': 'sum'}).head(10)"
      ],
      "execution_count": 55,
      "outputs": [
        {
          "output_type": "execute_result",
          "data": {
            "text/html": [
              "<div>\n",
              "<style scoped>\n",
              "    .dataframe tbody tr th:only-of-type {\n",
              "        vertical-align: middle;\n",
              "    }\n",
              "\n",
              "    .dataframe tbody tr th {\n",
              "        vertical-align: top;\n",
              "    }\n",
              "\n",
              "    .dataframe thead th {\n",
              "        text-align: right;\n",
              "    }\n",
              "</style>\n",
              "<table border=\"1\" class=\"dataframe\">\n",
              "  <thead>\n",
              "    <tr style=\"text-align: right;\">\n",
              "      <th></th>\n",
              "      <th>Bearer Id</th>\n",
              "      <th>Dur. (ms)</th>\n",
              "      <th>All_total_data_volume</th>\n",
              "    </tr>\n",
              "    <tr>\n",
              "      <th>MSISDN/Number</th>\n",
              "      <th></th>\n",
              "      <th></th>\n",
              "      <th></th>\n",
              "    </tr>\n",
              "  </thead>\n",
              "  <tbody>\n",
              "    <tr>\n",
              "      <th>3.360100e+10</th>\n",
              "      <td>1.311450e+19</td>\n",
              "      <td>116720.0</td>\n",
              "      <td>8.786906e+08</td>\n",
              "    </tr>\n",
              "    <tr>\n",
              "      <th>3.360100e+10</th>\n",
              "      <td>7.349880e+18</td>\n",
              "      <td>181230.0</td>\n",
              "      <td>1.568596e+08</td>\n",
              "    </tr>\n",
              "    <tr>\n",
              "      <th>3.360100e+10</th>\n",
              "      <td>7.349880e+18</td>\n",
              "      <td>134969.0</td>\n",
              "      <td>5.959665e+08</td>\n",
              "    </tr>\n",
              "    <tr>\n",
              "      <th>3.360101e+10</th>\n",
              "      <td>1.304240e+19</td>\n",
              "      <td>49878.0</td>\n",
              "      <td>4.223207e+08</td>\n",
              "    </tr>\n",
              "    <tr>\n",
              "      <th>3.360101e+10</th>\n",
              "      <td>1.462771e+19</td>\n",
              "      <td>37104.0</td>\n",
              "      <td>1.457411e+09</td>\n",
              "    </tr>\n",
              "    <tr>\n",
              "      <th>3.360101e+10</th>\n",
              "      <td>1.462771e+19</td>\n",
              "      <td>253983.0</td>\n",
              "      <td>6.152172e+08</td>\n",
              "    </tr>\n",
              "    <tr>\n",
              "      <th>3.360101e+10</th>\n",
              "      <td>1.462771e+19</td>\n",
              "      <td>128360.0</td>\n",
              "      <td>6.547231e+08</td>\n",
              "    </tr>\n",
              "    <tr>\n",
              "      <th>3.360101e+10</th>\n",
              "      <td>1.304240e+19</td>\n",
              "      <td>86399.0</td>\n",
              "      <td>3.326604e+08</td>\n",
              "    </tr>\n",
              "    <tr>\n",
              "      <th>3.360101e+10</th>\n",
              "      <td>1.469976e+19</td>\n",
              "      <td>495702.0</td>\n",
              "      <td>9.901322e+08</td>\n",
              "    </tr>\n",
              "    <tr>\n",
              "      <th>3.360102e+10</th>\n",
              "      <td>7.349880e+18</td>\n",
              "      <td>124854.0</td>\n",
              "      <td>7.324638e+08</td>\n",
              "    </tr>\n",
              "  </tbody>\n",
              "</table>\n",
              "</div>"
            ],
            "text/plain": [
              "                  Bearer Id  Dur. (ms)  All_total_data_volume\n",
              "MSISDN/Number                                                \n",
              "3.360100e+10   1.311450e+19   116720.0           8.786906e+08\n",
              "3.360100e+10   7.349880e+18   181230.0           1.568596e+08\n",
              "3.360100e+10   7.349880e+18   134969.0           5.959665e+08\n",
              "3.360101e+10   1.304240e+19    49878.0           4.223207e+08\n",
              "3.360101e+10   1.462771e+19    37104.0           1.457411e+09\n",
              "3.360101e+10   1.462771e+19   253983.0           6.152172e+08\n",
              "3.360101e+10   1.462771e+19   128360.0           6.547231e+08\n",
              "3.360101e+10   1.304240e+19    86399.0           3.326604e+08\n",
              "3.360101e+10   1.469976e+19   495702.0           9.901322e+08\n",
              "3.360102e+10   7.349880e+18   124854.0           7.324638e+08"
            ]
          },
          "metadata": {
            "tags": []
          },
          "execution_count": 55
        }
      ]
    },
    {
      "cell_type": "code",
      "metadata": {
        "colab": {
          "base_uri": "https://localhost:8080/",
          "height": 450
        },
        "id": "QLq0yp2rRPFm",
        "outputId": "f1b5a126-0487-4ac1-9208-2259ab260955"
      },
      "source": [
        "df_clean.groupby('MSISDN/Number').agg({'Bearer Id':'sum','Dur. (ms)': 'sum', 'All_total_data_volume': 'sum'})"
      ],
      "execution_count": 61,
      "outputs": [
        {
          "output_type": "execute_result",
          "data": {
            "text/html": [
              "<div>\n",
              "<style scoped>\n",
              "    .dataframe tbody tr th:only-of-type {\n",
              "        vertical-align: middle;\n",
              "    }\n",
              "\n",
              "    .dataframe tbody tr th {\n",
              "        vertical-align: top;\n",
              "    }\n",
              "\n",
              "    .dataframe thead th {\n",
              "        text-align: right;\n",
              "    }\n",
              "</style>\n",
              "<table border=\"1\" class=\"dataframe\">\n",
              "  <thead>\n",
              "    <tr style=\"text-align: right;\">\n",
              "      <th></th>\n",
              "      <th>Bearer Id</th>\n",
              "      <th>Dur. (ms)</th>\n",
              "      <th>All_total_data_volume</th>\n",
              "    </tr>\n",
              "    <tr>\n",
              "      <th>MSISDN/Number</th>\n",
              "      <th></th>\n",
              "      <th></th>\n",
              "      <th></th>\n",
              "    </tr>\n",
              "  </thead>\n",
              "  <tbody>\n",
              "    <tr>\n",
              "      <th>3.360100e+10</th>\n",
              "      <td>1.311450e+19</td>\n",
              "      <td>116720.0</td>\n",
              "      <td>8.786906e+08</td>\n",
              "    </tr>\n",
              "    <tr>\n",
              "      <th>3.360100e+10</th>\n",
              "      <td>7.349880e+18</td>\n",
              "      <td>181230.0</td>\n",
              "      <td>1.568596e+08</td>\n",
              "    </tr>\n",
              "    <tr>\n",
              "      <th>3.360100e+10</th>\n",
              "      <td>7.349880e+18</td>\n",
              "      <td>134969.0</td>\n",
              "      <td>5.959665e+08</td>\n",
              "    </tr>\n",
              "    <tr>\n",
              "      <th>3.360101e+10</th>\n",
              "      <td>1.304240e+19</td>\n",
              "      <td>49878.0</td>\n",
              "      <td>4.223207e+08</td>\n",
              "    </tr>\n",
              "    <tr>\n",
              "      <th>3.360101e+10</th>\n",
              "      <td>1.462771e+19</td>\n",
              "      <td>37104.0</td>\n",
              "      <td>1.457411e+09</td>\n",
              "    </tr>\n",
              "    <tr>\n",
              "      <th>...</th>\n",
              "      <td>...</td>\n",
              "      <td>...</td>\n",
              "      <td>...</td>\n",
              "    </tr>\n",
              "    <tr>\n",
              "      <th>3.379000e+10</th>\n",
              "      <td>1.304240e+19</td>\n",
              "      <td>8810.0</td>\n",
              "      <td>7.146416e+08</td>\n",
              "    </tr>\n",
              "    <tr>\n",
              "      <th>3.379000e+10</th>\n",
              "      <td>1.311450e+19</td>\n",
              "      <td>140988.0</td>\n",
              "      <td>4.803073e+08</td>\n",
              "    </tr>\n",
              "    <tr>\n",
              "      <th>3.197020e+12</th>\n",
              "      <td>7.277830e+18</td>\n",
              "      <td>877385.0</td>\n",
              "      <td>2.321240e+08</td>\n",
              "    </tr>\n",
              "    <tr>\n",
              "      <th>3.370000e+14</th>\n",
              "      <td>7.349880e+18</td>\n",
              "      <td>253030.0</td>\n",
              "      <td>5.962878e+08</td>\n",
              "    </tr>\n",
              "    <tr>\n",
              "      <th>8.823970e+14</th>\n",
              "      <td>7.277830e+18</td>\n",
              "      <td>869844.0</td>\n",
              "      <td>1.391536e+08</td>\n",
              "    </tr>\n",
              "  </tbody>\n",
              "</table>\n",
              "<p>106856 rows × 3 columns</p>\n",
              "</div>"
            ],
            "text/plain": [
              "                  Bearer Id  Dur. (ms)  All_total_data_volume\n",
              "MSISDN/Number                                                \n",
              "3.360100e+10   1.311450e+19   116720.0           8.786906e+08\n",
              "3.360100e+10   7.349880e+18   181230.0           1.568596e+08\n",
              "3.360100e+10   7.349880e+18   134969.0           5.959665e+08\n",
              "3.360101e+10   1.304240e+19    49878.0           4.223207e+08\n",
              "3.360101e+10   1.462771e+19    37104.0           1.457411e+09\n",
              "...                     ...        ...                    ...\n",
              "3.379000e+10   1.304240e+19     8810.0           7.146416e+08\n",
              "3.379000e+10   1.311450e+19   140988.0           4.803073e+08\n",
              "3.197020e+12   7.277830e+18   877385.0           2.321240e+08\n",
              "3.370000e+14   7.349880e+18   253030.0           5.962878e+08\n",
              "8.823970e+14   7.277830e+18   869844.0           1.391536e+08\n",
              "\n",
              "[106856 rows x 3 columns]"
            ]
          },
          "metadata": {
            "tags": []
          },
          "execution_count": 61
        }
      ]
    },
    {
      "cell_type": "code",
      "metadata": {
        "colab": {
          "base_uri": "https://localhost:8080/",
          "height": 417
        },
        "id": "X0vgbj2FO0Zb",
        "outputId": "b934b277-de28-4b81-c9a7-9a1bb9a9ce8c"
      },
      "source": [
        "df_clean.head(3)"
      ],
      "execution_count": 57,
      "outputs": [
        {
          "output_type": "execute_result",
          "data": {
            "text/html": [
              "<div>\n",
              "<style scoped>\n",
              "    .dataframe tbody tr th:only-of-type {\n",
              "        vertical-align: middle;\n",
              "    }\n",
              "\n",
              "    .dataframe tbody tr th {\n",
              "        vertical-align: top;\n",
              "    }\n",
              "\n",
              "    .dataframe thead th {\n",
              "        text-align: right;\n",
              "    }\n",
              "</style>\n",
              "<table border=\"1\" class=\"dataframe\">\n",
              "  <thead>\n",
              "    <tr style=\"text-align: right;\">\n",
              "      <th></th>\n",
              "      <th>Bearer Id</th>\n",
              "      <th>Start</th>\n",
              "      <th>Start ms</th>\n",
              "      <th>End</th>\n",
              "      <th>End ms</th>\n",
              "      <th>Dur. (ms)</th>\n",
              "      <th>IMSI</th>\n",
              "      <th>MSISDN/Number</th>\n",
              "      <th>IMEI</th>\n",
              "      <th>Last Location Name</th>\n",
              "      <th>Avg RTT DL (ms)</th>\n",
              "      <th>Avg RTT UL (ms)</th>\n",
              "      <th>Avg Bearer TP DL (kbps)</th>\n",
              "      <th>Avg Bearer TP UL (kbps)</th>\n",
              "      <th>DL TP &lt; 50 Kbps (%)</th>\n",
              "      <th>50 Kbps &lt; DL TP &lt; 250 Kbps (%)</th>\n",
              "      <th>250 Kbps &lt; DL TP &lt; 1 Mbps (%)</th>\n",
              "      <th>DL TP &gt; 1 Mbps (%)</th>\n",
              "      <th>UL TP &lt; 10 Kbps (%)</th>\n",
              "      <th>10 Kbps &lt; UL TP &lt; 50 Kbps (%)</th>\n",
              "      <th>50 Kbps &lt; UL TP &lt; 300 Kbps (%)</th>\n",
              "      <th>UL TP &gt; 300 Kbps (%)</th>\n",
              "      <th>Activity Duration DL (ms)</th>\n",
              "      <th>Activity Duration UL (ms)</th>\n",
              "      <th>Dur. (ms).1</th>\n",
              "      <th>Handset Manufacturer</th>\n",
              "      <th>Handset Type</th>\n",
              "      <th>Nb of sec with Vol DL &lt; 6250B</th>\n",
              "      <th>Nb of sec with Vol UL &lt; 1250B</th>\n",
              "      <th>Social Media DL (Bytes)</th>\n",
              "      <th>Social Media UL (Bytes)</th>\n",
              "      <th>Google DL (Bytes)</th>\n",
              "      <th>Google UL (Bytes)</th>\n",
              "      <th>Email DL (Bytes)</th>\n",
              "      <th>Email UL (Bytes)</th>\n",
              "      <th>Youtube DL (Bytes)</th>\n",
              "      <th>Youtube UL (Bytes)</th>\n",
              "      <th>Netflix DL (Bytes)</th>\n",
              "      <th>Netflix UL (Bytes)</th>\n",
              "      <th>Gaming DL (Bytes)</th>\n",
              "      <th>Gaming UL (Bytes)</th>\n",
              "      <th>Other DL (Bytes)</th>\n",
              "      <th>Other UL (Bytes)</th>\n",
              "      <th>Total UL (Bytes)</th>\n",
              "      <th>Total DL (Bytes)</th>\n",
              "      <th>Youtube_total_data_volume</th>\n",
              "      <th>Google_total_data_volume</th>\n",
              "      <th>Email_total_data_volume</th>\n",
              "      <th>Netflix_total_data_volume</th>\n",
              "      <th>Gaming_total_data_volume</th>\n",
              "      <th>Other_total_data_volume</th>\n",
              "      <th>SocialMedia_total_data_volume</th>\n",
              "      <th>All_total_data_volume</th>\n",
              "    </tr>\n",
              "  </thead>\n",
              "  <tbody>\n",
              "    <tr>\n",
              "      <th>0</th>\n",
              "      <td>1.311450e+19</td>\n",
              "      <td>2019-04-04 12:01:00</td>\n",
              "      <td>770.0</td>\n",
              "      <td>2019-04-25 14:35:00</td>\n",
              "      <td>662.0</td>\n",
              "      <td>1823652.0</td>\n",
              "      <td>2.082010e+14</td>\n",
              "      <td>3.366496e+10</td>\n",
              "      <td>3.552120e+13</td>\n",
              "      <td>9.16457E+15</td>\n",
              "      <td>42.0</td>\n",
              "      <td>5.0</td>\n",
              "      <td>23.0</td>\n",
              "      <td>44.0</td>\n",
              "      <td>100.0</td>\n",
              "      <td>0.0</td>\n",
              "      <td>0.0</td>\n",
              "      <td>0.0</td>\n",
              "      <td>100.0</td>\n",
              "      <td>0.0</td>\n",
              "      <td>0.0</td>\n",
              "      <td>0.0</td>\n",
              "      <td>37624.0</td>\n",
              "      <td>38787.0</td>\n",
              "      <td>1.823653e+09</td>\n",
              "      <td>Samsung</td>\n",
              "      <td>Samsung Galaxy A5 Sm-A520F</td>\n",
              "      <td>213.0</td>\n",
              "      <td>214.0</td>\n",
              "      <td>1545765.0</td>\n",
              "      <td>24420.0</td>\n",
              "      <td>1634479.0</td>\n",
              "      <td>1271433.0</td>\n",
              "      <td>3563542.0</td>\n",
              "      <td>137762.0</td>\n",
              "      <td>15854611.0</td>\n",
              "      <td>2501332.0</td>\n",
              "      <td>8198936.0</td>\n",
              "      <td>9656251.0</td>\n",
              "      <td>278082303.0</td>\n",
              "      <td>14344150.0</td>\n",
              "      <td>171744450.0</td>\n",
              "      <td>8814393.0</td>\n",
              "      <td>36749741.0</td>\n",
              "      <td>308879636.0</td>\n",
              "      <td>18355943.0</td>\n",
              "      <td>2905912.0</td>\n",
              "      <td>3701304.0</td>\n",
              "      <td>17855187.0</td>\n",
              "      <td>292426453.0</td>\n",
              "      <td>180558843.0</td>\n",
              "      <td>1570185.0</td>\n",
              "      <td>345629377.0</td>\n",
              "    </tr>\n",
              "    <tr>\n",
              "      <th>1</th>\n",
              "      <td>1.311450e+19</td>\n",
              "      <td>2019-04-09 13:04:00</td>\n",
              "      <td>235.0</td>\n",
              "      <td>2019-04-25 08:15:00</td>\n",
              "      <td>606.0</td>\n",
              "      <td>1365104.0</td>\n",
              "      <td>2.082020e+14</td>\n",
              "      <td>3.368185e+10</td>\n",
              "      <td>3.579400e+13</td>\n",
              "      <td>L77566A</td>\n",
              "      <td>65.0</td>\n",
              "      <td>5.0</td>\n",
              "      <td>16.0</td>\n",
              "      <td>26.0</td>\n",
              "      <td>100.0</td>\n",
              "      <td>0.0</td>\n",
              "      <td>0.0</td>\n",
              "      <td>0.0</td>\n",
              "      <td>100.0</td>\n",
              "      <td>0.0</td>\n",
              "      <td>0.0</td>\n",
              "      <td>0.0</td>\n",
              "      <td>168.0</td>\n",
              "      <td>3560.0</td>\n",
              "      <td>1.365104e+09</td>\n",
              "      <td>Samsung</td>\n",
              "      <td>Samsung Galaxy J5 (Sm-J530)</td>\n",
              "      <td>971.0</td>\n",
              "      <td>1022.0</td>\n",
              "      <td>1926113.0</td>\n",
              "      <td>7165.0</td>\n",
              "      <td>3493924.0</td>\n",
              "      <td>920172.0</td>\n",
              "      <td>629046.0</td>\n",
              "      <td>308339.0</td>\n",
              "      <td>20247395.0</td>\n",
              "      <td>19111729.0</td>\n",
              "      <td>18338413.0</td>\n",
              "      <td>17227132.0</td>\n",
              "      <td>608750074.0</td>\n",
              "      <td>1170709.0</td>\n",
              "      <td>526904238.0</td>\n",
              "      <td>15055145.0</td>\n",
              "      <td>53800391.0</td>\n",
              "      <td>653384965.0</td>\n",
              "      <td>39359124.0</td>\n",
              "      <td>4414096.0</td>\n",
              "      <td>937385.0</td>\n",
              "      <td>35565545.0</td>\n",
              "      <td>609920783.0</td>\n",
              "      <td>541959383.0</td>\n",
              "      <td>1933278.0</td>\n",
              "      <td>707185356.0</td>\n",
              "    </tr>\n",
              "    <tr>\n",
              "      <th>2</th>\n",
              "      <td>1.311450e+19</td>\n",
              "      <td>2019-04-09 17:42:00</td>\n",
              "      <td>1.0</td>\n",
              "      <td>2019-04-25 11:58:00</td>\n",
              "      <td>652.0</td>\n",
              "      <td>1361762.0</td>\n",
              "      <td>2.082000e+14</td>\n",
              "      <td>3.376063e+10</td>\n",
              "      <td>3.528150e+13</td>\n",
              "      <td>D42335A</td>\n",
              "      <td>28.0</td>\n",
              "      <td>5.0</td>\n",
              "      <td>6.0</td>\n",
              "      <td>9.0</td>\n",
              "      <td>100.0</td>\n",
              "      <td>0.0</td>\n",
              "      <td>0.0</td>\n",
              "      <td>0.0</td>\n",
              "      <td>100.0</td>\n",
              "      <td>0.0</td>\n",
              "      <td>0.0</td>\n",
              "      <td>0.0</td>\n",
              "      <td>0.0</td>\n",
              "      <td>0.0</td>\n",
              "      <td>1.361763e+09</td>\n",
              "      <td>Samsung</td>\n",
              "      <td>Samsung Galaxy A8 (2018)</td>\n",
              "      <td>751.0</td>\n",
              "      <td>695.0</td>\n",
              "      <td>1684053.0</td>\n",
              "      <td>42224.0</td>\n",
              "      <td>8535055.0</td>\n",
              "      <td>1694064.0</td>\n",
              "      <td>2690151.0</td>\n",
              "      <td>672973.0</td>\n",
              "      <td>19725661.0</td>\n",
              "      <td>14699576.0</td>\n",
              "      <td>17587794.0</td>\n",
              "      <td>6163408.0</td>\n",
              "      <td>229584621.0</td>\n",
              "      <td>395630.0</td>\n",
              "      <td>410692588.0</td>\n",
              "      <td>4215763.0</td>\n",
              "      <td>27883638.0</td>\n",
              "      <td>279807335.0</td>\n",
              "      <td>34425237.0</td>\n",
              "      <td>10229119.0</td>\n",
              "      <td>3363124.0</td>\n",
              "      <td>23751202.0</td>\n",
              "      <td>229980251.0</td>\n",
              "      <td>414908351.0</td>\n",
              "      <td>1726277.0</td>\n",
              "      <td>307690973.0</td>\n",
              "    </tr>\n",
              "  </tbody>\n",
              "</table>\n",
              "</div>"
            ],
            "text/plain": [
              "      Bearer Id               Start  Start ms                 End  End ms  \\\n",
              "0  1.311450e+19 2019-04-04 12:01:00     770.0 2019-04-25 14:35:00   662.0   \n",
              "1  1.311450e+19 2019-04-09 13:04:00     235.0 2019-04-25 08:15:00   606.0   \n",
              "2  1.311450e+19 2019-04-09 17:42:00       1.0 2019-04-25 11:58:00   652.0   \n",
              "\n",
              "   Dur. (ms)          IMSI  MSISDN/Number          IMEI Last Location Name  \\\n",
              "0  1823652.0  2.082010e+14   3.366496e+10  3.552120e+13        9.16457E+15   \n",
              "1  1365104.0  2.082020e+14   3.368185e+10  3.579400e+13            L77566A   \n",
              "2  1361762.0  2.082000e+14   3.376063e+10  3.528150e+13            D42335A   \n",
              "\n",
              "   Avg RTT DL (ms)  Avg RTT UL (ms)  Avg Bearer TP DL (kbps)  \\\n",
              "0             42.0              5.0                     23.0   \n",
              "1             65.0              5.0                     16.0   \n",
              "2             28.0              5.0                      6.0   \n",
              "\n",
              "   Avg Bearer TP UL (kbps)  DL TP < 50 Kbps (%)  \\\n",
              "0                     44.0                100.0   \n",
              "1                     26.0                100.0   \n",
              "2                      9.0                100.0   \n",
              "\n",
              "   50 Kbps < DL TP < 250 Kbps (%)  250 Kbps < DL TP < 1 Mbps (%)  \\\n",
              "0                             0.0                            0.0   \n",
              "1                             0.0                            0.0   \n",
              "2                             0.0                            0.0   \n",
              "\n",
              "   DL TP > 1 Mbps (%)  UL TP < 10 Kbps (%)  10 Kbps < UL TP < 50 Kbps (%)  \\\n",
              "0                 0.0                100.0                            0.0   \n",
              "1                 0.0                100.0                            0.0   \n",
              "2                 0.0                100.0                            0.0   \n",
              "\n",
              "   50 Kbps < UL TP < 300 Kbps (%)  UL TP > 300 Kbps (%)  \\\n",
              "0                             0.0                   0.0   \n",
              "1                             0.0                   0.0   \n",
              "2                             0.0                   0.0   \n",
              "\n",
              "   Activity Duration DL (ms)  Activity Duration UL (ms)   Dur. (ms).1  \\\n",
              "0                    37624.0                    38787.0  1.823653e+09   \n",
              "1                      168.0                     3560.0  1.365104e+09   \n",
              "2                        0.0                        0.0  1.361763e+09   \n",
              "\n",
              "  Handset Manufacturer                 Handset Type  \\\n",
              "0              Samsung   Samsung Galaxy A5 Sm-A520F   \n",
              "1              Samsung  Samsung Galaxy J5 (Sm-J530)   \n",
              "2              Samsung     Samsung Galaxy A8 (2018)   \n",
              "\n",
              "   Nb of sec with Vol DL < 6250B  Nb of sec with Vol UL < 1250B  \\\n",
              "0                          213.0                          214.0   \n",
              "1                          971.0                         1022.0   \n",
              "2                          751.0                          695.0   \n",
              "\n",
              "   Social Media DL (Bytes)  Social Media UL (Bytes)  Google DL (Bytes)  \\\n",
              "0                1545765.0                  24420.0          1634479.0   \n",
              "1                1926113.0                   7165.0          3493924.0   \n",
              "2                1684053.0                  42224.0          8535055.0   \n",
              "\n",
              "   Google UL (Bytes)  Email DL (Bytes)  Email UL (Bytes)  Youtube DL (Bytes)  \\\n",
              "0          1271433.0         3563542.0          137762.0          15854611.0   \n",
              "1           920172.0          629046.0          308339.0          20247395.0   \n",
              "2          1694064.0         2690151.0          672973.0          19725661.0   \n",
              "\n",
              "   Youtube UL (Bytes)  Netflix DL (Bytes)  Netflix UL (Bytes)  \\\n",
              "0           2501332.0           8198936.0           9656251.0   \n",
              "1          19111729.0          18338413.0          17227132.0   \n",
              "2          14699576.0          17587794.0           6163408.0   \n",
              "\n",
              "   Gaming DL (Bytes)  Gaming UL (Bytes)  Other DL (Bytes)  Other UL (Bytes)  \\\n",
              "0        278082303.0         14344150.0       171744450.0         8814393.0   \n",
              "1        608750074.0          1170709.0       526904238.0        15055145.0   \n",
              "2        229584621.0           395630.0       410692588.0         4215763.0   \n",
              "\n",
              "   Total UL (Bytes)  Total DL (Bytes)  Youtube_total_data_volume  \\\n",
              "0        36749741.0       308879636.0                 18355943.0   \n",
              "1        53800391.0       653384965.0                 39359124.0   \n",
              "2        27883638.0       279807335.0                 34425237.0   \n",
              "\n",
              "   Google_total_data_volume  Email_total_data_volume  \\\n",
              "0                 2905912.0                3701304.0   \n",
              "1                 4414096.0                 937385.0   \n",
              "2                10229119.0                3363124.0   \n",
              "\n",
              "   Netflix_total_data_volume  Gaming_total_data_volume  \\\n",
              "0                 17855187.0               292426453.0   \n",
              "1                 35565545.0               609920783.0   \n",
              "2                 23751202.0               229980251.0   \n",
              "\n",
              "   Other_total_data_volume  SocialMedia_total_data_volume  \\\n",
              "0              180558843.0                      1570185.0   \n",
              "1              541959383.0                      1933278.0   \n",
              "2              414908351.0                      1726277.0   \n",
              "\n",
              "   All_total_data_volume  \n",
              "0            345629377.0  \n",
              "1            707185356.0  \n",
              "2            307690973.0  "
            ]
          },
          "metadata": {
            "tags": []
          },
          "execution_count": 57
        }
      ]
    },
    {
      "cell_type": "code",
      "metadata": {
        "colab": {
          "base_uri": "https://localhost:8080/"
        },
        "id": "BfQ25dzhO25F",
        "outputId": "a076b8a1-f91d-471e-cae2-cb60e956e39b"
      },
      "source": [
        "#feature extraction \n",
        "new_df = df_clean[['Bearer Id','Dur. (ms)','All_total_data_volume']]\n",
        "\n",
        "#normalize the data \n",
        "from sklearn import preprocessing\n",
        "x = new_df.values\n",
        "min_max_scaler = preprocessing.MinMaxScaler()\n",
        "x_scaled = min_max_scaler.fit_transform(x)\n",
        "df_normalized = pd.DataFrame(x_scaled)\n",
        "\n",
        "print(df_normalized)"
      ],
      "execution_count": 62,
      "outputs": [
        {
          "output_type": "stream",
          "text": [
            "               0         1         2\n",
            "0       0.988515  0.980734  0.341600\n",
            "1       0.988515  0.733164  0.731616\n",
            "2       0.988515  0.731360  0.300676\n",
            "3       0.988515  0.709627  0.928123\n",
            "4       0.988515  0.584100  0.624280\n",
            "...          ...       ...       ...\n",
            "149996  0.057472  0.040000  0.650301\n",
            "149997  0.068965  0.049038  0.730105\n",
            "149998  0.988515  0.049189  0.645873\n",
            "149999  0.988515  0.049006  0.401893\n",
            "150000  0.988515  0.042791  0.069612\n",
            "\n",
            "[150001 rows x 3 columns]\n"
          ],
          "name": "stdout"
        }
      ]
    },
    {
      "cell_type": "code",
      "metadata": {
        "colab": {
          "base_uri": "https://localhost:8080/"
        },
        "id": "XKh0ozFrMduH",
        "outputId": "13dbc726-e897-4d7f-b17b-cede3dbe3038"
      },
      "source": [
        "kmeans = KMeans(n_clusters=3)\n",
        "kmeans.fit(new_df)\n",
        "\n",
        "identified_clusters = kmeans.fit_predict(new_df)\n",
        "#identified_clusters.head(20)\n",
        "\n",
        "np.argsort(identified_clusters)"
      ],
      "execution_count": 63,
      "outputs": [
        {
          "output_type": "execute_result",
          "data": {
            "text/plain": [
              "array([     0,  81764,  81763, ..., 138397,  92288, 115564])"
            ]
          },
          "metadata": {
            "tags": []
          },
          "execution_count": 63
        }
      ]
    },
    {
      "cell_type": "code",
      "metadata": {
        "id": "NZv4_m1_ZLfy",
        "outputId": "b992333a-19d2-4918-a2c5-876bdbdfd582",
        "colab": {
          "base_uri": "https://localhost:8080/",
          "height": 1000
        }
      },
      "source": [
        "plot_scatter(new_df.head(100), x_col=\"Dur. (ms)\", y_col=\"All_total_data_volume\", hue=\"Dur. (ms)\",\n",
        "             style=\"Dur. (ms)\", title=\"Duration of session vs sum of download and upload link\")"
      ],
      "execution_count": 107,
      "outputs": [
        {
          "output_type": "display_data",
          "data": {
            "image/png": "[encoded data removed]",
            "text/plain": [
              "<Figure size 864x504 with 1 Axes>"
            ]
          },
          "metadata": {
            "tags": [],
            "needs_background": "light"
          }
        }
      ]
    },
    {
      "cell_type": "code",
      "metadata": {
        "colab": {
          "base_uri": "https://localhost:8080/",
          "height": 312
        },
        "id": "ASh-8NLhMk8M",
        "outputId": "b36916d5-5d56-477f-bdef-ceb6d7055ad7"
      },
      "source": [
        "data_with_clusters = df_clean.copy()\n",
        "data_with_clusters['Clusters'] = identified_clusters \n",
        "\n",
        "plt.title('The three Clusters')\n",
        "plt.xlabel('Session duration')\n",
        "plt.ylabel('Total Upload and Download')\n",
        "\n",
        "plt.scatter(data_with_clusters['Dur. (ms)'].head(400),data_with_clusters['All_total_data_volume'].head(400),c=data_with_clusters['Clusters'].head(400),cmap='rainbow')"
      ],
      "execution_count": 94,
      "outputs": [
        {
          "output_type": "execute_result",
          "data": {
            "text/plain": [
              "<matplotlib.collections.PathCollection at 0x7fb17793f6d0>"
            ]
          },
          "metadata": {
            "tags": []
          },
          "execution_count": 94
        },
        {
          "output_type": "display_data",
          "data": {
            "image/png": "[encoded data removed]",
            "text/plain": [
              "<Figure size 432x288 with 1 Axes>"
            ]
          },
          "metadata": {
            "tags": [],
            "needs_background": "light"
          }
        }
      ]
    },
    {
      "cell_type": "code",
      "metadata": {
        "colab": {
          "base_uri": "https://localhost:8080/",
          "height": 359
        },
        "id": "qDY3OwVpM5fY",
        "outputId": "6db4e355-7c39-44a6-ad8a-31a4c1d6a137"
      },
      "source": [
        "#Clustering the non normalized the data \n",
        "df_with_unnormalized_cluster = new_df.copy()\n",
        "identified_clusters_of_unnormalized_data  = kmeans.fit_predict(new_df)\n",
        "df_with_unnormalized_cluster['identified_clusters_of_unnormalized_data'] = identified_clusters_of_unnormalized_data\n",
        "\n",
        "df_with_unnormalized_cluster.head(10)"
      ],
      "execution_count": 89,
      "outputs": [
        {
          "output_type": "execute_result",
          "data": {
            "text/html": [
              "<div>\n",
              "<style scoped>\n",
              "    .dataframe tbody tr th:only-of-type {\n",
              "        vertical-align: middle;\n",
              "    }\n",
              "\n",
              "    .dataframe tbody tr th {\n",
              "        vertical-align: top;\n",
              "    }\n",
              "\n",
              "    .dataframe thead th {\n",
              "        text-align: right;\n",
              "    }\n",
              "</style>\n",
              "<table border=\"1\" class=\"dataframe\">\n",
              "  <thead>\n",
              "    <tr style=\"text-align: right;\">\n",
              "      <th></th>\n",
              "      <th>Bearer Id</th>\n",
              "      <th>Dur. (ms)</th>\n",
              "      <th>All_total_data_volume</th>\n",
              "      <th>identified_clusters_of_unnormalized_data</th>\n",
              "    </tr>\n",
              "  </thead>\n",
              "  <tbody>\n",
              "    <tr>\n",
              "      <th>0</th>\n",
              "      <td>1.311450e+19</td>\n",
              "      <td>1823652.0</td>\n",
              "      <td>345629377.0</td>\n",
              "      <td>1</td>\n",
              "    </tr>\n",
              "    <tr>\n",
              "      <th>1</th>\n",
              "      <td>1.311450e+19</td>\n",
              "      <td>1365104.0</td>\n",
              "      <td>707185356.0</td>\n",
              "      <td>1</td>\n",
              "    </tr>\n",
              "    <tr>\n",
              "      <th>2</th>\n",
              "      <td>1.311450e+19</td>\n",
              "      <td>1361762.0</td>\n",
              "      <td>307690973.0</td>\n",
              "      <td>1</td>\n",
              "    </tr>\n",
              "    <tr>\n",
              "      <th>3</th>\n",
              "      <td>1.311450e+19</td>\n",
              "      <td>1321509.0</td>\n",
              "      <td>889352748.0</td>\n",
              "      <td>1</td>\n",
              "    </tr>\n",
              "    <tr>\n",
              "      <th>4</th>\n",
              "      <td>1.311450e+19</td>\n",
              "      <td>1089009.0</td>\n",
              "      <td>607681403.0</td>\n",
              "      <td>1</td>\n",
              "    </tr>\n",
              "    <tr>\n",
              "      <th>5</th>\n",
              "      <td>1.311450e+19</td>\n",
              "      <td>1074638.0</td>\n",
              "      <td>784759966.0</td>\n",
              "      <td>1</td>\n",
              "    </tr>\n",
              "    <tr>\n",
              "      <th>6</th>\n",
              "      <td>1.311450e+19</td>\n",
              "      <td>1035261.0</td>\n",
              "      <td>118487293.0</td>\n",
              "      <td>1</td>\n",
              "    </tr>\n",
              "    <tr>\n",
              "      <th>7</th>\n",
              "      <td>1.304240e+19</td>\n",
              "      <td>951292.0</td>\n",
              "      <td>834163359.0</td>\n",
              "      <td>1</td>\n",
              "    </tr>\n",
              "    <tr>\n",
              "      <th>8</th>\n",
              "      <td>1.311450e+19</td>\n",
              "      <td>941634.0</td>\n",
              "      <td>903975407.0</td>\n",
              "      <td>1</td>\n",
              "    </tr>\n",
              "    <tr>\n",
              "      <th>9</th>\n",
              "      <td>1.304240e+19</td>\n",
              "      <td>864482.0</td>\n",
              "      <td>872988322.0</td>\n",
              "      <td>1</td>\n",
              "    </tr>\n",
              "  </tbody>\n",
              "</table>\n",
              "</div>"
            ],
            "text/plain": [
              "      Bearer Id  Dur. (ms)  All_total_data_volume  \\\n",
              "0  1.311450e+19  1823652.0            345629377.0   \n",
              "1  1.311450e+19  1365104.0            707185356.0   \n",
              "2  1.311450e+19  1361762.0            307690973.0   \n",
              "3  1.311450e+19  1321509.0            889352748.0   \n",
              "4  1.311450e+19  1089009.0            607681403.0   \n",
              "5  1.311450e+19  1074638.0            784759966.0   \n",
              "6  1.311450e+19  1035261.0            118487293.0   \n",
              "7  1.304240e+19   951292.0            834163359.0   \n",
              "8  1.311450e+19   941634.0            903975407.0   \n",
              "9  1.304240e+19   864482.0            872988322.0   \n",
              "\n",
              "   identified_clusters_of_unnormalized_data  \n",
              "0                                         1  \n",
              "1                                         1  \n",
              "2                                         1  \n",
              "3                                         1  \n",
              "4                                         1  \n",
              "5                                         1  \n",
              "6                                         1  \n",
              "7                                         1  \n",
              "8                                         1  \n",
              "9                                         1  "
            ]
          },
          "metadata": {
            "tags": []
          },
          "execution_count": 89
        }
      ]
    },
    {
      "cell_type": "code",
      "metadata": {
        "colab": {
          "base_uri": "https://localhost:8080/",
          "height": 224
        },
        "id": "SatyqZnRQi86",
        "outputId": "8596c82d-23b4-493b-ca84-6dca222d4bad"
      },
      "source": [
        "Info_unnormalized_cluster = df_with_unnormalized_cluster.groupby('identified_clusters_of_unnormalized_data').agg({'Bearer Id':['count','min','max','mean'],'Dur. (ms)':['min','max','mean','sum'],'All_total_data_volume':['min','max','mean','sum']})\n",
        "Info_unnormalized_cluster.head(10)"
      ],
      "execution_count": 91,
      "outputs": [
        {
          "output_type": "execute_result",
          "data": {
            "text/html": [
              "<div>\n",
              "<style scoped>\n",
              "    .dataframe tbody tr th:only-of-type {\n",
              "        vertical-align: middle;\n",
              "    }\n",
              "\n",
              "    .dataframe tbody tr th {\n",
              "        vertical-align: top;\n",
              "    }\n",
              "\n",
              "    .dataframe thead tr th {\n",
              "        text-align: left;\n",
              "    }\n",
              "\n",
              "    .dataframe thead tr:last-of-type th {\n",
              "        text-align: right;\n",
              "    }\n",
              "</style>\n",
              "<table border=\"1\" class=\"dataframe\">\n",
              "  <thead>\n",
              "    <tr>\n",
              "      <th></th>\n",
              "      <th colspan=\"4\" halign=\"left\">Bearer Id</th>\n",
              "      <th colspan=\"4\" halign=\"left\">Dur. (ms)</th>\n",
              "      <th colspan=\"4\" halign=\"left\">All_total_data_volume</th>\n",
              "    </tr>\n",
              "    <tr>\n",
              "      <th></th>\n",
              "      <th>count</th>\n",
              "      <th>min</th>\n",
              "      <th>max</th>\n",
              "      <th>mean</th>\n",
              "      <th>min</th>\n",
              "      <th>max</th>\n",
              "      <th>mean</th>\n",
              "      <th>sum</th>\n",
              "      <th>min</th>\n",
              "      <th>max</th>\n",
              "      <th>mean</th>\n",
              "      <th>sum</th>\n",
              "    </tr>\n",
              "    <tr>\n",
              "      <th>identified_clusters_of_unnormalized_data</th>\n",
              "      <th></th>\n",
              "      <th></th>\n",
              "      <th></th>\n",
              "      <th></th>\n",
              "      <th></th>\n",
              "      <th></th>\n",
              "      <th></th>\n",
              "      <th></th>\n",
              "      <th></th>\n",
              "      <th></th>\n",
              "      <th></th>\n",
              "      <th></th>\n",
              "    </tr>\n",
              "  </thead>\n",
              "  <tbody>\n",
              "    <tr>\n",
              "      <th>0</th>\n",
              "      <td>70120</td>\n",
              "      <td>7.277830e+18</td>\n",
              "      <td>7.566060e+18</td>\n",
              "      <td>7.319262e+18</td>\n",
              "      <td>7284.0</td>\n",
              "      <td>1573420.0</td>\n",
              "      <td>108502.486737</td>\n",
              "      <td>7.608194e+09</td>\n",
              "      <td>33249009.0</td>\n",
              "      <td>950760661.0</td>\n",
              "      <td>4.957785e+08</td>\n",
              "      <td>3.476399e+13</td>\n",
              "    </tr>\n",
              "    <tr>\n",
              "      <th>1</th>\n",
              "      <td>73924</td>\n",
              "      <td>1.268210e+19</td>\n",
              "      <td>1.318650e+19</td>\n",
              "      <td>1.307195e+19</td>\n",
              "      <td>7142.0</td>\n",
              "      <td>1859336.0</td>\n",
              "      <td>104591.503206</td>\n",
              "      <td>7.731822e+09</td>\n",
              "      <td>28956107.0</td>\n",
              "      <td>955984776.0</td>\n",
              "      <td>4.957914e+08</td>\n",
              "      <td>3.665089e+13</td>\n",
              "    </tr>\n",
              "    <tr>\n",
              "      <th>2</th>\n",
              "      <td>5957</td>\n",
              "      <td>6.917540e+18</td>\n",
              "      <td>6.917540e+18</td>\n",
              "      <td>6.917540e+18</td>\n",
              "      <td>7146.0</td>\n",
              "      <td>355758.0</td>\n",
              "      <td>58981.668289</td>\n",
              "      <td>3.513538e+08</td>\n",
              "      <td>49378355.0</td>\n",
              "      <td>943512631.0</td>\n",
              "      <td>4.952010e+08</td>\n",
              "      <td>2.949912e+12</td>\n",
              "    </tr>\n",
              "  </tbody>\n",
              "</table>\n",
              "</div>"
            ],
            "text/plain": [
              "                                         Bearer Id                \\\n",
              "                                             count           min   \n",
              "identified_clusters_of_unnormalized_data                           \n",
              "0                                            70120  7.277830e+18   \n",
              "1                                            73924  1.268210e+19   \n",
              "2                                             5957  6.917540e+18   \n",
              "\n",
              "                                                                      \\\n",
              "                                                   max          mean   \n",
              "identified_clusters_of_unnormalized_data                               \n",
              "0                                         7.566060e+18  7.319262e+18   \n",
              "1                                         1.318650e+19  1.307195e+19   \n",
              "2                                         6.917540e+18  6.917540e+18   \n",
              "\n",
              "                                         Dur. (ms)                            \\\n",
              "                                               min        max           mean   \n",
              "identified_clusters_of_unnormalized_data                                       \n",
              "0                                           7284.0  1573420.0  108502.486737   \n",
              "1                                           7142.0  1859336.0  104591.503206   \n",
              "2                                           7146.0   355758.0   58981.668289   \n",
              "\n",
              "                                                       All_total_data_volume  \\\n",
              "                                                   sum                   min   \n",
              "identified_clusters_of_unnormalized_data                                       \n",
              "0                                         7.608194e+09            33249009.0   \n",
              "1                                         7.731822e+09            28956107.0   \n",
              "2                                         3.513538e+08            49378355.0   \n",
              "\n",
              "                                                                     \\\n",
              "                                                  max          mean   \n",
              "identified_clusters_of_unnormalized_data                              \n",
              "0                                         950760661.0  4.957785e+08   \n",
              "1                                         955984776.0  4.957914e+08   \n",
              "2                                         943512631.0  4.952010e+08   \n",
              "\n",
              "                                                        \n",
              "                                                   sum  \n",
              "identified_clusters_of_unnormalized_data                \n",
              "0                                         3.476399e+13  \n",
              "1                                         3.665089e+13  \n",
              "2                                         2.949912e+12  "
            ]
          },
          "metadata": {
            "tags": []
          },
          "execution_count": 91
        }
      ]
    },
    {
      "cell_type": "code",
      "metadata": {
        "colab": {
          "base_uri": "https://localhost:8080/",
          "height": 142
        },
        "id": "v8AQH3aVQwnt",
        "outputId": "4e6c2183-2f3e-4d6a-c90e-49baaa491499"
      },
      "source": [
        "df_graph = df_with_unnormalized_cluster.groupby('identified_clusters_of_unnormalized_data',as_index=False).agg({'All_total_data_volume':'sum'})\n",
        "df_graph"
      ],
      "execution_count": 109,
      "outputs": [
        {
          "output_type": "execute_result",
          "data": {
            "text/html": [
              "<div>\n",
              "<style scoped>\n",
              "    .dataframe tbody tr th:only-of-type {\n",
              "        vertical-align: middle;\n",
              "    }\n",
              "\n",
              "    .dataframe tbody tr th {\n",
              "        vertical-align: top;\n",
              "    }\n",
              "\n",
              "    .dataframe thead th {\n",
              "        text-align: right;\n",
              "    }\n",
              "</style>\n",
              "<table border=\"1\" class=\"dataframe\">\n",
              "  <thead>\n",
              "    <tr style=\"text-align: right;\">\n",
              "      <th></th>\n",
              "      <th>identified_clusters_of_unnormalized_data</th>\n",
              "      <th>All_total_data_volume</th>\n",
              "    </tr>\n",
              "  </thead>\n",
              "  <tbody>\n",
              "    <tr>\n",
              "      <th>0</th>\n",
              "      <td>0</td>\n",
              "      <td>3.476399e+13</td>\n",
              "    </tr>\n",
              "    <tr>\n",
              "      <th>1</th>\n",
              "      <td>1</td>\n",
              "      <td>3.665089e+13</td>\n",
              "    </tr>\n",
              "    <tr>\n",
              "      <th>2</th>\n",
              "      <td>2</td>\n",
              "      <td>2.949912e+12</td>\n",
              "    </tr>\n",
              "  </tbody>\n",
              "</table>\n",
              "</div>"
            ],
            "text/plain": [
              "   identified_clusters_of_unnormalized_data  All_total_data_volume\n",
              "0                                         0           3.476399e+13\n",
              "1                                         1           3.665089e+13\n",
              "2                                         2           2.949912e+12"
            ]
          },
          "metadata": {
            "tags": []
          },
          "execution_count": 109
        }
      ]
    },
    {
      "cell_type": "code",
      "metadata": {
        "id": "VGIZ-rX-qClZ",
        "outputId": "7a790291-3d9d-4278-8e56-da76c881e291",
        "colab": {
          "base_uri": "https://localhost:8080/",
          "height": 831
        }
      },
      "source": [
        "df_graph.plot(x=\"identified_clusters_of_unnormalized_data\", y=\"All_total_data_volume\", kind=\"bar\",figsize=(12,14))\n",
        "plt.show()"
      ],
      "execution_count": 110,
      "outputs": [
        {
          "output_type": "display_data",
          "data": {
            "image/png": "[encoded data removed]",
            "text/plain": [
              "<Figure size 864x1008 with 1 Axes>"
            ]
          },
          "metadata": {
            "tags": [],
            "needs_background": "light"
          }
        }
      ]
    },
    {
      "cell_type": "markdown",
      "metadata": {
        "id": "qtKKvBbJrvl5"
      },
      "source": [
        "## Aggregate user total traffic per application and derive the top 10 most engaged users per application"
      ]
    },
    {
      "cell_type": "code",
      "metadata": {
        "id": "7bGWf4ipqQsy",
        "outputId": "296a0d6a-66de-4d99-8860-ecea0226c18c",
        "colab": {
          "base_uri": "https://localhost:8080/",
          "height": 359
        }
      },
      "source": [
        "df_clean.groupby('MSISDN/Number',as_index=False).agg({'Google_total_data_volume':'sum'}).sort_values(by=['Google_total_data_volume'], ascending=False).head(10)"
      ],
      "execution_count": 111,
      "outputs": [
        {
          "output_type": "execute_result",
          "data": {
            "text/html": [
              "<div>\n",
              "<style scoped>\n",
              "    .dataframe tbody tr th:only-of-type {\n",
              "        vertical-align: middle;\n",
              "    }\n",
              "\n",
              "    .dataframe tbody tr th {\n",
              "        vertical-align: top;\n",
              "    }\n",
              "\n",
              "    .dataframe thead th {\n",
              "        text-align: right;\n",
              "    }\n",
              "</style>\n",
              "<table border=\"1\" class=\"dataframe\">\n",
              "  <thead>\n",
              "    <tr style=\"text-align: right;\">\n",
              "      <th></th>\n",
              "      <th>MSISDN/Number</th>\n",
              "      <th>Google_total_data_volume</th>\n",
              "    </tr>\n",
              "  </thead>\n",
              "  <tbody>\n",
              "    <tr>\n",
              "      <th>13526</th>\n",
              "      <td>3.362632e+10</td>\n",
              "      <td>8.400769e+09</td>\n",
              "    </tr>\n",
              "    <tr>\n",
              "      <th>13180</th>\n",
              "      <td>3.362578e+10</td>\n",
              "      <td>1.423079e+08</td>\n",
              "    </tr>\n",
              "    <tr>\n",
              "      <th>6437</th>\n",
              "      <td>3.361489e+10</td>\n",
              "      <td>1.279738e+08</td>\n",
              "    </tr>\n",
              "    <tr>\n",
              "      <th>92923</th>\n",
              "      <td>3.376054e+10</td>\n",
              "      <td>1.232231e+08</td>\n",
              "    </tr>\n",
              "    <tr>\n",
              "      <th>37052</th>\n",
              "      <td>3.365973e+10</td>\n",
              "      <td>1.165163e+08</td>\n",
              "    </tr>\n",
              "    <tr>\n",
              "      <th>106137</th>\n",
              "      <td>3.378632e+10</td>\n",
              "      <td>1.102545e+08</td>\n",
              "    </tr>\n",
              "    <tr>\n",
              "      <th>76363</th>\n",
              "      <td>3.367588e+10</td>\n",
              "      <td>1.098605e+08</td>\n",
              "    </tr>\n",
              "    <tr>\n",
              "      <th>65118</th>\n",
              "      <td>3.366716e+10</td>\n",
              "      <td>1.050327e+08</td>\n",
              "    </tr>\n",
              "    <tr>\n",
              "      <th>94654</th>\n",
              "      <td>3.376127e+10</td>\n",
              "      <td>9.708999e+07</td>\n",
              "    </tr>\n",
              "    <tr>\n",
              "      <th>86313</th>\n",
              "      <td>3.369876e+10</td>\n",
              "      <td>9.193515e+07</td>\n",
              "    </tr>\n",
              "  </tbody>\n",
              "</table>\n",
              "</div>"
            ],
            "text/plain": [
              "        MSISDN/Number  Google_total_data_volume\n",
              "13526    3.362632e+10              8.400769e+09\n",
              "13180    3.362578e+10              1.423079e+08\n",
              "6437     3.361489e+10              1.279738e+08\n",
              "92923    3.376054e+10              1.232231e+08\n",
              "37052    3.365973e+10              1.165163e+08\n",
              "106137   3.378632e+10              1.102545e+08\n",
              "76363    3.367588e+10              1.098605e+08\n",
              "65118    3.366716e+10              1.050327e+08\n",
              "94654    3.376127e+10              9.708999e+07\n",
              "86313    3.369876e+10              9.193515e+07"
            ]
          },
          "metadata": {
            "tags": []
          },
          "execution_count": 111
        }
      ]
    },
    {
      "cell_type": "code",
      "metadata": {
        "id": "raAFCdljq7HI",
        "outputId": "1cb0a754-fcb4-4558-ea70-b7ab495c3496",
        "colab": {
          "base_uri": "https://localhost:8080/",
          "height": 359
        }
      },
      "source": [
        "df_clean.groupby('MSISDN/Number',as_index=False).agg({'Youtube_total_data_volume':'sum'}).sort_values(by=['Youtube_total_data_volume'], ascending=False).head(10)"
      ],
      "execution_count": 112,
      "outputs": [
        {
          "output_type": "execute_result",
          "data": {
            "text/html": [
              "<div>\n",
              "<style scoped>\n",
              "    .dataframe tbody tr th:only-of-type {\n",
              "        vertical-align: middle;\n",
              "    }\n",
              "\n",
              "    .dataframe tbody tr th {\n",
              "        vertical-align: top;\n",
              "    }\n",
              "\n",
              "    .dataframe thead th {\n",
              "        text-align: right;\n",
              "    }\n",
              "</style>\n",
              "<table border=\"1\" class=\"dataframe\">\n",
              "  <thead>\n",
              "    <tr style=\"text-align: right;\">\n",
              "      <th></th>\n",
              "      <th>MSISDN/Number</th>\n",
              "      <th>Youtube_total_data_volume</th>\n",
              "    </tr>\n",
              "  </thead>\n",
              "  <tbody>\n",
              "    <tr>\n",
              "      <th>13526</th>\n",
              "      <td>3.362632e+10</td>\n",
              "      <td>2.471521e+10</td>\n",
              "    </tr>\n",
              "    <tr>\n",
              "      <th>13180</th>\n",
              "      <td>3.362578e+10</td>\n",
              "      <td>4.529588e+08</td>\n",
              "    </tr>\n",
              "    <tr>\n",
              "      <th>92923</th>\n",
              "      <td>3.376054e+10</td>\n",
              "      <td>3.962892e+08</td>\n",
              "    </tr>\n",
              "    <tr>\n",
              "      <th>6437</th>\n",
              "      <td>3.361489e+10</td>\n",
              "      <td>3.943702e+08</td>\n",
              "    </tr>\n",
              "    <tr>\n",
              "      <th>76363</th>\n",
              "      <td>3.367588e+10</td>\n",
              "      <td>3.174106e+08</td>\n",
              "    </tr>\n",
              "    <tr>\n",
              "      <th>65118</th>\n",
              "      <td>3.366716e+10</td>\n",
              "      <td>3.152313e+08</td>\n",
              "    </tr>\n",
              "    <tr>\n",
              "      <th>13994</th>\n",
              "      <td>3.362708e+10</td>\n",
              "      <td>3.087908e+08</td>\n",
              "    </tr>\n",
              "    <tr>\n",
              "      <th>92577</th>\n",
              "      <td>3.376041e+10</td>\n",
              "      <td>3.031691e+08</td>\n",
              "    </tr>\n",
              "    <tr>\n",
              "      <th>86455</th>\n",
              "      <td>3.369879e+10</td>\n",
              "      <td>3.026620e+08</td>\n",
              "    </tr>\n",
              "    <tr>\n",
              "      <th>666</th>\n",
              "      <td>3.360313e+10</td>\n",
              "      <td>2.840901e+08</td>\n",
              "    </tr>\n",
              "  </tbody>\n",
              "</table>\n",
              "</div>"
            ],
            "text/plain": [
              "       MSISDN/Number  Youtube_total_data_volume\n",
              "13526   3.362632e+10               2.471521e+10\n",
              "13180   3.362578e+10               4.529588e+08\n",
              "92923   3.376054e+10               3.962892e+08\n",
              "6437    3.361489e+10               3.943702e+08\n",
              "76363   3.367588e+10               3.174106e+08\n",
              "65118   3.366716e+10               3.152313e+08\n",
              "13994   3.362708e+10               3.087908e+08\n",
              "92577   3.376041e+10               3.031691e+08\n",
              "86455   3.369879e+10               3.026620e+08\n",
              "666     3.360313e+10               2.840901e+08"
            ]
          },
          "metadata": {
            "tags": []
          },
          "execution_count": 112
        }
      ]
    },
    {
      "cell_type": "code",
      "metadata": {
        "id": "RxLvihTurNR9",
        "outputId": "f09ad40a-332a-422c-b50a-f3437072a00a",
        "colab": {
          "base_uri": "https://localhost:8080/",
          "height": 359
        }
      },
      "source": [
        "df_clean.groupby('MSISDN/Number',as_index=False).agg({'Email_total_data_volume':'sum'}).sort_values(by=['Email_total_data_volume'], ascending=False).head(10)"
      ],
      "execution_count": 113,
      "outputs": [
        {
          "output_type": "execute_result",
          "data": {
            "text/html": [
              "<div>\n",
              "<style scoped>\n",
              "    .dataframe tbody tr th:only-of-type {\n",
              "        vertical-align: middle;\n",
              "    }\n",
              "\n",
              "    .dataframe tbody tr th {\n",
              "        vertical-align: top;\n",
              "    }\n",
              "\n",
              "    .dataframe thead th {\n",
              "        text-align: right;\n",
              "    }\n",
              "</style>\n",
              "<table border=\"1\" class=\"dataframe\">\n",
              "  <thead>\n",
              "    <tr style=\"text-align: right;\">\n",
              "      <th></th>\n",
              "      <th>MSISDN/Number</th>\n",
              "      <th>Email_total_data_volume</th>\n",
              "    </tr>\n",
              "  </thead>\n",
              "  <tbody>\n",
              "    <tr>\n",
              "      <th>13526</th>\n",
              "      <td>3.362632e+10</td>\n",
              "      <td>2.442299e+09</td>\n",
              "    </tr>\n",
              "    <tr>\n",
              "      <th>6437</th>\n",
              "      <td>3.361489e+10</td>\n",
              "      <td>4.078863e+07</td>\n",
              "    </tr>\n",
              "    <tr>\n",
              "      <th>13180</th>\n",
              "      <td>3.362578e+10</td>\n",
              "      <td>4.063397e+07</td>\n",
              "    </tr>\n",
              "    <tr>\n",
              "      <th>106137</th>\n",
              "      <td>3.378632e+10</td>\n",
              "      <td>3.631012e+07</td>\n",
              "    </tr>\n",
              "    <tr>\n",
              "      <th>37052</th>\n",
              "      <td>3.365973e+10</td>\n",
              "      <td>3.599979e+07</td>\n",
              "    </tr>\n",
              "    <tr>\n",
              "      <th>92923</th>\n",
              "      <td>3.376054e+10</td>\n",
              "      <td>3.369377e+07</td>\n",
              "    </tr>\n",
              "    <tr>\n",
              "      <th>76363</th>\n",
              "      <td>3.367588e+10</td>\n",
              "      <td>3.151442e+07</td>\n",
              "    </tr>\n",
              "    <tr>\n",
              "      <th>60087</th>\n",
              "      <td>3.366546e+10</td>\n",
              "      <td>3.041788e+07</td>\n",
              "    </tr>\n",
              "    <tr>\n",
              "      <th>65118</th>\n",
              "      <td>3.366716e+10</td>\n",
              "      <td>3.033580e+07</td>\n",
              "    </tr>\n",
              "    <tr>\n",
              "      <th>86455</th>\n",
              "      <td>3.369879e+10</td>\n",
              "      <td>2.905904e+07</td>\n",
              "    </tr>\n",
              "  </tbody>\n",
              "</table>\n",
              "</div>"
            ],
            "text/plain": [
              "        MSISDN/Number  Email_total_data_volume\n",
              "13526    3.362632e+10             2.442299e+09\n",
              "6437     3.361489e+10             4.078863e+07\n",
              "13180    3.362578e+10             4.063397e+07\n",
              "106137   3.378632e+10             3.631012e+07\n",
              "37052    3.365973e+10             3.599979e+07\n",
              "92923    3.376054e+10             3.369377e+07\n",
              "76363    3.367588e+10             3.151442e+07\n",
              "60087    3.366546e+10             3.041788e+07\n",
              "65118    3.366716e+10             3.033580e+07\n",
              "86455    3.369879e+10             2.905904e+07"
            ]
          },
          "metadata": {
            "tags": []
          },
          "execution_count": 113
        }
      ]
    },
    {
      "cell_type": "code",
      "metadata": {
        "id": "GOHXjxitrT7B",
        "outputId": "e63d9f1d-04d6-44d1-af41-592d3a7a8d99",
        "colab": {
          "base_uri": "https://localhost:8080/",
          "height": 359
        }
      },
      "source": [
        "df_clean.groupby('MSISDN/Number',as_index=False).agg({'Netflix_total_data_volume':'sum'}).sort_values(by=['Netflix_total_data_volume'], ascending=False).head(10)"
      ],
      "execution_count": 114,
      "outputs": [
        {
          "output_type": "execute_result",
          "data": {
            "text/html": [
              "<div>\n",
              "<style scoped>\n",
              "    .dataframe tbody tr th:only-of-type {\n",
              "        vertical-align: middle;\n",
              "    }\n",
              "\n",
              "    .dataframe tbody tr th {\n",
              "        vertical-align: top;\n",
              "    }\n",
              "\n",
              "    .dataframe thead th {\n",
              "        text-align: right;\n",
              "    }\n",
              "</style>\n",
              "<table border=\"1\" class=\"dataframe\">\n",
              "  <thead>\n",
              "    <tr style=\"text-align: right;\">\n",
              "      <th></th>\n",
              "      <th>MSISDN/Number</th>\n",
              "      <th>Netflix_total_data_volume</th>\n",
              "    </tr>\n",
              "  </thead>\n",
              "  <tbody>\n",
              "    <tr>\n",
              "      <th>13526</th>\n",
              "      <td>3.362632e+10</td>\n",
              "      <td>2.458230e+10</td>\n",
              "    </tr>\n",
              "    <tr>\n",
              "      <th>37052</th>\n",
              "      <td>3.365973e+10</td>\n",
              "      <td>3.995191e+08</td>\n",
              "    </tr>\n",
              "    <tr>\n",
              "      <th>6437</th>\n",
              "      <td>3.361489e+10</td>\n",
              "      <td>3.614010e+08</td>\n",
              "    </tr>\n",
              "    <tr>\n",
              "      <th>13180</th>\n",
              "      <td>3.362578e+10</td>\n",
              "      <td>3.569806e+08</td>\n",
              "    </tr>\n",
              "    <tr>\n",
              "      <th>92923</th>\n",
              "      <td>3.376054e+10</td>\n",
              "      <td>3.346433e+08</td>\n",
              "    </tr>\n",
              "    <tr>\n",
              "      <th>92577</th>\n",
              "      <td>3.376041e+10</td>\n",
              "      <td>3.183475e+08</td>\n",
              "    </tr>\n",
              "    <tr>\n",
              "      <th>65118</th>\n",
              "      <td>3.366716e+10</td>\n",
              "      <td>3.139395e+08</td>\n",
              "    </tr>\n",
              "    <tr>\n",
              "      <th>76363</th>\n",
              "      <td>3.367588e+10</td>\n",
              "      <td>3.090932e+08</td>\n",
              "    </tr>\n",
              "    <tr>\n",
              "      <th>106137</th>\n",
              "      <td>3.378632e+10</td>\n",
              "      <td>3.059398e+08</td>\n",
              "    </tr>\n",
              "    <tr>\n",
              "      <th>94654</th>\n",
              "      <td>3.376127e+10</td>\n",
              "      <td>2.920913e+08</td>\n",
              "    </tr>\n",
              "  </tbody>\n",
              "</table>\n",
              "</div>"
            ],
            "text/plain": [
              "        MSISDN/Number  Netflix_total_data_volume\n",
              "13526    3.362632e+10               2.458230e+10\n",
              "37052    3.365973e+10               3.995191e+08\n",
              "6437     3.361489e+10               3.614010e+08\n",
              "13180    3.362578e+10               3.569806e+08\n",
              "92923    3.376054e+10               3.346433e+08\n",
              "92577    3.376041e+10               3.183475e+08\n",
              "65118    3.366716e+10               3.139395e+08\n",
              "76363    3.367588e+10               3.090932e+08\n",
              "106137   3.378632e+10               3.059398e+08\n",
              "94654    3.376127e+10               2.920913e+08"
            ]
          },
          "metadata": {
            "tags": []
          },
          "execution_count": 114
        }
      ]
    },
    {
      "cell_type": "code",
      "metadata": {
        "id": "CGWjTBSgrYna",
        "outputId": "4832cc5c-c52f-4d7f-d228-431183509ffd",
        "colab": {
          "base_uri": "https://localhost:8080/",
          "height": 359
        }
      },
      "source": [
        "df_clean.groupby('MSISDN/Number',as_index=False).agg({'Gaming_total_data_volume':'sum'}).sort_values(by=['Gaming_total_data_volume'], ascending=False).head(10)"
      ],
      "execution_count": 115,
      "outputs": [
        {
          "output_type": "execute_result",
          "data": {
            "text/html": [
              "<div>\n",
              "<style scoped>\n",
              "    .dataframe tbody tr th:only-of-type {\n",
              "        vertical-align: middle;\n",
              "    }\n",
              "\n",
              "    .dataframe tbody tr th {\n",
              "        vertical-align: top;\n",
              "    }\n",
              "\n",
              "    .dataframe thead th {\n",
              "        text-align: right;\n",
              "    }\n",
              "</style>\n",
              "<table border=\"1\" class=\"dataframe\">\n",
              "  <thead>\n",
              "    <tr style=\"text-align: right;\">\n",
              "      <th></th>\n",
              "      <th>MSISDN/Number</th>\n",
              "      <th>Gaming_total_data_volume</th>\n",
              "    </tr>\n",
              "  </thead>\n",
              "  <tbody>\n",
              "    <tr>\n",
              "      <th>13526</th>\n",
              "      <td>3.362632e+10</td>\n",
              "      <td>4.683656e+11</td>\n",
              "    </tr>\n",
              "    <tr>\n",
              "      <th>6437</th>\n",
              "      <td>3.361489e+10</td>\n",
              "      <td>7.749432e+09</td>\n",
              "    </tr>\n",
              "    <tr>\n",
              "      <th>92923</th>\n",
              "      <td>3.376054e+10</td>\n",
              "      <td>7.461045e+09</td>\n",
              "    </tr>\n",
              "    <tr>\n",
              "      <th>13180</th>\n",
              "      <td>3.362578e+10</td>\n",
              "      <td>7.326673e+09</td>\n",
              "    </tr>\n",
              "    <tr>\n",
              "      <th>76363</th>\n",
              "      <td>3.367588e+10</td>\n",
              "      <td>6.970568e+09</td>\n",
              "    </tr>\n",
              "    <tr>\n",
              "      <th>37052</th>\n",
              "      <td>3.365973e+10</td>\n",
              "      <td>6.725559e+09</td>\n",
              "    </tr>\n",
              "    <tr>\n",
              "      <th>63028</th>\n",
              "      <td>3.366646e+10</td>\n",
              "      <td>6.646303e+09</td>\n",
              "    </tr>\n",
              "    <tr>\n",
              "      <th>92577</th>\n",
              "      <td>3.376041e+10</td>\n",
              "      <td>6.268620e+09</td>\n",
              "    </tr>\n",
              "    <tr>\n",
              "      <th>57241</th>\n",
              "      <td>3.366471e+10</td>\n",
              "      <td>6.103856e+09</td>\n",
              "    </tr>\n",
              "    <tr>\n",
              "      <th>86455</th>\n",
              "      <td>3.369879e+10</td>\n",
              "      <td>5.753743e+09</td>\n",
              "    </tr>\n",
              "  </tbody>\n",
              "</table>\n",
              "</div>"
            ],
            "text/plain": [
              "       MSISDN/Number  Gaming_total_data_volume\n",
              "13526   3.362632e+10              4.683656e+11\n",
              "6437    3.361489e+10              7.749432e+09\n",
              "92923   3.376054e+10              7.461045e+09\n",
              "13180   3.362578e+10              7.326673e+09\n",
              "76363   3.367588e+10              6.970568e+09\n",
              "37052   3.365973e+10              6.725559e+09\n",
              "63028   3.366646e+10              6.646303e+09\n",
              "92577   3.376041e+10              6.268620e+09\n",
              "57241   3.366471e+10              6.103856e+09\n",
              "86455   3.369879e+10              5.753743e+09"
            ]
          },
          "metadata": {
            "tags": []
          },
          "execution_count": 115
        }
      ]
    },
    {
      "cell_type": "code",
      "metadata": {
        "id": "j-Xff1jzrfT0",
        "outputId": "d4ea5136-55ba-4734-dc16-385918ef44db",
        "colab": {
          "base_uri": "https://localhost:8080/",
          "height": 359
        }
      },
      "source": [
        "df_clean.groupby('MSISDN/Number',as_index=False).agg({'SocialMedia_total_data_volume':'sum'}).sort_values(by=['SocialMedia_total_data_volume'], ascending=False).head(10)"
      ],
      "execution_count": 116,
      "outputs": [
        {
          "output_type": "execute_result",
          "data": {
            "text/html": [
              "<div>\n",
              "<style scoped>\n",
              "    .dataframe tbody tr th:only-of-type {\n",
              "        vertical-align: middle;\n",
              "    }\n",
              "\n",
              "    .dataframe tbody tr th {\n",
              "        vertical-align: top;\n",
              "    }\n",
              "\n",
              "    .dataframe thead th {\n",
              "        text-align: right;\n",
              "    }\n",
              "</style>\n",
              "<table border=\"1\" class=\"dataframe\">\n",
              "  <thead>\n",
              "    <tr style=\"text-align: right;\">\n",
              "      <th></th>\n",
              "      <th>MSISDN/Number</th>\n",
              "      <th>SocialMedia_total_data_volume</th>\n",
              "    </tr>\n",
              "  </thead>\n",
              "  <tbody>\n",
              "    <tr>\n",
              "      <th>13526</th>\n",
              "      <td>3.362632e+10</td>\n",
              "      <td>2.017192e+09</td>\n",
              "    </tr>\n",
              "    <tr>\n",
              "      <th>92923</th>\n",
              "      <td>3.376054e+10</td>\n",
              "      <td>3.978319e+07</td>\n",
              "    </tr>\n",
              "    <tr>\n",
              "      <th>37052</th>\n",
              "      <td>3.365973e+10</td>\n",
              "      <td>3.541236e+07</td>\n",
              "    </tr>\n",
              "    <tr>\n",
              "      <th>6437</th>\n",
              "      <td>3.361489e+10</td>\n",
              "      <td>2.829454e+07</td>\n",
              "    </tr>\n",
              "    <tr>\n",
              "      <th>13180</th>\n",
              "      <td>3.362578e+10</td>\n",
              "      <td>2.713550e+07</td>\n",
              "    </tr>\n",
              "    <tr>\n",
              "      <th>65118</th>\n",
              "      <td>3.366716e+10</td>\n",
              "      <td>2.424785e+07</td>\n",
              "    </tr>\n",
              "    <tr>\n",
              "      <th>106137</th>\n",
              "      <td>3.378632e+10</td>\n",
              "      <td>2.397492e+07</td>\n",
              "    </tr>\n",
              "    <tr>\n",
              "      <th>70960</th>\n",
              "      <td>3.366907e+10</td>\n",
              "      <td>2.380083e+07</td>\n",
              "    </tr>\n",
              "    <tr>\n",
              "      <th>666</th>\n",
              "      <td>3.360313e+10</td>\n",
              "      <td>2.307782e+07</td>\n",
              "    </tr>\n",
              "    <tr>\n",
              "      <th>31331</th>\n",
              "      <td>3.365849e+10</td>\n",
              "      <td>2.300007e+07</td>\n",
              "    </tr>\n",
              "  </tbody>\n",
              "</table>\n",
              "</div>"
            ],
            "text/plain": [
              "        MSISDN/Number  SocialMedia_total_data_volume\n",
              "13526    3.362632e+10                   2.017192e+09\n",
              "92923    3.376054e+10                   3.978319e+07\n",
              "37052    3.365973e+10                   3.541236e+07\n",
              "6437     3.361489e+10                   2.829454e+07\n",
              "13180    3.362578e+10                   2.713550e+07\n",
              "65118    3.366716e+10                   2.424785e+07\n",
              "106137   3.378632e+10                   2.397492e+07\n",
              "70960    3.366907e+10                   2.380083e+07\n",
              "666      3.360313e+10                   2.307782e+07\n",
              "31331    3.365849e+10                   2.300007e+07"
            ]
          },
          "metadata": {
            "tags": []
          },
          "execution_count": 116
        }
      ]
    },
    {
      "cell_type": "code",
      "metadata": {
        "id": "0vRT9CVorlTZ",
        "outputId": "662e6d3d-169c-4b98-af9a-16bf6e848c83",
        "colab": {
          "base_uri": "https://localhost:8080/",
          "height": 359
        }
      },
      "source": [
        "df_clean.groupby('MSISDN/Number',as_index=False).agg({'Other_total_data_volume':'sum'}).sort_values(by=['Other_total_data_volume'], ascending=False).head(10)"
      ],
      "execution_count": 117,
      "outputs": [
        {
          "output_type": "execute_result",
          "data": {
            "text/html": [
              "<div>\n",
              "<style scoped>\n",
              "    .dataframe tbody tr th:only-of-type {\n",
              "        vertical-align: middle;\n",
              "    }\n",
              "\n",
              "    .dataframe tbody tr th {\n",
              "        vertical-align: top;\n",
              "    }\n",
              "\n",
              "    .dataframe thead th {\n",
              "        text-align: right;\n",
              "    }\n",
              "</style>\n",
              "<table border=\"1\" class=\"dataframe\">\n",
              "  <thead>\n",
              "    <tr style=\"text-align: right;\">\n",
              "      <th></th>\n",
              "      <th>MSISDN/Number</th>\n",
              "      <th>Other_total_data_volume</th>\n",
              "    </tr>\n",
              "  </thead>\n",
              "  <tbody>\n",
              "    <tr>\n",
              "      <th>13526</th>\n",
              "      <td>3.362632e+10</td>\n",
              "      <td>4.591463e+11</td>\n",
              "    </tr>\n",
              "    <tr>\n",
              "      <th>6437</th>\n",
              "      <td>3.361489e+10</td>\n",
              "      <td>7.639264e+09</td>\n",
              "    </tr>\n",
              "    <tr>\n",
              "      <th>76363</th>\n",
              "      <td>3.367588e+10</td>\n",
              "      <td>6.798515e+09</td>\n",
              "    </tr>\n",
              "    <tr>\n",
              "      <th>13180</th>\n",
              "      <td>3.362578e+10</td>\n",
              "      <td>6.354583e+09</td>\n",
              "    </tr>\n",
              "    <tr>\n",
              "      <th>666</th>\n",
              "      <td>3.360313e+10</td>\n",
              "      <td>6.326671e+09</td>\n",
              "    </tr>\n",
              "    <tr>\n",
              "      <th>37052</th>\n",
              "      <td>3.365973e+10</td>\n",
              "      <td>6.317415e+09</td>\n",
              "    </tr>\n",
              "    <tr>\n",
              "      <th>13936</th>\n",
              "      <td>3.362695e+10</td>\n",
              "      <td>5.305448e+09</td>\n",
              "    </tr>\n",
              "    <tr>\n",
              "      <th>13994</th>\n",
              "      <td>3.362708e+10</td>\n",
              "      <td>5.117791e+09</td>\n",
              "    </tr>\n",
              "    <tr>\n",
              "      <th>94654</th>\n",
              "      <td>3.376127e+10</td>\n",
              "      <td>5.077779e+09</td>\n",
              "    </tr>\n",
              "    <tr>\n",
              "      <th>30715</th>\n",
              "      <td>3.365836e+10</td>\n",
              "      <td>5.013651e+09</td>\n",
              "    </tr>\n",
              "  </tbody>\n",
              "</table>\n",
              "</div>"
            ],
            "text/plain": [
              "       MSISDN/Number  Other_total_data_volume\n",
              "13526   3.362632e+10             4.591463e+11\n",
              "6437    3.361489e+10             7.639264e+09\n",
              "76363   3.367588e+10             6.798515e+09\n",
              "13180   3.362578e+10             6.354583e+09\n",
              "666     3.360313e+10             6.326671e+09\n",
              "37052   3.365973e+10             6.317415e+09\n",
              "13936   3.362695e+10             5.305448e+09\n",
              "13994   3.362708e+10             5.117791e+09\n",
              "94654   3.376127e+10             5.077779e+09\n",
              "30715   3.365836e+10             5.013651e+09"
            ]
          },
          "metadata": {
            "tags": []
          },
          "execution_count": 117
        }
      ]
    },
    {
      "cell_type": "code",
      "metadata": {
        "id": "7Km1d2JZrskK"
      },
      "source": [
        ""
      ],
      "execution_count": null,
      "outputs": []
    }
  ]
}