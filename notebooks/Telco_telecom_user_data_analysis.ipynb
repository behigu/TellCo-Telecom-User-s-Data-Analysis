{
  "nbformat": 4,
  "nbformat_minor": 0,
  "metadata": {
    "colab": {
      "name": "Telco telecom user data analysis.ipynb",
      "provenance": [],
      "mount_file_id": "https://github.com/behigu/TellCo-Telecom-User-s-Data-Analysis/blob/main/notebooks/Telco_telecom_user_data_analysis.ipynb",
      "authorship_tag": "ABX9TyOjRv2s6FxOWQAwPvww1Tty",
      "include_colab_link": true
    },
    "kernelspec": {
      "name": "python3",
      "display_name": "Python 3"
    },
    "language_info": {
      "name": "python"
    }
  },
  "cells": [
    {
      "cell_type": "markdown",
      "metadata": {
        "id": "view-in-github",
        "colab_type": "text"
      },
      "source": [
        "<a href=\"https://colab.research.google.com/github/behigu/TellCo-Telecom-User-s-Data-Analysis/blob/main/notebooks/Telco_telecom_user_data_analysis.ipynb\" target=\"_parent\"><img src=\"https://colab.research.google.com/assets/colab-badge.svg\" alt=\"Open In Colab\"/></a>"
      ]
    },
    {
      "cell_type": "code",
      "metadata": {
        "id": "SSyg3gXDqVtS"
      },
      "source": [
        "import pandas as pd\n",
        "import numpy as np"
      ],
      "execution_count": 2,
      "outputs": []
    },
    {
      "cell_type": "markdown",
      "metadata": {
        "id": "Vg2MkE0Y6VNE"
      },
      "source": [
        "The data used in this analysis can be found in **this link**\n",
        "https://github.com/behigu/TellCo-Telecom-User-s-Data-Analysis/blob/main/data/Week1_challenge_data_source.rar"
      ]
    },
    {
      "cell_type": "code",
      "metadata": {
        "id": "2lunCwCb3G7Z"
      },
      "source": [
        "pd.set_option('max_column', None)\n",
        "df= pd.read_csv('drive/MyDrive/ColabNotebooks/Week1_challenge_data_source.csv')"
      ],
      "execution_count": 3,
      "outputs": []
    },
    {
      "cell_type": "code",
      "metadata": {
        "colab": {
          "base_uri": "https://localhost:8080/",
          "height": 417
        },
        "id": "pG5C-Dl04EGr",
        "outputId": "df57466a-5aa6-4a3e-e68c-ba08a6199c4b"
      },
      "source": [
        "df.head(3)"
      ],
      "execution_count": 4,
      "outputs": [
        {
          "output_type": "execute_result",
          "data": {
            "text/html": [
              "<div>\n",
              "<style scoped>\n",
              "    .dataframe tbody tr th:only-of-type {\n",
              "        vertical-align: middle;\n",
              "    }\n",
              "\n",
              "    .dataframe tbody tr th {\n",
              "        vertical-align: top;\n",
              "    }\n",
              "\n",
              "    .dataframe thead th {\n",
              "        text-align: right;\n",
              "    }\n",
              "</style>\n",
              "<table border=\"1\" class=\"dataframe\">\n",
              "  <thead>\n",
              "    <tr style=\"text-align: right;\">\n",
              "      <th></th>\n",
              "      <th>Bearer Id</th>\n",
              "      <th>Start</th>\n",
              "      <th>Start ms</th>\n",
              "      <th>End</th>\n",
              "      <th>End ms</th>\n",
              "      <th>Dur. (ms)</th>\n",
              "      <th>IMSI</th>\n",
              "      <th>MSISDN/Number</th>\n",
              "      <th>IMEI</th>\n",
              "      <th>Last Location Name</th>\n",
              "      <th>Avg RTT DL (ms)</th>\n",
              "      <th>Avg RTT UL (ms)</th>\n",
              "      <th>Avg Bearer TP DL (kbps)</th>\n",
              "      <th>Avg Bearer TP UL (kbps)</th>\n",
              "      <th>TCP DL Retrans. Vol (Bytes)</th>\n",
              "      <th>TCP UL Retrans. Vol (Bytes)</th>\n",
              "      <th>DL TP &lt; 50 Kbps (%)</th>\n",
              "      <th>50 Kbps &lt; DL TP &lt; 250 Kbps (%)</th>\n",
              "      <th>250 Kbps &lt; DL TP &lt; 1 Mbps (%)</th>\n",
              "      <th>DL TP &gt; 1 Mbps (%)</th>\n",
              "      <th>UL TP &lt; 10 Kbps (%)</th>\n",
              "      <th>10 Kbps &lt; UL TP &lt; 50 Kbps (%)</th>\n",
              "      <th>50 Kbps &lt; UL TP &lt; 300 Kbps (%)</th>\n",
              "      <th>UL TP &gt; 300 Kbps (%)</th>\n",
              "      <th>HTTP DL (Bytes)</th>\n",
              "      <th>HTTP UL (Bytes)</th>\n",
              "      <th>Activity Duration DL (ms)</th>\n",
              "      <th>Activity Duration UL (ms)</th>\n",
              "      <th>Dur. (ms).1</th>\n",
              "      <th>Handset Manufacturer</th>\n",
              "      <th>Handset Type</th>\n",
              "      <th>Nb of sec with 125000B &lt; Vol DL</th>\n",
              "      <th>Nb of sec with 1250B &lt; Vol UL &lt; 6250B</th>\n",
              "      <th>Nb of sec with 31250B &lt; Vol DL &lt; 125000B</th>\n",
              "      <th>Nb of sec with 37500B &lt; Vol UL</th>\n",
              "      <th>Nb of sec with 6250B &lt; Vol DL &lt; 31250B</th>\n",
              "      <th>Nb of sec with 6250B &lt; Vol UL &lt; 37500B</th>\n",
              "      <th>Nb of sec with Vol DL &lt; 6250B</th>\n",
              "      <th>Nb of sec with Vol UL &lt; 1250B</th>\n",
              "      <th>Social Media DL (Bytes)</th>\n",
              "      <th>Social Media UL (Bytes)</th>\n",
              "      <th>Google DL (Bytes)</th>\n",
              "      <th>Google UL (Bytes)</th>\n",
              "      <th>Email DL (Bytes)</th>\n",
              "      <th>Email UL (Bytes)</th>\n",
              "      <th>Youtube DL (Bytes)</th>\n",
              "      <th>Youtube UL (Bytes)</th>\n",
              "      <th>Netflix DL (Bytes)</th>\n",
              "      <th>Netflix UL (Bytes)</th>\n",
              "      <th>Gaming DL (Bytes)</th>\n",
              "      <th>Gaming UL (Bytes)</th>\n",
              "      <th>Other DL (Bytes)</th>\n",
              "      <th>Other UL (Bytes)</th>\n",
              "      <th>Total UL (Bytes)</th>\n",
              "      <th>Total DL (Bytes)</th>\n",
              "    </tr>\n",
              "  </thead>\n",
              "  <tbody>\n",
              "    <tr>\n",
              "      <th>0</th>\n",
              "      <td>1.311450e+19</td>\n",
              "      <td>4/4/2019 12:01</td>\n",
              "      <td>770.0</td>\n",
              "      <td>4/25/2019 14:35</td>\n",
              "      <td>662.0</td>\n",
              "      <td>1823652.0</td>\n",
              "      <td>2.082010e+14</td>\n",
              "      <td>3.366496e+10</td>\n",
              "      <td>3.552120e+13</td>\n",
              "      <td>9.16457E+15</td>\n",
              "      <td>42.0</td>\n",
              "      <td>5.0</td>\n",
              "      <td>23.0</td>\n",
              "      <td>44.0</td>\n",
              "      <td>NaN</td>\n",
              "      <td>NaN</td>\n",
              "      <td>100.0</td>\n",
              "      <td>0.0</td>\n",
              "      <td>0.0</td>\n",
              "      <td>0.0</td>\n",
              "      <td>100.0</td>\n",
              "      <td>0.0</td>\n",
              "      <td>0.0</td>\n",
              "      <td>0.0</td>\n",
              "      <td>NaN</td>\n",
              "      <td>NaN</td>\n",
              "      <td>37624.0</td>\n",
              "      <td>38787.0</td>\n",
              "      <td>1.823653e+09</td>\n",
              "      <td>Samsung</td>\n",
              "      <td>Samsung Galaxy A5 Sm-A520F</td>\n",
              "      <td>NaN</td>\n",
              "      <td>NaN</td>\n",
              "      <td>NaN</td>\n",
              "      <td>NaN</td>\n",
              "      <td>NaN</td>\n",
              "      <td>NaN</td>\n",
              "      <td>213.0</td>\n",
              "      <td>214.0</td>\n",
              "      <td>1545765.0</td>\n",
              "      <td>24420.0</td>\n",
              "      <td>1634479.0</td>\n",
              "      <td>1271433.0</td>\n",
              "      <td>3563542.0</td>\n",
              "      <td>137762.0</td>\n",
              "      <td>15854611.0</td>\n",
              "      <td>2501332.0</td>\n",
              "      <td>8198936.0</td>\n",
              "      <td>9656251.0</td>\n",
              "      <td>278082303.0</td>\n",
              "      <td>14344150.0</td>\n",
              "      <td>171744450.0</td>\n",
              "      <td>8814393.0</td>\n",
              "      <td>36749741.0</td>\n",
              "      <td>308879636.0</td>\n",
              "    </tr>\n",
              "    <tr>\n",
              "      <th>1</th>\n",
              "      <td>1.311450e+19</td>\n",
              "      <td>4/9/2019 13:04</td>\n",
              "      <td>235.0</td>\n",
              "      <td>4/25/2019 8:15</td>\n",
              "      <td>606.0</td>\n",
              "      <td>1365104.0</td>\n",
              "      <td>2.082020e+14</td>\n",
              "      <td>3.368185e+10</td>\n",
              "      <td>3.579400e+13</td>\n",
              "      <td>L77566A</td>\n",
              "      <td>65.0</td>\n",
              "      <td>5.0</td>\n",
              "      <td>16.0</td>\n",
              "      <td>26.0</td>\n",
              "      <td>NaN</td>\n",
              "      <td>NaN</td>\n",
              "      <td>100.0</td>\n",
              "      <td>0.0</td>\n",
              "      <td>0.0</td>\n",
              "      <td>0.0</td>\n",
              "      <td>100.0</td>\n",
              "      <td>0.0</td>\n",
              "      <td>0.0</td>\n",
              "      <td>0.0</td>\n",
              "      <td>NaN</td>\n",
              "      <td>NaN</td>\n",
              "      <td>168.0</td>\n",
              "      <td>3560.0</td>\n",
              "      <td>1.365104e+09</td>\n",
              "      <td>Samsung</td>\n",
              "      <td>Samsung Galaxy J5 (Sm-J530)</td>\n",
              "      <td>NaN</td>\n",
              "      <td>NaN</td>\n",
              "      <td>NaN</td>\n",
              "      <td>NaN</td>\n",
              "      <td>NaN</td>\n",
              "      <td>NaN</td>\n",
              "      <td>971.0</td>\n",
              "      <td>1022.0</td>\n",
              "      <td>1926113.0</td>\n",
              "      <td>7165.0</td>\n",
              "      <td>3493924.0</td>\n",
              "      <td>920172.0</td>\n",
              "      <td>629046.0</td>\n",
              "      <td>308339.0</td>\n",
              "      <td>20247395.0</td>\n",
              "      <td>19111729.0</td>\n",
              "      <td>18338413.0</td>\n",
              "      <td>17227132.0</td>\n",
              "      <td>608750074.0</td>\n",
              "      <td>1170709.0</td>\n",
              "      <td>526904238.0</td>\n",
              "      <td>15055145.0</td>\n",
              "      <td>53800391.0</td>\n",
              "      <td>653384965.0</td>\n",
              "    </tr>\n",
              "    <tr>\n",
              "      <th>2</th>\n",
              "      <td>1.311450e+19</td>\n",
              "      <td>4/9/2019 17:42</td>\n",
              "      <td>1.0</td>\n",
              "      <td>4/25/2019 11:58</td>\n",
              "      <td>652.0</td>\n",
              "      <td>1361762.0</td>\n",
              "      <td>2.082000e+14</td>\n",
              "      <td>3.376063e+10</td>\n",
              "      <td>3.528150e+13</td>\n",
              "      <td>D42335A</td>\n",
              "      <td>NaN</td>\n",
              "      <td>NaN</td>\n",
              "      <td>6.0</td>\n",
              "      <td>9.0</td>\n",
              "      <td>NaN</td>\n",
              "      <td>NaN</td>\n",
              "      <td>100.0</td>\n",
              "      <td>0.0</td>\n",
              "      <td>0.0</td>\n",
              "      <td>0.0</td>\n",
              "      <td>100.0</td>\n",
              "      <td>0.0</td>\n",
              "      <td>0.0</td>\n",
              "      <td>0.0</td>\n",
              "      <td>NaN</td>\n",
              "      <td>NaN</td>\n",
              "      <td>0.0</td>\n",
              "      <td>0.0</td>\n",
              "      <td>1.361763e+09</td>\n",
              "      <td>Samsung</td>\n",
              "      <td>Samsung Galaxy A8 (2018)</td>\n",
              "      <td>NaN</td>\n",
              "      <td>NaN</td>\n",
              "      <td>NaN</td>\n",
              "      <td>NaN</td>\n",
              "      <td>NaN</td>\n",
              "      <td>NaN</td>\n",
              "      <td>751.0</td>\n",
              "      <td>695.0</td>\n",
              "      <td>1684053.0</td>\n",
              "      <td>42224.0</td>\n",
              "      <td>8535055.0</td>\n",
              "      <td>1694064.0</td>\n",
              "      <td>2690151.0</td>\n",
              "      <td>672973.0</td>\n",
              "      <td>19725661.0</td>\n",
              "      <td>14699576.0</td>\n",
              "      <td>17587794.0</td>\n",
              "      <td>6163408.0</td>\n",
              "      <td>229584621.0</td>\n",
              "      <td>395630.0</td>\n",
              "      <td>410692588.0</td>\n",
              "      <td>4215763.0</td>\n",
              "      <td>27883638.0</td>\n",
              "      <td>279807335.0</td>\n",
              "    </tr>\n",
              "  </tbody>\n",
              "</table>\n",
              "</div>"
            ],
            "text/plain": [
              "      Bearer Id           Start  Start ms              End  End ms  Dur. (ms)  \\\n",
              "0  1.311450e+19  4/4/2019 12:01     770.0  4/25/2019 14:35   662.0  1823652.0   \n",
              "1  1.311450e+19  4/9/2019 13:04     235.0   4/25/2019 8:15   606.0  1365104.0   \n",
              "2  1.311450e+19  4/9/2019 17:42       1.0  4/25/2019 11:58   652.0  1361762.0   \n",
              "\n",
              "           IMSI  MSISDN/Number          IMEI Last Location Name  \\\n",
              "0  2.082010e+14   3.366496e+10  3.552120e+13        9.16457E+15   \n",
              "1  2.082020e+14   3.368185e+10  3.579400e+13            L77566A   \n",
              "2  2.082000e+14   3.376063e+10  3.528150e+13            D42335A   \n",
              "\n",
              "   Avg RTT DL (ms)  Avg RTT UL (ms)  Avg Bearer TP DL (kbps)  \\\n",
              "0             42.0              5.0                     23.0   \n",
              "1             65.0              5.0                     16.0   \n",
              "2              NaN              NaN                      6.0   \n",
              "\n",
              "   Avg Bearer TP UL (kbps)  TCP DL Retrans. Vol (Bytes)  \\\n",
              "0                     44.0                          NaN   \n",
              "1                     26.0                          NaN   \n",
              "2                      9.0                          NaN   \n",
              "\n",
              "   TCP UL Retrans. Vol (Bytes)  DL TP < 50 Kbps (%)  \\\n",
              "0                          NaN                100.0   \n",
              "1                          NaN                100.0   \n",
              "2                          NaN                100.0   \n",
              "\n",
              "   50 Kbps < DL TP < 250 Kbps (%)  250 Kbps < DL TP < 1 Mbps (%)  \\\n",
              "0                             0.0                            0.0   \n",
              "1                             0.0                            0.0   \n",
              "2                             0.0                            0.0   \n",
              "\n",
              "   DL TP > 1 Mbps (%)  UL TP < 10 Kbps (%)  10 Kbps < UL TP < 50 Kbps (%)  \\\n",
              "0                 0.0                100.0                            0.0   \n",
              "1                 0.0                100.0                            0.0   \n",
              "2                 0.0                100.0                            0.0   \n",
              "\n",
              "   50 Kbps < UL TP < 300 Kbps (%)  UL TP > 300 Kbps (%)  HTTP DL (Bytes)  \\\n",
              "0                             0.0                   0.0              NaN   \n",
              "1                             0.0                   0.0              NaN   \n",
              "2                             0.0                   0.0              NaN   \n",
              "\n",
              "   HTTP UL (Bytes)  Activity Duration DL (ms)  Activity Duration UL (ms)  \\\n",
              "0              NaN                    37624.0                    38787.0   \n",
              "1              NaN                      168.0                     3560.0   \n",
              "2              NaN                        0.0                        0.0   \n",
              "\n",
              "    Dur. (ms).1 Handset Manufacturer                 Handset Type  \\\n",
              "0  1.823653e+09              Samsung   Samsung Galaxy A5 Sm-A520F   \n",
              "1  1.365104e+09              Samsung  Samsung Galaxy J5 (Sm-J530)   \n",
              "2  1.361763e+09              Samsung     Samsung Galaxy A8 (2018)   \n",
              "\n",
              "   Nb of sec with 125000B < Vol DL  Nb of sec with 1250B < Vol UL < 6250B  \\\n",
              "0                              NaN                                    NaN   \n",
              "1                              NaN                                    NaN   \n",
              "2                              NaN                                    NaN   \n",
              "\n",
              "   Nb of sec with 31250B < Vol DL < 125000B  Nb of sec with 37500B < Vol UL  \\\n",
              "0                                       NaN                             NaN   \n",
              "1                                       NaN                             NaN   \n",
              "2                                       NaN                             NaN   \n",
              "\n",
              "   Nb of sec with 6250B < Vol DL < 31250B  \\\n",
              "0                                     NaN   \n",
              "1                                     NaN   \n",
              "2                                     NaN   \n",
              "\n",
              "   Nb of sec with 6250B < Vol UL < 37500B  Nb of sec with Vol DL < 6250B  \\\n",
              "0                                     NaN                          213.0   \n",
              "1                                     NaN                          971.0   \n",
              "2                                     NaN                          751.0   \n",
              "\n",
              "   Nb of sec with Vol UL < 1250B  Social Media DL (Bytes)  \\\n",
              "0                          214.0                1545765.0   \n",
              "1                         1022.0                1926113.0   \n",
              "2                          695.0                1684053.0   \n",
              "\n",
              "   Social Media UL (Bytes)  Google DL (Bytes)  Google UL (Bytes)  \\\n",
              "0                  24420.0          1634479.0          1271433.0   \n",
              "1                   7165.0          3493924.0           920172.0   \n",
              "2                  42224.0          8535055.0          1694064.0   \n",
              "\n",
              "   Email DL (Bytes)  Email UL (Bytes)  Youtube DL (Bytes)  Youtube UL (Bytes)  \\\n",
              "0         3563542.0          137762.0          15854611.0           2501332.0   \n",
              "1          629046.0          308339.0          20247395.0          19111729.0   \n",
              "2         2690151.0          672973.0          19725661.0          14699576.0   \n",
              "\n",
              "   Netflix DL (Bytes)  Netflix UL (Bytes)  Gaming DL (Bytes)  \\\n",
              "0           8198936.0           9656251.0        278082303.0   \n",
              "1          18338413.0          17227132.0        608750074.0   \n",
              "2          17587794.0           6163408.0        229584621.0   \n",
              "\n",
              "   Gaming UL (Bytes)  Other DL (Bytes)  Other UL (Bytes)  Total UL (Bytes)  \\\n",
              "0         14344150.0       171744450.0         8814393.0        36749741.0   \n",
              "1          1170709.0       526904238.0        15055145.0        53800391.0   \n",
              "2           395630.0       410692588.0         4215763.0        27883638.0   \n",
              "\n",
              "   Total DL (Bytes)  \n",
              "0       308879636.0  \n",
              "1       653384965.0  \n",
              "2       279807335.0  "
            ]
          },
          "metadata": {
            "tags": []
          },
          "execution_count": 4
        }
      ]
    },
    {
      "cell_type": "code",
      "metadata": {
        "id": "ppe6dVjY49TJ"
      },
      "source": [
        "df.shape"
      ],
      "execution_count": null,
      "outputs": []
    },
    {
      "cell_type": "markdown",
      "metadata": {
        "id": "D5Sq9SK_5V37"
      },
      "source": [
        "## we have 150,001.00 records of users data  in a 55 column"
      ]
    },
    {
      "cell_type": "code",
      "metadata": {
        "colab": {
          "base_uri": "https://localhost:8080/"
        },
        "id": "xjH8XaRn5BMs",
        "outputId": "1d855580-a8fb-4d78-ccc4-3e8dff0ebb46"
      },
      "source": [
        "for col in df.columns:\n",
        "    print(col)"
      ],
      "execution_count": 5,
      "outputs": [
        {
          "output_type": "stream",
          "text": [
            "Bearer Id\n",
            "Start\n",
            "Start ms\n",
            "End\n",
            "End ms\n",
            "Dur. (ms)\n",
            "IMSI\n",
            "MSISDN/Number\n",
            "IMEI\n",
            "Last Location Name\n",
            "Avg RTT DL (ms)\n",
            "Avg RTT UL (ms)\n",
            "Avg Bearer TP DL (kbps)\n",
            "Avg Bearer TP UL (kbps)\n",
            "TCP DL Retrans. Vol (Bytes)\n",
            "TCP UL Retrans. Vol (Bytes)\n",
            "DL TP < 50 Kbps (%)\n",
            "50 Kbps < DL TP < 250 Kbps (%)\n",
            "250 Kbps < DL TP < 1 Mbps (%)\n",
            "DL TP > 1 Mbps (%)\n",
            "UL TP < 10 Kbps (%)\n",
            "10 Kbps < UL TP < 50 Kbps (%)\n",
            "50 Kbps < UL TP < 300 Kbps (%)\n",
            "UL TP > 300 Kbps (%)\n",
            "HTTP DL (Bytes)\n",
            "HTTP UL (Bytes)\n",
            "Activity Duration DL (ms)\n",
            "Activity Duration UL (ms)\n",
            "Dur. (ms).1\n",
            "Handset Manufacturer\n",
            "Handset Type\n",
            "Nb of sec with 125000B < Vol DL\n",
            "Nb of sec with 1250B < Vol UL < 6250B\n",
            "Nb of sec with 31250B < Vol DL < 125000B\n",
            "Nb of sec with 37500B < Vol UL\n",
            "Nb of sec with 6250B < Vol DL < 31250B\n",
            "Nb of sec with 6250B < Vol UL < 37500B\n",
            "Nb of sec with Vol DL < 6250B\n",
            "Nb of sec with Vol UL < 1250B\n",
            "Social Media DL (Bytes)\n",
            "Social Media UL (Bytes)\n",
            "Google DL (Bytes)\n",
            "Google UL (Bytes)\n",
            "Email DL (Bytes)\n",
            "Email UL (Bytes)\n",
            "Youtube DL (Bytes)\n",
            "Youtube UL (Bytes)\n",
            "Netflix DL (Bytes)\n",
            "Netflix UL (Bytes)\n",
            "Gaming DL (Bytes)\n",
            "Gaming UL (Bytes)\n",
            "Other DL (Bytes)\n",
            "Other UL (Bytes)\n",
            "Total UL (Bytes)\n",
            "Total DL (Bytes)\n"
          ],
          "name": "stdout"
        }
      ]
    },
    {
      "cell_type": "code",
      "metadata": {
        "colab": {
          "base_uri": "https://localhost:8080/"
        },
        "id": "fPEEvsGB64Ek",
        "outputId": "60a44efc-3e9b-4a6e-c5b3-d454ecb13f64"
      },
      "source": [
        "print(df.columns)\n",
        "# other way of listing the columns"
      ],
      "execution_count": 6,
      "outputs": [
        {
          "output_type": "stream",
          "text": [
            "Index(['Bearer Id', 'Start', 'Start ms', 'End', 'End ms', 'Dur. (ms)', 'IMSI',\n",
            "       'MSISDN/Number', 'IMEI', 'Last Location Name', 'Avg RTT DL (ms)',\n",
            "       'Avg RTT UL (ms)', 'Avg Bearer TP DL (kbps)', 'Avg Bearer TP UL (kbps)',\n",
            "       'TCP DL Retrans. Vol (Bytes)', 'TCP UL Retrans. Vol (Bytes)',\n",
            "       'DL TP < 50 Kbps (%)', '50 Kbps < DL TP < 250 Kbps (%)',\n",
            "       '250 Kbps < DL TP < 1 Mbps (%)', 'DL TP > 1 Mbps (%)',\n",
            "       'UL TP < 10 Kbps (%)', '10 Kbps < UL TP < 50 Kbps (%)',\n",
            "       '50 Kbps < UL TP < 300 Kbps (%)', 'UL TP > 300 Kbps (%)',\n",
            "       'HTTP DL (Bytes)', 'HTTP UL (Bytes)', 'Activity Duration DL (ms)',\n",
            "       'Activity Duration UL (ms)', 'Dur. (ms).1', 'Handset Manufacturer',\n",
            "       'Handset Type', 'Nb of sec with 125000B < Vol DL',\n",
            "       'Nb of sec with 1250B < Vol UL < 6250B',\n",
            "       'Nb of sec with 31250B < Vol DL < 125000B',\n",
            "       'Nb of sec with 37500B < Vol UL',\n",
            "       'Nb of sec with 6250B < Vol DL < 31250B',\n",
            "       'Nb of sec with 6250B < Vol UL < 37500B',\n",
            "       'Nb of sec with Vol DL < 6250B', 'Nb of sec with Vol UL < 1250B',\n",
            "       'Social Media DL (Bytes)', 'Social Media UL (Bytes)',\n",
            "       'Google DL (Bytes)', 'Google UL (Bytes)', 'Email DL (Bytes)',\n",
            "       'Email UL (Bytes)', 'Youtube DL (Bytes)', 'Youtube UL (Bytes)',\n",
            "       'Netflix DL (Bytes)', 'Netflix UL (Bytes)', 'Gaming DL (Bytes)',\n",
            "       'Gaming UL (Bytes)', 'Other DL (Bytes)', 'Other UL (Bytes)',\n",
            "       'Total UL (Bytes)', 'Total DL (Bytes)'],\n",
            "      dtype='object')\n"
          ],
          "name": "stdout"
        }
      ]
    },
    {
      "cell_type": "code",
      "metadata": {
        "colab": {
          "base_uri": "https://localhost:8080/"
        },
        "id": "Z_5nKiwk7MEE",
        "outputId": "4444ff07-9bef-4e0c-cb55-5df1ee3e1d26"
      },
      "source": [
        "df.isna().sum()\n",
        "#number of records that has no value"
      ],
      "execution_count": 7,
      "outputs": [
        {
          "output_type": "execute_result",
          "data": {
            "text/plain": [
              "Bearer Id                                      991\n",
              "Start                                            1\n",
              "Start ms                                         1\n",
              "End                                              1\n",
              "End ms                                           1\n",
              "Dur. (ms)                                        1\n",
              "IMSI                                           570\n",
              "MSISDN/Number                                 1066\n",
              "IMEI                                           572\n",
              "Last Location Name                            1153\n",
              "Avg RTT DL (ms)                              27829\n",
              "Avg RTT UL (ms)                              27812\n",
              "Avg Bearer TP DL (kbps)                          1\n",
              "Avg Bearer TP UL (kbps)                          1\n",
              "TCP DL Retrans. Vol (Bytes)                  88146\n",
              "TCP UL Retrans. Vol (Bytes)                  96649\n",
              "DL TP < 50 Kbps (%)                            754\n",
              "50 Kbps < DL TP < 250 Kbps (%)                 754\n",
              "250 Kbps < DL TP < 1 Mbps (%)                  754\n",
              "DL TP > 1 Mbps (%)                             754\n",
              "UL TP < 10 Kbps (%)                            792\n",
              "10 Kbps < UL TP < 50 Kbps (%)                  792\n",
              "50 Kbps < UL TP < 300 Kbps (%)                 792\n",
              "UL TP > 300 Kbps (%)                           792\n",
              "HTTP DL (Bytes)                              81474\n",
              "HTTP UL (Bytes)                              81810\n",
              "Activity Duration DL (ms)                        1\n",
              "Activity Duration UL (ms)                        1\n",
              "Dur. (ms).1                                      1\n",
              "Handset Manufacturer                           572\n",
              "Handset Type                                   572\n",
              "Nb of sec with 125000B < Vol DL              97538\n",
              "Nb of sec with 1250B < Vol UL < 6250B        92894\n",
              "Nb of sec with 31250B < Vol DL < 125000B     93586\n",
              "Nb of sec with 37500B < Vol UL              130254\n",
              "Nb of sec with 6250B < Vol DL < 31250B       88317\n",
              "Nb of sec with 6250B < Vol UL < 37500B      111843\n",
              "Nb of sec with Vol DL < 6250B                  755\n",
              "Nb of sec with Vol UL < 1250B                  793\n",
              "Social Media DL (Bytes)                          0\n",
              "Social Media UL (Bytes)                          0\n",
              "Google DL (Bytes)                                0\n",
              "Google UL (Bytes)                                0\n",
              "Email DL (Bytes)                                 0\n",
              "Email UL (Bytes)                                 0\n",
              "Youtube DL (Bytes)                               0\n",
              "Youtube UL (Bytes)                               0\n",
              "Netflix DL (Bytes)                               0\n",
              "Netflix UL (Bytes)                               0\n",
              "Gaming DL (Bytes)                                0\n",
              "Gaming UL (Bytes)                                0\n",
              "Other DL (Bytes)                                 0\n",
              "Other UL (Bytes)                                 0\n",
              "Total UL (Bytes)                                 1\n",
              "Total DL (Bytes)                                 1\n",
              "dtype: int64"
            ]
          },
          "metadata": {
            "tags": []
          },
          "execution_count": 7
        }
      ]
    },
    {
      "cell_type": "code",
      "metadata": {
        "colab": {
          "base_uri": "https://localhost:8080/"
        },
        "id": "I3VbWUFoFLej",
        "outputId": "083b9a2e-3b83-40a2-ad32-d30e3309bbf7"
      },
      "source": [
        "    # Calculate total number of cells in dataframe\n",
        "totalCells = np.product(df.shape)\n",
        "\n",
        "    # Count number of missing values per column\n",
        "missingCount = df.isnull().sum()\n",
        "\n",
        "    # Calculate total number of missing values\n",
        "totalMissing = missingCount.sum()\n",
        "\n",
        "    # Calculate percentage of missing values\n",
        "print(\"The Telco Telecom dataset contains\", round(((totalMissing/totalCells) * 100), 2), \"%\", \"missing values.\")"
      ],
      "execution_count": 8,
      "outputs": [
        {
          "output_type": "stream",
          "text": [
            "The Telco Telecom dataset contains 12.5 % missing values.\n"
          ],
          "name": "stdout"
        }
      ]
    },
    {
      "cell_type": "code",
      "metadata": {
        "colab": {
          "base_uri": "https://localhost:8080/"
        },
        "id": "jX5JwqXhGFUN",
        "outputId": "f35a7666-603f-48d6-9586-487fcd699857"
      },
      "source": [
        "percent_missing = df.isnull().sum() * 100 / len(df)\n",
        "missing_value_df = pd.DataFrame({'percent_missing': percent_missing})\n",
        "print(missing_value_df)"
      ],
      "execution_count": 9,
      "outputs": [
        {
          "output_type": "stream",
          "text": [
            "                                          percent_missing\n",
            "Bearer Id                                        0.660662\n",
            "Start                                            0.000667\n",
            "Start ms                                         0.000667\n",
            "End                                              0.000667\n",
            "End ms                                           0.000667\n",
            "Dur. (ms)                                        0.000667\n",
            "IMSI                                             0.379997\n",
            "MSISDN/Number                                    0.710662\n",
            "IMEI                                             0.381331\n",
            "Last Location Name                               0.768662\n",
            "Avg RTT DL (ms)                                 18.552543\n",
            "Avg RTT UL (ms)                                 18.541210\n",
            "Avg Bearer TP DL (kbps)                          0.000667\n",
            "Avg Bearer TP UL (kbps)                          0.000667\n",
            "TCP DL Retrans. Vol (Bytes)                     58.763608\n",
            "TCP UL Retrans. Vol (Bytes)                     64.432237\n",
            "DL TP < 50 Kbps (%)                              0.502663\n",
            "50 Kbps < DL TP < 250 Kbps (%)                   0.502663\n",
            "250 Kbps < DL TP < 1 Mbps (%)                    0.502663\n",
            "DL TP > 1 Mbps (%)                               0.502663\n",
            "UL TP < 10 Kbps (%)                              0.527996\n",
            "10 Kbps < UL TP < 50 Kbps (%)                    0.527996\n",
            "50 Kbps < UL TP < 300 Kbps (%)                   0.527996\n",
            "UL TP > 300 Kbps (%)                             0.527996\n",
            "HTTP DL (Bytes)                                 54.315638\n",
            "HTTP UL (Bytes)                                 54.539636\n",
            "Activity Duration DL (ms)                        0.000667\n",
            "Activity Duration UL (ms)                        0.000667\n",
            "Dur. (ms).1                                      0.000667\n",
            "Handset Manufacturer                             0.381331\n",
            "Handset Type                                     0.381331\n",
            "Nb of sec with 125000B < Vol DL                 65.024900\n",
            "Nb of sec with 1250B < Vol UL < 6250B           61.928920\n",
            "Nb of sec with 31250B < Vol DL < 125000B        62.390251\n",
            "Nb of sec with 37500B < Vol UL                  86.835421\n",
            "Nb of sec with 6250B < Vol DL < 31250B          58.877607\n",
            "Nb of sec with 6250B < Vol UL < 37500B          74.561503\n",
            "Nb of sec with Vol DL < 6250B                    0.503330\n",
            "Nb of sec with Vol UL < 1250B                    0.528663\n",
            "Social Media DL (Bytes)                          0.000000\n",
            "Social Media UL (Bytes)                          0.000000\n",
            "Google DL (Bytes)                                0.000000\n",
            "Google UL (Bytes)                                0.000000\n",
            "Email DL (Bytes)                                 0.000000\n",
            "Email UL (Bytes)                                 0.000000\n",
            "Youtube DL (Bytes)                               0.000000\n",
            "Youtube UL (Bytes)                               0.000000\n",
            "Netflix DL (Bytes)                               0.000000\n",
            "Netflix UL (Bytes)                               0.000000\n",
            "Gaming DL (Bytes)                                0.000000\n",
            "Gaming UL (Bytes)                                0.000000\n",
            "Other DL (Bytes)                                 0.000000\n",
            "Other UL (Bytes)                                 0.000000\n",
            "Total UL (Bytes)                                 0.000667\n",
            "Total DL (Bytes)                                 0.000667\n"
          ],
          "name": "stdout"
        }
      ]
    },
    {
      "cell_type": "code",
      "metadata": {
        "colab": {
          "base_uri": "https://localhost:8080/"
        },
        "id": "DvkJBlmpLJbM",
        "outputId": "e7438919-b0ab-4dba-9280-f4eab928d782"
      },
      "source": [
        "# drop columns with more than 50% missing values\n",
        "df_clean = df.drop(['TCP DL Retrans. Vol (Bytes)', 'TCP UL Retrans. Vol (Bytes)', 'HTTP DL (Bytes)', 'HTTP UL (Bytes)', 'Nb of sec with 125000B < Vol DL','Nb of sec with 1250B < Vol UL < 6250B','Nb of sec with 31250B < Vol DL < 125000B', 'Nb of sec with 37500B < Vol UL', 'Nb of sec with 6250B < Vol DL < 31250B', 'Nb of sec with 6250B < Vol UL < 37500B'], axis=1)\n",
        "df_clean.shape"
      ],
      "execution_count": 10,
      "outputs": [
        {
          "output_type": "execute_result",
          "data": {
            "text/plain": [
              "(150001, 45)"
            ]
          },
          "metadata": {
            "tags": []
          },
          "execution_count": 10
        }
      ]
    },
    {
      "cell_type": "code",
      "metadata": {
        "id": "mB1MQ0Efto1o",
        "colab": {
          "base_uri": "https://localhost:8080/"
        },
        "outputId": "1b084b31-d9ae-4e22-862d-099c23d508f7"
      },
      "source": [
        "percent_missing = df_clean.isnull().sum() * 100 / len(df_clean)\n",
        "missing_value_df = pd.DataFrame({'percent_missing': percent_missing})\n",
        "print(missing_value_df)"
      ],
      "execution_count": 11,
      "outputs": [
        {
          "output_type": "stream",
          "text": [
            "                                percent_missing\n",
            "Bearer Id                              0.660662\n",
            "Start                                  0.000667\n",
            "Start ms                               0.000667\n",
            "End                                    0.000667\n",
            "End ms                                 0.000667\n",
            "Dur. (ms)                              0.000667\n",
            "IMSI                                   0.379997\n",
            "MSISDN/Number                          0.710662\n",
            "IMEI                                   0.381331\n",
            "Last Location Name                     0.768662\n",
            "Avg RTT DL (ms)                       18.552543\n",
            "Avg RTT UL (ms)                       18.541210\n",
            "Avg Bearer TP DL (kbps)                0.000667\n",
            "Avg Bearer TP UL (kbps)                0.000667\n",
            "DL TP < 50 Kbps (%)                    0.502663\n",
            "50 Kbps < DL TP < 250 Kbps (%)         0.502663\n",
            "250 Kbps < DL TP < 1 Mbps (%)          0.502663\n",
            "DL TP > 1 Mbps (%)                     0.502663\n",
            "UL TP < 10 Kbps (%)                    0.527996\n",
            "10 Kbps < UL TP < 50 Kbps (%)          0.527996\n",
            "50 Kbps < UL TP < 300 Kbps (%)         0.527996\n",
            "UL TP > 300 Kbps (%)                   0.527996\n",
            "Activity Duration DL (ms)              0.000667\n",
            "Activity Duration UL (ms)              0.000667\n",
            "Dur. (ms).1                            0.000667\n",
            "Handset Manufacturer                   0.381331\n",
            "Handset Type                           0.381331\n",
            "Nb of sec with Vol DL < 6250B          0.503330\n",
            "Nb of sec with Vol UL < 1250B          0.528663\n",
            "Social Media DL (Bytes)                0.000000\n",
            "Social Media UL (Bytes)                0.000000\n",
            "Google DL (Bytes)                      0.000000\n",
            "Google UL (Bytes)                      0.000000\n",
            "Email DL (Bytes)                       0.000000\n",
            "Email UL (Bytes)                       0.000000\n",
            "Youtube DL (Bytes)                     0.000000\n",
            "Youtube UL (Bytes)                     0.000000\n",
            "Netflix DL (Bytes)                     0.000000\n",
            "Netflix UL (Bytes)                     0.000000\n",
            "Gaming DL (Bytes)                      0.000000\n",
            "Gaming UL (Bytes)                      0.000000\n",
            "Other DL (Bytes)                       0.000000\n",
            "Other UL (Bytes)                       0.000000\n",
            "Total UL (Bytes)                       0.000667\n",
            "Total DL (Bytes)                       0.000667\n"
          ],
          "name": "stdout"
        }
      ]
    },
    {
      "cell_type": "code",
      "metadata": {
        "id": "W41VW2fmxqkP"
      },
      "source": [
        "# replace-nan-values-of-bearer-id-,-imei-with-forward-value-of-columns\n",
        "df_clean['Bearer Id'] = df_clean['Bearer Id'].fillna(method='ffill')\n",
        "df_clean['IMEI'] = df_clean['IMEI'].fillna(method='ffill')"
      ],
      "execution_count": 12,
      "outputs": []
    },
    {
      "cell_type": "code",
      "metadata": {
        "id": "D5ZbmW-GziW5"
      },
      "source": [
        "df_clean['Last Location Name'].fillna('Unknow', inplace=True)\n",
        "#replace all NAN values of location with unknown"
      ],
      "execution_count": 13,
      "outputs": []
    },
    {
      "cell_type": "code",
      "metadata": {
        "id": "DMfMwxiXPVIm"
      },
      "source": [
        "for column in df_clean.columns:\n",
        "    df_clean[column].fillna(df_clean[column].mode()[0], inplace=True)"
      ],
      "execution_count": 14,
      "outputs": []
    },
    {
      "cell_type": "code",
      "metadata": {
        "id": "NZJakh2QrZEn",
        "colab": {
          "base_uri": "https://localhost:8080/"
        },
        "outputId": "85b97ade-a6b2-442d-dcd3-2998f28e50e3"
      },
      "source": [
        "percent_missing = df_clean.isnull().sum() * 100 / len(df_clean)\n",
        "missing_value_df = pd.DataFrame({'percent_missing': percent_missing})\n",
        "print(missing_value_df)\n",
        "#checking if there is any column with nan value"
      ],
      "execution_count": 15,
      "outputs": [
        {
          "output_type": "stream",
          "text": [
            "                                percent_missing\n",
            "Bearer Id                                   0.0\n",
            "Start                                       0.0\n",
            "Start ms                                    0.0\n",
            "End                                         0.0\n",
            "End ms                                      0.0\n",
            "Dur. (ms)                                   0.0\n",
            "IMSI                                        0.0\n",
            "MSISDN/Number                               0.0\n",
            "IMEI                                        0.0\n",
            "Last Location Name                          0.0\n",
            "Avg RTT DL (ms)                             0.0\n",
            "Avg RTT UL (ms)                             0.0\n",
            "Avg Bearer TP DL (kbps)                     0.0\n",
            "Avg Bearer TP UL (kbps)                     0.0\n",
            "DL TP < 50 Kbps (%)                         0.0\n",
            "50 Kbps < DL TP < 250 Kbps (%)              0.0\n",
            "250 Kbps < DL TP < 1 Mbps (%)               0.0\n",
            "DL TP > 1 Mbps (%)                          0.0\n",
            "UL TP < 10 Kbps (%)                         0.0\n",
            "10 Kbps < UL TP < 50 Kbps (%)               0.0\n",
            "50 Kbps < UL TP < 300 Kbps (%)              0.0\n",
            "UL TP > 300 Kbps (%)                        0.0\n",
            "Activity Duration DL (ms)                   0.0\n",
            "Activity Duration UL (ms)                   0.0\n",
            "Dur. (ms).1                                 0.0\n",
            "Handset Manufacturer                        0.0\n",
            "Handset Type                                0.0\n",
            "Nb of sec with Vol DL < 6250B               0.0\n",
            "Nb of sec with Vol UL < 1250B               0.0\n",
            "Social Media DL (Bytes)                     0.0\n",
            "Social Media UL (Bytes)                     0.0\n",
            "Google DL (Bytes)                           0.0\n",
            "Google UL (Bytes)                           0.0\n",
            "Email DL (Bytes)                            0.0\n",
            "Email UL (Bytes)                            0.0\n",
            "Youtube DL (Bytes)                          0.0\n",
            "Youtube UL (Bytes)                          0.0\n",
            "Netflix DL (Bytes)                          0.0\n",
            "Netflix UL (Bytes)                          0.0\n",
            "Gaming DL (Bytes)                           0.0\n",
            "Gaming UL (Bytes)                           0.0\n",
            "Other DL (Bytes)                            0.0\n",
            "Other UL (Bytes)                            0.0\n",
            "Total UL (Bytes)                            0.0\n",
            "Total DL (Bytes)                            0.0\n"
          ],
          "name": "stdout"
        }
      ]
    },
    {
      "cell_type": "code",
      "metadata": {
        "colab": {
          "base_uri": "https://localhost:8080/",
          "height": 481
        },
        "id": "HjjUcdYXOTSh",
        "outputId": "342339da-2913-4bef-e227-f77bdbd98e28"
      },
      "source": [
        "#df_clean.dtypes\n",
        "df_clean.groupby('MSISDN/Number').agg({'Social Media DL (Bytes)': ['min', 'max'], 'Social Media UL (Bytes)': 'sum'})"
      ],
      "execution_count": 16,
      "outputs": [
        {
          "output_type": "execute_result",
          "data": {
            "text/html": [
              "<div>\n",
              "<style scoped>\n",
              "    .dataframe tbody tr th:only-of-type {\n",
              "        vertical-align: middle;\n",
              "    }\n",
              "\n",
              "    .dataframe tbody tr th {\n",
              "        vertical-align: top;\n",
              "    }\n",
              "\n",
              "    .dataframe thead tr th {\n",
              "        text-align: left;\n",
              "    }\n",
              "\n",
              "    .dataframe thead tr:last-of-type th {\n",
              "        text-align: right;\n",
              "    }\n",
              "</style>\n",
              "<table border=\"1\" class=\"dataframe\">\n",
              "  <thead>\n",
              "    <tr>\n",
              "      <th></th>\n",
              "      <th colspan=\"2\" halign=\"left\">Social Media DL (Bytes)</th>\n",
              "      <th>Social Media UL (Bytes)</th>\n",
              "    </tr>\n",
              "    <tr>\n",
              "      <th></th>\n",
              "      <th>min</th>\n",
              "      <th>max</th>\n",
              "      <th>sum</th>\n",
              "    </tr>\n",
              "    <tr>\n",
              "      <th>MSISDN/Number</th>\n",
              "      <th></th>\n",
              "      <th></th>\n",
              "      <th></th>\n",
              "    </tr>\n",
              "  </thead>\n",
              "  <tbody>\n",
              "    <tr>\n",
              "      <th>3.360100e+10</th>\n",
              "      <td>2206504.0</td>\n",
              "      <td>2206504.0</td>\n",
              "      <td>25631.0</td>\n",
              "    </tr>\n",
              "    <tr>\n",
              "      <th>3.360100e+10</th>\n",
              "      <td>2598548.0</td>\n",
              "      <td>2598548.0</td>\n",
              "      <td>62017.0</td>\n",
              "    </tr>\n",
              "    <tr>\n",
              "      <th>3.360100e+10</th>\n",
              "      <td>3148004.0</td>\n",
              "      <td>3148004.0</td>\n",
              "      <td>47619.0</td>\n",
              "    </tr>\n",
              "    <tr>\n",
              "      <th>3.360101e+10</th>\n",
              "      <td>251469.0</td>\n",
              "      <td>251469.0</td>\n",
              "      <td>28825.0</td>\n",
              "    </tr>\n",
              "    <tr>\n",
              "      <th>3.360101e+10</th>\n",
              "      <td>1359904.0</td>\n",
              "      <td>1501326.0</td>\n",
              "      <td>51312.0</td>\n",
              "    </tr>\n",
              "    <tr>\n",
              "      <th>...</th>\n",
              "      <td>...</td>\n",
              "      <td>...</td>\n",
              "      <td>...</td>\n",
              "    </tr>\n",
              "    <tr>\n",
              "      <th>3.379000e+10</th>\n",
              "      <td>234320.0</td>\n",
              "      <td>234320.0</td>\n",
              "      <td>65863.0</td>\n",
              "    </tr>\n",
              "    <tr>\n",
              "      <th>3.379000e+10</th>\n",
              "      <td>442214.0</td>\n",
              "      <td>442214.0</td>\n",
              "      <td>56355.0</td>\n",
              "    </tr>\n",
              "    <tr>\n",
              "      <th>3.197020e+12</th>\n",
              "      <td>668596.0</td>\n",
              "      <td>668596.0</td>\n",
              "      <td>46628.0</td>\n",
              "    </tr>\n",
              "    <tr>\n",
              "      <th>3.370000e+14</th>\n",
              "      <td>496337.0</td>\n",
              "      <td>496337.0</td>\n",
              "      <td>25229.0</td>\n",
              "    </tr>\n",
              "    <tr>\n",
              "      <th>8.823970e+14</th>\n",
              "      <td>1500145.0</td>\n",
              "      <td>1500145.0</td>\n",
              "      <td>45943.0</td>\n",
              "    </tr>\n",
              "  </tbody>\n",
              "</table>\n",
              "<p>106856 rows × 3 columns</p>\n",
              "</div>"
            ],
            "text/plain": [
              "              Social Media DL (Bytes)            Social Media UL (Bytes)\n",
              "                                  min        max                     sum\n",
              "MSISDN/Number                                                           \n",
              "3.360100e+10                2206504.0  2206504.0                 25631.0\n",
              "3.360100e+10                2598548.0  2598548.0                 62017.0\n",
              "3.360100e+10                3148004.0  3148004.0                 47619.0\n",
              "3.360101e+10                 251469.0   251469.0                 28825.0\n",
              "3.360101e+10                1359904.0  1501326.0                 51312.0\n",
              "...                               ...        ...                     ...\n",
              "3.379000e+10                 234320.0   234320.0                 65863.0\n",
              "3.379000e+10                 442214.0   442214.0                 56355.0\n",
              "3.197020e+12                 668596.0   668596.0                 46628.0\n",
              "3.370000e+14                 496337.0   496337.0                 25229.0\n",
              "8.823970e+14                1500145.0  1500145.0                 45943.0\n",
              "\n",
              "[106856 rows x 3 columns]"
            ]
          },
          "metadata": {
            "tags": []
          },
          "execution_count": 16
        }
      ]
    },
    {
      "cell_type": "code",
      "metadata": {
        "id": "XIMeeA6xXhs5"
      },
      "source": [
        "#df_clean[\"Start\"]= pd.to_datetime(df_clean[\"Start\"])\n",
        "df_clean['Start'] = pd.to_datetime(df_clean['Start'], errors='coerce')\n",
        "df_clean['End'] = pd.to_datetime(df_clean['End'], errors='coerce')\n"
      ],
      "execution_count": 17,
      "outputs": []
    },
    {
      "cell_type": "code",
      "metadata": {
        "colab": {
          "base_uri": "https://localhost:8080/"
        },
        "id": "UWavoUFbX3Wx",
        "outputId": "9d78a8c6-30d1-4314-c1ac-ffcd22fb447f"
      },
      "source": [
        "df_clean.dtypes"
      ],
      "execution_count": 18,
      "outputs": [
        {
          "output_type": "execute_result",
          "data": {
            "text/plain": [
              "Bearer Id                                float64\n",
              "Start                             datetime64[ns]\n",
              "Start ms                                 float64\n",
              "End                               datetime64[ns]\n",
              "End ms                                   float64\n",
              "Dur. (ms)                                float64\n",
              "IMSI                                     float64\n",
              "MSISDN/Number                            float64\n",
              "IMEI                                     float64\n",
              "Last Location Name                        object\n",
              "Avg RTT DL (ms)                          float64\n",
              "Avg RTT UL (ms)                          float64\n",
              "Avg Bearer TP DL (kbps)                  float64\n",
              "Avg Bearer TP UL (kbps)                  float64\n",
              "DL TP < 50 Kbps (%)                      float64\n",
              "50 Kbps < DL TP < 250 Kbps (%)           float64\n",
              "250 Kbps < DL TP < 1 Mbps (%)            float64\n",
              "DL TP > 1 Mbps (%)                       float64\n",
              "UL TP < 10 Kbps (%)                      float64\n",
              "10 Kbps < UL TP < 50 Kbps (%)            float64\n",
              "50 Kbps < UL TP < 300 Kbps (%)           float64\n",
              "UL TP > 300 Kbps (%)                     float64\n",
              "Activity Duration DL (ms)                float64\n",
              "Activity Duration UL (ms)                float64\n",
              "Dur. (ms).1                              float64\n",
              "Handset Manufacturer                      object\n",
              "Handset Type                              object\n",
              "Nb of sec with Vol DL < 6250B            float64\n",
              "Nb of sec with Vol UL < 1250B            float64\n",
              "Social Media DL (Bytes)                  float64\n",
              "Social Media UL (Bytes)                  float64\n",
              "Google DL (Bytes)                        float64\n",
              "Google UL (Bytes)                        float64\n",
              "Email DL (Bytes)                         float64\n",
              "Email UL (Bytes)                         float64\n",
              "Youtube DL (Bytes)                       float64\n",
              "Youtube UL (Bytes)                       float64\n",
              "Netflix DL (Bytes)                       float64\n",
              "Netflix UL (Bytes)                       float64\n",
              "Gaming DL (Bytes)                        float64\n",
              "Gaming UL (Bytes)                        float64\n",
              "Other DL (Bytes)                         float64\n",
              "Other UL (Bytes)                         float64\n",
              "Total UL (Bytes)                         float64\n",
              "Total DL (Bytes)                         float64\n",
              "dtype: object"
            ]
          },
          "metadata": {
            "tags": []
          },
          "execution_count": 18
        }
      ]
    },
    {
      "cell_type": "code",
      "metadata": {
        "colab": {
          "base_uri": "https://localhost:8080/",
          "height": 906
        },
        "id": "ZKHLMyySYDRE",
        "outputId": "a0d670a6-b81d-4549-9e08-229209137ade"
      },
      "source": [
        "df_clean.head(10)\n",
        "#dur.(ms).1 column seems irrelevant and I might drop it"
      ],
      "execution_count": 19,
      "outputs": [
        {
          "output_type": "execute_result",
          "data": {
            "text/html": [
              "<div>\n",
              "<style scoped>\n",
              "    .dataframe tbody tr th:only-of-type {\n",
              "        vertical-align: middle;\n",
              "    }\n",
              "\n",
              "    .dataframe tbody tr th {\n",
              "        vertical-align: top;\n",
              "    }\n",
              "\n",
              "    .dataframe thead th {\n",
              "        text-align: right;\n",
              "    }\n",
              "</style>\n",
              "<table border=\"1\" class=\"dataframe\">\n",
              "  <thead>\n",
              "    <tr style=\"text-align: right;\">\n",
              "      <th></th>\n",
              "      <th>Bearer Id</th>\n",
              "      <th>Start</th>\n",
              "      <th>Start ms</th>\n",
              "      <th>End</th>\n",
              "      <th>End ms</th>\n",
              "      <th>Dur. (ms)</th>\n",
              "      <th>IMSI</th>\n",
              "      <th>MSISDN/Number</th>\n",
              "      <th>IMEI</th>\n",
              "      <th>Last Location Name</th>\n",
              "      <th>Avg RTT DL (ms)</th>\n",
              "      <th>Avg RTT UL (ms)</th>\n",
              "      <th>Avg Bearer TP DL (kbps)</th>\n",
              "      <th>Avg Bearer TP UL (kbps)</th>\n",
              "      <th>DL TP &lt; 50 Kbps (%)</th>\n",
              "      <th>50 Kbps &lt; DL TP &lt; 250 Kbps (%)</th>\n",
              "      <th>250 Kbps &lt; DL TP &lt; 1 Mbps (%)</th>\n",
              "      <th>DL TP &gt; 1 Mbps (%)</th>\n",
              "      <th>UL TP &lt; 10 Kbps (%)</th>\n",
              "      <th>10 Kbps &lt; UL TP &lt; 50 Kbps (%)</th>\n",
              "      <th>50 Kbps &lt; UL TP &lt; 300 Kbps (%)</th>\n",
              "      <th>UL TP &gt; 300 Kbps (%)</th>\n",
              "      <th>Activity Duration DL (ms)</th>\n",
              "      <th>Activity Duration UL (ms)</th>\n",
              "      <th>Dur. (ms).1</th>\n",
              "      <th>Handset Manufacturer</th>\n",
              "      <th>Handset Type</th>\n",
              "      <th>Nb of sec with Vol DL &lt; 6250B</th>\n",
              "      <th>Nb of sec with Vol UL &lt; 1250B</th>\n",
              "      <th>Social Media DL (Bytes)</th>\n",
              "      <th>Social Media UL (Bytes)</th>\n",
              "      <th>Google DL (Bytes)</th>\n",
              "      <th>Google UL (Bytes)</th>\n",
              "      <th>Email DL (Bytes)</th>\n",
              "      <th>Email UL (Bytes)</th>\n",
              "      <th>Youtube DL (Bytes)</th>\n",
              "      <th>Youtube UL (Bytes)</th>\n",
              "      <th>Netflix DL (Bytes)</th>\n",
              "      <th>Netflix UL (Bytes)</th>\n",
              "      <th>Gaming DL (Bytes)</th>\n",
              "      <th>Gaming UL (Bytes)</th>\n",
              "      <th>Other DL (Bytes)</th>\n",
              "      <th>Other UL (Bytes)</th>\n",
              "      <th>Total UL (Bytes)</th>\n",
              "      <th>Total DL (Bytes)</th>\n",
              "    </tr>\n",
              "  </thead>\n",
              "  <tbody>\n",
              "    <tr>\n",
              "      <th>0</th>\n",
              "      <td>1.311450e+19</td>\n",
              "      <td>2019-04-04 12:01:00</td>\n",
              "      <td>770.0</td>\n",
              "      <td>2019-04-25 14:35:00</td>\n",
              "      <td>662.0</td>\n",
              "      <td>1823652.0</td>\n",
              "      <td>2.082010e+14</td>\n",
              "      <td>3.366496e+10</td>\n",
              "      <td>3.552120e+13</td>\n",
              "      <td>9.16457E+15</td>\n",
              "      <td>42.0</td>\n",
              "      <td>5.0</td>\n",
              "      <td>23.0</td>\n",
              "      <td>44.0</td>\n",
              "      <td>100.0</td>\n",
              "      <td>0.0</td>\n",
              "      <td>0.0</td>\n",
              "      <td>0.0</td>\n",
              "      <td>100.0</td>\n",
              "      <td>0.0</td>\n",
              "      <td>0.0</td>\n",
              "      <td>0.0</td>\n",
              "      <td>37624.0</td>\n",
              "      <td>38787.0</td>\n",
              "      <td>1.823653e+09</td>\n",
              "      <td>Samsung</td>\n",
              "      <td>Samsung Galaxy A5 Sm-A520F</td>\n",
              "      <td>213.0</td>\n",
              "      <td>214.0</td>\n",
              "      <td>1545765.0</td>\n",
              "      <td>24420.0</td>\n",
              "      <td>1634479.0</td>\n",
              "      <td>1271433.0</td>\n",
              "      <td>3563542.0</td>\n",
              "      <td>137762.0</td>\n",
              "      <td>15854611.0</td>\n",
              "      <td>2501332.0</td>\n",
              "      <td>8198936.0</td>\n",
              "      <td>9656251.0</td>\n",
              "      <td>278082303.0</td>\n",
              "      <td>14344150.0</td>\n",
              "      <td>171744450.0</td>\n",
              "      <td>8814393.0</td>\n",
              "      <td>36749741.0</td>\n",
              "      <td>308879636.0</td>\n",
              "    </tr>\n",
              "    <tr>\n",
              "      <th>1</th>\n",
              "      <td>1.311450e+19</td>\n",
              "      <td>2019-04-09 13:04:00</td>\n",
              "      <td>235.0</td>\n",
              "      <td>2019-04-25 08:15:00</td>\n",
              "      <td>606.0</td>\n",
              "      <td>1365104.0</td>\n",
              "      <td>2.082020e+14</td>\n",
              "      <td>3.368185e+10</td>\n",
              "      <td>3.579400e+13</td>\n",
              "      <td>L77566A</td>\n",
              "      <td>65.0</td>\n",
              "      <td>5.0</td>\n",
              "      <td>16.0</td>\n",
              "      <td>26.0</td>\n",
              "      <td>100.0</td>\n",
              "      <td>0.0</td>\n",
              "      <td>0.0</td>\n",
              "      <td>0.0</td>\n",
              "      <td>100.0</td>\n",
              "      <td>0.0</td>\n",
              "      <td>0.0</td>\n",
              "      <td>0.0</td>\n",
              "      <td>168.0</td>\n",
              "      <td>3560.0</td>\n",
              "      <td>1.365104e+09</td>\n",
              "      <td>Samsung</td>\n",
              "      <td>Samsung Galaxy J5 (Sm-J530)</td>\n",
              "      <td>971.0</td>\n",
              "      <td>1022.0</td>\n",
              "      <td>1926113.0</td>\n",
              "      <td>7165.0</td>\n",
              "      <td>3493924.0</td>\n",
              "      <td>920172.0</td>\n",
              "      <td>629046.0</td>\n",
              "      <td>308339.0</td>\n",
              "      <td>20247395.0</td>\n",
              "      <td>19111729.0</td>\n",
              "      <td>18338413.0</td>\n",
              "      <td>17227132.0</td>\n",
              "      <td>608750074.0</td>\n",
              "      <td>1170709.0</td>\n",
              "      <td>526904238.0</td>\n",
              "      <td>15055145.0</td>\n",
              "      <td>53800391.0</td>\n",
              "      <td>653384965.0</td>\n",
              "    </tr>\n",
              "    <tr>\n",
              "      <th>2</th>\n",
              "      <td>1.311450e+19</td>\n",
              "      <td>2019-04-09 17:42:00</td>\n",
              "      <td>1.0</td>\n",
              "      <td>2019-04-25 11:58:00</td>\n",
              "      <td>652.0</td>\n",
              "      <td>1361762.0</td>\n",
              "      <td>2.082000e+14</td>\n",
              "      <td>3.376063e+10</td>\n",
              "      <td>3.528150e+13</td>\n",
              "      <td>D42335A</td>\n",
              "      <td>28.0</td>\n",
              "      <td>5.0</td>\n",
              "      <td>6.0</td>\n",
              "      <td>9.0</td>\n",
              "      <td>100.0</td>\n",
              "      <td>0.0</td>\n",
              "      <td>0.0</td>\n",
              "      <td>0.0</td>\n",
              "      <td>100.0</td>\n",
              "      <td>0.0</td>\n",
              "      <td>0.0</td>\n",
              "      <td>0.0</td>\n",
              "      <td>0.0</td>\n",
              "      <td>0.0</td>\n",
              "      <td>1.361763e+09</td>\n",
              "      <td>Samsung</td>\n",
              "      <td>Samsung Galaxy A8 (2018)</td>\n",
              "      <td>751.0</td>\n",
              "      <td>695.0</td>\n",
              "      <td>1684053.0</td>\n",
              "      <td>42224.0</td>\n",
              "      <td>8535055.0</td>\n",
              "      <td>1694064.0</td>\n",
              "      <td>2690151.0</td>\n",
              "      <td>672973.0</td>\n",
              "      <td>19725661.0</td>\n",
              "      <td>14699576.0</td>\n",
              "      <td>17587794.0</td>\n",
              "      <td>6163408.0</td>\n",
              "      <td>229584621.0</td>\n",
              "      <td>395630.0</td>\n",
              "      <td>410692588.0</td>\n",
              "      <td>4215763.0</td>\n",
              "      <td>27883638.0</td>\n",
              "      <td>279807335.0</td>\n",
              "    </tr>\n",
              "    <tr>\n",
              "      <th>3</th>\n",
              "      <td>1.311450e+19</td>\n",
              "      <td>2019-04-10 00:31:00</td>\n",
              "      <td>486.0</td>\n",
              "      <td>2019-04-25 07:36:00</td>\n",
              "      <td>171.0</td>\n",
              "      <td>1321509.0</td>\n",
              "      <td>2.082010e+14</td>\n",
              "      <td>3.375034e+10</td>\n",
              "      <td>3.535660e+13</td>\n",
              "      <td>T21824A</td>\n",
              "      <td>28.0</td>\n",
              "      <td>5.0</td>\n",
              "      <td>44.0</td>\n",
              "      <td>44.0</td>\n",
              "      <td>100.0</td>\n",
              "      <td>0.0</td>\n",
              "      <td>0.0</td>\n",
              "      <td>0.0</td>\n",
              "      <td>100.0</td>\n",
              "      <td>0.0</td>\n",
              "      <td>0.0</td>\n",
              "      <td>0.0</td>\n",
              "      <td>3330.0</td>\n",
              "      <td>37882.0</td>\n",
              "      <td>1.321510e+09</td>\n",
              "      <td>undefined</td>\n",
              "      <td>undefined</td>\n",
              "      <td>17.0</td>\n",
              "      <td>207.0</td>\n",
              "      <td>644121.0</td>\n",
              "      <td>13372.0</td>\n",
              "      <td>9023734.0</td>\n",
              "      <td>2788027.0</td>\n",
              "      <td>1439754.0</td>\n",
              "      <td>631229.0</td>\n",
              "      <td>21388122.0</td>\n",
              "      <td>15146643.0</td>\n",
              "      <td>13994646.0</td>\n",
              "      <td>1097942.0</td>\n",
              "      <td>799538153.0</td>\n",
              "      <td>10849722.0</td>\n",
              "      <td>749039933.0</td>\n",
              "      <td>12797283.0</td>\n",
              "      <td>43324218.0</td>\n",
              "      <td>846028530.0</td>\n",
              "    </tr>\n",
              "    <tr>\n",
              "      <th>4</th>\n",
              "      <td>1.311450e+19</td>\n",
              "      <td>2019-04-12 20:10:00</td>\n",
              "      <td>565.0</td>\n",
              "      <td>2019-04-25 10:40:00</td>\n",
              "      <td>954.0</td>\n",
              "      <td>1089009.0</td>\n",
              "      <td>2.082010e+14</td>\n",
              "      <td>3.369980e+10</td>\n",
              "      <td>3.540700e+13</td>\n",
              "      <td>D88865A</td>\n",
              "      <td>28.0</td>\n",
              "      <td>5.0</td>\n",
              "      <td>6.0</td>\n",
              "      <td>9.0</td>\n",
              "      <td>100.0</td>\n",
              "      <td>0.0</td>\n",
              "      <td>0.0</td>\n",
              "      <td>0.0</td>\n",
              "      <td>100.0</td>\n",
              "      <td>0.0</td>\n",
              "      <td>0.0</td>\n",
              "      <td>0.0</td>\n",
              "      <td>0.0</td>\n",
              "      <td>0.0</td>\n",
              "      <td>1.089009e+09</td>\n",
              "      <td>Samsung</td>\n",
              "      <td>Samsung Sm-G390F</td>\n",
              "      <td>607.0</td>\n",
              "      <td>604.0</td>\n",
              "      <td>862600.0</td>\n",
              "      <td>50188.0</td>\n",
              "      <td>6248284.0</td>\n",
              "      <td>1500559.0</td>\n",
              "      <td>1936496.0</td>\n",
              "      <td>173853.0</td>\n",
              "      <td>15259380.0</td>\n",
              "      <td>18962873.0</td>\n",
              "      <td>17124581.0</td>\n",
              "      <td>415218.0</td>\n",
              "      <td>527707248.0</td>\n",
              "      <td>3529801.0</td>\n",
              "      <td>550709500.0</td>\n",
              "      <td>13910322.0</td>\n",
              "      <td>38542814.0</td>\n",
              "      <td>569138589.0</td>\n",
              "    </tr>\n",
              "    <tr>\n",
              "      <th>5</th>\n",
              "      <td>1.311450e+19</td>\n",
              "      <td>2019-04-12 21:37:00</td>\n",
              "      <td>439.0</td>\n",
              "      <td>2019-04-25 08:08:00</td>\n",
              "      <td>553.0</td>\n",
              "      <td>1074638.0</td>\n",
              "      <td>2.082010e+14</td>\n",
              "      <td>3.366819e+10</td>\n",
              "      <td>3.529840e+13</td>\n",
              "      <td>T89132C</td>\n",
              "      <td>28.0</td>\n",
              "      <td>5.0</td>\n",
              "      <td>70.0</td>\n",
              "      <td>54.0</td>\n",
              "      <td>100.0</td>\n",
              "      <td>0.0</td>\n",
              "      <td>0.0</td>\n",
              "      <td>0.0</td>\n",
              "      <td>100.0</td>\n",
              "      <td>0.0</td>\n",
              "      <td>0.0</td>\n",
              "      <td>0.0</td>\n",
              "      <td>22639.0</td>\n",
              "      <td>22700.0</td>\n",
              "      <td>1.074638e+09</td>\n",
              "      <td>undefined</td>\n",
              "      <td>undefined</td>\n",
              "      <td>112.0</td>\n",
              "      <td>118.0</td>\n",
              "      <td>3148833.0</td>\n",
              "      <td>51181.0</td>\n",
              "      <td>10351530.0</td>\n",
              "      <td>2582603.0</td>\n",
              "      <td>1980032.0</td>\n",
              "      <td>922378.0</td>\n",
              "      <td>21332918.0</td>\n",
              "      <td>2611113.0</td>\n",
              "      <td>7345361.0</td>\n",
              "      <td>6536448.0</td>\n",
              "      <td>710293538.0</td>\n",
              "      <td>13167974.0</td>\n",
              "      <td>654978277.0</td>\n",
              "      <td>4436057.0</td>\n",
              "      <td>30307754.0</td>\n",
              "      <td>754452212.0</td>\n",
              "    </tr>\n",
              "    <tr>\n",
              "      <th>6</th>\n",
              "      <td>1.311450e+19</td>\n",
              "      <td>2019-04-13 08:41:00</td>\n",
              "      <td>612.0</td>\n",
              "      <td>2019-04-25 08:16:00</td>\n",
              "      <td>168.0</td>\n",
              "      <td>1035261.0</td>\n",
              "      <td>2.082010e+14</td>\n",
              "      <td>3.366537e+10</td>\n",
              "      <td>8.676270e+13</td>\n",
              "      <td>9.16457E+15</td>\n",
              "      <td>102.0</td>\n",
              "      <td>5.0</td>\n",
              "      <td>22.0</td>\n",
              "      <td>38.0</td>\n",
              "      <td>100.0</td>\n",
              "      <td>0.0</td>\n",
              "      <td>0.0</td>\n",
              "      <td>0.0</td>\n",
              "      <td>100.0</td>\n",
              "      <td>0.0</td>\n",
              "      <td>0.0</td>\n",
              "      <td>0.0</td>\n",
              "      <td>9785.0</td>\n",
              "      <td>316210.0</td>\n",
              "      <td>1.035262e+09</td>\n",
              "      <td>Huawei</td>\n",
              "      <td>Huawei Mate 20 Lite</td>\n",
              "      <td>33.0</td>\n",
              "      <td>655.0</td>\n",
              "      <td>1623509.0</td>\n",
              "      <td>1482.0</td>\n",
              "      <td>1837897.0</td>\n",
              "      <td>3068975.0</td>\n",
              "      <td>1838947.0</td>\n",
              "      <td>252032.0</td>\n",
              "      <td>7234465.0</td>\n",
              "      <td>1886295.0</td>\n",
              "      <td>13231006.0</td>\n",
              "      <td>17981760.0</td>\n",
              "      <td>44796223.0</td>\n",
              "      <td>14084934.0</td>\n",
              "      <td>803653557.0</td>\n",
              "      <td>10649768.0</td>\n",
              "      <td>47925246.0</td>\n",
              "      <td>70562047.0</td>\n",
              "    </tr>\n",
              "    <tr>\n",
              "      <th>7</th>\n",
              "      <td>1.304240e+19</td>\n",
              "      <td>2019-04-14 02:11:00</td>\n",
              "      <td>592.0</td>\n",
              "      <td>2019-04-25 02:26:00</td>\n",
              "      <td>512.0</td>\n",
              "      <td>951292.0</td>\n",
              "      <td>2.082010e+14</td>\n",
              "      <td>3.376349e+10</td>\n",
              "      <td>8.654640e+13</td>\n",
              "      <td>CELL_208_20_520025_1</td>\n",
              "      <td>39.0</td>\n",
              "      <td>18.0</td>\n",
              "      <td>3698.0</td>\n",
              "      <td>416.0</td>\n",
              "      <td>99.0</td>\n",
              "      <td>0.0</td>\n",
              "      <td>0.0</td>\n",
              "      <td>0.0</td>\n",
              "      <td>99.0</td>\n",
              "      <td>0.0</td>\n",
              "      <td>0.0</td>\n",
              "      <td>0.0</td>\n",
              "      <td>70832.0</td>\n",
              "      <td>74477.0</td>\n",
              "      <td>9.512929e+08</td>\n",
              "      <td>undefined</td>\n",
              "      <td>undefined</td>\n",
              "      <td>708.0</td>\n",
              "      <td>666.0</td>\n",
              "      <td>3103940.0</td>\n",
              "      <td>57463.0</td>\n",
              "      <td>1304524.0</td>\n",
              "      <td>2568189.0</td>\n",
              "      <td>2987408.0</td>\n",
              "      <td>512696.0</td>\n",
              "      <td>12189786.0</td>\n",
              "      <td>19735183.0</td>\n",
              "      <td>6858496.0</td>\n",
              "      <td>12075206.0</td>\n",
              "      <td>748906189.0</td>\n",
              "      <td>16149622.0</td>\n",
              "      <td>537601820.0</td>\n",
              "      <td>7714657.0</td>\n",
              "      <td>58813016.0</td>\n",
              "      <td>775350343.0</td>\n",
              "    </tr>\n",
              "    <tr>\n",
              "      <th>8</th>\n",
              "      <td>1.311450e+19</td>\n",
              "      <td>2019-04-14 12:48:00</td>\n",
              "      <td>121.0</td>\n",
              "      <td>2019-04-25 10:22:00</td>\n",
              "      <td>960.0</td>\n",
              "      <td>941634.0</td>\n",
              "      <td>2.082010e+14</td>\n",
              "      <td>3.369874e+10</td>\n",
              "      <td>3.556240e+13</td>\n",
              "      <td>T42084A</td>\n",
              "      <td>28.0</td>\n",
              "      <td>5.0</td>\n",
              "      <td>46.0</td>\n",
              "      <td>49.0</td>\n",
              "      <td>100.0</td>\n",
              "      <td>0.0</td>\n",
              "      <td>0.0</td>\n",
              "      <td>0.0</td>\n",
              "      <td>100.0</td>\n",
              "      <td>0.0</td>\n",
              "      <td>0.0</td>\n",
              "      <td>0.0</td>\n",
              "      <td>162472.0</td>\n",
              "      <td>176488.0</td>\n",
              "      <td>9.416348e+08</td>\n",
              "      <td>Samsung</td>\n",
              "      <td>Samsung Galaxy A8 (2018)</td>\n",
              "      <td>794.0</td>\n",
              "      <td>826.0</td>\n",
              "      <td>342043.0</td>\n",
              "      <td>30582.0</td>\n",
              "      <td>7560820.0</td>\n",
              "      <td>1341279.0</td>\n",
              "      <td>3014208.0</td>\n",
              "      <td>365861.0</td>\n",
              "      <td>18436641.0</td>\n",
              "      <td>10860867.0</td>\n",
              "      <td>10587264.0</td>\n",
              "      <td>8467177.0</td>\n",
              "      <td>821671285.0</td>\n",
              "      <td>6548349.0</td>\n",
              "      <td>172920486.0</td>\n",
              "      <td>14749031.0</td>\n",
              "      <td>42363146.0</td>\n",
              "      <td>861612261.0</td>\n",
              "    </tr>\n",
              "    <tr>\n",
              "      <th>9</th>\n",
              "      <td>1.304240e+19</td>\n",
              "      <td>2019-04-15 00:32:00</td>\n",
              "      <td>0.0</td>\n",
              "      <td>2019-04-25 00:40:00</td>\n",
              "      <td>284.0</td>\n",
              "      <td>864482.0</td>\n",
              "      <td>2.082000e+14</td>\n",
              "      <td>3.365922e+10</td>\n",
              "      <td>3.557310e+13</td>\n",
              "      <td>L20434C</td>\n",
              "      <td>97.0</td>\n",
              "      <td>7.0</td>\n",
              "      <td>3845.0</td>\n",
              "      <td>2535.0</td>\n",
              "      <td>70.0</td>\n",
              "      <td>26.0</td>\n",
              "      <td>2.0</td>\n",
              "      <td>0.0</td>\n",
              "      <td>99.0</td>\n",
              "      <td>0.0</td>\n",
              "      <td>0.0</td>\n",
              "      <td>0.0</td>\n",
              "      <td>1537874.0</td>\n",
              "      <td>1542046.0</td>\n",
              "      <td>8.644823e+08</td>\n",
              "      <td>Samsung</td>\n",
              "      <td>Samsung Galaxy Note 8 (Sm-N950F Ds)</td>\n",
              "      <td>4421.0</td>\n",
              "      <td>6344.0</td>\n",
              "      <td>1541259.0</td>\n",
              "      <td>44154.0</td>\n",
              "      <td>8601949.0</td>\n",
              "      <td>176392.0</td>\n",
              "      <td>522457.0</td>\n",
              "      <td>243589.0</td>\n",
              "      <td>16338345.0</td>\n",
              "      <td>6573194.0</td>\n",
              "      <td>12211149.0</td>\n",
              "      <td>974201.0</td>\n",
              "      <td>811355188.0</td>\n",
              "      <td>1591237.0</td>\n",
              "      <td>64856042.0</td>\n",
              "      <td>12815208.0</td>\n",
              "      <td>22417975.0</td>\n",
              "      <td>850570347.0</td>\n",
              "    </tr>\n",
              "  </tbody>\n",
              "</table>\n",
              "</div>"
            ],
            "text/plain": [
              "      Bearer Id               Start  Start ms                 End  End ms  \\\n",
              "0  1.311450e+19 2019-04-04 12:01:00     770.0 2019-04-25 14:35:00   662.0   \n",
              "1  1.311450e+19 2019-04-09 13:04:00     235.0 2019-04-25 08:15:00   606.0   \n",
              "2  1.311450e+19 2019-04-09 17:42:00       1.0 2019-04-25 11:58:00   652.0   \n",
              "3  1.311450e+19 2019-04-10 00:31:00     486.0 2019-04-25 07:36:00   171.0   \n",
              "4  1.311450e+19 2019-04-12 20:10:00     565.0 2019-04-25 10:40:00   954.0   \n",
              "5  1.311450e+19 2019-04-12 21:37:00     439.0 2019-04-25 08:08:00   553.0   \n",
              "6  1.311450e+19 2019-04-13 08:41:00     612.0 2019-04-25 08:16:00   168.0   \n",
              "7  1.304240e+19 2019-04-14 02:11:00     592.0 2019-04-25 02:26:00   512.0   \n",
              "8  1.311450e+19 2019-04-14 12:48:00     121.0 2019-04-25 10:22:00   960.0   \n",
              "9  1.304240e+19 2019-04-15 00:32:00       0.0 2019-04-25 00:40:00   284.0   \n",
              "\n",
              "   Dur. (ms)          IMSI  MSISDN/Number          IMEI    Last Location Name  \\\n",
              "0  1823652.0  2.082010e+14   3.366496e+10  3.552120e+13           9.16457E+15   \n",
              "1  1365104.0  2.082020e+14   3.368185e+10  3.579400e+13               L77566A   \n",
              "2  1361762.0  2.082000e+14   3.376063e+10  3.528150e+13               D42335A   \n",
              "3  1321509.0  2.082010e+14   3.375034e+10  3.535660e+13               T21824A   \n",
              "4  1089009.0  2.082010e+14   3.369980e+10  3.540700e+13               D88865A   \n",
              "5  1074638.0  2.082010e+14   3.366819e+10  3.529840e+13               T89132C   \n",
              "6  1035261.0  2.082010e+14   3.366537e+10  8.676270e+13           9.16457E+15   \n",
              "7   951292.0  2.082010e+14   3.376349e+10  8.654640e+13  CELL_208_20_520025_1   \n",
              "8   941634.0  2.082010e+14   3.369874e+10  3.556240e+13               T42084A   \n",
              "9   864482.0  2.082000e+14   3.365922e+10  3.557310e+13               L20434C   \n",
              "\n",
              "   Avg RTT DL (ms)  Avg RTT UL (ms)  Avg Bearer TP DL (kbps)  \\\n",
              "0             42.0              5.0                     23.0   \n",
              "1             65.0              5.0                     16.0   \n",
              "2             28.0              5.0                      6.0   \n",
              "3             28.0              5.0                     44.0   \n",
              "4             28.0              5.0                      6.0   \n",
              "5             28.0              5.0                     70.0   \n",
              "6            102.0              5.0                     22.0   \n",
              "7             39.0             18.0                   3698.0   \n",
              "8             28.0              5.0                     46.0   \n",
              "9             97.0              7.0                   3845.0   \n",
              "\n",
              "   Avg Bearer TP UL (kbps)  DL TP < 50 Kbps (%)  \\\n",
              "0                     44.0                100.0   \n",
              "1                     26.0                100.0   \n",
              "2                      9.0                100.0   \n",
              "3                     44.0                100.0   \n",
              "4                      9.0                100.0   \n",
              "5                     54.0                100.0   \n",
              "6                     38.0                100.0   \n",
              "7                    416.0                 99.0   \n",
              "8                     49.0                100.0   \n",
              "9                   2535.0                 70.0   \n",
              "\n",
              "   50 Kbps < DL TP < 250 Kbps (%)  250 Kbps < DL TP < 1 Mbps (%)  \\\n",
              "0                             0.0                            0.0   \n",
              "1                             0.0                            0.0   \n",
              "2                             0.0                            0.0   \n",
              "3                             0.0                            0.0   \n",
              "4                             0.0                            0.0   \n",
              "5                             0.0                            0.0   \n",
              "6                             0.0                            0.0   \n",
              "7                             0.0                            0.0   \n",
              "8                             0.0                            0.0   \n",
              "9                            26.0                            2.0   \n",
              "\n",
              "   DL TP > 1 Mbps (%)  UL TP < 10 Kbps (%)  10 Kbps < UL TP < 50 Kbps (%)  \\\n",
              "0                 0.0                100.0                            0.0   \n",
              "1                 0.0                100.0                            0.0   \n",
              "2                 0.0                100.0                            0.0   \n",
              "3                 0.0                100.0                            0.0   \n",
              "4                 0.0                100.0                            0.0   \n",
              "5                 0.0                100.0                            0.0   \n",
              "6                 0.0                100.0                            0.0   \n",
              "7                 0.0                 99.0                            0.0   \n",
              "8                 0.0                100.0                            0.0   \n",
              "9                 0.0                 99.0                            0.0   \n",
              "\n",
              "   50 Kbps < UL TP < 300 Kbps (%)  UL TP > 300 Kbps (%)  \\\n",
              "0                             0.0                   0.0   \n",
              "1                             0.0                   0.0   \n",
              "2                             0.0                   0.0   \n",
              "3                             0.0                   0.0   \n",
              "4                             0.0                   0.0   \n",
              "5                             0.0                   0.0   \n",
              "6                             0.0                   0.0   \n",
              "7                             0.0                   0.0   \n",
              "8                             0.0                   0.0   \n",
              "9                             0.0                   0.0   \n",
              "\n",
              "   Activity Duration DL (ms)  Activity Duration UL (ms)   Dur. (ms).1  \\\n",
              "0                    37624.0                    38787.0  1.823653e+09   \n",
              "1                      168.0                     3560.0  1.365104e+09   \n",
              "2                        0.0                        0.0  1.361763e+09   \n",
              "3                     3330.0                    37882.0  1.321510e+09   \n",
              "4                        0.0                        0.0  1.089009e+09   \n",
              "5                    22639.0                    22700.0  1.074638e+09   \n",
              "6                     9785.0                   316210.0  1.035262e+09   \n",
              "7                    70832.0                    74477.0  9.512929e+08   \n",
              "8                   162472.0                   176488.0  9.416348e+08   \n",
              "9                  1537874.0                  1542046.0  8.644823e+08   \n",
              "\n",
              "  Handset Manufacturer                         Handset Type  \\\n",
              "0              Samsung           Samsung Galaxy A5 Sm-A520F   \n",
              "1              Samsung          Samsung Galaxy J5 (Sm-J530)   \n",
              "2              Samsung             Samsung Galaxy A8 (2018)   \n",
              "3            undefined                            undefined   \n",
              "4              Samsung                     Samsung Sm-G390F   \n",
              "5            undefined                            undefined   \n",
              "6               Huawei                  Huawei Mate 20 Lite   \n",
              "7            undefined                            undefined   \n",
              "8              Samsung             Samsung Galaxy A8 (2018)   \n",
              "9              Samsung  Samsung Galaxy Note 8 (Sm-N950F Ds)   \n",
              "\n",
              "   Nb of sec with Vol DL < 6250B  Nb of sec with Vol UL < 1250B  \\\n",
              "0                          213.0                          214.0   \n",
              "1                          971.0                         1022.0   \n",
              "2                          751.0                          695.0   \n",
              "3                           17.0                          207.0   \n",
              "4                          607.0                          604.0   \n",
              "5                          112.0                          118.0   \n",
              "6                           33.0                          655.0   \n",
              "7                          708.0                          666.0   \n",
              "8                          794.0                          826.0   \n",
              "9                         4421.0                         6344.0   \n",
              "\n",
              "   Social Media DL (Bytes)  Social Media UL (Bytes)  Google DL (Bytes)  \\\n",
              "0                1545765.0                  24420.0          1634479.0   \n",
              "1                1926113.0                   7165.0          3493924.0   \n",
              "2                1684053.0                  42224.0          8535055.0   \n",
              "3                 644121.0                  13372.0          9023734.0   \n",
              "4                 862600.0                  50188.0          6248284.0   \n",
              "5                3148833.0                  51181.0         10351530.0   \n",
              "6                1623509.0                   1482.0          1837897.0   \n",
              "7                3103940.0                  57463.0          1304524.0   \n",
              "8                 342043.0                  30582.0          7560820.0   \n",
              "9                1541259.0                  44154.0          8601949.0   \n",
              "\n",
              "   Google UL (Bytes)  Email DL (Bytes)  Email UL (Bytes)  Youtube DL (Bytes)  \\\n",
              "0          1271433.0         3563542.0          137762.0          15854611.0   \n",
              "1           920172.0          629046.0          308339.0          20247395.0   \n",
              "2          1694064.0         2690151.0          672973.0          19725661.0   \n",
              "3          2788027.0         1439754.0          631229.0          21388122.0   \n",
              "4          1500559.0         1936496.0          173853.0          15259380.0   \n",
              "5          2582603.0         1980032.0          922378.0          21332918.0   \n",
              "6          3068975.0         1838947.0          252032.0           7234465.0   \n",
              "7          2568189.0         2987408.0          512696.0          12189786.0   \n",
              "8          1341279.0         3014208.0          365861.0          18436641.0   \n",
              "9           176392.0          522457.0          243589.0          16338345.0   \n",
              "\n",
              "   Youtube UL (Bytes)  Netflix DL (Bytes)  Netflix UL (Bytes)  \\\n",
              "0           2501332.0           8198936.0           9656251.0   \n",
              "1          19111729.0          18338413.0          17227132.0   \n",
              "2          14699576.0          17587794.0           6163408.0   \n",
              "3          15146643.0          13994646.0           1097942.0   \n",
              "4          18962873.0          17124581.0            415218.0   \n",
              "5           2611113.0           7345361.0           6536448.0   \n",
              "6           1886295.0          13231006.0          17981760.0   \n",
              "7          19735183.0           6858496.0          12075206.0   \n",
              "8          10860867.0          10587264.0           8467177.0   \n",
              "9           6573194.0          12211149.0            974201.0   \n",
              "\n",
              "   Gaming DL (Bytes)  Gaming UL (Bytes)  Other DL (Bytes)  Other UL (Bytes)  \\\n",
              "0        278082303.0         14344150.0       171744450.0         8814393.0   \n",
              "1        608750074.0          1170709.0       526904238.0        15055145.0   \n",
              "2        229584621.0           395630.0       410692588.0         4215763.0   \n",
              "3        799538153.0         10849722.0       749039933.0        12797283.0   \n",
              "4        527707248.0          3529801.0       550709500.0        13910322.0   \n",
              "5        710293538.0         13167974.0       654978277.0         4436057.0   \n",
              "6         44796223.0         14084934.0       803653557.0        10649768.0   \n",
              "7        748906189.0         16149622.0       537601820.0         7714657.0   \n",
              "8        821671285.0          6548349.0       172920486.0        14749031.0   \n",
              "9        811355188.0          1591237.0        64856042.0        12815208.0   \n",
              "\n",
              "   Total UL (Bytes)  Total DL (Bytes)  \n",
              "0        36749741.0       308879636.0  \n",
              "1        53800391.0       653384965.0  \n",
              "2        27883638.0       279807335.0  \n",
              "3        43324218.0       846028530.0  \n",
              "4        38542814.0       569138589.0  \n",
              "5        30307754.0       754452212.0  \n",
              "6        47925246.0        70562047.0  \n",
              "7        58813016.0       775350343.0  \n",
              "8        42363146.0       861612261.0  \n",
              "9        22417975.0       850570347.0  "
            ]
          },
          "metadata": {
            "tags": []
          },
          "execution_count": 19
        }
      ]
    },
    {
      "cell_type": "code",
      "metadata": {
        "id": "CVG4g76QIYVG",
        "colab": {
          "base_uri": "https://localhost:8080/",
          "height": 547
        },
        "outputId": "fdfe2449-6925-4b93-dda9-9b451fb06f54"
      },
      "source": [
        "rows = df_clean.tail(5)\n",
        "rows\n",
        "#see the last records of the data: it looks like this data was collected in a month"
      ],
      "execution_count": 20,
      "outputs": [
        {
          "output_type": "execute_result",
          "data": {
            "text/html": [
              "<div>\n",
              "<style scoped>\n",
              "    .dataframe tbody tr th:only-of-type {\n",
              "        vertical-align: middle;\n",
              "    }\n",
              "\n",
              "    .dataframe tbody tr th {\n",
              "        vertical-align: top;\n",
              "    }\n",
              "\n",
              "    .dataframe thead th {\n",
              "        text-align: right;\n",
              "    }\n",
              "</style>\n",
              "<table border=\"1\" class=\"dataframe\">\n",
              "  <thead>\n",
              "    <tr style=\"text-align: right;\">\n",
              "      <th></th>\n",
              "      <th>Bearer Id</th>\n",
              "      <th>Start</th>\n",
              "      <th>Start ms</th>\n",
              "      <th>End</th>\n",
              "      <th>End ms</th>\n",
              "      <th>Dur. (ms)</th>\n",
              "      <th>IMSI</th>\n",
              "      <th>MSISDN/Number</th>\n",
              "      <th>IMEI</th>\n",
              "      <th>Last Location Name</th>\n",
              "      <th>Avg RTT DL (ms)</th>\n",
              "      <th>Avg RTT UL (ms)</th>\n",
              "      <th>Avg Bearer TP DL (kbps)</th>\n",
              "      <th>Avg Bearer TP UL (kbps)</th>\n",
              "      <th>DL TP &lt; 50 Kbps (%)</th>\n",
              "      <th>50 Kbps &lt; DL TP &lt; 250 Kbps (%)</th>\n",
              "      <th>250 Kbps &lt; DL TP &lt; 1 Mbps (%)</th>\n",
              "      <th>DL TP &gt; 1 Mbps (%)</th>\n",
              "      <th>UL TP &lt; 10 Kbps (%)</th>\n",
              "      <th>10 Kbps &lt; UL TP &lt; 50 Kbps (%)</th>\n",
              "      <th>50 Kbps &lt; UL TP &lt; 300 Kbps (%)</th>\n",
              "      <th>UL TP &gt; 300 Kbps (%)</th>\n",
              "      <th>Activity Duration DL (ms)</th>\n",
              "      <th>Activity Duration UL (ms)</th>\n",
              "      <th>Dur. (ms).1</th>\n",
              "      <th>Handset Manufacturer</th>\n",
              "      <th>Handset Type</th>\n",
              "      <th>Nb of sec with Vol DL &lt; 6250B</th>\n",
              "      <th>Nb of sec with Vol UL &lt; 1250B</th>\n",
              "      <th>Social Media DL (Bytes)</th>\n",
              "      <th>Social Media UL (Bytes)</th>\n",
              "      <th>Google DL (Bytes)</th>\n",
              "      <th>Google UL (Bytes)</th>\n",
              "      <th>Email DL (Bytes)</th>\n",
              "      <th>Email UL (Bytes)</th>\n",
              "      <th>Youtube DL (Bytes)</th>\n",
              "      <th>Youtube UL (Bytes)</th>\n",
              "      <th>Netflix DL (Bytes)</th>\n",
              "      <th>Netflix UL (Bytes)</th>\n",
              "      <th>Gaming DL (Bytes)</th>\n",
              "      <th>Gaming UL (Bytes)</th>\n",
              "      <th>Other DL (Bytes)</th>\n",
              "      <th>Other UL (Bytes)</th>\n",
              "      <th>Total UL (Bytes)</th>\n",
              "      <th>Total DL (Bytes)</th>\n",
              "    </tr>\n",
              "  </thead>\n",
              "  <tbody>\n",
              "    <tr>\n",
              "      <th>149996</th>\n",
              "      <td>7.277830e+18</td>\n",
              "      <td>2019-04-29 07:28:00</td>\n",
              "      <td>451.0</td>\n",
              "      <td>2019-04-30 06:02:00</td>\n",
              "      <td>214.0</td>\n",
              "      <td>81230.0</td>\n",
              "      <td>2.082020e+14</td>\n",
              "      <td>3.365069e+10</td>\n",
              "      <td>3.548310e+13</td>\n",
              "      <td>D20434A</td>\n",
              "      <td>32.0</td>\n",
              "      <td>0.0</td>\n",
              "      <td>52.0</td>\n",
              "      <td>65.0</td>\n",
              "      <td>100.0</td>\n",
              "      <td>0.0</td>\n",
              "      <td>0.0</td>\n",
              "      <td>0.0</td>\n",
              "      <td>100.0</td>\n",
              "      <td>0.0</td>\n",
              "      <td>0.0</td>\n",
              "      <td>0.0</td>\n",
              "      <td>42376.0</td>\n",
              "      <td>41915.0</td>\n",
              "      <td>81230763.0</td>\n",
              "      <td>Apple</td>\n",
              "      <td>Apple iPhone 8 Plus (A1897)</td>\n",
              "      <td>223.0</td>\n",
              "      <td>229.0</td>\n",
              "      <td>3464974.000</td>\n",
              "      <td>52091.00000</td>\n",
              "      <td>9967603.000</td>\n",
              "      <td>2817311.000</td>\n",
              "      <td>57639.000</td>\n",
              "      <td>633237.0000</td>\n",
              "      <td>16191667.0</td>\n",
              "      <td>11763428.00</td>\n",
              "      <td>17883703.00</td>\n",
              "      <td>19678161.00</td>\n",
              "      <td>526609673.0</td>\n",
              "      <td>9.197207e+06</td>\n",
              "      <td>3264510.0</td>\n",
              "      <td>1.348742e+07</td>\n",
              "      <td>57628851.0</td>\n",
              "      <td>574175259.0</td>\n",
              "    </tr>\n",
              "    <tr>\n",
              "      <th>149997</th>\n",
              "      <td>7.349880e+18</td>\n",
              "      <td>2019-04-29 07:28:00</td>\n",
              "      <td>483.0</td>\n",
              "      <td>2019-04-30 10:41:00</td>\n",
              "      <td>187.0</td>\n",
              "      <td>97970.0</td>\n",
              "      <td>2.082020e+14</td>\n",
              "      <td>3.366345e+10</td>\n",
              "      <td>3.566050e+13</td>\n",
              "      <td>D10223C</td>\n",
              "      <td>27.0</td>\n",
              "      <td>2.0</td>\n",
              "      <td>23.0</td>\n",
              "      <td>54.0</td>\n",
              "      <td>100.0</td>\n",
              "      <td>0.0</td>\n",
              "      <td>0.0</td>\n",
              "      <td>0.0</td>\n",
              "      <td>100.0</td>\n",
              "      <td>0.0</td>\n",
              "      <td>0.0</td>\n",
              "      <td>0.0</td>\n",
              "      <td>17264.0</td>\n",
              "      <td>16759.0</td>\n",
              "      <td>97970704.0</td>\n",
              "      <td>Apple</td>\n",
              "      <td>Apple iPhone Se (A1723)</td>\n",
              "      <td>105.0</td>\n",
              "      <td>102.0</td>\n",
              "      <td>2344568.000</td>\n",
              "      <td>7613.00000</td>\n",
              "      <td>2229420.000</td>\n",
              "      <td>2185941.000</td>\n",
              "      <td>1954414.000</td>\n",
              "      <td>167304.0000</td>\n",
              "      <td>13877234.0</td>\n",
              "      <td>8288284.00</td>\n",
              "      <td>19350146.00</td>\n",
              "      <td>21293148.00</td>\n",
              "      <td>626893062.0</td>\n",
              "      <td>4.735033e+06</td>\n",
              "      <td>712180387.0</td>\n",
              "      <td>2.457758e+06</td>\n",
              "      <td>39135081.0</td>\n",
              "      <td>666648844.0</td>\n",
              "    </tr>\n",
              "    <tr>\n",
              "      <th>149998</th>\n",
              "      <td>1.311450e+19</td>\n",
              "      <td>2019-04-29 07:28:00</td>\n",
              "      <td>283.0</td>\n",
              "      <td>2019-04-30 10:46:00</td>\n",
              "      <td>810.0</td>\n",
              "      <td>98249.0</td>\n",
              "      <td>2.082020e+14</td>\n",
              "      <td>3.362189e+10</td>\n",
              "      <td>3.572120e+13</td>\n",
              "      <td>T51102A</td>\n",
              "      <td>43.0</td>\n",
              "      <td>6.0</td>\n",
              "      <td>43.0</td>\n",
              "      <td>47.0</td>\n",
              "      <td>100.0</td>\n",
              "      <td>0.0</td>\n",
              "      <td>0.0</td>\n",
              "      <td>0.0</td>\n",
              "      <td>100.0</td>\n",
              "      <td>0.0</td>\n",
              "      <td>0.0</td>\n",
              "      <td>0.0</td>\n",
              "      <td>25003.0</td>\n",
              "      <td>28640.0</td>\n",
              "      <td>98249527.0</td>\n",
              "      <td>Apple</td>\n",
              "      <td>Apple iPhone Xs (A2097)</td>\n",
              "      <td>104.0</td>\n",
              "      <td>108.0</td>\n",
              "      <td>1245845.000</td>\n",
              "      <td>14394.00000</td>\n",
              "      <td>3850890.000</td>\n",
              "      <td>2734579.000</td>\n",
              "      <td>1525734.000</td>\n",
              "      <td>532543.0000</td>\n",
              "      <td>22660510.0</td>\n",
              "      <td>1855903.00</td>\n",
              "      <td>9963942.00</td>\n",
              "      <td>5065760.00</td>\n",
              "      <td>553539484.0</td>\n",
              "      <td>1.339432e+07</td>\n",
              "      <td>121100856.0</td>\n",
              "      <td>1.131473e+07</td>\n",
              "      <td>34912224.0</td>\n",
              "      <td>592786405.0</td>\n",
              "    </tr>\n",
              "    <tr>\n",
              "      <th>149999</th>\n",
              "      <td>1.311450e+19</td>\n",
              "      <td>2019-04-29 07:28:00</td>\n",
              "      <td>696.0</td>\n",
              "      <td>2019-04-30 10:40:00</td>\n",
              "      <td>327.0</td>\n",
              "      <td>97910.0</td>\n",
              "      <td>2.082020e+14</td>\n",
              "      <td>3.361962e+10</td>\n",
              "      <td>8.618620e+13</td>\n",
              "      <td>L88342B</td>\n",
              "      <td>37.0</td>\n",
              "      <td>5.0</td>\n",
              "      <td>34.0</td>\n",
              "      <td>37.0</td>\n",
              "      <td>100.0</td>\n",
              "      <td>0.0</td>\n",
              "      <td>0.0</td>\n",
              "      <td>0.0</td>\n",
              "      <td>100.0</td>\n",
              "      <td>0.0</td>\n",
              "      <td>0.0</td>\n",
              "      <td>0.0</td>\n",
              "      <td>13405.0</td>\n",
              "      <td>34088.0</td>\n",
              "      <td>97910631.0</td>\n",
              "      <td>Huawei</td>\n",
              "      <td>Huawei Fig-Lx1</td>\n",
              "      <td>43.0</td>\n",
              "      <td>82.0</td>\n",
              "      <td>801547.000</td>\n",
              "      <td>21562.00000</td>\n",
              "      <td>4189773.000</td>\n",
              "      <td>3567494.000</td>\n",
              "      <td>2228270.000</td>\n",
              "      <td>622644.0000</td>\n",
              "      <td>8817106.0</td>\n",
              "      <td>8305402.00</td>\n",
              "      <td>3322253.00</td>\n",
              "      <td>13172589.00</td>\n",
              "      <td>352536971.0</td>\n",
              "      <td>2.529475e+06</td>\n",
              "      <td>814713113.0</td>\n",
              "      <td>1.406930e+06</td>\n",
              "      <td>29626096.0</td>\n",
              "      <td>371895920.0</td>\n",
              "    </tr>\n",
              "    <tr>\n",
              "      <th>150000</th>\n",
              "      <td>1.311450e+19</td>\n",
              "      <td>2019-04-26 07:25:00</td>\n",
              "      <td>341.0</td>\n",
              "      <td>2019-04-25 00:01:00</td>\n",
              "      <td>872.0</td>\n",
              "      <td>86399.0</td>\n",
              "      <td>2.082020e+14</td>\n",
              "      <td>3.362632e+10</td>\n",
              "      <td>8.618620e+13</td>\n",
              "      <td>Unknow</td>\n",
              "      <td>28.0</td>\n",
              "      <td>5.0</td>\n",
              "      <td>23.0</td>\n",
              "      <td>40.0</td>\n",
              "      <td>100.0</td>\n",
              "      <td>0.0</td>\n",
              "      <td>0.0</td>\n",
              "      <td>0.0</td>\n",
              "      <td>100.0</td>\n",
              "      <td>0.0</td>\n",
              "      <td>0.0</td>\n",
              "      <td>0.0</td>\n",
              "      <td>0.0</td>\n",
              "      <td>0.0</td>\n",
              "      <td>86399953.0</td>\n",
              "      <td>Apple</td>\n",
              "      <td>Huawei B528S-23A</td>\n",
              "      <td>3.0</td>\n",
              "      <td>1.0</td>\n",
              "      <td>1795321.774</td>\n",
              "      <td>32928.43438</td>\n",
              "      <td>5750752.619</td>\n",
              "      <td>2056541.926</td>\n",
              "      <td>1791728.868</td>\n",
              "      <td>467373.4419</td>\n",
              "      <td>11634072.5</td>\n",
              "      <td>11009410.13</td>\n",
              "      <td>11626851.72</td>\n",
              "      <td>11001754.82</td>\n",
              "      <td>422044702.6</td>\n",
              "      <td>8.288398e+06</td>\n",
              "      <td>421100544.2</td>\n",
              "      <td>8.264799e+06</td>\n",
              "      <td>19362459.0</td>\n",
              "      <td>74126119.0</td>\n",
              "    </tr>\n",
              "  </tbody>\n",
              "</table>\n",
              "</div>"
            ],
            "text/plain": [
              "           Bearer Id               Start  Start ms                 End  \\\n",
              "149996  7.277830e+18 2019-04-29 07:28:00     451.0 2019-04-30 06:02:00   \n",
              "149997  7.349880e+18 2019-04-29 07:28:00     483.0 2019-04-30 10:41:00   \n",
              "149998  1.311450e+19 2019-04-29 07:28:00     283.0 2019-04-30 10:46:00   \n",
              "149999  1.311450e+19 2019-04-29 07:28:00     696.0 2019-04-30 10:40:00   \n",
              "150000  1.311450e+19 2019-04-26 07:25:00     341.0 2019-04-25 00:01:00   \n",
              "\n",
              "        End ms  Dur. (ms)          IMSI  MSISDN/Number          IMEI  \\\n",
              "149996   214.0    81230.0  2.082020e+14   3.365069e+10  3.548310e+13   \n",
              "149997   187.0    97970.0  2.082020e+14   3.366345e+10  3.566050e+13   \n",
              "149998   810.0    98249.0  2.082020e+14   3.362189e+10  3.572120e+13   \n",
              "149999   327.0    97910.0  2.082020e+14   3.361962e+10  8.618620e+13   \n",
              "150000   872.0    86399.0  2.082020e+14   3.362632e+10  8.618620e+13   \n",
              "\n",
              "       Last Location Name  Avg RTT DL (ms)  Avg RTT UL (ms)  \\\n",
              "149996            D20434A             32.0              0.0   \n",
              "149997            D10223C             27.0              2.0   \n",
              "149998            T51102A             43.0              6.0   \n",
              "149999            L88342B             37.0              5.0   \n",
              "150000             Unknow             28.0              5.0   \n",
              "\n",
              "        Avg Bearer TP DL (kbps)  Avg Bearer TP UL (kbps)  DL TP < 50 Kbps (%)  \\\n",
              "149996                     52.0                     65.0                100.0   \n",
              "149997                     23.0                     54.0                100.0   \n",
              "149998                     43.0                     47.0                100.0   \n",
              "149999                     34.0                     37.0                100.0   \n",
              "150000                     23.0                     40.0                100.0   \n",
              "\n",
              "        50 Kbps < DL TP < 250 Kbps (%)  250 Kbps < DL TP < 1 Mbps (%)  \\\n",
              "149996                             0.0                            0.0   \n",
              "149997                             0.0                            0.0   \n",
              "149998                             0.0                            0.0   \n",
              "149999                             0.0                            0.0   \n",
              "150000                             0.0                            0.0   \n",
              "\n",
              "        DL TP > 1 Mbps (%)  UL TP < 10 Kbps (%)  \\\n",
              "149996                 0.0                100.0   \n",
              "149997                 0.0                100.0   \n",
              "149998                 0.0                100.0   \n",
              "149999                 0.0                100.0   \n",
              "150000                 0.0                100.0   \n",
              "\n",
              "        10 Kbps < UL TP < 50 Kbps (%)  50 Kbps < UL TP < 300 Kbps (%)  \\\n",
              "149996                            0.0                             0.0   \n",
              "149997                            0.0                             0.0   \n",
              "149998                            0.0                             0.0   \n",
              "149999                            0.0                             0.0   \n",
              "150000                            0.0                             0.0   \n",
              "\n",
              "        UL TP > 300 Kbps (%)  Activity Duration DL (ms)  \\\n",
              "149996                   0.0                    42376.0   \n",
              "149997                   0.0                    17264.0   \n",
              "149998                   0.0                    25003.0   \n",
              "149999                   0.0                    13405.0   \n",
              "150000                   0.0                        0.0   \n",
              "\n",
              "        Activity Duration UL (ms)  Dur. (ms).1 Handset Manufacturer  \\\n",
              "149996                    41915.0   81230763.0                Apple   \n",
              "149997                    16759.0   97970704.0                Apple   \n",
              "149998                    28640.0   98249527.0                Apple   \n",
              "149999                    34088.0   97910631.0               Huawei   \n",
              "150000                        0.0   86399953.0                Apple   \n",
              "\n",
              "                       Handset Type  Nb of sec with Vol DL < 6250B  \\\n",
              "149996  Apple iPhone 8 Plus (A1897)                          223.0   \n",
              "149997      Apple iPhone Se (A1723)                          105.0   \n",
              "149998      Apple iPhone Xs (A2097)                          104.0   \n",
              "149999               Huawei Fig-Lx1                           43.0   \n",
              "150000             Huawei B528S-23A                            3.0   \n",
              "\n",
              "        Nb of sec with Vol UL < 1250B  Social Media DL (Bytes)  \\\n",
              "149996                          229.0              3464974.000   \n",
              "149997                          102.0              2344568.000   \n",
              "149998                          108.0              1245845.000   \n",
              "149999                           82.0               801547.000   \n",
              "150000                            1.0              1795321.774   \n",
              "\n",
              "        Social Media UL (Bytes)  Google DL (Bytes)  Google UL (Bytes)  \\\n",
              "149996              52091.00000        9967603.000        2817311.000   \n",
              "149997               7613.00000        2229420.000        2185941.000   \n",
              "149998              14394.00000        3850890.000        2734579.000   \n",
              "149999              21562.00000        4189773.000        3567494.000   \n",
              "150000              32928.43438        5750752.619        2056541.926   \n",
              "\n",
              "        Email DL (Bytes)  Email UL (Bytes)  Youtube DL (Bytes)  \\\n",
              "149996         57639.000       633237.0000          16191667.0   \n",
              "149997       1954414.000       167304.0000          13877234.0   \n",
              "149998       1525734.000       532543.0000          22660510.0   \n",
              "149999       2228270.000       622644.0000           8817106.0   \n",
              "150000       1791728.868       467373.4419          11634072.5   \n",
              "\n",
              "        Youtube UL (Bytes)  Netflix DL (Bytes)  Netflix UL (Bytes)  \\\n",
              "149996         11763428.00         17883703.00         19678161.00   \n",
              "149997          8288284.00         19350146.00         21293148.00   \n",
              "149998          1855903.00          9963942.00          5065760.00   \n",
              "149999          8305402.00          3322253.00         13172589.00   \n",
              "150000         11009410.13         11626851.72         11001754.82   \n",
              "\n",
              "        Gaming DL (Bytes)  Gaming UL (Bytes)  Other DL (Bytes)  \\\n",
              "149996        526609673.0       9.197207e+06         3264510.0   \n",
              "149997        626893062.0       4.735033e+06       712180387.0   \n",
              "149998        553539484.0       1.339432e+07       121100856.0   \n",
              "149999        352536971.0       2.529475e+06       814713113.0   \n",
              "150000        422044702.6       8.288398e+06       421100544.2   \n",
              "\n",
              "        Other UL (Bytes)  Total UL (Bytes)  Total DL (Bytes)  \n",
              "149996      1.348742e+07        57628851.0       574175259.0  \n",
              "149997      2.457758e+06        39135081.0       666648844.0  \n",
              "149998      1.131473e+07        34912224.0       592786405.0  \n",
              "149999      1.406930e+06        29626096.0       371895920.0  \n",
              "150000      8.264799e+06        19362459.0        74126119.0  "
            ]
          },
          "metadata": {
            "tags": []
          },
          "execution_count": 20
        }
      ]
    },
    {
      "cell_type": "code",
      "metadata": {
        "colab": {
          "base_uri": "https://localhost:8080/"
        },
        "id": "z3wjLmmP0xnU",
        "outputId": "515017ad-f758-4f7c-cb2e-8740220fdfe9"
      },
      "source": [
        "df_clean[\"Handset Type\"].value_counts().head(10)"
      ],
      "execution_count": 21,
      "outputs": [
        {
          "output_type": "execute_result",
          "data": {
            "text/plain": [
              "Huawei B528S-23A                20324\n",
              "Apple iPhone 6S (A1688)          9419\n",
              "Apple iPhone 6 (A1586)           9023\n",
              "undefined                        8987\n",
              "Apple iPhone 7 (A1778)           6326\n",
              "Apple iPhone Se (A1723)          5187\n",
              "Apple iPhone 8 (A1905)           4993\n",
              "Apple iPhone Xr (A2105)          4568\n",
              "Samsung Galaxy S8 (Sm-G950F)     4520\n",
              "Apple iPhone X (A1901)           3813\n",
              "Name: Handset Type, dtype: int64"
            ]
          },
          "metadata": {
            "tags": []
          },
          "execution_count": 21
        }
      ]
    },
    {
      "cell_type": "code",
      "metadata": {
        "colab": {
          "base_uri": "https://localhost:8080/"
        },
        "id": "Q667ZoAk0_Fb",
        "outputId": "32d734fc-f345-4455-9ad9-05796ac71559"
      },
      "source": [
        "df_clean[\"Handset Manufacturer\"].value_counts().head(3)"
      ],
      "execution_count": 23,
      "outputs": [
        {
          "output_type": "execute_result",
          "data": {
            "text/plain": [
              "Apple      60137\n",
              "Samsung    40839\n",
              "Huawei     34423\n",
              "Name: Handset Manufacturer, dtype: int64"
            ]
          },
          "metadata": {
            "tags": []
          },
          "execution_count": 23
        }
      ]
    },
    {
      "cell_type": "code",
      "metadata": {
        "id": "bEmIzfhF0_Lc"
      },
      "source": [
        ""
      ],
      "execution_count": null,
      "outputs": []
    },
    {
      "cell_type": "code",
      "metadata": {
        "colab": {
          "base_uri": "https://localhost:8080/"
        },
        "id": "kSlaex_42Slb",
        "outputId": "c810958e-5e19-4528-abf1-2b1d01fb22e4"
      },
      "source": [
        "apple_handsets = df_clean[df_clean[\"Handset Manufacturer\"] == \"Apple\"]\n",
        "apple_handsets[\"Handset Type\"].value_counts().head(5)"
      ],
      "execution_count": 25,
      "outputs": [
        {
          "output_type": "execute_result",
          "data": {
            "text/plain": [
              "Apple iPhone 6S (A1688)    9419\n",
              "Apple iPhone 6 (A1586)     9023\n",
              "Apple iPhone 7 (A1778)     6326\n",
              "Apple iPhone Se (A1723)    5187\n",
              "Apple iPhone 8 (A1905)     4993\n",
              "Name: Handset Type, dtype: int64"
            ]
          },
          "metadata": {
            "tags": []
          },
          "execution_count": 25
        }
      ]
    },
    {
      "cell_type": "code",
      "metadata": {
        "colab": {
          "base_uri": "https://localhost:8080/"
        },
        "id": "W2iLyEuX2gL0",
        "outputId": "bb06695f-c261-49bb-8b79-206b3fc2f6f8"
      },
      "source": [
        "Samsung_handsets = df_clean[df_clean[\"Handset Manufacturer\"] == \"Samsung\"]\n",
        "Samsung_handsets[\"Handset Type\"].value_counts().head(5)"
      ],
      "execution_count": 27,
      "outputs": [
        {
          "output_type": "execute_result",
          "data": {
            "text/plain": [
              "Samsung Galaxy S8 (Sm-G950F)    4520\n",
              "Samsung Galaxy A5 Sm-A520F      3724\n",
              "Samsung Galaxy J5 (Sm-J530)     3696\n",
              "Samsung Galaxy J3 (Sm-J330)     3484\n",
              "Samsung Galaxy S7 (Sm-G930X)    3199\n",
              "Name: Handset Type, dtype: int64"
            ]
          },
          "metadata": {
            "tags": []
          },
          "execution_count": 27
        }
      ]
    },
    {
      "cell_type": "code",
      "metadata": {
        "colab": {
          "base_uri": "https://localhost:8080/"
        },
        "id": "c2ktxPMt2gNi",
        "outputId": "d105205c-00b3-4150-bd3f-ef63e3c47df9"
      },
      "source": [
        "huawei_handsets = df_clean[df_clean[\"Handset Manufacturer\"] == \"Huawei\"]\n",
        "huawei_handsets[\"Handset Type\"].value_counts().head(5)"
      ],
      "execution_count": 29,
      "outputs": [
        {
          "output_type": "execute_result",
          "data": {
            "text/plain": [
              "Huawei B528S-23A                  19752\n",
              "Huawei E5180                       2079\n",
              "Huawei P20 Lite Huawei Nova 3E     2021\n",
              "Huawei P20                         1480\n",
              "Huawei Y6 2018                      997\n",
              "Name: Handset Type, dtype: int64"
            ]
          },
          "metadata": {
            "tags": []
          },
          "execution_count": 29
        }
      ]
    },
    {
      "cell_type": "markdown",
      "metadata": {
        "id": "YY3x_AEB3KYT"
      },
      "source": [
        "** Apple, Samsung and Huawei.** are the top handset manufectures for this service provider"
      ]
    },
    {
      "cell_type": "code",
      "metadata": {
        "colab": {
          "base_uri": "https://localhost:8080/",
          "height": 450
        },
        "id": "Z-K8Aa802gR9",
        "outputId": "d8ed9be8-6e90-4796-d3c8-82423f862ec2"
      },
      "source": [
        "\n",
        "data_usage = df_clean[[\"MSISDN/Number\",\"Dur. (ms).1\", \"Total DL (Bytes)\", \"Total UL (Bytes)\"]]\n",
        "data_usage.groupby([\"MSISDN/Number\"]).agg('sum')"
      ],
      "execution_count": 30,
      "outputs": [
        {
          "output_type": "execute_result",
          "data": {
            "text/html": [
              "<div>\n",
              "<style scoped>\n",
              "    .dataframe tbody tr th:only-of-type {\n",
              "        vertical-align: middle;\n",
              "    }\n",
              "\n",
              "    .dataframe tbody tr th {\n",
              "        vertical-align: top;\n",
              "    }\n",
              "\n",
              "    .dataframe thead th {\n",
              "        text-align: right;\n",
              "    }\n",
              "</style>\n",
              "<table border=\"1\" class=\"dataframe\">\n",
              "  <thead>\n",
              "    <tr style=\"text-align: right;\">\n",
              "      <th></th>\n",
              "      <th>Dur. (ms).1</th>\n",
              "      <th>Total DL (Bytes)</th>\n",
              "      <th>Total UL (Bytes)</th>\n",
              "    </tr>\n",
              "    <tr>\n",
              "      <th>MSISDN/Number</th>\n",
              "      <th></th>\n",
              "      <th></th>\n",
              "      <th></th>\n",
              "    </tr>\n",
              "  </thead>\n",
              "  <tbody>\n",
              "    <tr>\n",
              "      <th>3.360100e+10</th>\n",
              "      <td>116720140.0</td>\n",
              "      <td>8.426375e+08</td>\n",
              "      <td>36053108.0</td>\n",
              "    </tr>\n",
              "    <tr>\n",
              "      <th>3.360100e+10</th>\n",
              "      <td>181230963.0</td>\n",
              "      <td>1.207552e+08</td>\n",
              "      <td>36104459.0</td>\n",
              "    </tr>\n",
              "    <tr>\n",
              "      <th>3.360100e+10</th>\n",
              "      <td>134969374.0</td>\n",
              "      <td>5.566597e+08</td>\n",
              "      <td>39306820.0</td>\n",
              "    </tr>\n",
              "    <tr>\n",
              "      <th>3.360101e+10</th>\n",
              "      <td>49878024.0</td>\n",
              "      <td>4.019932e+08</td>\n",
              "      <td>20327526.0</td>\n",
              "    </tr>\n",
              "    <tr>\n",
              "      <th>3.360101e+10</th>\n",
              "      <td>37104453.0</td>\n",
              "      <td>1.363130e+09</td>\n",
              "      <td>94280527.0</td>\n",
              "    </tr>\n",
              "    <tr>\n",
              "      <th>...</th>\n",
              "      <td>...</td>\n",
              "      <td>...</td>\n",
              "      <td>...</td>\n",
              "    </tr>\n",
              "    <tr>\n",
              "      <th>3.379000e+10</th>\n",
              "      <td>8810688.0</td>\n",
              "      <td>6.879252e+08</td>\n",
              "      <td>26716429.0</td>\n",
              "    </tr>\n",
              "    <tr>\n",
              "      <th>3.379000e+10</th>\n",
              "      <td>140988659.0</td>\n",
              "      <td>4.445751e+08</td>\n",
              "      <td>35732243.0</td>\n",
              "    </tr>\n",
              "    <tr>\n",
              "      <th>3.197020e+12</th>\n",
              "      <td>877385325.0</td>\n",
              "      <td>1.948281e+08</td>\n",
              "      <td>37295915.0</td>\n",
              "    </tr>\n",
              "    <tr>\n",
              "      <th>3.370000e+14</th>\n",
              "      <td>253030201.0</td>\n",
              "      <td>5.396350e+08</td>\n",
              "      <td>56652839.0</td>\n",
              "    </tr>\n",
              "    <tr>\n",
              "      <th>8.823970e+14</th>\n",
              "      <td>869844200.0</td>\n",
              "      <td>7.869760e+07</td>\n",
              "      <td>60456049.0</td>\n",
              "    </tr>\n",
              "  </tbody>\n",
              "</table>\n",
              "<p>106856 rows × 3 columns</p>\n",
              "</div>"
            ],
            "text/plain": [
              "               Dur. (ms).1  Total DL (Bytes)  Total UL (Bytes)\n",
              "MSISDN/Number                                                 \n",
              "3.360100e+10   116720140.0      8.426375e+08        36053108.0\n",
              "3.360100e+10   181230963.0      1.207552e+08        36104459.0\n",
              "3.360100e+10   134969374.0      5.566597e+08        39306820.0\n",
              "3.360101e+10    49878024.0      4.019932e+08        20327526.0\n",
              "3.360101e+10    37104453.0      1.363130e+09        94280527.0\n",
              "...                    ...               ...               ...\n",
              "3.379000e+10     8810688.0      6.879252e+08        26716429.0\n",
              "3.379000e+10   140988659.0      4.445751e+08        35732243.0\n",
              "3.197020e+12   877385325.0      1.948281e+08        37295915.0\n",
              "3.370000e+14   253030201.0      5.396350e+08        56652839.0\n",
              "8.823970e+14   869844200.0      7.869760e+07        60456049.0\n",
              "\n",
              "[106856 rows x 3 columns]"
            ]
          },
          "metadata": {
            "tags": []
          },
          "execution_count": 30
        }
      ]
    },
    {
      "cell_type": "code",
      "metadata": {
        "id": "o6FZrE-l2gmd"
      },
      "source": [
        ""
      ],
      "execution_count": null,
      "outputs": []
    },
    {
      "cell_type": "code",
      "metadata": {
        "colab": {
          "base_uri": "https://localhost:8080/",
          "height": 390
        },
        "id": "uqjAolSUjTqA",
        "outputId": "8c730a58-3792-44f0-838f-2285f8b2e7ae"
      },
      "source": [
        "# task 1.1 A\n",
        "df_clean.groupby('MSISDN/Number').agg({'Bearer Id': 'count'}).head(10)"
      ],
      "execution_count": 31,
      "outputs": [
        {
          "output_type": "execute_result",
          "data": {
            "text/html": [
              "<div>\n",
              "<style scoped>\n",
              "    .dataframe tbody tr th:only-of-type {\n",
              "        vertical-align: middle;\n",
              "    }\n",
              "\n",
              "    .dataframe tbody tr th {\n",
              "        vertical-align: top;\n",
              "    }\n",
              "\n",
              "    .dataframe thead th {\n",
              "        text-align: right;\n",
              "    }\n",
              "</style>\n",
              "<table border=\"1\" class=\"dataframe\">\n",
              "  <thead>\n",
              "    <tr style=\"text-align: right;\">\n",
              "      <th></th>\n",
              "      <th>Bearer Id</th>\n",
              "    </tr>\n",
              "    <tr>\n",
              "      <th>MSISDN/Number</th>\n",
              "      <th></th>\n",
              "    </tr>\n",
              "  </thead>\n",
              "  <tbody>\n",
              "    <tr>\n",
              "      <th>3.360100e+10</th>\n",
              "      <td>1</td>\n",
              "    </tr>\n",
              "    <tr>\n",
              "      <th>3.360100e+10</th>\n",
              "      <td>1</td>\n",
              "    </tr>\n",
              "    <tr>\n",
              "      <th>3.360100e+10</th>\n",
              "      <td>1</td>\n",
              "    </tr>\n",
              "    <tr>\n",
              "      <th>3.360101e+10</th>\n",
              "      <td>1</td>\n",
              "    </tr>\n",
              "    <tr>\n",
              "      <th>3.360101e+10</th>\n",
              "      <td>2</td>\n",
              "    </tr>\n",
              "    <tr>\n",
              "      <th>3.360101e+10</th>\n",
              "      <td>2</td>\n",
              "    </tr>\n",
              "    <tr>\n",
              "      <th>3.360101e+10</th>\n",
              "      <td>2</td>\n",
              "    </tr>\n",
              "    <tr>\n",
              "      <th>3.360101e+10</th>\n",
              "      <td>1</td>\n",
              "    </tr>\n",
              "    <tr>\n",
              "      <th>3.360101e+10</th>\n",
              "      <td>2</td>\n",
              "    </tr>\n",
              "    <tr>\n",
              "      <th>3.360102e+10</th>\n",
              "      <td>1</td>\n",
              "    </tr>\n",
              "  </tbody>\n",
              "</table>\n",
              "</div>"
            ],
            "text/plain": [
              "               Bearer Id\n",
              "MSISDN/Number           \n",
              "3.360100e+10           1\n",
              "3.360100e+10           1\n",
              "3.360100e+10           1\n",
              "3.360101e+10           1\n",
              "3.360101e+10           2\n",
              "3.360101e+10           2\n",
              "3.360101e+10           2\n",
              "3.360101e+10           1\n",
              "3.360101e+10           2\n",
              "3.360102e+10           1"
            ]
          },
          "metadata": {
            "tags": []
          },
          "execution_count": 31
        }
      ]
    },
    {
      "cell_type": "code",
      "metadata": {
        "colab": {
          "base_uri": "https://localhost:8080/",
          "height": 481
        },
        "id": "4xURR6xmn4IW",
        "outputId": "b3c2d20a-9324-42a9-dee4-347cfad28895"
      },
      "source": [
        "df_clean.groupby('MSISDN/Number').agg({'Google DL (Bytes)': ['min', 'max'], 'Google UL (Bytes)': ['min', 'max'], 'Social Media UL (Bytes)': 'sum'})"
      ],
      "execution_count": 32,
      "outputs": [
        {
          "output_type": "execute_result",
          "data": {
            "text/html": [
              "<div>\n",
              "<style scoped>\n",
              "    .dataframe tbody tr th:only-of-type {\n",
              "        vertical-align: middle;\n",
              "    }\n",
              "\n",
              "    .dataframe tbody tr th {\n",
              "        vertical-align: top;\n",
              "    }\n",
              "\n",
              "    .dataframe thead tr th {\n",
              "        text-align: left;\n",
              "    }\n",
              "\n",
              "    .dataframe thead tr:last-of-type th {\n",
              "        text-align: right;\n",
              "    }\n",
              "</style>\n",
              "<table border=\"1\" class=\"dataframe\">\n",
              "  <thead>\n",
              "    <tr>\n",
              "      <th></th>\n",
              "      <th colspan=\"2\" halign=\"left\">Google DL (Bytes)</th>\n",
              "      <th colspan=\"2\" halign=\"left\">Google UL (Bytes)</th>\n",
              "      <th>Social Media UL (Bytes)</th>\n",
              "    </tr>\n",
              "    <tr>\n",
              "      <th></th>\n",
              "      <th>min</th>\n",
              "      <th>max</th>\n",
              "      <th>min</th>\n",
              "      <th>max</th>\n",
              "      <th>sum</th>\n",
              "    </tr>\n",
              "    <tr>\n",
              "      <th>MSISDN/Number</th>\n",
              "      <th></th>\n",
              "      <th></th>\n",
              "      <th></th>\n",
              "      <th></th>\n",
              "      <th></th>\n",
              "    </tr>\n",
              "  </thead>\n",
              "  <tbody>\n",
              "    <tr>\n",
              "      <th>3.360100e+10</th>\n",
              "      <td>3337123.0</td>\n",
              "      <td>3337123.0</td>\n",
              "      <td>1051882.0</td>\n",
              "      <td>1051882.0</td>\n",
              "      <td>25631.0</td>\n",
              "    </tr>\n",
              "    <tr>\n",
              "      <th>3.360100e+10</th>\n",
              "      <td>4197697.0</td>\n",
              "      <td>4197697.0</td>\n",
              "      <td>1137166.0</td>\n",
              "      <td>1137166.0</td>\n",
              "      <td>62017.0</td>\n",
              "    </tr>\n",
              "    <tr>\n",
              "      <th>3.360100e+10</th>\n",
              "      <td>3343483.0</td>\n",
              "      <td>3343483.0</td>\n",
              "      <td>99643.0</td>\n",
              "      <td>99643.0</td>\n",
              "      <td>47619.0</td>\n",
              "    </tr>\n",
              "    <tr>\n",
              "      <th>3.360101e+10</th>\n",
              "      <td>5937765.0</td>\n",
              "      <td>5937765.0</td>\n",
              "      <td>3740728.0</td>\n",
              "      <td>3740728.0</td>\n",
              "      <td>28825.0</td>\n",
              "    </tr>\n",
              "    <tr>\n",
              "      <th>3.360101e+10</th>\n",
              "      <td>6309062.0</td>\n",
              "      <td>7419606.0</td>\n",
              "      <td>2019919.0</td>\n",
              "      <td>2751029.0</td>\n",
              "      <td>51312.0</td>\n",
              "    </tr>\n",
              "    <tr>\n",
              "      <th>...</th>\n",
              "      <td>...</td>\n",
              "      <td>...</td>\n",
              "      <td>...</td>\n",
              "      <td>...</td>\n",
              "      <td>...</td>\n",
              "    </tr>\n",
              "    <tr>\n",
              "      <th>3.379000e+10</th>\n",
              "      <td>6834178.0</td>\n",
              "      <td>6834178.0</td>\n",
              "      <td>697091.0</td>\n",
              "      <td>697091.0</td>\n",
              "      <td>65863.0</td>\n",
              "    </tr>\n",
              "    <tr>\n",
              "      <th>3.379000e+10</th>\n",
              "      <td>1472406.0</td>\n",
              "      <td>1472406.0</td>\n",
              "      <td>3957299.0</td>\n",
              "      <td>3957299.0</td>\n",
              "      <td>56355.0</td>\n",
              "    </tr>\n",
              "    <tr>\n",
              "      <th>3.197020e+12</th>\n",
              "      <td>8572779.0</td>\n",
              "      <td>8572779.0</td>\n",
              "      <td>1865881.0</td>\n",
              "      <td>1865881.0</td>\n",
              "      <td>46628.0</td>\n",
              "    </tr>\n",
              "    <tr>\n",
              "      <th>3.370000e+14</th>\n",
              "      <td>8215537.0</td>\n",
              "      <td>8215537.0</td>\n",
              "      <td>1615080.0</td>\n",
              "      <td>1615080.0</td>\n",
              "      <td>25229.0</td>\n",
              "    </tr>\n",
              "    <tr>\n",
              "      <th>8.823970e+14</th>\n",
              "      <td>5985089.0</td>\n",
              "      <td>5985089.0</td>\n",
              "      <td>3233558.0</td>\n",
              "      <td>3233558.0</td>\n",
              "      <td>45943.0</td>\n",
              "    </tr>\n",
              "  </tbody>\n",
              "</table>\n",
              "<p>106856 rows × 5 columns</p>\n",
              "</div>"
            ],
            "text/plain": [
              "              Google DL (Bytes)            Google UL (Bytes)             \\\n",
              "                            min        max               min        max   \n",
              "MSISDN/Number                                                             \n",
              "3.360100e+10          3337123.0  3337123.0         1051882.0  1051882.0   \n",
              "3.360100e+10          4197697.0  4197697.0         1137166.0  1137166.0   \n",
              "3.360100e+10          3343483.0  3343483.0           99643.0    99643.0   \n",
              "3.360101e+10          5937765.0  5937765.0         3740728.0  3740728.0   \n",
              "3.360101e+10          6309062.0  7419606.0         2019919.0  2751029.0   \n",
              "...                         ...        ...               ...        ...   \n",
              "3.379000e+10          6834178.0  6834178.0          697091.0   697091.0   \n",
              "3.379000e+10          1472406.0  1472406.0         3957299.0  3957299.0   \n",
              "3.197020e+12          8572779.0  8572779.0         1865881.0  1865881.0   \n",
              "3.370000e+14          8215537.0  8215537.0         1615080.0  1615080.0   \n",
              "8.823970e+14          5985089.0  5985089.0         3233558.0  3233558.0   \n",
              "\n",
              "              Social Media UL (Bytes)  \n",
              "                                  sum  \n",
              "MSISDN/Number                          \n",
              "3.360100e+10                  25631.0  \n",
              "3.360100e+10                  62017.0  \n",
              "3.360100e+10                  47619.0  \n",
              "3.360101e+10                  28825.0  \n",
              "3.360101e+10                  51312.0  \n",
              "...                               ...  \n",
              "3.379000e+10                  65863.0  \n",
              "3.379000e+10                  56355.0  \n",
              "3.197020e+12                  46628.0  \n",
              "3.370000e+14                  25229.0  \n",
              "8.823970e+14                  45943.0  \n",
              "\n",
              "[106856 rows x 5 columns]"
            ]
          },
          "metadata": {
            "tags": []
          },
          "execution_count": 32
        }
      ]
    },
    {
      "cell_type": "code",
      "metadata": {
        "colab": {
          "base_uri": "https://localhost:8080/",
          "height": 390
        },
        "id": "vl2mq5CPotFF",
        "outputId": "4a75d12a-c7b2-46ce-a637-c41173bcfc09"
      },
      "source": [
        "#Session duration\n",
        "df_clean.groupby('MSISDN/Number').agg({'Dur. (ms)': 'sum'}).head(10)"
      ],
      "execution_count": 33,
      "outputs": [
        {
          "output_type": "execute_result",
          "data": {
            "text/html": [
              "<div>\n",
              "<style scoped>\n",
              "    .dataframe tbody tr th:only-of-type {\n",
              "        vertical-align: middle;\n",
              "    }\n",
              "\n",
              "    .dataframe tbody tr th {\n",
              "        vertical-align: top;\n",
              "    }\n",
              "\n",
              "    .dataframe thead th {\n",
              "        text-align: right;\n",
              "    }\n",
              "</style>\n",
              "<table border=\"1\" class=\"dataframe\">\n",
              "  <thead>\n",
              "    <tr style=\"text-align: right;\">\n",
              "      <th></th>\n",
              "      <th>Dur. (ms)</th>\n",
              "    </tr>\n",
              "    <tr>\n",
              "      <th>MSISDN/Number</th>\n",
              "      <th></th>\n",
              "    </tr>\n",
              "  </thead>\n",
              "  <tbody>\n",
              "    <tr>\n",
              "      <th>3.360100e+10</th>\n",
              "      <td>116720.0</td>\n",
              "    </tr>\n",
              "    <tr>\n",
              "      <th>3.360100e+10</th>\n",
              "      <td>181230.0</td>\n",
              "    </tr>\n",
              "    <tr>\n",
              "      <th>3.360100e+10</th>\n",
              "      <td>134969.0</td>\n",
              "    </tr>\n",
              "    <tr>\n",
              "      <th>3.360101e+10</th>\n",
              "      <td>49878.0</td>\n",
              "    </tr>\n",
              "    <tr>\n",
              "      <th>3.360101e+10</th>\n",
              "      <td>37104.0</td>\n",
              "    </tr>\n",
              "    <tr>\n",
              "      <th>3.360101e+10</th>\n",
              "      <td>253983.0</td>\n",
              "    </tr>\n",
              "    <tr>\n",
              "      <th>3.360101e+10</th>\n",
              "      <td>128360.0</td>\n",
              "    </tr>\n",
              "    <tr>\n",
              "      <th>3.360101e+10</th>\n",
              "      <td>86399.0</td>\n",
              "    </tr>\n",
              "    <tr>\n",
              "      <th>3.360101e+10</th>\n",
              "      <td>495702.0</td>\n",
              "    </tr>\n",
              "    <tr>\n",
              "      <th>3.360102e+10</th>\n",
              "      <td>124854.0</td>\n",
              "    </tr>\n",
              "  </tbody>\n",
              "</table>\n",
              "</div>"
            ],
            "text/plain": [
              "               Dur. (ms)\n",
              "MSISDN/Number           \n",
              "3.360100e+10    116720.0\n",
              "3.360100e+10    181230.0\n",
              "3.360100e+10    134969.0\n",
              "3.360101e+10     49878.0\n",
              "3.360101e+10     37104.0\n",
              "3.360101e+10    253983.0\n",
              "3.360101e+10    128360.0\n",
              "3.360101e+10     86399.0\n",
              "3.360101e+10    495702.0\n",
              "3.360102e+10    124854.0"
            ]
          },
          "metadata": {
            "tags": []
          },
          "execution_count": 33
        }
      ]
    },
    {
      "cell_type": "code",
      "metadata": {
        "colab": {
          "base_uri": "https://localhost:8080/",
          "height": 390
        },
        "id": "D6X6TlGrqBSk",
        "outputId": "098cdf99-a779-49c4-d8a7-591a5300c1ae"
      },
      "source": [
        "#the total download (DL) and upload (UL) data\n",
        "df_clean.groupby('MSISDN/Number').agg({'Total UL (Bytes)': 'sum','Total DL (Bytes)': 'sum' }).head(10)"
      ],
      "execution_count": 34,
      "outputs": [
        {
          "output_type": "execute_result",
          "data": {
            "text/html": [
              "<div>\n",
              "<style scoped>\n",
              "    .dataframe tbody tr th:only-of-type {\n",
              "        vertical-align: middle;\n",
              "    }\n",
              "\n",
              "    .dataframe tbody tr th {\n",
              "        vertical-align: top;\n",
              "    }\n",
              "\n",
              "    .dataframe thead th {\n",
              "        text-align: right;\n",
              "    }\n",
              "</style>\n",
              "<table border=\"1\" class=\"dataframe\">\n",
              "  <thead>\n",
              "    <tr style=\"text-align: right;\">\n",
              "      <th></th>\n",
              "      <th>Total UL (Bytes)</th>\n",
              "      <th>Total DL (Bytes)</th>\n",
              "    </tr>\n",
              "    <tr>\n",
              "      <th>MSISDN/Number</th>\n",
              "      <th></th>\n",
              "      <th></th>\n",
              "    </tr>\n",
              "  </thead>\n",
              "  <tbody>\n",
              "    <tr>\n",
              "      <th>3.360100e+10</th>\n",
              "      <td>36053108.0</td>\n",
              "      <td>8.426375e+08</td>\n",
              "    </tr>\n",
              "    <tr>\n",
              "      <th>3.360100e+10</th>\n",
              "      <td>36104459.0</td>\n",
              "      <td>1.207552e+08</td>\n",
              "    </tr>\n",
              "    <tr>\n",
              "      <th>3.360100e+10</th>\n",
              "      <td>39306820.0</td>\n",
              "      <td>5.566597e+08</td>\n",
              "    </tr>\n",
              "    <tr>\n",
              "      <th>3.360101e+10</th>\n",
              "      <td>20327526.0</td>\n",
              "      <td>4.019932e+08</td>\n",
              "    </tr>\n",
              "    <tr>\n",
              "      <th>3.360101e+10</th>\n",
              "      <td>94280527.0</td>\n",
              "      <td>1.363130e+09</td>\n",
              "    </tr>\n",
              "    <tr>\n",
              "      <th>3.360101e+10</th>\n",
              "      <td>60009249.0</td>\n",
              "      <td>5.552080e+08</td>\n",
              "    </tr>\n",
              "    <tr>\n",
              "      <th>3.360101e+10</th>\n",
              "      <td>101681858.0</td>\n",
              "      <td>5.530412e+08</td>\n",
              "    </tr>\n",
              "    <tr>\n",
              "      <th>3.360101e+10</th>\n",
              "      <td>38575279.0</td>\n",
              "      <td>2.940851e+08</td>\n",
              "    </tr>\n",
              "    <tr>\n",
              "      <th>3.360101e+10</th>\n",
              "      <td>93572016.0</td>\n",
              "      <td>8.965602e+08</td>\n",
              "    </tr>\n",
              "    <tr>\n",
              "      <th>3.360102e+10</th>\n",
              "      <td>47091008.0</td>\n",
              "      <td>6.853728e+08</td>\n",
              "    </tr>\n",
              "  </tbody>\n",
              "</table>\n",
              "</div>"
            ],
            "text/plain": [
              "               Total UL (Bytes)  Total DL (Bytes)\n",
              "MSISDN/Number                                    \n",
              "3.360100e+10         36053108.0      8.426375e+08\n",
              "3.360100e+10         36104459.0      1.207552e+08\n",
              "3.360100e+10         39306820.0      5.566597e+08\n",
              "3.360101e+10         20327526.0      4.019932e+08\n",
              "3.360101e+10         94280527.0      1.363130e+09\n",
              "3.360101e+10         60009249.0      5.552080e+08\n",
              "3.360101e+10        101681858.0      5.530412e+08\n",
              "3.360101e+10         38575279.0      2.940851e+08\n",
              "3.360101e+10         93572016.0      8.965602e+08\n",
              "3.360102e+10         47091008.0      6.853728e+08"
            ]
          },
          "metadata": {
            "tags": []
          },
          "execution_count": 34
        }
      ]
    },
    {
      "cell_type": "code",
      "metadata": {
        "id": "cF_9KxIktiZS"
      },
      "source": [
        "#the total data volume (in Bytes) during this session for each application\n",
        "df_clean['Youtube_total_data_volume'] = df_clean['Youtube DL (Bytes)'] + df_clean['Youtube UL (Bytes)']\n",
        "df_clean['Google_total_data_volume'] = df_clean['Google DL (Bytes)'] + df_clean['Google UL (Bytes)']\n",
        "df_clean['Email_total_data_volume'] = df_clean['Email DL (Bytes)'] + df_clean['Email UL (Bytes)']\n",
        "\n",
        "df_clean['Netflix_total_data_volume'] = df_clean['Netflix DL (Bytes)'] + df_clean['Netflix UL (Bytes)']\n",
        "df_clean['Gaming_total_data_volume'] = df_clean['Gaming DL (Bytes)'] + df_clean['Gaming UL (Bytes)']\n",
        "df_clean['Other_total_data_volume'] = df_clean['Other DL (Bytes)'] + df_clean['Other UL (Bytes)']\n",
        "df_clean['SocialMedia_total_data_volume'] = df_clean['Social Media DL (Bytes)'] + df_clean['Social Media UL (Bytes)']\n",
        "\n",
        "df_clean['All_total_data_volume'] = df_clean['Total DL (Bytes)'] + df_clean['Total UL (Bytes)']\n"
      ],
      "execution_count": 35,
      "outputs": []
    },
    {
      "cell_type": "code",
      "metadata": {
        "colab": {
          "base_uri": "https://localhost:8080/",
          "height": 410
        },
        "id": "f29nw9ZtwAk7",
        "outputId": "1f832e6c-78a7-41ba-c87c-861b48157d1e"
      },
      "source": [
        "#the total data volume (in Bytes) during this session for each application\n",
        "df_clean.groupby('MSISDN/Number').agg({'Youtube_total_data_volume': 'sum','Google_total_data_volume': 'sum','Email_total_data_volume': 'sum','Netflix_total_data_volume': 'sum','Gaming_total_data_volume': 'sum','Other_total_data_volume': 'sum','SocialMedia_total_data_volume': 'sum','All_total_data_volume':'sum' }).head(10)"
      ],
      "execution_count": 36,
      "outputs": [
        {
          "output_type": "execute_result",
          "data": {
            "text/html": [
              "<div>\n",
              "<style scoped>\n",
              "    .dataframe tbody tr th:only-of-type {\n",
              "        vertical-align: middle;\n",
              "    }\n",
              "\n",
              "    .dataframe tbody tr th {\n",
              "        vertical-align: top;\n",
              "    }\n",
              "\n",
              "    .dataframe thead th {\n",
              "        text-align: right;\n",
              "    }\n",
              "</style>\n",
              "<table border=\"1\" class=\"dataframe\">\n",
              "  <thead>\n",
              "    <tr style=\"text-align: right;\">\n",
              "      <th></th>\n",
              "      <th>Youtube_total_data_volume</th>\n",
              "      <th>Google_total_data_volume</th>\n",
              "      <th>Email_total_data_volume</th>\n",
              "      <th>Netflix_total_data_volume</th>\n",
              "      <th>Gaming_total_data_volume</th>\n",
              "      <th>Other_total_data_volume</th>\n",
              "      <th>SocialMedia_total_data_volume</th>\n",
              "      <th>All_total_data_volume</th>\n",
              "    </tr>\n",
              "    <tr>\n",
              "      <th>MSISDN/Number</th>\n",
              "      <th></th>\n",
              "      <th></th>\n",
              "      <th></th>\n",
              "      <th></th>\n",
              "      <th></th>\n",
              "      <th></th>\n",
              "      <th></th>\n",
              "      <th></th>\n",
              "    </tr>\n",
              "  </thead>\n",
              "  <tbody>\n",
              "    <tr>\n",
              "      <th>3.360100e+10</th>\n",
              "      <td>21624548.0</td>\n",
              "      <td>4389005.0</td>\n",
              "      <td>1331362.0</td>\n",
              "      <td>27180981.0</td>\n",
              "      <td>8.124587e+08</td>\n",
              "      <td>3.865709e+08</td>\n",
              "      <td>2232135.0</td>\n",
              "      <td>8.786906e+08</td>\n",
              "    </tr>\n",
              "    <tr>\n",
              "      <th>3.360100e+10</th>\n",
              "      <td>12432223.0</td>\n",
              "      <td>5334863.0</td>\n",
              "      <td>3307781.0</td>\n",
              "      <td>11221763.0</td>\n",
              "      <td>1.197501e+08</td>\n",
              "      <td>2.817101e+08</td>\n",
              "      <td>2660565.0</td>\n",
              "      <td>1.568596e+08</td>\n",
              "    </tr>\n",
              "    <tr>\n",
              "      <th>3.360100e+10</th>\n",
              "      <td>21333570.0</td>\n",
              "      <td>3443126.0</td>\n",
              "      <td>3205380.0</td>\n",
              "      <td>19353900.0</td>\n",
              "      <td>5.388277e+08</td>\n",
              "      <td>5.016937e+08</td>\n",
              "      <td>3195623.0</td>\n",
              "      <td>5.959665e+08</td>\n",
              "    </tr>\n",
              "    <tr>\n",
              "      <th>3.360101e+10</th>\n",
              "      <td>6977321.0</td>\n",
              "      <td>9678493.0</td>\n",
              "      <td>2284670.0</td>\n",
              "      <td>1942092.0</td>\n",
              "      <td>3.911261e+08</td>\n",
              "      <td>3.527970e+07</td>\n",
              "      <td>280294.0</td>\n",
              "      <td>4.223207e+08</td>\n",
              "    </tr>\n",
              "    <tr>\n",
              "      <th>3.360101e+10</th>\n",
              "      <td>41533002.0</td>\n",
              "      <td>18499616.0</td>\n",
              "      <td>3305469.0</td>\n",
              "      <td>49201724.0</td>\n",
              "      <td>1.314798e+09</td>\n",
              "      <td>8.048045e+08</td>\n",
              "      <td>2912542.0</td>\n",
              "      <td>1.457411e+09</td>\n",
              "    </tr>\n",
              "    <tr>\n",
              "      <th>3.360101e+10</th>\n",
              "      <td>34347122.0</td>\n",
              "      <td>15263134.0</td>\n",
              "      <td>7848596.0</td>\n",
              "      <td>30315501.0</td>\n",
              "      <td>5.116358e+08</td>\n",
              "      <td>4.923728e+08</td>\n",
              "      <td>3792912.0</td>\n",
              "      <td>6.152172e+08</td>\n",
              "    </tr>\n",
              "    <tr>\n",
              "      <th>3.360101e+10</th>\n",
              "      <td>26431335.0</td>\n",
              "      <td>10196403.0</td>\n",
              "      <td>1358959.0</td>\n",
              "      <td>45812397.0</td>\n",
              "      <td>5.484611e+08</td>\n",
              "      <td>2.248887e+08</td>\n",
              "      <td>2769627.0</td>\n",
              "      <td>6.547231e+08</td>\n",
              "    </tr>\n",
              "    <tr>\n",
              "      <th>3.360101e+10</th>\n",
              "      <td>18892740.0</td>\n",
              "      <td>12023614.0</td>\n",
              "      <td>2215563.0</td>\n",
              "      <td>15292840.0</td>\n",
              "      <td>2.823644e+08</td>\n",
              "      <td>1.782015e+08</td>\n",
              "      <td>1782692.0</td>\n",
              "      <td>3.326604e+08</td>\n",
              "    </tr>\n",
              "    <tr>\n",
              "      <th>3.360101e+10</th>\n",
              "      <td>63443802.0</td>\n",
              "      <td>14134211.0</td>\n",
              "      <td>4599825.0</td>\n",
              "      <td>54216117.0</td>\n",
              "      <td>8.330880e+08</td>\n",
              "      <td>1.041883e+09</td>\n",
              "      <td>5288685.0</td>\n",
              "      <td>9.901322e+08</td>\n",
              "    </tr>\n",
              "    <tr>\n",
              "      <th>3.360102e+10</th>\n",
              "      <td>28569712.0</td>\n",
              "      <td>12935169.0</td>\n",
              "      <td>2783280.0</td>\n",
              "      <td>35525071.0</td>\n",
              "      <td>6.470957e+08</td>\n",
              "      <td>1.383392e+08</td>\n",
              "      <td>956775.0</td>\n",
              "      <td>7.324638e+08</td>\n",
              "    </tr>\n",
              "  </tbody>\n",
              "</table>\n",
              "</div>"
            ],
            "text/plain": [
              "               Youtube_total_data_volume  Google_total_data_volume  \\\n",
              "MSISDN/Number                                                        \n",
              "3.360100e+10                  21624548.0                 4389005.0   \n",
              "3.360100e+10                  12432223.0                 5334863.0   \n",
              "3.360100e+10                  21333570.0                 3443126.0   \n",
              "3.360101e+10                   6977321.0                 9678493.0   \n",
              "3.360101e+10                  41533002.0                18499616.0   \n",
              "3.360101e+10                  34347122.0                15263134.0   \n",
              "3.360101e+10                  26431335.0                10196403.0   \n",
              "3.360101e+10                  18892740.0                12023614.0   \n",
              "3.360101e+10                  63443802.0                14134211.0   \n",
              "3.360102e+10                  28569712.0                12935169.0   \n",
              "\n",
              "               Email_total_data_volume  Netflix_total_data_volume  \\\n",
              "MSISDN/Number                                                       \n",
              "3.360100e+10                 1331362.0                 27180981.0   \n",
              "3.360100e+10                 3307781.0                 11221763.0   \n",
              "3.360100e+10                 3205380.0                 19353900.0   \n",
              "3.360101e+10                 2284670.0                  1942092.0   \n",
              "3.360101e+10                 3305469.0                 49201724.0   \n",
              "3.360101e+10                 7848596.0                 30315501.0   \n",
              "3.360101e+10                 1358959.0                 45812397.0   \n",
              "3.360101e+10                 2215563.0                 15292840.0   \n",
              "3.360101e+10                 4599825.0                 54216117.0   \n",
              "3.360102e+10                 2783280.0                 35525071.0   \n",
              "\n",
              "               Gaming_total_data_volume  Other_total_data_volume  \\\n",
              "MSISDN/Number                                                      \n",
              "3.360100e+10               8.124587e+08             3.865709e+08   \n",
              "3.360100e+10               1.197501e+08             2.817101e+08   \n",
              "3.360100e+10               5.388277e+08             5.016937e+08   \n",
              "3.360101e+10               3.911261e+08             3.527970e+07   \n",
              "3.360101e+10               1.314798e+09             8.048045e+08   \n",
              "3.360101e+10               5.116358e+08             4.923728e+08   \n",
              "3.360101e+10               5.484611e+08             2.248887e+08   \n",
              "3.360101e+10               2.823644e+08             1.782015e+08   \n",
              "3.360101e+10               8.330880e+08             1.041883e+09   \n",
              "3.360102e+10               6.470957e+08             1.383392e+08   \n",
              "\n",
              "               SocialMedia_total_data_volume  All_total_data_volume  \n",
              "MSISDN/Number                                                        \n",
              "3.360100e+10                       2232135.0           8.786906e+08  \n",
              "3.360100e+10                       2660565.0           1.568596e+08  \n",
              "3.360100e+10                       3195623.0           5.959665e+08  \n",
              "3.360101e+10                        280294.0           4.223207e+08  \n",
              "3.360101e+10                       2912542.0           1.457411e+09  \n",
              "3.360101e+10                       3792912.0           6.152172e+08  \n",
              "3.360101e+10                       2769627.0           6.547231e+08  \n",
              "3.360101e+10                       1782692.0           3.326604e+08  \n",
              "3.360101e+10                       5288685.0           9.901322e+08  \n",
              "3.360102e+10                        956775.0           7.324638e+08  "
            ]
          },
          "metadata": {
            "tags": []
          },
          "execution_count": 36
        }
      ]
    },
    {
      "cell_type": "code",
      "metadata": {
        "colab": {
          "base_uri": "https://localhost:8080/",
          "height": 334
        },
        "id": "_tqQyx9H5lT2",
        "outputId": "469335d0-88f9-486d-cac4-2dca290622f8"
      },
      "source": [
        "df_clean[[\"Dur. (ms).1\", \"Total DL (Bytes)\",\"Total UL (Bytes)\", \"SocialMedia_total_data_volume\", \"Google_total_data_volume\", \"Email_total_data_volume\", \"Youtube_total_data_volume\", \"Netflix_total_data_volume\", \"Gaming_total_data_volume\"]].describe()"
      ],
      "execution_count": 38,
      "outputs": [
        {
          "output_type": "execute_result",
          "data": {
            "text/html": [
              "<div>\n",
              "<style scoped>\n",
              "    .dataframe tbody tr th:only-of-type {\n",
              "        vertical-align: middle;\n",
              "    }\n",
              "\n",
              "    .dataframe tbody tr th {\n",
              "        vertical-align: top;\n",
              "    }\n",
              "\n",
              "    .dataframe thead th {\n",
              "        text-align: right;\n",
              "    }\n",
              "</style>\n",
              "<table border=\"1\" class=\"dataframe\">\n",
              "  <thead>\n",
              "    <tr style=\"text-align: right;\">\n",
              "      <th></th>\n",
              "      <th>Dur. (ms).1</th>\n",
              "      <th>Total DL (Bytes)</th>\n",
              "      <th>Total UL (Bytes)</th>\n",
              "      <th>SocialMedia_total_data_volume</th>\n",
              "      <th>Google_total_data_volume</th>\n",
              "      <th>Email_total_data_volume</th>\n",
              "      <th>Youtube_total_data_volume</th>\n",
              "      <th>Netflix_total_data_volume</th>\n",
              "      <th>Gaming_total_data_volume</th>\n",
              "    </tr>\n",
              "  </thead>\n",
              "  <tbody>\n",
              "    <tr>\n",
              "      <th>count</th>\n",
              "      <td>1.500010e+05</td>\n",
              "      <td>1.500010e+05</td>\n",
              "      <td>1.500010e+05</td>\n",
              "      <td>1.500010e+05</td>\n",
              "      <td>1.500010e+05</td>\n",
              "      <td>1.500010e+05</td>\n",
              "      <td>1.500010e+05</td>\n",
              "      <td>1.500010e+05</td>\n",
              "      <td>1.500010e+05</td>\n",
              "    </tr>\n",
              "    <tr>\n",
              "      <th>mean</th>\n",
              "      <td>1.046090e+08</td>\n",
              "      <td>4.546409e+08</td>\n",
              "      <td>4.112106e+07</td>\n",
              "      <td>1.828250e+06</td>\n",
              "      <td>7.807295e+06</td>\n",
              "      <td>2.259102e+06</td>\n",
              "      <td>2.264348e+07</td>\n",
              "      <td>2.262861e+07</td>\n",
              "      <td>4.303331e+08</td>\n",
              "    </tr>\n",
              "    <tr>\n",
              "      <th>std</th>\n",
              "      <td>8.103736e+07</td>\n",
              "      <td>2.441440e+08</td>\n",
              "      <td>1.127649e+07</td>\n",
              "      <td>1.035646e+06</td>\n",
              "      <td>3.516420e+06</td>\n",
              "      <td>1.071109e+06</td>\n",
              "      <td>9.246800e+06</td>\n",
              "      <td>9.260820e+06</td>\n",
              "      <td>2.440199e+08</td>\n",
              "    </tr>\n",
              "    <tr>\n",
              "      <th>min</th>\n",
              "      <td>7.142988e+06</td>\n",
              "      <td>7.114041e+06</td>\n",
              "      <td>2.866892e+06</td>\n",
              "      <td>1.563000e+03</td>\n",
              "      <td>4.033000e+04</td>\n",
              "      <td>8.359000e+03</td>\n",
              "      <td>7.890300e+04</td>\n",
              "      <td>9.843200e+04</td>\n",
              "      <td>3.063580e+05</td>\n",
              "    </tr>\n",
              "    <tr>\n",
              "      <th>25%</th>\n",
              "      <td>5.744206e+07</td>\n",
              "      <td>2.431057e+08</td>\n",
              "      <td>3.322196e+07</td>\n",
              "      <td>9.322180e+05</td>\n",
              "      <td>4.943599e+06</td>\n",
              "      <td>1.359344e+06</td>\n",
              "      <td>1.599846e+07</td>\n",
              "      <td>1.597946e+07</td>\n",
              "      <td>2.187279e+08</td>\n",
              "    </tr>\n",
              "    <tr>\n",
              "      <th>50%</th>\n",
              "      <td>8.639998e+07</td>\n",
              "      <td>4.558409e+08</td>\n",
              "      <td>4.114324e+07</td>\n",
              "      <td>1.826471e+06</td>\n",
              "      <td>7.812835e+06</td>\n",
              "      <td>2.263567e+06</td>\n",
              "      <td>2.266177e+07</td>\n",
              "      <td>2.263554e+07</td>\n",
              "      <td>4.316150e+08</td>\n",
              "    </tr>\n",
              "    <tr>\n",
              "      <th>75%</th>\n",
              "      <td>1.324307e+08</td>\n",
              "      <td>6.657051e+08</td>\n",
              "      <td>4.903424e+07</td>\n",
              "      <td>2.727487e+06</td>\n",
              "      <td>1.068280e+07</td>\n",
              "      <td>3.159818e+06</td>\n",
              "      <td>2.929260e+07</td>\n",
              "      <td>2.929044e+07</td>\n",
              "      <td>6.414159e+08</td>\n",
              "    </tr>\n",
              "    <tr>\n",
              "      <th>max</th>\n",
              "      <td>1.859336e+09</td>\n",
              "      <td>9.029696e+08</td>\n",
              "      <td>7.833131e+07</td>\n",
              "      <td>3.650861e+06</td>\n",
              "      <td>1.552878e+07</td>\n",
              "      <td>4.518036e+06</td>\n",
              "      <td>4.519008e+07</td>\n",
              "      <td>4.519815e+07</td>\n",
              "      <td>8.592028e+08</td>\n",
              "    </tr>\n",
              "  </tbody>\n",
              "</table>\n",
              "</div>"
            ],
            "text/plain": [
              "        Dur. (ms).1  Total DL (Bytes)  Total UL (Bytes)  \\\n",
              "count  1.500010e+05      1.500010e+05      1.500010e+05   \n",
              "mean   1.046090e+08      4.546409e+08      4.112106e+07   \n",
              "std    8.103736e+07      2.441440e+08      1.127649e+07   \n",
              "min    7.142988e+06      7.114041e+06      2.866892e+06   \n",
              "25%    5.744206e+07      2.431057e+08      3.322196e+07   \n",
              "50%    8.639998e+07      4.558409e+08      4.114324e+07   \n",
              "75%    1.324307e+08      6.657051e+08      4.903424e+07   \n",
              "max    1.859336e+09      9.029696e+08      7.833131e+07   \n",
              "\n",
              "       SocialMedia_total_data_volume  Google_total_data_volume  \\\n",
              "count                   1.500010e+05              1.500010e+05   \n",
              "mean                    1.828250e+06              7.807295e+06   \n",
              "std                     1.035646e+06              3.516420e+06   \n",
              "min                     1.563000e+03              4.033000e+04   \n",
              "25%                     9.322180e+05              4.943599e+06   \n",
              "50%                     1.826471e+06              7.812835e+06   \n",
              "75%                     2.727487e+06              1.068280e+07   \n",
              "max                     3.650861e+06              1.552878e+07   \n",
              "\n",
              "       Email_total_data_volume  Youtube_total_data_volume  \\\n",
              "count             1.500010e+05               1.500010e+05   \n",
              "mean              2.259102e+06               2.264348e+07   \n",
              "std               1.071109e+06               9.246800e+06   \n",
              "min               8.359000e+03               7.890300e+04   \n",
              "25%               1.359344e+06               1.599846e+07   \n",
              "50%               2.263567e+06               2.266177e+07   \n",
              "75%               3.159818e+06               2.929260e+07   \n",
              "max               4.518036e+06               4.519008e+07   \n",
              "\n",
              "       Netflix_total_data_volume  Gaming_total_data_volume  \n",
              "count               1.500010e+05              1.500010e+05  \n",
              "mean                2.262861e+07              4.303331e+08  \n",
              "std                 9.260820e+06              2.440199e+08  \n",
              "min                 9.843200e+04              3.063580e+05  \n",
              "25%                 1.597946e+07              2.187279e+08  \n",
              "50%                 2.263554e+07              4.316150e+08  \n",
              "75%                 2.929044e+07              6.414159e+08  \n",
              "max                 4.519815e+07              8.592028e+08  "
            ]
          },
          "metadata": {
            "tags": []
          },
          "execution_count": 38
        }
      ]
    },
    {
      "cell_type": "code",
      "metadata": {
        "id": "R8Du5Gjl-_Oy"
      },
      "source": [
        "#df_clean.skew\n",
        "#it shows the skewnes of each data .. but since we have 45 column I see no significance of showing it here"
      ],
      "execution_count": null,
      "outputs": []
    },
    {
      "cell_type": "code",
      "metadata": {
        "id": "3F2Cry1H6cF8"
      },
      "source": [
        "from sklearn.preprocessing import Normalizer, MinMaxScaler\n",
        "import seaborn as sns\n",
        "import matplotlib.pyplot as plt"
      ],
      "execution_count": 40,
      "outputs": []
    },
    {
      "cell_type": "code",
      "metadata": {
        "colab": {
          "base_uri": "https://localhost:8080/",
          "height": 293
        },
        "id": "rrz2Bx4i6cV9",
        "outputId": "87f10c5e-806e-43d7-f5c0-db817b67e8cb"
      },
      "source": [
        "df_clean.boxplot(column=['Dur. (ms).1', \"Total DL (Bytes)\",\"Total UL (Bytes)\"])"
      ],
      "execution_count": 41,
      "outputs": [
        {
          "output_type": "execute_result",
          "data": {
            "text/plain": [
              "<matplotlib.axes._subplots.AxesSubplot at 0x7f39be98e910>"
            ]
          },
          "metadata": {
            "tags": []
          },
          "execution_count": 41
        },
        {
          "output_type": "display_data",
          "data": {
            "image/png": "[encoded data removed]",
            "text/plain": [
              "<Figure size 432x288 with 1 Axes>"
            ]
          },
          "metadata": {
            "tags": [],
            "needs_background": "light"
          }
        }
      ]
    },
    {
      "cell_type": "code",
      "metadata": {
        "id": "qt0nfkjT5vH0",
        "colab": {
          "base_uri": "https://localhost:8080/",
          "height": 311
        },
        "outputId": "2b398fe8-766d-4fe7-e1e3-3647acc94b50"
      },
      "source": [
        "df_clean[\"Dur. (ms).1\"].hist(bins = 50)\n",
        "plt.title(\"Duration Histogram\")"
      ],
      "execution_count": 43,
      "outputs": [
        {
          "output_type": "execute_result",
          "data": {
            "text/plain": [
              "Text(0.5, 1.0, 'Duration Histogram')"
            ]
          },
          "metadata": {
            "tags": []
          },
          "execution_count": 43
        },
        {
          "output_type": "display_data",
          "data": {
            "image/png": "[encoded data removed]",
            "text/plain": [
              "<Figure size 432x288 with 1 Axes>"
            ]
          },
          "metadata": {
            "tags": [],
            "needs_background": "light"
          }
        }
      ]
    },
    {
      "cell_type": "code",
      "metadata": {
        "colab": {
          "base_uri": "https://localhost:8080/",
          "height": 311
        },
        "id": "mZJwLVRa6rJC",
        "outputId": "2c6b0017-16b5-4fa3-c459-7e11946f5689"
      },
      "source": [
        "df_clean[\"Total DL (Bytes)\"].hist(bins = 50)\n",
        "plt.title(\"Total Download Histogram\")"
      ],
      "execution_count": 47,
      "outputs": [
        {
          "output_type": "execute_result",
          "data": {
            "text/plain": [
              "Text(0.5, 1.0, 'Total Download Histogram')"
            ]
          },
          "metadata": {
            "tags": []
          },
          "execution_count": 47
        },
        {
          "output_type": "display_data",
          "data": {
            "image/png": "[encoded data removed]",
            "text/plain": [
              "<Figure size 432x288 with 1 Axes>"
            ]
          },
          "metadata": {
            "tags": [],
            "needs_background": "light"
          }
        }
      ]
    },
    {
      "cell_type": "code",
      "metadata": {
        "colab": {
          "base_uri": "https://localhost:8080/",
          "height": 311
        },
        "id": "PgUakCj46rK7",
        "outputId": "cc611528-fe54-4139-8770-7dcc1f5d2a99"
      },
      "source": [
        "df_clean[\"Total UL (Bytes)\"].hist(bins = 50)\n",
        "plt.title(\"Total Upload Histogram\")"
      ],
      "execution_count": 48,
      "outputs": [
        {
          "output_type": "execute_result",
          "data": {
            "text/plain": [
              "Text(0.5, 1.0, 'Total Upload Histogram')"
            ]
          },
          "metadata": {
            "tags": []
          },
          "execution_count": 48
        },
        {
          "output_type": "display_data",
          "data": {
            "image/png": "[encoded data removed]",
            "text/plain": [
              "<Figure size 432x288 with 1 Axes>"
            ]
          },
          "metadata": {
            "tags": [],
            "needs_background": "light"
          }
        }
      ]
    },
    {
      "cell_type": "code",
      "metadata": {
        "colab": {
          "base_uri": "https://localhost:8080/",
          "height": 311
        },
        "id": "ynEWlJV-7IU8",
        "outputId": "494e5e91-c2cf-4eaa-c3d5-23c0aac82983"
      },
      "source": [
        "df_clean[\"SocialMedia_total_data_volume\"].hist(bins = 50)\n",
        "plt.title(\"Total Social Media Data Histogram\")"
      ],
      "execution_count": 50,
      "outputs": [
        {
          "output_type": "execute_result",
          "data": {
            "text/plain": [
              "Text(0.5, 1.0, 'Total Social Media Data Histogram')"
            ]
          },
          "metadata": {
            "tags": []
          },
          "execution_count": 50
        },
        {
          "output_type": "display_data",
          "data": {
            "image/png": "[encoded data removed]",
            "text/plain": [
              "<Figure size 432x288 with 1 Axes>"
            ]
          },
          "metadata": {
            "tags": [],
            "needs_background": "light"
          }
        }
      ]
    },
    {
      "cell_type": "code",
      "metadata": {
        "colab": {
          "base_uri": "https://localhost:8080/",
          "height": 311
        },
        "id": "Hn_g6ZqK7Vzl",
        "outputId": "3476f946-81e8-4489-9be4-1ff7e9ef9523"
      },
      "source": [
        "df_clean[\"Google_total_data_volume\"].hist(bins = 50)\n",
        "plt.title(\"Total Google Data Histogram\")"
      ],
      "execution_count": 51,
      "outputs": [
        {
          "output_type": "execute_result",
          "data": {
            "text/plain": [
              "Text(0.5, 1.0, 'Total Google Data Histogram')"
            ]
          },
          "metadata": {
            "tags": []
          },
          "execution_count": 51
        },
        {
          "output_type": "display_data",
          "data": {
            "image/png": "[encoded data removed]",
            "text/plain": [
              "<Figure size 432x288 with 1 Axes>"
            ]
          },
          "metadata": {
            "tags": [],
            "needs_background": "light"
          }
        }
      ]
    },
    {
      "cell_type": "code",
      "metadata": {
        "colab": {
          "base_uri": "https://localhost:8080/",
          "height": 311
        },
        "id": "M5Pof6DR7V1G",
        "outputId": "db6b9ae4-621f-48b1-ec21-2c8e3a7113e7"
      },
      "source": [
        "df_clean[\"Email_total_data_volume\"].hist(bins = 50)\n",
        "plt.title(\"Total Email Data Histogram\")"
      ],
      "execution_count": 52,
      "outputs": [
        {
          "output_type": "execute_result",
          "data": {
            "text/plain": [
              "Text(0.5, 1.0, 'Total Email Data Histogram')"
            ]
          },
          "metadata": {
            "tags": []
          },
          "execution_count": 52
        },
        {
          "output_type": "display_data",
          "data": {
            "image/png": "[encoded data removed]",
            "text/plain": [
              "<Figure size 432x288 with 1 Axes>"
            ]
          },
          "metadata": {
            "tags": [],
            "needs_background": "light"
          }
        }
      ]
    },
    {
      "cell_type": "code",
      "metadata": {
        "colab": {
          "base_uri": "https://localhost:8080/",
          "height": 311
        },
        "id": "OVhyPI857Ipm",
        "outputId": "e4fc3e67-2f52-4df5-b9c9-56183d4c5ded"
      },
      "source": [
        "df_clean[\"Youtube_total_data_volume\"].hist(bins = 50)\n",
        "plt.title(\"Total Youtube Data Histogram\")"
      ],
      "execution_count": 53,
      "outputs": [
        {
          "output_type": "execute_result",
          "data": {
            "text/plain": [
              "Text(0.5, 1.0, 'Total Youtube Data Histogram')"
            ]
          },
          "metadata": {
            "tags": []
          },
          "execution_count": 53
        },
        {
          "output_type": "display_data",
          "data": {
            "image/png": "[encoded data removed]",
            "text/plain": [
              "<Figure size 432x288 with 1 Axes>"
            ]
          },
          "metadata": {
            "tags": [],
            "needs_background": "light"
          }
        }
      ]
    },
    {
      "cell_type": "code",
      "metadata": {
        "colab": {
          "base_uri": "https://localhost:8080/",
          "height": 311
        },
        "id": "NPrCIEp2715Q",
        "outputId": "f23df471-8546-4ec7-93d3-987e057c4864"
      },
      "source": [
        "df_clean[\"Netflix_total_data_volume\"].hist(bins = 50)\n",
        "plt.title(\"Total Netflix Data Histogram\")"
      ],
      "execution_count": 55,
      "outputs": [
        {
          "output_type": "execute_result",
          "data": {
            "text/plain": [
              "Text(0.5, 1.0, 'Total Netflix Data Histogram')"
            ]
          },
          "metadata": {
            "tags": []
          },
          "execution_count": 55
        },
        {
          "output_type": "display_data",
          "data": {
            "image/png": "[encoded data removed]",
            "text/plain": [
              "<Figure size 432x288 with 1 Axes>"
            ]
          },
          "metadata": {
            "tags": [],
            "needs_background": "light"
          }
        }
      ]
    },
    {
      "cell_type": "code",
      "metadata": {
        "colab": {
          "base_uri": "https://localhost:8080/",
          "height": 311
        },
        "id": "AmcAvILP717v",
        "outputId": "6a820d11-5551-4676-de3d-3cc1bc6c5ae0"
      },
      "source": [
        "df_clean[\"Gaming_total_data_volume\"].hist(bins = 50)\n",
        "plt.title(\"Total Gaming Data Histogram\")"
      ],
      "execution_count": 56,
      "outputs": [
        {
          "output_type": "execute_result",
          "data": {
            "text/plain": [
              "Text(0.5, 1.0, 'Total Gaming Data Histogram')"
            ]
          },
          "metadata": {
            "tags": []
          },
          "execution_count": 56
        },
        {
          "output_type": "display_data",
          "data": {
            "image/png": "[encoded data removed]",
            "text/plain": [
              "<Figure size 432x288 with 1 Axes>"
            ]
          },
          "metadata": {
            "tags": [],
            "needs_background": "light"
          }
        }
      ]
    },
    {
      "cell_type": "code",
      "metadata": {
        "colab": {
          "base_uri": "https://localhost:8080/",
          "height": 298
        },
        "id": "RqkxYCob6rpP",
        "outputId": "fa7a16f3-9338-47da-a5ac-eef33b940217"
      },
      "source": [
        "total_usage = df_clean[[\"Google_total_data_volume\", \"Youtube_total_data_volume\", \"Netflix_total_data_volume\", \"Email_total_data_volume\", \"Gaming_total_data_volume\", \"SocialMedia_total_data_volume\", \"Other_total_data_volume\"]]\n",
        "ind = np.arange(7)\n",
        "width =0.8\n",
        "\n",
        "plt.xticks(ind , (\"Google\", \"Youtube\", \"Netflix\", \"Email\", \"Gaming\", \"Social\", \"Other\"))\n",
        "plt.bar(ind, total_usage.sum(), width, label = \"Total Usage\")\n",
        "plt.title(\"App Data usage\")"
      ],
      "execution_count": 58,
      "outputs": [
        {
          "output_type": "execute_result",
          "data": {
            "text/plain": [
              "Text(0.5, 1.0, 'App Data usage')"
            ]
          },
          "metadata": {
            "tags": []
          },
          "execution_count": 58
        },
        {
          "output_type": "display_data",
          "data": {
            "image/png": "[encoded data removed]",
            "text/plain": [
              "<Figure size 432x288 with 1 Axes>"
            ]
          },
          "metadata": {
            "tags": [],
            "needs_background": "light"
          }
        }
      ]
    },
    {
      "cell_type": "code",
      "metadata": {
        "colab": {
          "base_uri": "https://localhost:8080/",
          "height": 289
        },
        "id": "3UShloLvCC3w",
        "outputId": "f9b9479c-ccdd-49ee-aac7-4c7403f9145a"
      },
      "source": [
        "plt.scatter(df_clean['MSISDN/Number'].head(15000),df_clean['Google_total_data_volume'].head(15000),c='r')\n",
        "plt.scatter(df_clean['MSISDN/Number'].head(15000), df_clean['Youtube_total_data_volume'].head(15000),s=4, marker='X', c = 'g')\n",
        "plt.show()\n"
      ],
      "execution_count": 45,
      "outputs": [
        {
          "output_type": "display_data",
          "data": {
            "image/png": "[encoded data removed]",
            "text/plain": [
              "<Figure size 432x288 with 1 Axes>"
            ]
          },
          "metadata": {
            "tags": [],
            "needs_background": "light"
          }
        }
      ]
    },
    {
      "cell_type": "code",
      "metadata": {
        "id": "vSn-RwAkLI5N",
        "colab": {
          "base_uri": "https://localhost:8080/",
          "height": 534
        },
        "outputId": "ec173d6c-e100-4c27-bd09-448e964ba0cd"
      },
      "source": [
        "def plot_hist(df:pd.DataFrame, column:str, color:str)->None:\n",
        "    # plt.figure(figsize=(15, 10))\n",
        "    # fig, ax = plt.subplots(1, figsize=(12, 7))\n",
        "    sns.displot(data=df, x=column, color=color, kde=True, height=7, aspect=2)\n",
        "    plt.title(f'Distribution of {column}', size=20, fontweight='bold')\n",
        "    plt.show()\n",
        "plot_hist(df_clean, \"All_total_data_volume\", \"teal\")"
      ],
      "execution_count": 44,
      "outputs": [
        {
          "output_type": "display_data",
          "data": {
            "image/png": "[encoded data removed]",
            "text/plain": [
              "<Figure size 1008x504 with 1 Axes>"
            ]
          },
          "metadata": {
            "tags": [],
            "needs_background": "light"
          }
        }
      ]
    },
    {
      "cell_type": "code",
      "metadata": {
        "id": "PHEwvDknMvKR",
        "colab": {
          "base_uri": "https://localhost:8080/",
          "height": 479
        },
        "outputId": "8a1fc58d-e228-4f97-81fd-b13a70a800e2"
      },
      "source": [
        "def plot_box(df:pd.DataFrame, x_col:str, title:str) -> None:\n",
        "    plt.figure(figsize=(12, 7))\n",
        "    sns.boxplot(data = df, x=x_col)\n",
        "    plt.title(title, size=20)\n",
        "    plt.xticks(rotation=75, fontsize=14)\n",
        "    plt.show()\n",
        "plot_box(df_clean, \"All_total_data_volume\", \"Netflix DL (Bytes)\")"
      ],
      "execution_count": 46,
      "outputs": [
        {
          "output_type": "display_data",
          "data": {
            "image/png": "[encoded data removed]",
            "text/plain": [
              "<Figure size 864x504 with 1 Axes>"
            ]
          },
          "metadata": {
            "tags": [],
            "needs_background": "light"
          }
        }
      ]
    },
    {
      "cell_type": "code",
      "metadata": {
        "colab": {
          "base_uri": "https://localhost:8080/",
          "height": 313
        },
        "id": "XAMQPAaZ0esw",
        "outputId": "3578e225-21fd-473a-f0fb-df1285f0288b"
      },
      "source": [
        "sns.stripplot(x=df_clean['Handset Manufacturer'],y=df_clean['Other_total_data_volume'], size=5,)\n"
      ],
      "execution_count": 69,
      "outputs": [
        {
          "output_type": "execute_result",
          "data": {
            "text/plain": [
              "<matplotlib.axes._subplots.AxesSubplot at 0x7f39b0f08fd0>"
            ]
          },
          "metadata": {
            "tags": []
          },
          "execution_count": 69
        },
        {
          "output_type": "display_data",
          "data": {
            "image/png": "[encoded data removed]",
            "text/plain": [
              "<Figure size 432x288 with 1 Axes>"
            ]
          },
          "metadata": {
            "tags": []
          }
        }
      ]
    },
    {
      "cell_type": "code",
      "metadata": {
        "id": "eOei3-yqBcgq",
        "outputId": "a0b5ccb4-af50-433e-8377-790232bf8f33",
        "colab": {
          "base_uri": "https://localhost:8080/",
          "height": 129
        }
      },
      "source": [
        "sns.stripplot(x=df_clean.Handset Manufacturer, y=df_clean.All_total_data_volume, data=tips)"
      ],
      "execution_count": 76,
      "outputs": [
        {
          "output_type": "error",
          "ename": "SyntaxError",
          "evalue": "ignored",
          "traceback": [
            "\u001b[0;36m  File \u001b[0;32m\"<ipython-input-76-b9e62ba12373>\"\u001b[0;36m, line \u001b[0;32m1\u001b[0m\n\u001b[0;31m    sns.stripplot(x=df_clean.Handset Manufacturer, y=df_clean.All_total_data_volume, data=tips)\u001b[0m\n\u001b[0m                                                ^\u001b[0m\n\u001b[0;31mSyntaxError\u001b[0m\u001b[0;31m:\u001b[0m invalid syntax\n"
          ]
        }
      ]
    },
    {
      "cell_type": "code",
      "metadata": {
        "id": "JOrcKECtEJax",
        "outputId": "35bf4256-59b3-4f98-cb7b-10891888f3a1",
        "colab": {
          "base_uri": "https://localhost:8080/",
          "height": 377
        }
      },
      "source": [
        "sns.violinplot([df_clean[\"Handset Manufacturer\"], df_clean[\"All_total_data_volume\"], ]); \n",
        "plt.show()"
      ],
      "execution_count": 74,
      "outputs": [
        {
          "output_type": "stream",
          "text": [
            "/usr/local/lib/python3.7/dist-packages/seaborn/_decorators.py:43: FutureWarning: Pass the following variable as a keyword arg: x. From version 0.12, the only valid positional argument will be `data`, and passing other arguments without an explicit keyword will result in an error or misinterpretation.\n",
            "  FutureWarning\n"
          ],
          "name": "stderr"
        },
        {
          "output_type": "error",
          "ename": "TypeError",
          "evalue": "ignored",
          "traceback": [
            "\u001b[0;31m---------------------------------------------------------------------------\u001b[0m",
            "\u001b[0;31mTypeError\u001b[0m                                 Traceback (most recent call last)",
            "\u001b[0;32m<ipython-input-74-f50d1ab8d64c>\u001b[0m in \u001b[0;36m<module>\u001b[0;34m()\u001b[0m\n\u001b[0;32m----> 1\u001b[0;31m \u001b[0msns\u001b[0m\u001b[0;34m.\u001b[0m\u001b[0mviolinplot\u001b[0m\u001b[0;34m(\u001b[0m\u001b[0;34m[\u001b[0m\u001b[0mdf_clean\u001b[0m\u001b[0;34m[\u001b[0m\u001b[0;34m\"Handset Manufacturer\"\u001b[0m\u001b[0;34m]\u001b[0m\u001b[0;34m,\u001b[0m \u001b[0mdf_clean\u001b[0m\u001b[0;34m[\u001b[0m\u001b[0;34m\"All_total_data_volume\"\u001b[0m\u001b[0;34m]\u001b[0m\u001b[0;34m,\u001b[0m \u001b[0;34m]\u001b[0m\u001b[0;34m)\u001b[0m\u001b[0;34m;\u001b[0m\u001b[0;34m\u001b[0m\u001b[0;34m\u001b[0m\u001b[0m\n\u001b[0m\u001b[1;32m      2\u001b[0m \u001b[0mplt\u001b[0m\u001b[0;34m.\u001b[0m\u001b[0mshow\u001b[0m\u001b[0;34m(\u001b[0m\u001b[0;34m)\u001b[0m\u001b[0;34m\u001b[0m\u001b[0;34m\u001b[0m\u001b[0m\n",
            "\u001b[0;32m/usr/local/lib/python3.7/dist-packages/seaborn/_decorators.py\u001b[0m in \u001b[0;36minner_f\u001b[0;34m(*args, **kwargs)\u001b[0m\n\u001b[1;32m     44\u001b[0m             )\n\u001b[1;32m     45\u001b[0m         \u001b[0mkwargs\u001b[0m\u001b[0;34m.\u001b[0m\u001b[0mupdate\u001b[0m\u001b[0;34m(\u001b[0m\u001b[0;34m{\u001b[0m\u001b[0mk\u001b[0m\u001b[0;34m:\u001b[0m \u001b[0marg\u001b[0m \u001b[0;32mfor\u001b[0m \u001b[0mk\u001b[0m\u001b[0;34m,\u001b[0m \u001b[0marg\u001b[0m \u001b[0;32min\u001b[0m \u001b[0mzip\u001b[0m\u001b[0;34m(\u001b[0m\u001b[0msig\u001b[0m\u001b[0;34m.\u001b[0m\u001b[0mparameters\u001b[0m\u001b[0;34m,\u001b[0m \u001b[0margs\u001b[0m\u001b[0;34m)\u001b[0m\u001b[0;34m}\u001b[0m\u001b[0;34m)\u001b[0m\u001b[0;34m\u001b[0m\u001b[0;34m\u001b[0m\u001b[0m\n\u001b[0;32m---> 46\u001b[0;31m         \u001b[0;32mreturn\u001b[0m \u001b[0mf\u001b[0m\u001b[0;34m(\u001b[0m\u001b[0;34m**\u001b[0m\u001b[0mkwargs\u001b[0m\u001b[0;34m)\u001b[0m\u001b[0;34m\u001b[0m\u001b[0;34m\u001b[0m\u001b[0m\n\u001b[0m\u001b[1;32m     47\u001b[0m     \u001b[0;32mreturn\u001b[0m \u001b[0minner_f\u001b[0m\u001b[0;34m\u001b[0m\u001b[0;34m\u001b[0m\u001b[0m\n\u001b[1;32m     48\u001b[0m \u001b[0;34m\u001b[0m\u001b[0m\n",
            "\u001b[0;32m/usr/local/lib/python3.7/dist-packages/seaborn/categorical.py\u001b[0m in \u001b[0;36mviolinplot\u001b[0;34m(x, y, hue, data, order, hue_order, bw, cut, scale, scale_hue, gridsize, width, inner, split, dodge, orient, linewidth, color, palette, saturation, ax, **kwargs)\u001b[0m\n\u001b[1;32m   2398\u001b[0m                              \u001b[0mbw\u001b[0m\u001b[0;34m,\u001b[0m \u001b[0mcut\u001b[0m\u001b[0;34m,\u001b[0m \u001b[0mscale\u001b[0m\u001b[0;34m,\u001b[0m \u001b[0mscale_hue\u001b[0m\u001b[0;34m,\u001b[0m \u001b[0mgridsize\u001b[0m\u001b[0;34m,\u001b[0m\u001b[0;34m\u001b[0m\u001b[0;34m\u001b[0m\u001b[0m\n\u001b[1;32m   2399\u001b[0m                              \u001b[0mwidth\u001b[0m\u001b[0;34m,\u001b[0m \u001b[0minner\u001b[0m\u001b[0;34m,\u001b[0m \u001b[0msplit\u001b[0m\u001b[0;34m,\u001b[0m \u001b[0mdodge\u001b[0m\u001b[0;34m,\u001b[0m \u001b[0morient\u001b[0m\u001b[0;34m,\u001b[0m \u001b[0mlinewidth\u001b[0m\u001b[0;34m,\u001b[0m\u001b[0;34m\u001b[0m\u001b[0;34m\u001b[0m\u001b[0m\n\u001b[0;32m-> 2400\u001b[0;31m                              color, palette, saturation)\n\u001b[0m\u001b[1;32m   2401\u001b[0m \u001b[0;34m\u001b[0m\u001b[0m\n\u001b[1;32m   2402\u001b[0m     \u001b[0;32mif\u001b[0m \u001b[0max\u001b[0m \u001b[0;32mis\u001b[0m \u001b[0;32mNone\u001b[0m\u001b[0;34m:\u001b[0m\u001b[0;34m\u001b[0m\u001b[0;34m\u001b[0m\u001b[0m\n",
            "\u001b[0;32m/usr/local/lib/python3.7/dist-packages/seaborn/categorical.py\u001b[0m in \u001b[0;36m__init__\u001b[0;34m(self, x, y, hue, data, order, hue_order, bw, cut, scale, scale_hue, gridsize, width, inner, split, dodge, orient, linewidth, color, palette, saturation)\u001b[0m\n\u001b[1;32m    520\u001b[0m                  color, palette, saturation):\n\u001b[1;32m    521\u001b[0m \u001b[0;34m\u001b[0m\u001b[0m\n\u001b[0;32m--> 522\u001b[0;31m         \u001b[0mself\u001b[0m\u001b[0;34m.\u001b[0m\u001b[0mestablish_variables\u001b[0m\u001b[0;34m(\u001b[0m\u001b[0mx\u001b[0m\u001b[0;34m,\u001b[0m \u001b[0my\u001b[0m\u001b[0;34m,\u001b[0m \u001b[0mhue\u001b[0m\u001b[0;34m,\u001b[0m \u001b[0mdata\u001b[0m\u001b[0;34m,\u001b[0m \u001b[0morient\u001b[0m\u001b[0;34m,\u001b[0m \u001b[0morder\u001b[0m\u001b[0;34m,\u001b[0m \u001b[0mhue_order\u001b[0m\u001b[0;34m)\u001b[0m\u001b[0;34m\u001b[0m\u001b[0;34m\u001b[0m\u001b[0m\n\u001b[0m\u001b[1;32m    523\u001b[0m         \u001b[0mself\u001b[0m\u001b[0;34m.\u001b[0m\u001b[0mestablish_colors\u001b[0m\u001b[0;34m(\u001b[0m\u001b[0mcolor\u001b[0m\u001b[0;34m,\u001b[0m \u001b[0mpalette\u001b[0m\u001b[0;34m,\u001b[0m \u001b[0msaturation\u001b[0m\u001b[0;34m)\u001b[0m\u001b[0;34m\u001b[0m\u001b[0;34m\u001b[0m\u001b[0m\n\u001b[1;32m    524\u001b[0m         \u001b[0mself\u001b[0m\u001b[0;34m.\u001b[0m\u001b[0mestimate_densities\u001b[0m\u001b[0;34m(\u001b[0m\u001b[0mbw\u001b[0m\u001b[0;34m,\u001b[0m \u001b[0mcut\u001b[0m\u001b[0;34m,\u001b[0m \u001b[0mscale\u001b[0m\u001b[0;34m,\u001b[0m \u001b[0mscale_hue\u001b[0m\u001b[0;34m,\u001b[0m \u001b[0mgridsize\u001b[0m\u001b[0;34m)\u001b[0m\u001b[0;34m\u001b[0m\u001b[0;34m\u001b[0m\u001b[0m\n",
            "\u001b[0;32m/usr/local/lib/python3.7/dist-packages/seaborn/categorical.py\u001b[0m in \u001b[0;36mestablish_variables\u001b[0;34m(self, x, y, hue, data, orient, order, hue_order, units)\u001b[0m\n\u001b[1;32m    155\u001b[0m             \u001b[0;31m# Figure out the plotting orientation\u001b[0m\u001b[0;34m\u001b[0m\u001b[0;34m\u001b[0m\u001b[0;34m\u001b[0m\u001b[0m\n\u001b[1;32m    156\u001b[0m             orient = infer_orient(\n\u001b[0;32m--> 157\u001b[0;31m                 \u001b[0mx\u001b[0m\u001b[0;34m,\u001b[0m \u001b[0my\u001b[0m\u001b[0;34m,\u001b[0m \u001b[0morient\u001b[0m\u001b[0;34m,\u001b[0m \u001b[0mrequire_numeric\u001b[0m\u001b[0;34m=\u001b[0m\u001b[0mself\u001b[0m\u001b[0;34m.\u001b[0m\u001b[0mrequire_numeric\u001b[0m\u001b[0;34m\u001b[0m\u001b[0;34m\u001b[0m\u001b[0m\n\u001b[0m\u001b[1;32m    158\u001b[0m             )\n\u001b[1;32m    159\u001b[0m \u001b[0;34m\u001b[0m\u001b[0m\n",
            "\u001b[0;32m/usr/local/lib/python3.7/dist-packages/seaborn/_core.py\u001b[0m in \u001b[0;36minfer_orient\u001b[0;34m(x, y, orient, require_numeric)\u001b[0m\n\u001b[1;32m   1319\u001b[0m             \u001b[0mwarnings\u001b[0m\u001b[0;34m.\u001b[0m\u001b[0mwarn\u001b[0m\u001b[0;34m(\u001b[0m\u001b[0msingle_var_warning\u001b[0m\u001b[0;34m.\u001b[0m\u001b[0mformat\u001b[0m\u001b[0;34m(\u001b[0m\u001b[0;34m\"Vertical\"\u001b[0m\u001b[0;34m,\u001b[0m \u001b[0;34m\"x\"\u001b[0m\u001b[0;34m)\u001b[0m\u001b[0;34m)\u001b[0m\u001b[0;34m\u001b[0m\u001b[0;34m\u001b[0m\u001b[0m\n\u001b[1;32m   1320\u001b[0m         \u001b[0;32mif\u001b[0m \u001b[0mrequire_numeric\u001b[0m \u001b[0;32mand\u001b[0m \u001b[0mx_type\u001b[0m \u001b[0;34m!=\u001b[0m \u001b[0;34m\"numeric\"\u001b[0m\u001b[0;34m:\u001b[0m\u001b[0;34m\u001b[0m\u001b[0;34m\u001b[0m\u001b[0m\n\u001b[0;32m-> 1321\u001b[0;31m             \u001b[0;32mraise\u001b[0m \u001b[0mTypeError\u001b[0m\u001b[0;34m(\u001b[0m\u001b[0mnonnumeric_dv_error\u001b[0m\u001b[0;34m.\u001b[0m\u001b[0mformat\u001b[0m\u001b[0;34m(\u001b[0m\u001b[0;34m\"Horizontal\"\u001b[0m\u001b[0;34m,\u001b[0m \u001b[0;34m\"x\"\u001b[0m\u001b[0;34m)\u001b[0m\u001b[0;34m)\u001b[0m\u001b[0;34m\u001b[0m\u001b[0;34m\u001b[0m\u001b[0m\n\u001b[0m\u001b[1;32m   1322\u001b[0m         \u001b[0;32mreturn\u001b[0m \u001b[0;34m\"h\"\u001b[0m\u001b[0;34m\u001b[0m\u001b[0;34m\u001b[0m\u001b[0m\n\u001b[1;32m   1323\u001b[0m \u001b[0;34m\u001b[0m\u001b[0m\n",
            "\u001b[0;31mTypeError\u001b[0m: Horizontal orientation requires numeric `x` variable."
          ]
        }
      ]
    },
    {
      "cell_type": "code",
      "metadata": {
        "id": "dXnUcrJlAZu_",
        "outputId": "1d6dc7d5-c9e9-418f-9de9-fd428439b491",
        "colab": {
          "base_uri": "https://localhost:8080/",
          "height": 417
        }
      },
      "source": [
        "df_clean.head(3)"
      ],
      "execution_count": 59,
      "outputs": [
        {
          "output_type": "execute_result",
          "data": {
            "text/html": [
              "<div>\n",
              "<style scoped>\n",
              "    .dataframe tbody tr th:only-of-type {\n",
              "        vertical-align: middle;\n",
              "    }\n",
              "\n",
              "    .dataframe tbody tr th {\n",
              "        vertical-align: top;\n",
              "    }\n",
              "\n",
              "    .dataframe thead th {\n",
              "        text-align: right;\n",
              "    }\n",
              "</style>\n",
              "<table border=\"1\" class=\"dataframe\">\n",
              "  <thead>\n",
              "    <tr style=\"text-align: right;\">\n",
              "      <th></th>\n",
              "      <th>Bearer Id</th>\n",
              "      <th>Start</th>\n",
              "      <th>Start ms</th>\n",
              "      <th>End</th>\n",
              "      <th>End ms</th>\n",
              "      <th>Dur. (ms)</th>\n",
              "      <th>IMSI</th>\n",
              "      <th>MSISDN/Number</th>\n",
              "      <th>IMEI</th>\n",
              "      <th>Last Location Name</th>\n",
              "      <th>Avg RTT DL (ms)</th>\n",
              "      <th>Avg RTT UL (ms)</th>\n",
              "      <th>Avg Bearer TP DL (kbps)</th>\n",
              "      <th>Avg Bearer TP UL (kbps)</th>\n",
              "      <th>DL TP &lt; 50 Kbps (%)</th>\n",
              "      <th>50 Kbps &lt; DL TP &lt; 250 Kbps (%)</th>\n",
              "      <th>250 Kbps &lt; DL TP &lt; 1 Mbps (%)</th>\n",
              "      <th>DL TP &gt; 1 Mbps (%)</th>\n",
              "      <th>UL TP &lt; 10 Kbps (%)</th>\n",
              "      <th>10 Kbps &lt; UL TP &lt; 50 Kbps (%)</th>\n",
              "      <th>50 Kbps &lt; UL TP &lt; 300 Kbps (%)</th>\n",
              "      <th>UL TP &gt; 300 Kbps (%)</th>\n",
              "      <th>Activity Duration DL (ms)</th>\n",
              "      <th>Activity Duration UL (ms)</th>\n",
              "      <th>Dur. (ms).1</th>\n",
              "      <th>Handset Manufacturer</th>\n",
              "      <th>Handset Type</th>\n",
              "      <th>Nb of sec with Vol DL &lt; 6250B</th>\n",
              "      <th>Nb of sec with Vol UL &lt; 1250B</th>\n",
              "      <th>Social Media DL (Bytes)</th>\n",
              "      <th>Social Media UL (Bytes)</th>\n",
              "      <th>Google DL (Bytes)</th>\n",
              "      <th>Google UL (Bytes)</th>\n",
              "      <th>Email DL (Bytes)</th>\n",
              "      <th>Email UL (Bytes)</th>\n",
              "      <th>Youtube DL (Bytes)</th>\n",
              "      <th>Youtube UL (Bytes)</th>\n",
              "      <th>Netflix DL (Bytes)</th>\n",
              "      <th>Netflix UL (Bytes)</th>\n",
              "      <th>Gaming DL (Bytes)</th>\n",
              "      <th>Gaming UL (Bytes)</th>\n",
              "      <th>Other DL (Bytes)</th>\n",
              "      <th>Other UL (Bytes)</th>\n",
              "      <th>Total UL (Bytes)</th>\n",
              "      <th>Total DL (Bytes)</th>\n",
              "      <th>Youtube_total_data_volume</th>\n",
              "      <th>Google_total_data_volume</th>\n",
              "      <th>Email_total_data_volume</th>\n",
              "      <th>Netflix_total_data_volume</th>\n",
              "      <th>Gaming_total_data_volume</th>\n",
              "      <th>Other_total_data_volume</th>\n",
              "      <th>SocialMedia_total_data_volume</th>\n",
              "      <th>All_total_data_volume</th>\n",
              "    </tr>\n",
              "  </thead>\n",
              "  <tbody>\n",
              "    <tr>\n",
              "      <th>0</th>\n",
              "      <td>1.311450e+19</td>\n",
              "      <td>2019-04-04 12:01:00</td>\n",
              "      <td>770.0</td>\n",
              "      <td>2019-04-25 14:35:00</td>\n",
              "      <td>662.0</td>\n",
              "      <td>1823652.0</td>\n",
              "      <td>2.082010e+14</td>\n",
              "      <td>3.366496e+10</td>\n",
              "      <td>3.552120e+13</td>\n",
              "      <td>9.16457E+15</td>\n",
              "      <td>42.0</td>\n",
              "      <td>5.0</td>\n",
              "      <td>23.0</td>\n",
              "      <td>44.0</td>\n",
              "      <td>100.0</td>\n",
              "      <td>0.0</td>\n",
              "      <td>0.0</td>\n",
              "      <td>0.0</td>\n",
              "      <td>100.0</td>\n",
              "      <td>0.0</td>\n",
              "      <td>0.0</td>\n",
              "      <td>0.0</td>\n",
              "      <td>37624.0</td>\n",
              "      <td>38787.0</td>\n",
              "      <td>1.823653e+09</td>\n",
              "      <td>Samsung</td>\n",
              "      <td>Samsung Galaxy A5 Sm-A520F</td>\n",
              "      <td>213.0</td>\n",
              "      <td>214.0</td>\n",
              "      <td>1545765.0</td>\n",
              "      <td>24420.0</td>\n",
              "      <td>1634479.0</td>\n",
              "      <td>1271433.0</td>\n",
              "      <td>3563542.0</td>\n",
              "      <td>137762.0</td>\n",
              "      <td>15854611.0</td>\n",
              "      <td>2501332.0</td>\n",
              "      <td>8198936.0</td>\n",
              "      <td>9656251.0</td>\n",
              "      <td>278082303.0</td>\n",
              "      <td>14344150.0</td>\n",
              "      <td>171744450.0</td>\n",
              "      <td>8814393.0</td>\n",
              "      <td>36749741.0</td>\n",
              "      <td>308879636.0</td>\n",
              "      <td>18355943.0</td>\n",
              "      <td>2905912.0</td>\n",
              "      <td>3701304.0</td>\n",
              "      <td>17855187.0</td>\n",
              "      <td>292426453.0</td>\n",
              "      <td>180558843.0</td>\n",
              "      <td>1570185.0</td>\n",
              "      <td>345629377.0</td>\n",
              "    </tr>\n",
              "    <tr>\n",
              "      <th>1</th>\n",
              "      <td>1.311450e+19</td>\n",
              "      <td>2019-04-09 13:04:00</td>\n",
              "      <td>235.0</td>\n",
              "      <td>2019-04-25 08:15:00</td>\n",
              "      <td>606.0</td>\n",
              "      <td>1365104.0</td>\n",
              "      <td>2.082020e+14</td>\n",
              "      <td>3.368185e+10</td>\n",
              "      <td>3.579400e+13</td>\n",
              "      <td>L77566A</td>\n",
              "      <td>65.0</td>\n",
              "      <td>5.0</td>\n",
              "      <td>16.0</td>\n",
              "      <td>26.0</td>\n",
              "      <td>100.0</td>\n",
              "      <td>0.0</td>\n",
              "      <td>0.0</td>\n",
              "      <td>0.0</td>\n",
              "      <td>100.0</td>\n",
              "      <td>0.0</td>\n",
              "      <td>0.0</td>\n",
              "      <td>0.0</td>\n",
              "      <td>168.0</td>\n",
              "      <td>3560.0</td>\n",
              "      <td>1.365104e+09</td>\n",
              "      <td>Samsung</td>\n",
              "      <td>Samsung Galaxy J5 (Sm-J530)</td>\n",
              "      <td>971.0</td>\n",
              "      <td>1022.0</td>\n",
              "      <td>1926113.0</td>\n",
              "      <td>7165.0</td>\n",
              "      <td>3493924.0</td>\n",
              "      <td>920172.0</td>\n",
              "      <td>629046.0</td>\n",
              "      <td>308339.0</td>\n",
              "      <td>20247395.0</td>\n",
              "      <td>19111729.0</td>\n",
              "      <td>18338413.0</td>\n",
              "      <td>17227132.0</td>\n",
              "      <td>608750074.0</td>\n",
              "      <td>1170709.0</td>\n",
              "      <td>526904238.0</td>\n",
              "      <td>15055145.0</td>\n",
              "      <td>53800391.0</td>\n",
              "      <td>653384965.0</td>\n",
              "      <td>39359124.0</td>\n",
              "      <td>4414096.0</td>\n",
              "      <td>937385.0</td>\n",
              "      <td>35565545.0</td>\n",
              "      <td>609920783.0</td>\n",
              "      <td>541959383.0</td>\n",
              "      <td>1933278.0</td>\n",
              "      <td>707185356.0</td>\n",
              "    </tr>\n",
              "    <tr>\n",
              "      <th>2</th>\n",
              "      <td>1.311450e+19</td>\n",
              "      <td>2019-04-09 17:42:00</td>\n",
              "      <td>1.0</td>\n",
              "      <td>2019-04-25 11:58:00</td>\n",
              "      <td>652.0</td>\n",
              "      <td>1361762.0</td>\n",
              "      <td>2.082000e+14</td>\n",
              "      <td>3.376063e+10</td>\n",
              "      <td>3.528150e+13</td>\n",
              "      <td>D42335A</td>\n",
              "      <td>28.0</td>\n",
              "      <td>5.0</td>\n",
              "      <td>6.0</td>\n",
              "      <td>9.0</td>\n",
              "      <td>100.0</td>\n",
              "      <td>0.0</td>\n",
              "      <td>0.0</td>\n",
              "      <td>0.0</td>\n",
              "      <td>100.0</td>\n",
              "      <td>0.0</td>\n",
              "      <td>0.0</td>\n",
              "      <td>0.0</td>\n",
              "      <td>0.0</td>\n",
              "      <td>0.0</td>\n",
              "      <td>1.361763e+09</td>\n",
              "      <td>Samsung</td>\n",
              "      <td>Samsung Galaxy A8 (2018)</td>\n",
              "      <td>751.0</td>\n",
              "      <td>695.0</td>\n",
              "      <td>1684053.0</td>\n",
              "      <td>42224.0</td>\n",
              "      <td>8535055.0</td>\n",
              "      <td>1694064.0</td>\n",
              "      <td>2690151.0</td>\n",
              "      <td>672973.0</td>\n",
              "      <td>19725661.0</td>\n",
              "      <td>14699576.0</td>\n",
              "      <td>17587794.0</td>\n",
              "      <td>6163408.0</td>\n",
              "      <td>229584621.0</td>\n",
              "      <td>395630.0</td>\n",
              "      <td>410692588.0</td>\n",
              "      <td>4215763.0</td>\n",
              "      <td>27883638.0</td>\n",
              "      <td>279807335.0</td>\n",
              "      <td>34425237.0</td>\n",
              "      <td>10229119.0</td>\n",
              "      <td>3363124.0</td>\n",
              "      <td>23751202.0</td>\n",
              "      <td>229980251.0</td>\n",
              "      <td>414908351.0</td>\n",
              "      <td>1726277.0</td>\n",
              "      <td>307690973.0</td>\n",
              "    </tr>\n",
              "  </tbody>\n",
              "</table>\n",
              "</div>"
            ],
            "text/plain": [
              "      Bearer Id               Start  Start ms                 End  End ms  \\\n",
              "0  1.311450e+19 2019-04-04 12:01:00     770.0 2019-04-25 14:35:00   662.0   \n",
              "1  1.311450e+19 2019-04-09 13:04:00     235.0 2019-04-25 08:15:00   606.0   \n",
              "2  1.311450e+19 2019-04-09 17:42:00       1.0 2019-04-25 11:58:00   652.0   \n",
              "\n",
              "   Dur. (ms)          IMSI  MSISDN/Number          IMEI Last Location Name  \\\n",
              "0  1823652.0  2.082010e+14   3.366496e+10  3.552120e+13        9.16457E+15   \n",
              "1  1365104.0  2.082020e+14   3.368185e+10  3.579400e+13            L77566A   \n",
              "2  1361762.0  2.082000e+14   3.376063e+10  3.528150e+13            D42335A   \n",
              "\n",
              "   Avg RTT DL (ms)  Avg RTT UL (ms)  Avg Bearer TP DL (kbps)  \\\n",
              "0             42.0              5.0                     23.0   \n",
              "1             65.0              5.0                     16.0   \n",
              "2             28.0              5.0                      6.0   \n",
              "\n",
              "   Avg Bearer TP UL (kbps)  DL TP < 50 Kbps (%)  \\\n",
              "0                     44.0                100.0   \n",
              "1                     26.0                100.0   \n",
              "2                      9.0                100.0   \n",
              "\n",
              "   50 Kbps < DL TP < 250 Kbps (%)  250 Kbps < DL TP < 1 Mbps (%)  \\\n",
              "0                             0.0                            0.0   \n",
              "1                             0.0                            0.0   \n",
              "2                             0.0                            0.0   \n",
              "\n",
              "   DL TP > 1 Mbps (%)  UL TP < 10 Kbps (%)  10 Kbps < UL TP < 50 Kbps (%)  \\\n",
              "0                 0.0                100.0                            0.0   \n",
              "1                 0.0                100.0                            0.0   \n",
              "2                 0.0                100.0                            0.0   \n",
              "\n",
              "   50 Kbps < UL TP < 300 Kbps (%)  UL TP > 300 Kbps (%)  \\\n",
              "0                             0.0                   0.0   \n",
              "1                             0.0                   0.0   \n",
              "2                             0.0                   0.0   \n",
              "\n",
              "   Activity Duration DL (ms)  Activity Duration UL (ms)   Dur. (ms).1  \\\n",
              "0                    37624.0                    38787.0  1.823653e+09   \n",
              "1                      168.0                     3560.0  1.365104e+09   \n",
              "2                        0.0                        0.0  1.361763e+09   \n",
              "\n",
              "  Handset Manufacturer                 Handset Type  \\\n",
              "0              Samsung   Samsung Galaxy A5 Sm-A520F   \n",
              "1              Samsung  Samsung Galaxy J5 (Sm-J530)   \n",
              "2              Samsung     Samsung Galaxy A8 (2018)   \n",
              "\n",
              "   Nb of sec with Vol DL < 6250B  Nb of sec with Vol UL < 1250B  \\\n",
              "0                          213.0                          214.0   \n",
              "1                          971.0                         1022.0   \n",
              "2                          751.0                          695.0   \n",
              "\n",
              "   Social Media DL (Bytes)  Social Media UL (Bytes)  Google DL (Bytes)  \\\n",
              "0                1545765.0                  24420.0          1634479.0   \n",
              "1                1926113.0                   7165.0          3493924.0   \n",
              "2                1684053.0                  42224.0          8535055.0   \n",
              "\n",
              "   Google UL (Bytes)  Email DL (Bytes)  Email UL (Bytes)  Youtube DL (Bytes)  \\\n",
              "0          1271433.0         3563542.0          137762.0          15854611.0   \n",
              "1           920172.0          629046.0          308339.0          20247395.0   \n",
              "2          1694064.0         2690151.0          672973.0          19725661.0   \n",
              "\n",
              "   Youtube UL (Bytes)  Netflix DL (Bytes)  Netflix UL (Bytes)  \\\n",
              "0           2501332.0           8198936.0           9656251.0   \n",
              "1          19111729.0          18338413.0          17227132.0   \n",
              "2          14699576.0          17587794.0           6163408.0   \n",
              "\n",
              "   Gaming DL (Bytes)  Gaming UL (Bytes)  Other DL (Bytes)  Other UL (Bytes)  \\\n",
              "0        278082303.0         14344150.0       171744450.0         8814393.0   \n",
              "1        608750074.0          1170709.0       526904238.0        15055145.0   \n",
              "2        229584621.0           395630.0       410692588.0         4215763.0   \n",
              "\n",
              "   Total UL (Bytes)  Total DL (Bytes)  Youtube_total_data_volume  \\\n",
              "0        36749741.0       308879636.0                 18355943.0   \n",
              "1        53800391.0       653384965.0                 39359124.0   \n",
              "2        27883638.0       279807335.0                 34425237.0   \n",
              "\n",
              "   Google_total_data_volume  Email_total_data_volume  \\\n",
              "0                 2905912.0                3701304.0   \n",
              "1                 4414096.0                 937385.0   \n",
              "2                10229119.0                3363124.0   \n",
              "\n",
              "   Netflix_total_data_volume  Gaming_total_data_volume  \\\n",
              "0                 17855187.0               292426453.0   \n",
              "1                 35565545.0               609920783.0   \n",
              "2                 23751202.0               229980251.0   \n",
              "\n",
              "   Other_total_data_volume  SocialMedia_total_data_volume  \\\n",
              "0              180558843.0                      1570185.0   \n",
              "1              541959383.0                      1933278.0   \n",
              "2              414908351.0                      1726277.0   \n",
              "\n",
              "   All_total_data_volume  \n",
              "0            345629377.0  \n",
              "1            707185356.0  \n",
              "2            307690973.0  "
            ]
          },
          "metadata": {
            "tags": []
          },
          "execution_count": 59
        }
      ]
    },
    {
      "cell_type": "code",
      "metadata": {
        "id": "2R88HQGqAby9",
        "outputId": "fab612be-f766-4ce8-8f35-ebafd95bf16d",
        "colab": {
          "base_uri": "https://localhost:8080/",
          "height": 469
        }
      },
      "source": [
        "def plot_count(df:pd.DataFrame, column:str) -> None:\n",
        "    plt.figure(figsize=(12, 7))\n",
        "    sns.countplot(data=df, x=column)\n",
        "    plt.title(f'Distribution of {column}', size=20, fontweight='bold')\n",
        "    plt.show()\n",
        "plot_count(df_clean, \"Handset Manufacturer\")"
      ],
      "execution_count": 84,
      "outputs": [
        {
          "output_type": "display_data",
          "data": {
            "image/png": "[encoded data removed]",
            "text/plain": [
              "<Figure size 864x504 with 1 Axes>"
            ]
          },
          "metadata": {
            "tags": []
          }
        }
      ]
    },
    {
      "cell_type": "code",
      "metadata": {
        "id": "HlNllXfFIOQ8"
      },
      "source": [
        "def plot_bar(df:pd.DataFrame, x_col:str, y_col:str, title:str, xlabel:str, ylabel:str)->None:\n",
        "    plt.figure(figsize=(12, 7))\n",
        "    sns.barplot(data = df, x=x_col, y=y_col)\n",
        "    plt.title(title, size=20)\n",
        "    plt.xticks(rotation=75, fontsize=14)\n",
        "    plt.yticks( fontsize=14)\n",
        "    plt.xlabel(xlabel, fontsize=16)\n",
        "    plt.ylabel(ylabel, fontsize=16)\n",
        "    plt.show()\n",
        "\n",
        "def plot_heatmap(df:pd.DataFrame, title:str, cbar=False)->None:\n",
        "    plt.figure(figsize=(12, 7))\n",
        "    sns.heatmap(df, annot=True, cmap='viridis', vmin=0, vmax=1, fmt='.2f', linewidths=.7, cbar=cbar )\n",
        "    plt.title(title, size=18, fontweight='bold')\n",
        "    plt.show()\n",
        "\n",
        "def plot_box(df:pd.DataFrame, x_col:str, title:str) -> None:\n",
        "    plt.figure(figsize=(12, 7))\n",
        "    sns.boxplot(data = df, x=x_col)\n",
        "    plt.title(title, size=20)\n",
        "    plt.xticks(rotation=75, fontsize=14)\n",
        "    plt.show()\n",
        "\n",
        "def plot_box_multi(df:pd.DataFrame, x_col:str, y_col:str, title:str) -> None:\n",
        "    plt.figure(figsize=(12, 7))\n",
        "    sns.boxplot(data = df, x=x_col, y=y_col)\n",
        "    plt.title(title, size=20)\n",
        "    plt.xticks(rotation=75, fontsize=14)\n",
        "    plt.yticks( fontsize=14)\n",
        "    plt.show()\n",
        "\n",
        "def plot_scatter(df: pd.DataFrame, x_col: str, y_col: str, title: str, hue: str, style: str) -> None:\n",
        "    plt.figure(figsize=(12, 7))\n",
        "    sns.scatterplot(data = df, x=x_col, y=y_col, hue=hue, style=style)\n",
        "    plt.title(title, size=20)\n",
        "    plt.xticks(fontsize=14)\n",
        "    plt.yticks( fontsize=14)\n",
        "    plt.show()\n"
      ],
      "execution_count": 79,
      "outputs": []
    },
    {
      "cell_type": "code",
      "metadata": {
        "id": "3SoFXUSOIlHq",
        "outputId": "f07ee762-741e-4847-d0e8-903c0c7bc7fe",
        "colab": {
          "base_uri": "https://localhost:8080/",
          "height": 530
        }
      },
      "source": [
        "plot_hist(df_clean, \"Gaming_total_data_volume\", \"teal\")"
      ],
      "execution_count": 80,
      "outputs": [
        {
          "output_type": "display_data",
          "data": {
            "image/png": "[encoded data removed]",
            "text/plain": [
              "<Figure size 1008x504 with 1 Axes>"
            ]
          },
          "metadata": {
            "tags": []
          }
        }
      ]
    },
    {
      "cell_type": "code",
      "metadata": {
        "id": "wpl_YRsZI8g7",
        "outputId": "f389db71-bd5b-484b-c413-9f240c02621f",
        "colab": {
          "base_uri": "https://localhost:8080/",
          "height": 1000
        }
      },
      "source": [
        "plot_scatter(df_clean.head(100), x_col=\"Handset Manufacturer\", y_col=\"Handset Manufacturer\", hue=\"Gaming_total_data_volume\",\n",
        "             style=\"Gaming_total_data_volume\", title=\"number of handsets vs number of handset manufacturers\")"
      ],
      "execution_count": 82,
      "outputs": [
        {
          "output_type": "display_data",
          "data": {
            "image/png": "[encoded data removed]",
            "text/plain": [
              "<Figure size 864x504 with 1 Axes>"
            ]
          },
          "metadata": {
            "tags": []
          }
        }
      ]
    },
    {
      "cell_type": "code",
      "metadata": {
        "id": "PVBsMECuJ3Hc"
      },
      "source": [
        ""
      ],
      "execution_count": null,
      "outputs": []
    }
  ]
}