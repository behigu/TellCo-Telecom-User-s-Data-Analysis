{
  "nbformat": 4,
  "nbformat_minor": 0,
  "metadata": {
    "colab": {
      "name": "Telco telecom user data analysis.ipynb",
      "provenance": [],
      "mount_file_id": "1iAOeMRT-3aqq34IiUwxAjHUsmibXS8F-",
      "authorship_tag": "ABX9TyMTv9h8xDXwQ10y+1oHXX7j",
      "include_colab_link": true
    },
    "kernelspec": {
      "name": "python3",
      "display_name": "Python 3"
    },
    "language_info": {
      "name": "python"
    }
  },
  "cells": [
    {
      "cell_type": "markdown",
      "metadata": {
        "id": "view-in-github",
        "colab_type": "text"
      },
      "source": [
        "<a href=\"https://colab.research.google.com/github/behigu/TellCo-Telecom-User-s-Data-Analysis/blob/main/Telco_telecom_user_data_analysis.ipynb\" target=\"_parent\"><img src=\"https://colab.research.google.com/assets/colab-badge.svg\" alt=\"Open In Colab\"/></a>"
      ]
    },
    {
      "cell_type": "code",
      "metadata": {
        "id": "SSyg3gXDqVtS"
      },
      "source": [
        "import pandas as pd\n",
        "import numpy as np"
      ],
      "execution_count": 14,
      "outputs": []
    },
    {
      "cell_type": "markdown",
      "metadata": {
        "id": "Vg2MkE0Y6VNE"
      },
      "source": [
        "The data used in this analysis can be found in **this link**\n",
        "https://github.com/behigu/TellCo-Telecom-User-s-Data-Analysis/tree/main/data"
      ]
    },
    {
      "cell_type": "code",
      "metadata": {
        "id": "2lunCwCb3G7Z"
      },
      "source": [
        "pd.set_option('max_column', None)\n",
        "df= pd.read_csv('drive/MyDrive/ColabNotebooks/Week1_challenge_data_source.csv')"
      ],
      "execution_count": 20,
      "outputs": []
    },
    {
      "cell_type": "code",
      "metadata": {
        "colab": {
          "base_uri": "https://localhost:8080/",
          "height": 417
        },
        "id": "pG5C-Dl04EGr",
        "outputId": "266d093c-fcc5-4ad1-834f-bb34276076e7"
      },
      "source": [
        "df.head(3)"
      ],
      "execution_count": 23,
      "outputs": [
        {
          "output_type": "execute_result",
          "data": {
            "text/html": [
              "<div>\n",
              "<style scoped>\n",
              "    .dataframe tbody tr th:only-of-type {\n",
              "        vertical-align: middle;\n",
              "    }\n",
              "\n",
              "    .dataframe tbody tr th {\n",
              "        vertical-align: top;\n",
              "    }\n",
              "\n",
              "    .dataframe thead th {\n",
              "        text-align: right;\n",
              "    }\n",
              "</style>\n",
              "<table border=\"1\" class=\"dataframe\">\n",
              "  <thead>\n",
              "    <tr style=\"text-align: right;\">\n",
              "      <th></th>\n",
              "      <th>Bearer Id</th>\n",
              "      <th>Start</th>\n",
              "      <th>Start ms</th>\n",
              "      <th>End</th>\n",
              "      <th>End ms</th>\n",
              "      <th>Dur. (ms)</th>\n",
              "      <th>IMSI</th>\n",
              "      <th>MSISDN/Number</th>\n",
              "      <th>IMEI</th>\n",
              "      <th>Last Location Name</th>\n",
              "      <th>Avg RTT DL (ms)</th>\n",
              "      <th>Avg RTT UL (ms)</th>\n",
              "      <th>Avg Bearer TP DL (kbps)</th>\n",
              "      <th>Avg Bearer TP UL (kbps)</th>\n",
              "      <th>TCP DL Retrans. Vol (Bytes)</th>\n",
              "      <th>TCP UL Retrans. Vol (Bytes)</th>\n",
              "      <th>DL TP &lt; 50 Kbps (%)</th>\n",
              "      <th>50 Kbps &lt; DL TP &lt; 250 Kbps (%)</th>\n",
              "      <th>250 Kbps &lt; DL TP &lt; 1 Mbps (%)</th>\n",
              "      <th>DL TP &gt; 1 Mbps (%)</th>\n",
              "      <th>UL TP &lt; 10 Kbps (%)</th>\n",
              "      <th>10 Kbps &lt; UL TP &lt; 50 Kbps (%)</th>\n",
              "      <th>50 Kbps &lt; UL TP &lt; 300 Kbps (%)</th>\n",
              "      <th>UL TP &gt; 300 Kbps (%)</th>\n",
              "      <th>HTTP DL (Bytes)</th>\n",
              "      <th>HTTP UL (Bytes)</th>\n",
              "      <th>Activity Duration DL (ms)</th>\n",
              "      <th>Activity Duration UL (ms)</th>\n",
              "      <th>Dur. (ms).1</th>\n",
              "      <th>Handset Manufacturer</th>\n",
              "      <th>Handset Type</th>\n",
              "      <th>Nb of sec with 125000B &lt; Vol DL</th>\n",
              "      <th>Nb of sec with 1250B &lt; Vol UL &lt; 6250B</th>\n",
              "      <th>Nb of sec with 31250B &lt; Vol DL &lt; 125000B</th>\n",
              "      <th>Nb of sec with 37500B &lt; Vol UL</th>\n",
              "      <th>Nb of sec with 6250B &lt; Vol DL &lt; 31250B</th>\n",
              "      <th>Nb of sec with 6250B &lt; Vol UL &lt; 37500B</th>\n",
              "      <th>Nb of sec with Vol DL &lt; 6250B</th>\n",
              "      <th>Nb of sec with Vol UL &lt; 1250B</th>\n",
              "      <th>Social Media DL (Bytes)</th>\n",
              "      <th>Social Media UL (Bytes)</th>\n",
              "      <th>Google DL (Bytes)</th>\n",
              "      <th>Google UL (Bytes)</th>\n",
              "      <th>Email DL (Bytes)</th>\n",
              "      <th>Email UL (Bytes)</th>\n",
              "      <th>Youtube DL (Bytes)</th>\n",
              "      <th>Youtube UL (Bytes)</th>\n",
              "      <th>Netflix DL (Bytes)</th>\n",
              "      <th>Netflix UL (Bytes)</th>\n",
              "      <th>Gaming DL (Bytes)</th>\n",
              "      <th>Gaming UL (Bytes)</th>\n",
              "      <th>Other DL (Bytes)</th>\n",
              "      <th>Other UL (Bytes)</th>\n",
              "      <th>Total UL (Bytes)</th>\n",
              "      <th>Total DL (Bytes)</th>\n",
              "    </tr>\n",
              "  </thead>\n",
              "  <tbody>\n",
              "    <tr>\n",
              "      <th>0</th>\n",
              "      <td>1.311450e+19</td>\n",
              "      <td>4/4/2019 12:01</td>\n",
              "      <td>770.0</td>\n",
              "      <td>4/25/2019 14:35</td>\n",
              "      <td>662.0</td>\n",
              "      <td>1823652.0</td>\n",
              "      <td>2.082010e+14</td>\n",
              "      <td>3.366496e+10</td>\n",
              "      <td>3.552120e+13</td>\n",
              "      <td>9.16457E+15</td>\n",
              "      <td>42.0</td>\n",
              "      <td>5.0</td>\n",
              "      <td>23.0</td>\n",
              "      <td>44.0</td>\n",
              "      <td>NaN</td>\n",
              "      <td>NaN</td>\n",
              "      <td>100.0</td>\n",
              "      <td>0.0</td>\n",
              "      <td>0.0</td>\n",
              "      <td>0.0</td>\n",
              "      <td>100.0</td>\n",
              "      <td>0.0</td>\n",
              "      <td>0.0</td>\n",
              "      <td>0.0</td>\n",
              "      <td>NaN</td>\n",
              "      <td>NaN</td>\n",
              "      <td>37624.0</td>\n",
              "      <td>38787.0</td>\n",
              "      <td>1.823653e+09</td>\n",
              "      <td>Samsung</td>\n",
              "      <td>Samsung Galaxy A5 Sm-A520F</td>\n",
              "      <td>NaN</td>\n",
              "      <td>NaN</td>\n",
              "      <td>NaN</td>\n",
              "      <td>NaN</td>\n",
              "      <td>NaN</td>\n",
              "      <td>NaN</td>\n",
              "      <td>213.0</td>\n",
              "      <td>214.0</td>\n",
              "      <td>1545765.0</td>\n",
              "      <td>24420.0</td>\n",
              "      <td>1634479.0</td>\n",
              "      <td>1271433.0</td>\n",
              "      <td>3563542.0</td>\n",
              "      <td>137762.0</td>\n",
              "      <td>15854611.0</td>\n",
              "      <td>2501332.0</td>\n",
              "      <td>8198936.0</td>\n",
              "      <td>9656251.0</td>\n",
              "      <td>278082303.0</td>\n",
              "      <td>14344150.0</td>\n",
              "      <td>171744450.0</td>\n",
              "      <td>8814393.0</td>\n",
              "      <td>36749741.0</td>\n",
              "      <td>308879636.0</td>\n",
              "    </tr>\n",
              "    <tr>\n",
              "      <th>1</th>\n",
              "      <td>1.311450e+19</td>\n",
              "      <td>4/9/2019 13:04</td>\n",
              "      <td>235.0</td>\n",
              "      <td>4/25/2019 8:15</td>\n",
              "      <td>606.0</td>\n",
              "      <td>1365104.0</td>\n",
              "      <td>2.082020e+14</td>\n",
              "      <td>3.368185e+10</td>\n",
              "      <td>3.579400e+13</td>\n",
              "      <td>L77566A</td>\n",
              "      <td>65.0</td>\n",
              "      <td>5.0</td>\n",
              "      <td>16.0</td>\n",
              "      <td>26.0</td>\n",
              "      <td>NaN</td>\n",
              "      <td>NaN</td>\n",
              "      <td>100.0</td>\n",
              "      <td>0.0</td>\n",
              "      <td>0.0</td>\n",
              "      <td>0.0</td>\n",
              "      <td>100.0</td>\n",
              "      <td>0.0</td>\n",
              "      <td>0.0</td>\n",
              "      <td>0.0</td>\n",
              "      <td>NaN</td>\n",
              "      <td>NaN</td>\n",
              "      <td>168.0</td>\n",
              "      <td>3560.0</td>\n",
              "      <td>1.365104e+09</td>\n",
              "      <td>Samsung</td>\n",
              "      <td>Samsung Galaxy J5 (Sm-J530)</td>\n",
              "      <td>NaN</td>\n",
              "      <td>NaN</td>\n",
              "      <td>NaN</td>\n",
              "      <td>NaN</td>\n",
              "      <td>NaN</td>\n",
              "      <td>NaN</td>\n",
              "      <td>971.0</td>\n",
              "      <td>1022.0</td>\n",
              "      <td>1926113.0</td>\n",
              "      <td>7165.0</td>\n",
              "      <td>3493924.0</td>\n",
              "      <td>920172.0</td>\n",
              "      <td>629046.0</td>\n",
              "      <td>308339.0</td>\n",
              "      <td>20247395.0</td>\n",
              "      <td>19111729.0</td>\n",
              "      <td>18338413.0</td>\n",
              "      <td>17227132.0</td>\n",
              "      <td>608750074.0</td>\n",
              "      <td>1170709.0</td>\n",
              "      <td>526904238.0</td>\n",
              "      <td>15055145.0</td>\n",
              "      <td>53800391.0</td>\n",
              "      <td>653384965.0</td>\n",
              "    </tr>\n",
              "    <tr>\n",
              "      <th>2</th>\n",
              "      <td>1.311450e+19</td>\n",
              "      <td>4/9/2019 17:42</td>\n",
              "      <td>1.0</td>\n",
              "      <td>4/25/2019 11:58</td>\n",
              "      <td>652.0</td>\n",
              "      <td>1361762.0</td>\n",
              "      <td>2.082000e+14</td>\n",
              "      <td>3.376063e+10</td>\n",
              "      <td>3.528150e+13</td>\n",
              "      <td>D42335A</td>\n",
              "      <td>NaN</td>\n",
              "      <td>NaN</td>\n",
              "      <td>6.0</td>\n",
              "      <td>9.0</td>\n",
              "      <td>NaN</td>\n",
              "      <td>NaN</td>\n",
              "      <td>100.0</td>\n",
              "      <td>0.0</td>\n",
              "      <td>0.0</td>\n",
              "      <td>0.0</td>\n",
              "      <td>100.0</td>\n",
              "      <td>0.0</td>\n",
              "      <td>0.0</td>\n",
              "      <td>0.0</td>\n",
              "      <td>NaN</td>\n",
              "      <td>NaN</td>\n",
              "      <td>0.0</td>\n",
              "      <td>0.0</td>\n",
              "      <td>1.361763e+09</td>\n",
              "      <td>Samsung</td>\n",
              "      <td>Samsung Galaxy A8 (2018)</td>\n",
              "      <td>NaN</td>\n",
              "      <td>NaN</td>\n",
              "      <td>NaN</td>\n",
              "      <td>NaN</td>\n",
              "      <td>NaN</td>\n",
              "      <td>NaN</td>\n",
              "      <td>751.0</td>\n",
              "      <td>695.0</td>\n",
              "      <td>1684053.0</td>\n",
              "      <td>42224.0</td>\n",
              "      <td>8535055.0</td>\n",
              "      <td>1694064.0</td>\n",
              "      <td>2690151.0</td>\n",
              "      <td>672973.0</td>\n",
              "      <td>19725661.0</td>\n",
              "      <td>14699576.0</td>\n",
              "      <td>17587794.0</td>\n",
              "      <td>6163408.0</td>\n",
              "      <td>229584621.0</td>\n",
              "      <td>395630.0</td>\n",
              "      <td>410692588.0</td>\n",
              "      <td>4215763.0</td>\n",
              "      <td>27883638.0</td>\n",
              "      <td>279807335.0</td>\n",
              "    </tr>\n",
              "  </tbody>\n",
              "</table>\n",
              "</div>"
            ],
            "text/plain": [
              "      Bearer Id           Start  Start ms              End  End ms  Dur. (ms)  \\\n",
              "0  1.311450e+19  4/4/2019 12:01     770.0  4/25/2019 14:35   662.0  1823652.0   \n",
              "1  1.311450e+19  4/9/2019 13:04     235.0   4/25/2019 8:15   606.0  1365104.0   \n",
              "2  1.311450e+19  4/9/2019 17:42       1.0  4/25/2019 11:58   652.0  1361762.0   \n",
              "\n",
              "           IMSI  MSISDN/Number          IMEI Last Location Name  \\\n",
              "0  2.082010e+14   3.366496e+10  3.552120e+13        9.16457E+15   \n",
              "1  2.082020e+14   3.368185e+10  3.579400e+13            L77566A   \n",
              "2  2.082000e+14   3.376063e+10  3.528150e+13            D42335A   \n",
              "\n",
              "   Avg RTT DL (ms)  Avg RTT UL (ms)  Avg Bearer TP DL (kbps)  \\\n",
              "0             42.0              5.0                     23.0   \n",
              "1             65.0              5.0                     16.0   \n",
              "2              NaN              NaN                      6.0   \n",
              "\n",
              "   Avg Bearer TP UL (kbps)  TCP DL Retrans. Vol (Bytes)  \\\n",
              "0                     44.0                          NaN   \n",
              "1                     26.0                          NaN   \n",
              "2                      9.0                          NaN   \n",
              "\n",
              "   TCP UL Retrans. Vol (Bytes)  DL TP < 50 Kbps (%)  \\\n",
              "0                          NaN                100.0   \n",
              "1                          NaN                100.0   \n",
              "2                          NaN                100.0   \n",
              "\n",
              "   50 Kbps < DL TP < 250 Kbps (%)  250 Kbps < DL TP < 1 Mbps (%)  \\\n",
              "0                             0.0                            0.0   \n",
              "1                             0.0                            0.0   \n",
              "2                             0.0                            0.0   \n",
              "\n",
              "   DL TP > 1 Mbps (%)  UL TP < 10 Kbps (%)  10 Kbps < UL TP < 50 Kbps (%)  \\\n",
              "0                 0.0                100.0                            0.0   \n",
              "1                 0.0                100.0                            0.0   \n",
              "2                 0.0                100.0                            0.0   \n",
              "\n",
              "   50 Kbps < UL TP < 300 Kbps (%)  UL TP > 300 Kbps (%)  HTTP DL (Bytes)  \\\n",
              "0                             0.0                   0.0              NaN   \n",
              "1                             0.0                   0.0              NaN   \n",
              "2                             0.0                   0.0              NaN   \n",
              "\n",
              "   HTTP UL (Bytes)  Activity Duration DL (ms)  Activity Duration UL (ms)  \\\n",
              "0              NaN                    37624.0                    38787.0   \n",
              "1              NaN                      168.0                     3560.0   \n",
              "2              NaN                        0.0                        0.0   \n",
              "\n",
              "    Dur. (ms).1 Handset Manufacturer                 Handset Type  \\\n",
              "0  1.823653e+09              Samsung   Samsung Galaxy A5 Sm-A520F   \n",
              "1  1.365104e+09              Samsung  Samsung Galaxy J5 (Sm-J530)   \n",
              "2  1.361763e+09              Samsung     Samsung Galaxy A8 (2018)   \n",
              "\n",
              "   Nb of sec with 125000B < Vol DL  Nb of sec with 1250B < Vol UL < 6250B  \\\n",
              "0                              NaN                                    NaN   \n",
              "1                              NaN                                    NaN   \n",
              "2                              NaN                                    NaN   \n",
              "\n",
              "   Nb of sec with 31250B < Vol DL < 125000B  Nb of sec with 37500B < Vol UL  \\\n",
              "0                                       NaN                             NaN   \n",
              "1                                       NaN                             NaN   \n",
              "2                                       NaN                             NaN   \n",
              "\n",
              "   Nb of sec with 6250B < Vol DL < 31250B  \\\n",
              "0                                     NaN   \n",
              "1                                     NaN   \n",
              "2                                     NaN   \n",
              "\n",
              "   Nb of sec with 6250B < Vol UL < 37500B  Nb of sec with Vol DL < 6250B  \\\n",
              "0                                     NaN                          213.0   \n",
              "1                                     NaN                          971.0   \n",
              "2                                     NaN                          751.0   \n",
              "\n",
              "   Nb of sec with Vol UL < 1250B  Social Media DL (Bytes)  \\\n",
              "0                          214.0                1545765.0   \n",
              "1                         1022.0                1926113.0   \n",
              "2                          695.0                1684053.0   \n",
              "\n",
              "   Social Media UL (Bytes)  Google DL (Bytes)  Google UL (Bytes)  \\\n",
              "0                  24420.0          1634479.0          1271433.0   \n",
              "1                   7165.0          3493924.0           920172.0   \n",
              "2                  42224.0          8535055.0          1694064.0   \n",
              "\n",
              "   Email DL (Bytes)  Email UL (Bytes)  Youtube DL (Bytes)  Youtube UL (Bytes)  \\\n",
              "0         3563542.0          137762.0          15854611.0           2501332.0   \n",
              "1          629046.0          308339.0          20247395.0          19111729.0   \n",
              "2         2690151.0          672973.0          19725661.0          14699576.0   \n",
              "\n",
              "   Netflix DL (Bytes)  Netflix UL (Bytes)  Gaming DL (Bytes)  \\\n",
              "0           8198936.0           9656251.0        278082303.0   \n",
              "1          18338413.0          17227132.0        608750074.0   \n",
              "2          17587794.0           6163408.0        229584621.0   \n",
              "\n",
              "   Gaming UL (Bytes)  Other DL (Bytes)  Other UL (Bytes)  Total UL (Bytes)  \\\n",
              "0         14344150.0       171744450.0         8814393.0        36749741.0   \n",
              "1          1170709.0       526904238.0        15055145.0        53800391.0   \n",
              "2           395630.0       410692588.0         4215763.0        27883638.0   \n",
              "\n",
              "   Total DL (Bytes)  \n",
              "0       308879636.0  \n",
              "1       653384965.0  \n",
              "2       279807335.0  "
            ]
          },
          "metadata": {
            "tags": []
          },
          "execution_count": 23
        }
      ]
    },
    {
      "cell_type": "code",
      "metadata": {
        "colab": {
          "base_uri": "https://localhost:8080/"
        },
        "id": "ppe6dVjY49TJ",
        "outputId": "2fe80050-5f52-4303-d455-87ccf1aff2d5"
      },
      "source": [
        "df.shape"
      ],
      "execution_count": 9,
      "outputs": [
        {
          "output_type": "execute_result",
          "data": {
            "text/plain": [
              "(150001, 55)"
            ]
          },
          "metadata": {
            "tags": []
          },
          "execution_count": 9
        }
      ]
    },
    {
      "cell_type": "markdown",
      "metadata": {
        "id": "D5Sq9SK_5V37"
      },
      "source": [
        "## we have 150,000.00 records of users data  in a 55 column"
      ]
    },
    {
      "cell_type": "code",
      "metadata": {
        "colab": {
          "base_uri": "https://localhost:8080/"
        },
        "id": "xjH8XaRn5BMs",
        "outputId": "0f1c4022-2446-4760-8791-eda7fc75c12f"
      },
      "source": [
        "for col in df.columns:\n",
        "    print(col)"
      ],
      "execution_count": 11,
      "outputs": [
        {
          "output_type": "stream",
          "text": [
            "Bearer Id\n",
            "Start\n",
            "Start ms\n",
            "End\n",
            "End ms\n",
            "Dur. (ms)\n",
            "IMSI\n",
            "MSISDN/Number\n",
            "IMEI\n",
            "Last Location Name\n",
            "Avg RTT DL (ms)\n",
            "Avg RTT UL (ms)\n",
            "Avg Bearer TP DL (kbps)\n",
            "Avg Bearer TP UL (kbps)\n",
            "TCP DL Retrans. Vol (Bytes)\n",
            "TCP UL Retrans. Vol (Bytes)\n",
            "DL TP < 50 Kbps (%)\n",
            "50 Kbps < DL TP < 250 Kbps (%)\n",
            "250 Kbps < DL TP < 1 Mbps (%)\n",
            "DL TP > 1 Mbps (%)\n",
            "UL TP < 10 Kbps (%)\n",
            "10 Kbps < UL TP < 50 Kbps (%)\n",
            "50 Kbps < UL TP < 300 Kbps (%)\n",
            "UL TP > 300 Kbps (%)\n",
            "HTTP DL (Bytes)\n",
            "HTTP UL (Bytes)\n",
            "Activity Duration DL (ms)\n",
            "Activity Duration UL (ms)\n",
            "Dur. (ms).1\n",
            "Handset Manufacturer\n",
            "Handset Type\n",
            "Nb of sec with 125000B < Vol DL\n",
            "Nb of sec with 1250B < Vol UL < 6250B\n",
            "Nb of sec with 31250B < Vol DL < 125000B\n",
            "Nb of sec with 37500B < Vol UL\n",
            "Nb of sec with 6250B < Vol DL < 31250B\n",
            "Nb of sec with 6250B < Vol UL < 37500B\n",
            "Nb of sec with Vol DL < 6250B\n",
            "Nb of sec with Vol UL < 1250B\n",
            "Social Media DL (Bytes)\n",
            "Social Media UL (Bytes)\n",
            "Google DL (Bytes)\n",
            "Google UL (Bytes)\n",
            "Email DL (Bytes)\n",
            "Email UL (Bytes)\n",
            "Youtube DL (Bytes)\n",
            "Youtube UL (Bytes)\n",
            "Netflix DL (Bytes)\n",
            "Netflix UL (Bytes)\n",
            "Gaming DL (Bytes)\n",
            "Gaming UL (Bytes)\n",
            "Other DL (Bytes)\n",
            "Other UL (Bytes)\n",
            "Total UL (Bytes)\n",
            "Total DL (Bytes)\n"
          ],
          "name": "stdout"
        }
      ]
    },
    {
      "cell_type": "code",
      "metadata": {
        "colab": {
          "base_uri": "https://localhost:8080/"
        },
        "id": "fPEEvsGB64Ek",
        "outputId": "34f904c1-8d35-40ec-b6e4-ff86d0e37216"
      },
      "source": [
        "print(df.columns)\n",
        "# other way of listing the columns"
      ],
      "execution_count": 12,
      "outputs": [
        {
          "output_type": "stream",
          "text": [
            "Index(['Bearer Id', 'Start', 'Start ms', 'End', 'End ms', 'Dur. (ms)', 'IMSI',\n",
            "       'MSISDN/Number', 'IMEI', 'Last Location Name', 'Avg RTT DL (ms)',\n",
            "       'Avg RTT UL (ms)', 'Avg Bearer TP DL (kbps)', 'Avg Bearer TP UL (kbps)',\n",
            "       'TCP DL Retrans. Vol (Bytes)', 'TCP UL Retrans. Vol (Bytes)',\n",
            "       'DL TP < 50 Kbps (%)', '50 Kbps < DL TP < 250 Kbps (%)',\n",
            "       '250 Kbps < DL TP < 1 Mbps (%)', 'DL TP > 1 Mbps (%)',\n",
            "       'UL TP < 10 Kbps (%)', '10 Kbps < UL TP < 50 Kbps (%)',\n",
            "       '50 Kbps < UL TP < 300 Kbps (%)', 'UL TP > 300 Kbps (%)',\n",
            "       'HTTP DL (Bytes)', 'HTTP UL (Bytes)', 'Activity Duration DL (ms)',\n",
            "       'Activity Duration UL (ms)', 'Dur. (ms).1', 'Handset Manufacturer',\n",
            "       'Handset Type', 'Nb of sec with 125000B < Vol DL',\n",
            "       'Nb of sec with 1250B < Vol UL < 6250B',\n",
            "       'Nb of sec with 31250B < Vol DL < 125000B',\n",
            "       'Nb of sec with 37500B < Vol UL',\n",
            "       'Nb of sec with 6250B < Vol DL < 31250B',\n",
            "       'Nb of sec with 6250B < Vol UL < 37500B',\n",
            "       'Nb of sec with Vol DL < 6250B', 'Nb of sec with Vol UL < 1250B',\n",
            "       'Social Media DL (Bytes)', 'Social Media UL (Bytes)',\n",
            "       'Google DL (Bytes)', 'Google UL (Bytes)', 'Email DL (Bytes)',\n",
            "       'Email UL (Bytes)', 'Youtube DL (Bytes)', 'Youtube UL (Bytes)',\n",
            "       'Netflix DL (Bytes)', 'Netflix UL (Bytes)', 'Gaming DL (Bytes)',\n",
            "       'Gaming UL (Bytes)', 'Other DL (Bytes)', 'Other UL (Bytes)',\n",
            "       'Total UL (Bytes)', 'Total DL (Bytes)'],\n",
            "      dtype='object')\n"
          ],
          "name": "stdout"
        }
      ]
    },
    {
      "cell_type": "code",
      "metadata": {
        "colab": {
          "base_uri": "https://localhost:8080/"
        },
        "id": "Z_5nKiwk7MEE",
        "outputId": "902432a3-5cfe-4722-9020-9ebbda2ad152"
      },
      "source": [
        "df.isna().sum()\n",
        "#number of records that has no value"
      ],
      "execution_count": 13,
      "outputs": [
        {
          "output_type": "execute_result",
          "data": {
            "text/plain": [
              "Bearer Id                                      991\n",
              "Start                                            1\n",
              "Start ms                                         1\n",
              "End                                              1\n",
              "End ms                                           1\n",
              "Dur. (ms)                                        1\n",
              "IMSI                                           570\n",
              "MSISDN/Number                                 1066\n",
              "IMEI                                           572\n",
              "Last Location Name                            1153\n",
              "Avg RTT DL (ms)                              27829\n",
              "Avg RTT UL (ms)                              27812\n",
              "Avg Bearer TP DL (kbps)                          1\n",
              "Avg Bearer TP UL (kbps)                          1\n",
              "TCP DL Retrans. Vol (Bytes)                  88146\n",
              "TCP UL Retrans. Vol (Bytes)                  96649\n",
              "DL TP < 50 Kbps (%)                            754\n",
              "50 Kbps < DL TP < 250 Kbps (%)                 754\n",
              "250 Kbps < DL TP < 1 Mbps (%)                  754\n",
              "DL TP > 1 Mbps (%)                             754\n",
              "UL TP < 10 Kbps (%)                            792\n",
              "10 Kbps < UL TP < 50 Kbps (%)                  792\n",
              "50 Kbps < UL TP < 300 Kbps (%)                 792\n",
              "UL TP > 300 Kbps (%)                           792\n",
              "HTTP DL (Bytes)                              81474\n",
              "HTTP UL (Bytes)                              81810\n",
              "Activity Duration DL (ms)                        1\n",
              "Activity Duration UL (ms)                        1\n",
              "Dur. (ms).1                                      1\n",
              "Handset Manufacturer                           572\n",
              "Handset Type                                   572\n",
              "Nb of sec with 125000B < Vol DL              97538\n",
              "Nb of sec with 1250B < Vol UL < 6250B        92894\n",
              "Nb of sec with 31250B < Vol DL < 125000B     93586\n",
              "Nb of sec with 37500B < Vol UL              130254\n",
              "Nb of sec with 6250B < Vol DL < 31250B       88317\n",
              "Nb of sec with 6250B < Vol UL < 37500B      111843\n",
              "Nb of sec with Vol DL < 6250B                  755\n",
              "Nb of sec with Vol UL < 1250B                  793\n",
              "Social Media DL (Bytes)                          0\n",
              "Social Media UL (Bytes)                          0\n",
              "Google DL (Bytes)                                0\n",
              "Google UL (Bytes)                                0\n",
              "Email DL (Bytes)                                 0\n",
              "Email UL (Bytes)                                 0\n",
              "Youtube DL (Bytes)                               0\n",
              "Youtube UL (Bytes)                               0\n",
              "Netflix DL (Bytes)                               0\n",
              "Netflix UL (Bytes)                               0\n",
              "Gaming DL (Bytes)                                0\n",
              "Gaming UL (Bytes)                                0\n",
              "Other DL (Bytes)                                 0\n",
              "Other UL (Bytes)                                 0\n",
              "Total UL (Bytes)                                 1\n",
              "Total DL (Bytes)                                 1\n",
              "dtype: int64"
            ]
          },
          "metadata": {
            "tags": []
          },
          "execution_count": 13
        }
      ]
    },
    {
      "cell_type": "code",
      "metadata": {
        "colab": {
          "base_uri": "https://localhost:8080/"
        },
        "id": "I3VbWUFoFLej",
        "outputId": "f070e480-21b6-4f57-d105-043d367d43c1"
      },
      "source": [
        "    # Calculate total number of cells in dataframe\n",
        "totalCells = np.product(df.shape)\n",
        "\n",
        "    # Count number of missing values per column\n",
        "missingCount = df.isnull().sum()\n",
        "\n",
        "    # Calculate total number of missing values\n",
        "totalMissing = missingCount.sum()\n",
        "\n",
        "    # Calculate percentage of missing values\n",
        "print(\"The Telco Telecom dataset contains\", round(((totalMissing/totalCells) * 100), 2), \"%\", \"missing values.\")"
      ],
      "execution_count": 17,
      "outputs": [
        {
          "output_type": "stream",
          "text": [
            "The Telco Telecom dataset contains 12.5 % missing values.\n"
          ],
          "name": "stdout"
        }
      ]
    },
    {
      "cell_type": "code",
      "metadata": {
        "colab": {
          "base_uri": "https://localhost:8080/"
        },
        "id": "jX5JwqXhGFUN",
        "outputId": "84d695ce-6b5a-4be8-de28-706b940aea05"
      },
      "source": [
        "percent_missing = df.isnull().sum() * 100 / len(df)\n",
        "missing_value_df = pd.DataFrame({'percent_missing': percent_missing})\n",
        "print(missing_value_df)"
      ],
      "execution_count": 30,
      "outputs": [
        {
          "output_type": "stream",
          "text": [
            "                                          percent_missing\n",
            "Bearer Id                                        0.660662\n",
            "Start                                            0.000667\n",
            "Start ms                                         0.000667\n",
            "End                                              0.000667\n",
            "End ms                                           0.000667\n",
            "Dur. (ms)                                        0.000667\n",
            "IMSI                                             0.379997\n",
            "MSISDN/Number                                    0.710662\n",
            "IMEI                                             0.381331\n",
            "Last Location Name                               0.768662\n",
            "Avg RTT DL (ms)                                 18.552543\n",
            "Avg RTT UL (ms)                                 18.541210\n",
            "Avg Bearer TP DL (kbps)                          0.000667\n",
            "Avg Bearer TP UL (kbps)                          0.000667\n",
            "TCP DL Retrans. Vol (Bytes)                     58.763608\n",
            "TCP UL Retrans. Vol (Bytes)                     64.432237\n",
            "DL TP < 50 Kbps (%)                              0.502663\n",
            "50 Kbps < DL TP < 250 Kbps (%)                   0.502663\n",
            "250 Kbps < DL TP < 1 Mbps (%)                    0.502663\n",
            "DL TP > 1 Mbps (%)                               0.502663\n",
            "UL TP < 10 Kbps (%)                              0.527996\n",
            "10 Kbps < UL TP < 50 Kbps (%)                    0.527996\n",
            "50 Kbps < UL TP < 300 Kbps (%)                   0.527996\n",
            "UL TP > 300 Kbps (%)                             0.527996\n",
            "HTTP DL (Bytes)                                 54.315638\n",
            "HTTP UL (Bytes)                                 54.539636\n",
            "Activity Duration DL (ms)                        0.000667\n",
            "Activity Duration UL (ms)                        0.000667\n",
            "Dur. (ms).1                                      0.000667\n",
            "Handset Manufacturer                             0.381331\n",
            "Handset Type                                     0.381331\n",
            "Nb of sec with 125000B < Vol DL                 65.024900\n",
            "Nb of sec with 1250B < Vol UL < 6250B           61.928920\n",
            "Nb of sec with 31250B < Vol DL < 125000B        62.390251\n",
            "Nb of sec with 37500B < Vol UL                  86.835421\n",
            "Nb of sec with 6250B < Vol DL < 31250B          58.877607\n",
            "Nb of sec with 6250B < Vol UL < 37500B          74.561503\n",
            "Nb of sec with Vol DL < 6250B                    0.503330\n",
            "Nb of sec with Vol UL < 1250B                    0.528663\n",
            "Social Media DL (Bytes)                          0.000000\n",
            "Social Media UL (Bytes)                          0.000000\n",
            "Google DL (Bytes)                                0.000000\n",
            "Google UL (Bytes)                                0.000000\n",
            "Email DL (Bytes)                                 0.000000\n",
            "Email UL (Bytes)                                 0.000000\n",
            "Youtube DL (Bytes)                               0.000000\n",
            "Youtube UL (Bytes)                               0.000000\n",
            "Netflix DL (Bytes)                               0.000000\n",
            "Netflix UL (Bytes)                               0.000000\n",
            "Gaming DL (Bytes)                                0.000000\n",
            "Gaming UL (Bytes)                                0.000000\n",
            "Other DL (Bytes)                                 0.000000\n",
            "Other UL (Bytes)                                 0.000000\n",
            "Total UL (Bytes)                                 0.000667\n",
            "Total DL (Bytes)                                 0.000667\n"
          ],
          "name": "stdout"
        }
      ]
    },
    {
      "cell_type": "code",
      "metadata": {
        "colab": {
          "base_uri": "https://localhost:8080/"
        },
        "id": "DvkJBlmpLJbM",
        "outputId": "6a5391cc-fdef-493b-b84f-08a868fd158c"
      },
      "source": [
        "# drop columns with more than 50% missing values\n",
        "df_clean = df.drop(['TCP DL Retrans. Vol (Bytes)', 'TCP UL Retrans. Vol (Bytes)', 'HTTP DL (Bytes)', 'HTTP UL (Bytes)', 'Nb of sec with 125000B < Vol DL','Nb of sec with 1250B < Vol UL < 6250B','Nb of sec with 31250B < Vol DL < 125000B', 'Nb of sec with 37500B < Vol UL', 'Nb of sec with 6250B < Vol DL < 31250B', 'Nb of sec with 6250B < Vol UL < 37500B'], axis=1)\n",
        "df_clean.shape"
      ],
      "execution_count": 34,
      "outputs": [
        {
          "output_type": "execute_result",
          "data": {
            "text/plain": [
              "(150001, 45)"
            ]
          },
          "metadata": {
            "tags": []
          },
          "execution_count": 34
        }
      ]
    },
    {
      "cell_type": "code",
      "metadata": {
        "id": "DMfMwxiXPVIm"
      },
      "source": [
        "# replace-nan-values-with-average-of-columns\n",
        "df_clean.fillna(df_clean.mean(), inplace=True)"
      ],
      "execution_count": 38,
      "outputs": []
    },
    {
      "cell_type": "code",
      "metadata": {
        "colab": {
          "base_uri": "https://localhost:8080/"
        },
        "id": "L8TPzW3ySxn4",
        "outputId": "30db8f90-afc9-49d8-caf9-0b6b912b96a3"
      },
      "source": [
        "percent_missing = df_clean.isnull().sum() * 100 / len(df_clean)\n",
        "missing_value_df = pd.DataFrame({'percent_missing': percent_missing})\n",
        "print(missing_value_df)"
      ],
      "execution_count": 39,
      "outputs": [
        {
          "output_type": "stream",
          "text": [
            "                                percent_missing\n",
            "Bearer Id                              0.000000\n",
            "Start                                  0.000667\n",
            "Start ms                               0.000000\n",
            "End                                    0.000667\n",
            "End ms                                 0.000000\n",
            "Dur. (ms)                              0.000000\n",
            "IMSI                                   0.000000\n",
            "MSISDN/Number                          0.000000\n",
            "IMEI                                   0.000000\n",
            "Last Location Name                     0.768662\n",
            "Avg RTT DL (ms)                        0.000000\n",
            "Avg RTT UL (ms)                        0.000000\n",
            "Avg Bearer TP DL (kbps)                0.000000\n",
            "Avg Bearer TP UL (kbps)                0.000000\n",
            "DL TP < 50 Kbps (%)                    0.000000\n",
            "50 Kbps < DL TP < 250 Kbps (%)         0.000000\n",
            "250 Kbps < DL TP < 1 Mbps (%)          0.000000\n",
            "DL TP > 1 Mbps (%)                     0.000000\n",
            "UL TP < 10 Kbps (%)                    0.000000\n",
            "10 Kbps < UL TP < 50 Kbps (%)          0.000000\n",
            "50 Kbps < UL TP < 300 Kbps (%)         0.000000\n",
            "UL TP > 300 Kbps (%)                   0.000000\n",
            "Activity Duration DL (ms)              0.000000\n",
            "Activity Duration UL (ms)              0.000000\n",
            "Dur. (ms).1                            0.000000\n",
            "Handset Manufacturer                   0.381331\n",
            "Handset Type                           0.381331\n",
            "Nb of sec with Vol DL < 6250B          0.000000\n",
            "Nb of sec with Vol UL < 1250B          0.000000\n",
            "Social Media DL (Bytes)                0.000000\n",
            "Social Media UL (Bytes)                0.000000\n",
            "Google DL (Bytes)                      0.000000\n",
            "Google UL (Bytes)                      0.000000\n",
            "Email DL (Bytes)                       0.000000\n",
            "Email UL (Bytes)                       0.000000\n",
            "Youtube DL (Bytes)                     0.000000\n",
            "Youtube UL (Bytes)                     0.000000\n",
            "Netflix DL (Bytes)                     0.000000\n",
            "Netflix UL (Bytes)                     0.000000\n",
            "Gaming DL (Bytes)                      0.000000\n",
            "Gaming UL (Bytes)                      0.000000\n",
            "Other DL (Bytes)                       0.000000\n",
            "Other UL (Bytes)                       0.000000\n",
            "Total UL (Bytes)                       0.000000\n",
            "Total DL (Bytes)                       0.000000\n"
          ],
          "name": "stdout"
        }
      ]
    },
    {
      "cell_type": "code",
      "metadata": {
        "id": "MwByyBDHXcyv"
      },
      "source": [
        "df_clean['Last Location Name'].fillna('Unknow', inplace=True)\n",
        "#replace all NAN values of location with unknown"
      ],
      "execution_count": 40,
      "outputs": []
    },
    {
      "cell_type": "code",
      "metadata": {
        "colab": {
          "base_uri": "https://localhost:8080/"
        },
        "id": "WXvkLp4kZ-uU",
        "outputId": "b5e5af23-4243-4782-bf1d-844b51713f91"
      },
      "source": [
        "percent_missing = df_clean.isnull().sum() * 100 / len(df_clean)\n",
        "missing_value_df = pd.DataFrame({'percent_missing': percent_missing})\n",
        "print(missing_value_df)"
      ],
      "execution_count": 41,
      "outputs": [
        {
          "output_type": "stream",
          "text": [
            "                                percent_missing\n",
            "Bearer Id                              0.000000\n",
            "Start                                  0.000667\n",
            "Start ms                               0.000000\n",
            "End                                    0.000667\n",
            "End ms                                 0.000000\n",
            "Dur. (ms)                              0.000000\n",
            "IMSI                                   0.000000\n",
            "MSISDN/Number                          0.000000\n",
            "IMEI                                   0.000000\n",
            "Last Location Name                     0.000000\n",
            "Avg RTT DL (ms)                        0.000000\n",
            "Avg RTT UL (ms)                        0.000000\n",
            "Avg Bearer TP DL (kbps)                0.000000\n",
            "Avg Bearer TP UL (kbps)                0.000000\n",
            "DL TP < 50 Kbps (%)                    0.000000\n",
            "50 Kbps < DL TP < 250 Kbps (%)         0.000000\n",
            "250 Kbps < DL TP < 1 Mbps (%)          0.000000\n",
            "DL TP > 1 Mbps (%)                     0.000000\n",
            "UL TP < 10 Kbps (%)                    0.000000\n",
            "10 Kbps < UL TP < 50 Kbps (%)          0.000000\n",
            "50 Kbps < UL TP < 300 Kbps (%)         0.000000\n",
            "UL TP > 300 Kbps (%)                   0.000000\n",
            "Activity Duration DL (ms)              0.000000\n",
            "Activity Duration UL (ms)              0.000000\n",
            "Dur. (ms).1                            0.000000\n",
            "Handset Manufacturer                   0.381331\n",
            "Handset Type                           0.381331\n",
            "Nb of sec with Vol DL < 6250B          0.000000\n",
            "Nb of sec with Vol UL < 1250B          0.000000\n",
            "Social Media DL (Bytes)                0.000000\n",
            "Social Media UL (Bytes)                0.000000\n",
            "Google DL (Bytes)                      0.000000\n",
            "Google UL (Bytes)                      0.000000\n",
            "Email DL (Bytes)                       0.000000\n",
            "Email UL (Bytes)                       0.000000\n",
            "Youtube DL (Bytes)                     0.000000\n",
            "Youtube UL (Bytes)                     0.000000\n",
            "Netflix DL (Bytes)                     0.000000\n",
            "Netflix UL (Bytes)                     0.000000\n",
            "Gaming DL (Bytes)                      0.000000\n",
            "Gaming UL (Bytes)                      0.000000\n",
            "Other DL (Bytes)                       0.000000\n",
            "Other UL (Bytes)                       0.000000\n",
            "Total UL (Bytes)                       0.000000\n",
            "Total DL (Bytes)                       0.000000\n"
          ],
          "name": "stdout"
        }
      ]
    },
    {
      "cell_type": "code",
      "metadata": {
        "id": "JXo_P733aEbK"
      },
      "source": [
        ""
      ],
      "execution_count": null,
      "outputs": []
    }
  ]
}